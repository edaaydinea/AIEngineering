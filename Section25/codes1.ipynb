{
 "cells": [
  {
   "cell_type": "markdown",
   "metadata": {},
   "source": [
    "# 6.4 LDA"
   ]
  },
  {
   "cell_type": "code",
   "execution_count": 1,
   "metadata": {},
   "outputs": [],
   "source": [
    "import pandas as pd\n",
    "import re\n",
    "from nltk.corpus import stopwords\n",
    "from nltk.tokenize import word_tokenize\n",
    "from nltk.stem import PorterStemmer\n",
    "import gensim\n",
    "import gensim.corpora as corpora"
   ]
  },
  {
   "cell_type": "markdown",
   "metadata": {},
   "source": [
    "### Load Data"
   ]
  },
  {
   "cell_type": "code",
   "execution_count": 2,
   "metadata": {},
   "outputs": [],
   "source": [
    "data = pd.read_csv(\"news_articles.csv\") # data should be in the same folder as your notebook"
   ]
  },
  {
   "cell_type": "code",
   "execution_count": 3,
   "metadata": {},
   "outputs": [
    {
     "data": {
      "application/vnd.microsoft.datawrangler.viewer.v0+json": {
       "columns": [
        {
         "name": "index",
         "rawType": "int64",
         "type": "integer"
        },
        {
         "name": "id",
         "rawType": "int64",
         "type": "integer"
        },
        {
         "name": "title",
         "rawType": "object",
         "type": "string"
        },
        {
         "name": "content",
         "rawType": "object",
         "type": "string"
        }
       ],
       "conversionMethod": "pd.DataFrame",
       "ref": "ab152b90-aabc-4872-bcbc-fec828fcb8bd",
       "rows": [
        [
         "0",
         "25626",
         "One Weight-Loss Approach Fits All? No, Not Even Close - The New York Times",
         "Dr. Frank Sacks, a professor of nutrition at Harvard, likes to challenge his audience when he gives lectures on obesity. “If you want to make a great discovery,” he tells them, figure out this: Why do some people lose 50 pounds on a diet while others on the same diet gain a few pounds? Then he shows them data from a study he did that found exactly that effect. Dr. Sacks’s challenge is a question at the center of obesity research today. Two people can have the same amount of excess weight, they can be the same age, the same socioeconomic class, the same race, the same gender. And yet a treatment that works for one will do nothing for the other. The problem, researchers say, is that obesity and its precursor  —   being overweight  —   are not one disease but instead, like cancer, they are many. “You can look at two people with the same amount of excess body weight and they put on the weight for very different reasons,” said Dr. Arya Sharma, medical director of the obesity program at the University of Alberta. Not only can that explain why treatment is so difficult and results so wildly variable, but it can explain why prevention efforts often fail. If obesity is many diseases, said Dr. Lee Kaplan, director of the obesity, metabolism and nutrition institute at Massachusetts General Hospital, there can be many paths to the same outcome. It makes as much sense to insist there is one way to prevent all types of obesity  —   get rid of sugary sodas, clear the stores of junk foods, shun carbohydrates, eat breakfast, get more sleep  —   as it does to say you can avoid lung cancer by staying out of the sun, a strategy specific to skin cancer. One focus of research is to figure out how many types of obesity there are  —   Dr. Kaplan counts 59 so far  —   and how many genes can contribute. So far, investigators have found more than 25 genes with such powerful effects that if one is mutated, a person is pretty much guaranteed to become obese, said Dr. Stephen O’Rahilly, head of the department of clinical biochemistry and medicine at Cambridge University. But those genetic disorders are rare. It is more likely that people inherit a collection of genes, each of which predispose them to a small weight gain in the right environment, said Ruth Loos, director of the genetics of obesity and related metabolic traits program at the Icahn School of Medicine at Mount Sinai. Scientists have found more than 300 such altered genes  —   each may contribute just a few pounds but the effects add up in those who inherit a collection of them, Dr. Loos said. There are also drugs that, in some people, can cause weight gain. They include medications for psychiatric disorders, some drugs for diabetes, some for seizure disorders, beta blockers to lower blood pressure and slow the heart rate, and steroids to suppress the immune system, for example. People taking them, however, may not realize the drugs are part of their problem. Instead, they blame themselves for a lack of   as their weight climbs. Certain diseases also cause weight gain, Dr. O’Rahilly noted. They include hypothyroidism, Cushing’s syndrome and tumors of the hypothalamus. To help people find an effective way to lose weight, obesity medicine specialists say they start by asking if there is an obvious cause for a person’s excess weight, like a drug that can be switched for something else. If not, they suggest patients try one thing after another starting with the least invasive option, and hope something works. “There are 40 therapies I can throw at a patient,” Dr. Kaplan said. “I will try diets and aerobic exercise and sleep enhancement. I have 15 drugs. ” Dr. Caroline Apovian, director of the nutrition and weight management center at Boston Medical Center, said most people can lose weight but keeping it off is the key. For most, she said, finding something that works “is still trial and error. ” Andrea Gardner, a registered nurse who lives in Weymouth, Mass. is in the midst of that process. She has tried one diet after another, losing weight and gaining it back. She is 5 feet 5 inches tall, and her body, she says, seems to want to settle at a weight of about 185 pounds, which is not acceptable to her. She continues to work with Dr. Apovian, ever hopeful that this time a diet and, she said, willpower, will do the trick. But about 15 to 20 percent of patients respond to measures short of surgery, with response defined as a change in their body weight that is maintained without constant hunger or cravings. While people seldom end up thin, their permanent weight loss is a proof of principle, showing that treatments can lower the weight the brain forces a person to maintain. The last resort, for those whose obesity is extreme, is bariatric surgery, which elicits a permanent and substantial weight loss in almost everyone. In the meantime, there is Dr. Sacks’s challenge. His study involved 811 overweight and obese adults, randomly assigned to follow one of four diets and undergo behavioral counseling to help them stick to their diets. The diets ranged over the span of what has become popular. Two diets were low in fat but one   diet was high in protein and the other had average amounts of protein. Two others were high in fat and one of those   diets had an average amount of protein while the other was high in protein. The research was designed to answer the question of whether one diet was any better than another and it provided an answer: None of the diets elicited much weight loss on average, and no diet stood out from the others. But buried in those averages were the outliers: In every one of the four diet groups were a few superresponders who dropped huge amounts of weight and a few nonresponders who did not lose any. And as soon as his paper on the diets was published, with the conclusion that no diet stood out and none elicited much of a weight loss, he started hearing from people who challenged him. “People would say, ‘How can you say all these diets have no effect when I lost 100 pounds on diet X?’ Others would say the same thing about the opposite diet. ” Dr. Sacks believes them. He knows people who have lost weight and kept it off with diets, including a colleague in his department. “He lost 30 or 40 pounds in the 1970s and kept it off all these years,” Dr. Sacks said. But why him and not someone else following the same regimen? “Beats me,” Dr. Sacks said. Every obesity medicine specialist has seen it happen  —   someone repeatedly tried and failed to lose weight and keep it off. It turned out they were trying the wrong thing. Here are some people who finally found a   plan that worked. Connie Anne Phillips’s weight inched up gradually in adulthood and her attempts to control it went nowhere. As publisher and chief revenue officer at Glamour magazine, she was always entertaining clients, hosting them at breakfasts, lunches and dinners. Weight loss seemed an impossibility. In 2011, she went to Dr. Louis Aronne, an obesity medicine specialist at    Cornell Medicine Center in Manhattan. He suggested a   plan that would allow her to maintain her lifestyle. The key was a low glycemic load diet, choosing foods to keep her blood sugar from spiking. “I just had to learn to make the right choices,” Ms. Phillips, 51, said. She learned to eat protein before carbohydrates. It was O. K. that she loves pasta, but now she precedes it with a piece of broiled fish or grilled chicken. “Now I would never start my day with a glass of juice and a bagel. ” Ms. Phillips said. Instead, she has egg whites with vegetables or   Greek yogurt. Twenty pounds melted away and she has kept them off without effort. When he arrived for his first appointment with an obesity medicine specialist in April 2014, Scott Goldshine was certain his only hope was bariatric surgery. He had been skinny when he was younger  —   his nickname was Bones  —   but around age 30 he began putting on weight and simply could not halt the relentless accumulation of pounds. Soon he weighed 265 pounds. He is 5 feet 7 inches. “I was a miserable human being,” Mr. Goldshine, 56, said. So he scoffed when Dr. Aronne said, “I think I can help you. ” He was  —   and still is  —   the general manager at Zabar’s, a famous New York deli, spending his days around food he loves. And his cravings were relentless. “I couldn’t go behind the bread counter without taking a couple of slices of bread and a couple of rugelach,” he said. But that was only the start. There was the “big fat piece of crumb cake” almost every day. There were the cookies he’d grab from the catering platters. There were the “gigantic sandwiches. ” Customers noticed his weight gain. “They would come up to me and rub my stomach and say, ‘You’re getting fat,’” Mr. Goldshine said. Dr. Aronne saw something interesting in Mr. Goldshine’s records. He was taking pioglitazone for diabetes, a drug that makes some people gain weight. Dr. Aronne replaced it with Invokana, a diabetes drug that can contribute to weight loss  —   and Mr. Goldshine lost a small amount. Then Dr. Aronne added a drug that combines bupropion, an antidepressant, and naltrexone, a drug used to combat cravings for drugs like opioids. He chose it, he said, because patients often say it helps turn off constant thoughts of eating. It worked. “I pretty much eat my same diet, but so much less,” Mr. Goldshine said. He lost about 75 pounds, and has kept them off without conscious effort. For Eric Scarmardo, 53, a manager at a Chicago prescription benefit management firm, the solution to a frustratingly stubborn weight problem turned out to be blindingly simple. But it took him years to discover it. His problem began when he was 25 and just out of law school, working, he said, “ridiculous hours” for a large Chicago firm, eating without thinking. Within a year, his weight climbed from about 200 pounds to 220 on his     frame. Ten years later, he weighed close to 300 pounds. He tried, repeatedly, to lose weight with elaborate diet and exercise programs that typically lasted about a week. Finally, he went to Dr. Robert Kushner, an obesity medicine specialist at Northwestern University’s Feinberg School of Medicine. “The first message was that all that matters is calories,” Mr. Scarmardo said. Dr. Kushner insisted that Mr. Scarmardo keep a detailed log of what he ate, weighing and measuring every morsel. “It was difficult at first, but now it has become part of my routine,” Mr. Scarmardo said. He even asks restaurants to weigh his food before serving it to him most comply. He lost 42 pounds and has kept them off for two and a half years. R. C. Binstock, a    novelist and technical writer in Cambridge, Mass. has always been heavy. He felt ashamed, accepting others’ judgmental views. “I am fat because I am weak, I am fat because I am inadequate. I am fat because I am morally flawed,” he castigated himself. So when he went to Dr. Sriram Machineni at Massachusetts General Hospital in Boston two years ago, he vowed that this would be his last attempt before bariatric surgery. Dr. Machineni suggested lifestyle modification. Mr. Binstock refused. He was already doing all that and it did not help. Dr. Machineni moved on to medications, trying one after another. Each time the drug would work at first but then Mr. Binstock’s food cravings returned. Eventually, Dr. Machineni found a drug combination that had a lasting effect  —   the diabetes drug metformin, which can have a side effect of weight loss, and lorcaserin, or Belviq, a new   drug that acts on the brain to control appetite. Mr. Binstock lost 55 pounds and maintained it. “I was able to see a food I love and say, ‘I am just not going to have that,’” Mr. Binstock said. “I will never be ashamed of my body again, ever,” he said. Most of Dr. Jennifer Kerns’s family was fat. And so was she. Dr. Kerns, 42  —   now an obesity medicine specialist at the Veterans Affairs Medical Center in Washington  —   reached a peak weight of 300 pounds. She knows all too well how hard it is to lose weight and keep it off. Diets would work, but then the weight would come back. So, in 2006, she tried what she hoped would be the solution to her weight problem she became a contestant on “The Biggest Loser” reality television show. Her expectation was that with an extreme regimen and the competition, she would get control of her weight. And once she lost the weight, she thought she would keep it off. “The Biggest Loser” contest certainly helped her lose weight  —   she dropped 108 pounds  —   but she was unprepared for how hard it would be to keep those pounds off. At first she thought regular vigorous exercise would do it, but her weight began climbing. Eventually, she discovered a lifestyle program that lets her keep her weight between 155 and 180 pounds  —   her weight fluctuates because each time she relaxes her guard the pounds return. The program is centered on what she calls an iron grip on her diet. Dr. Kerns keeps tempting foods such as desserts and especially anything containing chocolate out of her house. She brings her own breakfast, lunch and snacks to work. She uses an app on her phone to count calories. “I am   of everything I eat,” she said. “It is an active effort. ” She works out vigorously on an elliptical   for 30 minutes a day, nine days out of 10. She weighs herself every day. She just had her first baby, Graham Kerns Marvel, and kept up her routine during pregnancy, exercising, weighing herself every day, and controlling her diet. She only gained 31 pounds. But it never gets easier. So why does she do it? She has seen family members grow extremely obese with uncontrolled diabetes and high blood pressure. By keeping her weight down, she has avoided those problems. And she knows how harshly obese people are judged in our society. “Nobody wants to be obese,” Dr. Kerns said. Elias Elias, president of Griff Technologies in Milton, Mass. thought he knew why he was fat. His life was stressful. To relax, he liked to go out and have a good time, eating and drinking. His weight problem began 40 years ago as a teenager when he began taking steroids to treat three autoimmune diseases  —   psoriasis, ulcerative colitis and ankylosing spondylitis, an arthritis of the spine. Steroids are known to cause weight gain. With   use, a person’s weight can be permanently reset at a higher level, his doctor, Dr. Lee Kaplan, an obesity medicine specialist at Massachusetts General Hospital said. New drugs came along, allowing him to stop taking steroids, but the damage was done. His weight kept climbing until it reached 252 pounds. He is 5 feet 9 inches. He tried dieting, but to no avail. He blamed himself for lacking willpower. Finally, in 2007, he went to see Dr Kaplan. Dr. Kaplan prescribed, phentermine, a stimulant. “It was miraculous,” Mr. Elias said. Suddenly, the drive to eat excessively was no longer there. Pounds began to fall off. In six months his weight dropped to around 190 pounds and stayed there for seven years. Then, in early 2014, he wondered if he should stop taking the drug. It did not seem to be working any more. His weight had begun climbing. Dr. Kaplan told him the drug still was effective but usually became less so over time. So, to test that theory, Mr. Elias stopped taking it. His weight climbed even higher and settled around 240 pounds. He thinks he can still lose the weight he gained but, he said, “I lost the motivation. ” As he sees it, his personal problems have sapped his zest to control what he eats. “My success ended up for me being a   sword,” Mr. Elias said. “Now that I know it is doable, I am procrastinating in terms of restarting the focus. ” But Dr. Kaplan said Mr. Elias really needs a different drug. When phentermine was exerting its maximum effect, Mr. Elias ate less no matter what else was going on in his life. In fact, Dr. Kaplan said, it is not really in his power to diet his way back to that low weight and stay there."
        ],
        [
         "1",
         "19551",
         "South Carolina Stuns Baylor to Reach the Round of Eight - The New York Times",
         "South Carolina’s win over   Duke was not only a surprise to fans. In the postgame revelry, Coach Frank Martin had to ask an assistant whom his team would face next. “Who we got?” Martin said. The answer was that the   Gamecocks would face Baylor in New York, at Madison Square Garden. A tide of emotions swept over the coach. Martin knows the deep roots that the South Carolina program has here, the pipeline that the former coach Frank McGuire once established out of the boroughs, busing a city’s flair to the southern countryside. First, Bobby Cremins, then Kevin Joyce, Mike Dunleavy and Brian Winters. Those last three were on the team in 1973, the last one from South Carolina to win in the N. C. A. A. tournament. Before this one. This team followed its upset of Duke with a complete thrashing of   Baylor,   and now goes zooming into the round of 8 to face Florida, propelled by a victory that McGuire, who died in 1994, would unquestionably have adored. “It all starts with our mindset,” Martin said. “We have got guys that are completely bought into what we do. ” Baylor, a team whose individual talent can leave N. B. A. scouts drooling, one that rose to No. 1 in the nation earlier this season, learned the hard way on Friday. South Carolina’s defense has made many teams look bad this season, including, in certain moments, Duke. But for nearly eight minutes in the first half, there was a point when Baylor’s offense seemed actually to be deserving of some pity. After taking a lead,   with 9 minutes 58 seconds left in the half, the Bears stopped scoring. Minutes ticked by. Misses piled up. The momentum turned into a landslide. It was as dry a spell as any in Madison Square Garden this season  —   and that is saying something in the home of the woeful Knicks. The Gamecocks capitalized on the Bears’ incompetence  —   they missed 11 straight shots  —   by scoring 18 unanswered points. A   by Jake Lindsey ended the drought, 7:37 after it began. Trailing by   at halftime, Baylor slumped off to its locker room looking shellshocked. “When you miss the first couple,” Baylor Coach Scott Drew said, “instead of the basket getting bigger, it gets smaller. ” South Carolina’s defense only seemed to intensify in the second half, as did its effect on the Bears. Baylor’s players dropped easy passes, dribbled off their own feet, and stepped mindlessly out of the bounds. “I felt like we were in their heads the whole game,” said Sindarius Thornwell, the Gamecocks’ senior forward. South Carolina’s players said Thursday that it was easy to pinpoint from where their defensive prowess stems. It is from Martin, who calls the defense his “baby” and designed it in his image, an image he projects as he prowls the sidelines with a glare that could melt ice. When asked how this team had managed to beat two of its last three opponents by 20 points each, sophomore guard P. J. Dozier had the answer immediately. “Defense,” he said. “That’s what we hang our hats on. That’s what this coaching staff instilled in us. ” Against a team with more size, with long arms and lean torsos, the Gamecocks crashed the defensive glass, limiting Baylor’s putback opportunities. The senior guard Justin McKie called it “gang rebounding,” and it worked: South Carolina outrebounded Baylor,   and held the Bears to only 13   points. “We knew when the shot went up, we all had to find a body and put our body on somebody,” Thornwell said. “We had to limit their second chances. ” A   run by the Bears midway through the second half pulled Baylor within 11. But a   by Thornwell calmed things. Within a few minutes, the Gamecocks were back ahead by 20. Now only 40 minutes stand between them and the Final Four."
        ],
        [
         "2",
         "25221",
         "U.S. Presidential Race, Apple, Gene Wilder: Your Tuesday Evening Briefing - The New York Times",
         "(Want to get this briefing by email? Here’s the  .) Good evening. Here’s the latest. 1. One of the Islamic State’s most senior strategists, Abu Muhammad   was killed in the Syrian province of Aleppo. A founding member of ISIS, he was its chief propagandist and headed its efforts to instigate terror attacks in the West. _____ 2. The European Union’s antitrust enforcer ruled that huge tax breaks Ireland provided to Apple were illegal, ordering the country to collect about $14. 5 billion in back taxes. Apple described the record penalty as a “devastating blow” to the rule of law, and the U. S. despite its own frustrations with corporate schemes to avoid taxes, said it jeopardized “the important spirit of economic partnership between the U. S. and the E. U. ” _____ 3.   races in Florida and Arizona made Tuesday one of the summer’s biggest congressional primary days. Debbie Wasserman Schultz, above, who was forced to step down as chairwoman of the Democratic National Committee by an email leak, hung on to her South Florida House seat. Senator Marco Rubio of Florida was nominated by Republican voters for a second term, and John McCain fought off a Republican challenger for his Senate seat. _____ 4. Hillary Clinton and Donald Trump are preparing for the first presidential debate, due in less than four weeks, in tellingly different ways. Mrs. Clinton’s advisers are consulting Mr. Trump’s ghostwriter on “The Art of the Deal” and psychology experts, reviewing his past performances and looking for trigger points. Mr. Trump has had freewheeling sessions with his debate team, but not mock debates with a Clinton  . _____ 5. Brazil’s Senate could vote overnight on whether to convict President Dilma Rousseff of manipulating the federal budget to mask the extent of the country’s economic problems. “Don’t expect from me the obliging silence of cowards,” Ms. Rousseff said as she made a   rebuttal on Monday. _____ 6. Israel has been quietly legalizing tiny outposts established by settlers in the West Bank over the past two decades.   groups accuse the government of changing the map of the West Bank, now in its 50th year of Israeli occupation, and ruining any possibility of a   solution. “We see it as a very gradual move toward annexation,” said an Israeli opponent. _____ 7. Reader appreciations for Gene Wilder are rolling in by the hundreds in comments on our obituary and on our Facebook post. Our critic mused on the genius of the comic actor, who died Monday at the age of 83: glimmering eyes, diction “as crisp as a potato chip” and a barely suppressed lunacy. “His Willy Wonka spent that chocolate factory tour quietly on the verge of a nervous breakdown. ” _____ 8. Our magazine has the back story of Oliver Stone’s herculean efforts to make “Snowden,” the biopic of Edward Snowden opening Sept. 16. Mr. Stone became preoccupied with warding off government surveillance and schemed to secure Mr. Snowden’s appearance in the movie’s finale. That passage required nine takes. “Ed is used to answering questions on a level of intelligence,” Mr. Stone said. “But I was interested in the emotional, which is difficult for him. ” _____ 9. An organization that tracks extremist groups in the U. S. has declared one of them, White Lives Matter, a hate group. Established in opposition to the Black Lives Matter movement, the group argues that white Americans are being eradicated by immigration and intermarriage. “I wish Hitler were here alive and well today,” one of its founders wrote on a social networking site. _____ 10. Two years ago, turmoil swept over a New Hampshire prep school after a    student accused a senior of raping her. He was convicted of misdemeanor charges. Now, the unnamed student has come forward. In an interview with NBC, Chessy Prout described the difficulties she faced, including being shunned by fellow students, and offered support for other victims: “I want other people to feel empowered and just strong enough to be able to say: ‘I have the right to my body. I have the right to say no.’ ” _____ 11. Finally, this is a scientifically proven good dog. It’s one of a group that Hungarian researchers trained to enter a magnetic resonance imaging machine and lie quietly in a harness while their brain activity was recorded. The study found that dogs react not only to the tone of your voice, but also to the words themselves. So, as with humans, both meaning and emotional content matter. _____ Your Evening Briefing is posted at 6 p. m. Eastern. And don’t miss Your Morning Briefing, posted weekdays at 6 a. m. Eastern, and Your Weekend Briefing, posted at 6 a. m. Sundays. Want to look back? Here’s last night’s briefing. What did you like? What do you want to see here? Let us know at briefing@nytimes. com."
        ],
        [
         "3",
         "18026",
         "His Predecessor Gone, Gambia’s New President Finally Comes Home - The New York Times",
         "BANJUL, Gambia  —   A week after he was inaugurated in another country, Adama Barrow landed in Gambia on Thursday afternoon, setting foot inside his own national borders for the first time as the new president. Throngs of supporters, some holding Gambian flags, lined the roads to greet Mr. Barrow, who had flown in from Dakar, Senegal, where he had fled more than a week earlier out of security concerns after his predecessor, Yahya Jammeh, refused to step down. As he entered Banjul, the capital, Mr. Barrow, dressed in all white, poked out of a white Land Cruiser surrounded by military vehicles and waved to onlookers. “Today is freedom day,” said Mariama Bah, a nurse from Serekunda, a town nearby, who came to the airport to welcome President Barrow. “We now have a president that we can be proud of. ” Mr. Barrow defeated the longtime president, Mr. Jammeh, in a surprising outcome to an election in December. Mr. Jammeh, who had been in power since 1994, when he led a successful coup, initially accepted defeat. A few days after the vote, he changed his mind, declared the election results invalid and vowed to use the power of his military to stay in charge. It took repeated personal overtures from West African presidents and finally a regional coalition of troops that crossed into Gambia to persuade Mr. Jammeh, known for human rights abuses, to step down. He flew out of the country on Saturday, accompanied by a cargo plane containing his   and other luxury automobiles, and has settled in Equatorial Guinea, which has its own record of human rights violations. Mr. Barrow’s arrival capped a tense period for many Gambians who had feared a bloody end to the presidential standoff. Tens of thousands of residents had been so worried that they fled the country, though many have already returned. But Mr. Jammeh still has supporters left in Gambia, and some residents worry that divisions could lead to problems in the new administration. Mr. Barrow has dismissed his predecessor’s supporters as a minority. Most of all, many residents said they were weary of the regional troops who were still roaming the capital. They had arrived at the statehouse to search it and make sure all was safe for Mr. Barrow’s return, but their presence on the streets was unsettling to many. Mr. Barrow’s aides said the soldiers were likely to remain in Gambia for weeks as the new administration makes the transition. Some Gambians worried that it was still too early for Mr. Barrow to come home. “Yahya Jammeh was not acting alone,” said Ishmael Ceesay, 24, a mobile phone salesman in Serekunda. “His people are still around. ” Mr. Barrow’s aides said the president would stay at a private residence until the regional troops finished securing the statehouse. Mr. Jammeh’s rule penetrated the psyche of many Gambians who feared him, so much so that thousands fled years ago. Their departure further damaged an already shaky economy that Mr. Barrow has said will be a priority for him. Mr. Jammeh jailed journalists and his opponents, some of whom died in prison, carried out hunts for people believed to be witches and forced patients to stop taking medication so he could test what he said was his homemade cure for AIDS  —   herbs, prayers and a banana. Residents of Gambia talked about Mr. Jammeh only in hushed tones, and rarely in public, and even some members of the diaspora said they were convinced he was monitoring their communications. Mohamed Jalloh, who sells fabric at the entrance to the statehouse, said he had spent the past two decades praying a bullet would not come flying toward him. “Yahya Jammeh brought so much fear in us,” Mr. Jalloh said. The paranoia was evident even this week, with Mr. Jammeh hundreds of miles away, when a Gambian newspaper reported that he had left toxins in the vents in the statehouse to poison his successor. Mr. Barrow’s team said the report was false. For many Gambians, the pain of Mr. Jammeh’s rule was all too real. Some residents said part of Mr. Barrow’s new job would be comforter in chief. Mr. Barrow has vowed to create a truth and reconciliation commission to look into injustices during Mr. Jammeh’s more than   administration. On Wednesday afternoon in Brikama, the region where Mr. Barrow received the most votes, three women sat on a long wooden bench. They wore yellow #GambiaHasDecided   a motto adopted by the opposition that wanted Mr. Jammeh to leave. Like many others across Gambia, each of the women said a relative had been killed by security forces loyal to Mr. Jammeh. As they sold sugar at the market, the three spoke of their losses. It was during the 2011 presidential election campaign that Nyima Jabang’s father, an ambulance driver, was tortured and killed while in custody at the National Intelligence Agency. His crime: driving two men to a hospital who had been wounded at a rally in a clash between Mr. Jammeh’s party and the main opposition party, the United Democratic Party. The next day, the brother of Nyima Sanyang, another of the friends selling sugar, was arrested by security forces in connection with the campaign clash and was beaten to death. The third woman, Bintu Sonko, 30, described the long, speeding motorcades that carried Mr. Jammeh and his aides, who would toss packets of cookies to supporters. In 2013, Ms. Sonko’s son, Lamine, 7, heard Mr. Jammeh’s cars approaching. He ran out with his friends to wave to the passing president. Lamine darted into the street to catch a cookie and was struck and killed by a car in the motorcade. “They did not even stop,” Ms. Sonko said. “They kept going and throwing cookies at the rest of the kids. We can’t even report the matter to the chief or the police. ” “That was my only child. ”"
        ],
        [
         "4",
         "21063",
         "‘Harry Potter and the Cursed Child’ Goes From Stage to Page on Saturday at the Witching Hour - The New York Times",
         "The biggest book of the summer isn’t a blockbuster thriller or a splashy celebrity memoir. It’s a play about a   wizard. The publication of “Harry Potter and the Cursed Child,” the eighth installment in J. K. Rowling’s   series, is being celebrated at more than 5, 000 bookstores and libraries across the country this weekend, with midnight release parties featuring costume contests, magic shows, wizard rock bands, live owls and butterbeer, the beverage of choice among young wizards. The elaborate rollout has all the flourishes that fans have come to expect for a new Harry Potter book. But for many nostalgic readers, this one feels different. “Cursed Child” is not a new novel, but a script of a play  —   a format that typically isn’t read for pleasure and almost never produces overnight best sellers. And unlike the previous seven books in the series, it was not written by Ms. Rowling herself. In a sense, “Cursed Child” is more like sanctioned fan fiction than a new work by a beloved writer. Ms. Rowling worked on the play’s plot with the playwright Jack Thorne and the director John Tiffany, and while she helped shape the story, she has made it abundantly clear that she did not write the script. The idea for the play, which explores Harry’s life as an adult and parent, didn’t originate with Ms. Rowling, either: She merely agreed to it when two theater producers proposed the concept. Which raises a sticky question: If Ms. Rowling didn’t conceive the play, or write it, is “Cursed Child” really a new Harry Potter story by J. K. Rowling? And if it isn’t, do Harry Potter fans even care? Many, apparently, do not. “J. K. Rowling’s involvement legitimizes it as canon, and the fact that other people collaborated on it doesn’t detract from that,” said Matt Maggiacomo, executive director of the Harry Potter Alliance, a nonprofit group that promotes literacy and other causes. Melissa Anelli, the author of “Harry, a History,” a book about the Harry Potter phenomenon, agreed that any story with Ms. Rowling’s blessing counts as a continuation of the tale  —   a view that many Potter fans seem to share, based on the vast number of preorders and the ecstatic response on social media to news that the play would be published. “The thing that we all always want most from her is a book, but if we’re getting the story in the form of a play, as long as she says it’s the real deal, we’re on board,” said Ms. Anelli, who is organizing a midnight release party for some 2, 000 fans at Geeky Con, a festival in Orlando, Fla. that will feature a costume ball and performances by wizard rock bands. But other Potter fans are skeptical, arguing that a story that didn’t spring from Ms. Rowling’s imagination just isn’t the same. “I’ve spoken to a lot of people who aren’t sure if they’re going to treat it as canon, because J. K. Rowling didn’t write it,” said Helen Haslam, who publishes Potter fan fiction at the website Wattpad. “I grew up with the books, I spent a lot of time in that world, and the idea of someone else adding to that is a little bit  . ” Some will skip it altogether. Sharanya Sharma, an elementary school teacher in Washington who fell under Harry Potter’s spell when she was 9, said she was satisfied when the series ended with “Harry Potter and the Deathly Hallows. ” “I worry that it would negatively affect my memories of what Harry Potter meant to me when I was growing up,” she said. “Sometimes I go back and reread Harry Potter as a nostalgic experience, and I’m not sure I want to ruin that. ” Though it’s been nearly a decade since Ms. Rowling ended her beloved series, devotion among   fans has never waned. While Ms. Rowling has moved on to writing adult fiction, she has continued to embellish the Potter universe, not just with material on her Pottermore website but also through public pronouncements about the characters. The fans’ fervor has been steadily fed by a stream of blockbuster movies, theme parks, new short stories about the wizarding world released on Pottermore, and now, “Cursed Child,” which picks up with a scene from the epilogue in “Deathly Hallows,” as a   Harry watches his own sons depart for Hogwarts. The play, which officially opens on Saturday in London, has already generated ecstatic praise from theater critics. It’s hard to imagine enthusiasm running as high for the unvarnished script, which could fall flat on the page without the elaborate staging and the emotional nuances of a performance. “I think there will be a lot of disappointment,” said John Granger, who has published several books of literary criticism about Harry Potter and dismissed the play as “franchise exploitation. ” Still, “Cursed Child”  —   which is being released at midnight on Saturday (just in time for Harry’s birthday Sunday)  —   is on track to be a blockbuster. Scholastic, Ms. Rowling’s American publisher, is printing 4. 5 million copies  —   a staggeringly large number, though it scarcely approaches the    run for “Deathly Hallows. ” Barnes  Noble reported that “Cursed Child” is the most heavily preordered book since “Deathly Hallows. ” On Amazon, “Cursed Child” has held steady at, or near, the top of the   list since publication was announced in February, making it the site’s   book so far this year. Some booksellers and librarians say that the story’s format could introduce young readers to the pleasures of reading drama for entertainment. While most high school students are exposed to classics by Shakespeare, Sophocles and Arthur Miller, children and teenagers rarely pick up plays for fun. “They’re going to discover how much their own imagination can add,” said Peter Glassman, the founder and owner of Books of Wonder in Manhattan, which will have live owls, jugglers and magicians at its midnight release party. Scholastic is hoping that readers will embrace the book, regardless of the form. “Play format, novel format, it’s still a story,” said Arthur A. Levine, the vice president and publisher of Arthur A. Levine Books, a Scholastic imprint that publishes Harry Potter. As the series, which has sold more than 450 million copies globally, has become an undisputed modern classic, Scholastic has capitalized by releasing new editions with revamped covers and illustrations. “They sell year after year after year, when a new generation discovers Harry Potter,” Mr. Levine said. “We try to keep giving them something new. ” This year, fans will get plenty. In November, Scholastic is publishing the screenplay for “Fantastic Beasts and Where to Find Them,” a coming movie that expands the Harry Potter universe to North America. Readers are already swooning, driving the screenplay to No. 34 on Friday on Amazon’s   list. Unlike “Cursed Child,” this script was written by Ms. Rowling herself."
        ]
       ],
       "shape": {
        "columns": 3,
        "rows": 5
       }
      },
      "text/html": [
       "<div>\n",
       "<style scoped>\n",
       "    .dataframe tbody tr th:only-of-type {\n",
       "        vertical-align: middle;\n",
       "    }\n",
       "\n",
       "    .dataframe tbody tr th {\n",
       "        vertical-align: top;\n",
       "    }\n",
       "\n",
       "    .dataframe thead th {\n",
       "        text-align: right;\n",
       "    }\n",
       "</style>\n",
       "<table border=\"1\" class=\"dataframe\">\n",
       "  <thead>\n",
       "    <tr style=\"text-align: right;\">\n",
       "      <th></th>\n",
       "      <th>id</th>\n",
       "      <th>title</th>\n",
       "      <th>content</th>\n",
       "    </tr>\n",
       "  </thead>\n",
       "  <tbody>\n",
       "    <tr>\n",
       "      <th>0</th>\n",
       "      <td>25626</td>\n",
       "      <td>One Weight-Loss Approach Fits All? No, Not Eve...</td>\n",
       "      <td>Dr. Frank Sacks, a professor of nutrition at H...</td>\n",
       "    </tr>\n",
       "    <tr>\n",
       "      <th>1</th>\n",
       "      <td>19551</td>\n",
       "      <td>South Carolina Stuns Baylor to Reach the Round...</td>\n",
       "      <td>South Carolina’s win over   Duke was not only ...</td>\n",
       "    </tr>\n",
       "    <tr>\n",
       "      <th>2</th>\n",
       "      <td>25221</td>\n",
       "      <td>U.S. Presidential Race, Apple, Gene Wilder: Yo...</td>\n",
       "      <td>(Want to get this briefing by email? Here’s th...</td>\n",
       "    </tr>\n",
       "    <tr>\n",
       "      <th>3</th>\n",
       "      <td>18026</td>\n",
       "      <td>His Predecessor Gone, Gambia’s New President F...</td>\n",
       "      <td>BANJUL, Gambia  —   A week after he was inaugu...</td>\n",
       "    </tr>\n",
       "    <tr>\n",
       "      <th>4</th>\n",
       "      <td>21063</td>\n",
       "      <td>‘Harry Potter and the Cursed Child’ Goes From ...</td>\n",
       "      <td>The biggest book of the summer isn’t a blockbu...</td>\n",
       "    </tr>\n",
       "  </tbody>\n",
       "</table>\n",
       "</div>"
      ],
      "text/plain": [
       "      id                                              title  \\\n",
       "0  25626  One Weight-Loss Approach Fits All? No, Not Eve...   \n",
       "1  19551  South Carolina Stuns Baylor to Reach the Round...   \n",
       "2  25221  U.S. Presidential Race, Apple, Gene Wilder: Yo...   \n",
       "3  18026  His Predecessor Gone, Gambia’s New President F...   \n",
       "4  21063  ‘Harry Potter and the Cursed Child’ Goes From ...   \n",
       "\n",
       "                                             content  \n",
       "0  Dr. Frank Sacks, a professor of nutrition at H...  \n",
       "1  South Carolina’s win over   Duke was not only ...  \n",
       "2  (Want to get this briefing by email? Here’s th...  \n",
       "3  BANJUL, Gambia  —   A week after he was inaugu...  \n",
       "4  The biggest book of the summer isn’t a blockbu...  "
      ]
     },
     "execution_count": 3,
     "metadata": {},
     "output_type": "execute_result"
    }
   ],
   "source": [
    "data.head()"
   ]
  },
  {
   "cell_type": "code",
   "execution_count": 4,
   "metadata": {},
   "outputs": [
    {
     "name": "stdout",
     "output_type": "stream",
     "text": [
      "<class 'pandas.core.frame.DataFrame'>\n",
      "RangeIndex: 100 entries, 0 to 99\n",
      "Data columns (total 3 columns):\n",
      " #   Column   Non-Null Count  Dtype \n",
      "---  ------   --------------  ----- \n",
      " 0   id       100 non-null    int64 \n",
      " 1   title    100 non-null    object\n",
      " 2   content  100 non-null    object\n",
      "dtypes: int64(1), object(2)\n",
      "memory usage: 2.5+ KB\n"
     ]
    }
   ],
   "source": [
    "data.info()"
   ]
  },
  {
   "cell_type": "markdown",
   "metadata": {},
   "source": [
    "### Clean Data"
   ]
  },
  {
   "cell_type": "code",
   "execution_count": 5,
   "metadata": {},
   "outputs": [],
   "source": [
    "# take just the content of the article, lowercase and remove punctuation\n",
    "articles = data['content'].str.lower().apply(lambda x: re.sub(r\"([^\\w\\s])\", \"\", x))\n",
    "\n",
    "# stop word removal\n",
    "en_stopwords = stopwords.words('english')\n",
    "articles = articles.apply(lambda x: ' '.join([word for word in x.split() if word not in (en_stopwords)]))\n",
    "\n",
    "# tokenize\n",
    "articles = articles.apply(lambda x: word_tokenize(x))\n",
    "\n",
    "# stemming (done for speed as we have a lot of text)\n",
    "ps = PorterStemmer()\n",
    "articles = articles.apply(lambda tokens: [ps.stem(token) for token in tokens])"
   ]
  },
  {
   "cell_type": "code",
   "execution_count": 6,
   "metadata": {},
   "outputs": [
    {
     "data": {
      "text/plain": [
       "0     [dr, frank, sack, professor, nutrit, harvard, ...\n",
       "1     [south, carolina, win, duke, surpris, fan, pos...\n",
       "2     [want, get, brief, email, here, good, even, he...\n",
       "3     [banjul, gambia, week, inaugur, anoth, countri...\n",
       "4     [biggest, book, summer, isnt, blockbust, thril...\n",
       "                            ...                        \n",
       "95    [want, get, brief, email, here, good, even, he...\n",
       "96    [tallinn, estonia, guard, brought, ahm, abdul,...\n",
       "97    [gov, scott, walker, wisconsin, activ, wiscons...\n",
       "98    [social, media, shook, emot, headlin, shout, n...\n",
       "99    [moment, joanna, acevedo, first, set, foot, bo...\n",
       "Name: content, Length: 100, dtype: object"
      ]
     },
     "execution_count": 6,
     "metadata": {},
     "output_type": "execute_result"
    }
   ],
   "source": [
    "articles"
   ]
  },
  {
   "cell_type": "markdown",
   "metadata": {},
   "source": [
    "### Vectorization"
   ]
  },
  {
   "cell_type": "code",
   "execution_count": 7,
   "metadata": {},
   "outputs": [
    {
     "name": "stdout",
     "output_type": "stream",
     "text": [
      "Dictionary<8693 unique tokens: ['10', '100', '108', '15', '155']...>\n"
     ]
    }
   ],
   "source": [
    "# create dictionary of all words\n",
    "dictionary = corpora.Dictionary(articles)\n",
    "print(dictionary)"
   ]
  },
  {
   "cell_type": "code",
   "execution_count": 8,
   "metadata": {},
   "outputs": [],
   "source": [
    "# vecotize using bag of words into a document term matrix\n",
    "doc_term = [dictionary.doc2bow(text) for text in articles]"
   ]
  },
  {
   "cell_type": "markdown",
   "metadata": {},
   "source": [
    "### LDA"
   ]
  },
  {
   "cell_type": "code",
   "execution_count": 9,
   "metadata": {},
   "outputs": [],
   "source": [
    "# specify number of topics\n",
    "num_topics = 2"
   ]
  },
  {
   "cell_type": "code",
   "execution_count": 10,
   "metadata": {},
   "outputs": [],
   "source": [
    "# create LDA model\n",
    "lda_model = gensim.models.LdaModel(corpus=doc_term,\n",
    "                                   id2word=dictionary,\n",
    "                                   num_topics=num_topics)"
   ]
  },
  {
   "cell_type": "code",
   "execution_count": 11,
   "metadata": {},
   "outputs": [
    {
     "data": {
      "text/plain": [
       "[(0,\n",
       "  '0.015*\"mr\" + 0.012*\"said\" + 0.005*\"would\" + 0.004*\"year\" + 0.004*\"state\"'),\n",
       " (1,\n",
       "  '0.019*\"mr\" + 0.017*\"said\" + 0.007*\"trump\" + 0.004*\"one\" + 0.004*\"state\"')]"
      ]
     },
     "execution_count": 11,
     "metadata": {},
     "output_type": "execute_result"
    }
   ],
   "source": [
    "lda_model.print_topics(num_topics=num_topics, num_words=5)"
   ]
  }
 ],
 "metadata": {
  "kernelspec": {
   "display_name": "Python 3",
   "language": "python",
   "name": "python3"
  },
  "language_info": {
   "codemirror_mode": {
    "name": "ipython",
    "version": 3
   },
   "file_extension": ".py",
   "mimetype": "text/x-python",
   "name": "python",
   "nbconvert_exporter": "python",
   "pygments_lexer": "ipython3",
   "version": "3.12.6"
  }
 },
 "nbformat": 4,
 "nbformat_minor": 4
}
