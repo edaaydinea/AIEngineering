{
 "cells": [
  {
   "cell_type": "markdown",
   "metadata": {},
   "source": [
    "# Practical"
   ]
  },
  {
   "cell_type": "markdown",
   "metadata": {},
   "source": [
    "## Setting the Scene\n",
    "\n",
    "Imagine you are working for a social media company. The company is concerned with the growing amount of fake news circulatng on it's platform. They have assigned you to investigate how fake news can be recognized and create a method of identifying it. Let's work through this problem together, first by exploring and cleaning the data and then working to classify fake vs factual news stories. We'll also create some plots of our outputs and discuss how we would communicate our findings to stakeholders."
   ]
  },
  {
   "cell_type": "markdown",
   "metadata": {},
   "source": [
    "## Import Data"
   ]
  },
  {
   "cell_type": "code",
   "execution_count": 1,
   "metadata": {},
   "outputs": [],
   "source": [
    "import pandas as pd\n",
    "import matplotlib.pyplot as plt"
   ]
  },
  {
   "cell_type": "code",
   "execution_count": 2,
   "metadata": {},
   "outputs": [],
   "source": [
    "# set plot options\n",
    "plt.rcParams['figure.figsize'] = (12, 8)\n",
    "default_plot_colour = \"#00bfbf\""
   ]
  },
  {
   "cell_type": "code",
   "execution_count": 3,
   "metadata": {},
   "outputs": [],
   "source": [
    "data = pd.read_csv(\"fake_news_data.csv\")"
   ]
  },
  {
   "cell_type": "code",
   "execution_count": 4,
   "metadata": {},
   "outputs": [
    {
     "data": {
      "application/vnd.microsoft.datawrangler.viewer.v0+json": {
       "columns": [
        {
         "name": "index",
         "rawType": "int64",
         "type": "integer"
        },
        {
         "name": "title",
         "rawType": "object",
         "type": "string"
        },
        {
         "name": "text",
         "rawType": "object",
         "type": "string"
        },
        {
         "name": "date",
         "rawType": "object",
         "type": "string"
        },
        {
         "name": "fake_or_factual",
         "rawType": "object",
         "type": "string"
        }
       ],
       "conversionMethod": "pd.DataFrame",
       "ref": "14b94327-b01a-4835-ac1b-8ec1cc0c989e",
       "rows": [
        [
         "0",
         "HOLLYWEIRD LIB SUSAN SARANDON Compares Muslim Refugees To Jesus’ Family",
         "There are two small problems with your analogy Susan  Jesus was NOT a Muslim and Joseph traveled to Bethlehem with Mary. For anyone who s not paying attention there don t appear to be many female refugees accompanying male Muslim  refugees  to Greece.Susan Sarandon spent the Christmas holiday on the Greek island of Lesbos assisting international organizations with the mounting Syrian refugee crisis   a crisis, she says, that recalls the travails of Joseph and Mary on their way to the Inn in Bethlehem.In a column for the Huffington Post and RYOT, the 69-year-old Oscar-winning actress described meeting a 16-year-old girl who had apparently given birth shortly before arriving on the island. I smile and approach her, but without a translator, our conversation is basic-friendly,  Sarandon wrote of her experience.  She takes the bundle next to her and opens it to me. Inside is a perfect, rosy, newborn. The actress continues:She is beaming, so proud. How did this young girl, just having given birth, manage that trip at sea? How did she do all that walking? Where did she give birth?Wasn t Mary just a kid too when she and Joseph took to the road? So far, there is no manger for this Syrian baby, no room at the inn.Sarandon s short column is part of a new collaborative series with the Huffington Post and the  virtual reality  network RYOT called The Crossing, which will see the actress host a series of reports  chronicling the refugee crisis as it unfolds in Greece. The actress also criticized the political discourse surrounding the refugee crisis in the United States:  It seemed like people who had the loudest voices were the most xenophobic and un-American,  she said.Sarandon isn t the only actor to have visited the Greek island to assist international aid efforts for refugees; Homeland star Mandy Patinkin recently spent time there assisting the International Rescue Committee after wrapping production on the fifth season of the hit Showtime drama. Via: Breitbart News",
         "Dec 30, 2015",
         "Fake News"
        ],
        [
         "1",
         " Elijah Cummings Called Trump Out To His Face And Here’s The Pathetic Way Trump Tried To Spin It",
         "Buried in Trump s bonkers interview with New York Times reporters Maggie Haberman and Glenn Thrush is this outrageous exchange Trump claims happened recently:TRUMP: [U.S. Representative] Elijah Cummings was in my office and he said,  You will go down as one of the great presidents in the history of our country. HABERMAN: Really?TRUMP: And then he went out and I watched him on television yesterday and I said,  Was that the same man? Which  would have been odd considering Cummings, a fiery Democratic congressman, has been one of Trump s most intense critics. He s very public about it. Cummings has been outspoken about Trump s disturbing connections to Russia, the GOP s botched attempts to cover those connections up, and has repeatedly demanded Trump divest himself of his numerous conflicts of interest. He hardly sounds like a person who has looked at Trump s trainwreck first three months in office and concluded that he deserves to be up on Mount Rushmore.One theory was that Trump flatly lied. Always a possibility   Trump is a pathological liar. Another, suggested by writer Jamelle Bouie, is that Trump mixed up two black men, conflating Cummings with some other guy. Another strong possibility   Trump has shown a complete lack of interest in the lives of black Americans.Fortunately, Cummings came in to provide the real answer: Trump took a criticism Cummings has made to his face and filtered it through his unchecked narcissism. Here s how Cummings describes the meeting Trump said was about praising him: During my meeting with the president and on several occasions since then, I have said repeatedly that he could be a great president if   if   he takes steps to truly represent all Americans rather than continuing on the divisive and harmful path he is currently on. Note the jab that Trump completely missed? IF Trump stops being  divisive and harmful  he could someday be a great president. So far he has not done so. Hasn t even tried. (As if to underscore how little Trump has tried to stop being divisive, in the same interview he defended Bill O Reilly for sexually harassing women at Fox News.)Unintentionally, Trump s bizarre retelling of what went down during his meeting with Cummings exemplifies the warped way Trump sees the world. A criticism turns into praise, stripping away all context in the process. It may explain, for example, why Trump seems to genuinely believe he saw Muslim Americans celebrating on 9/11. His ego filters everything, facts get distorted and retooled for his own agenda.The fact that we have a president who does not seem to understand the difference between reality and the fantasy world that exists in his head is a recipe for disaster. If meetings with a congressman get this distorted, what other delusions is Trump living in?Featured image via Win McNamee/Getty Images",
         "April 6, 2017",
         "Fake News"
        ],
        [
         "2",
         " Hillary Clinton Says Half Her Cabinet Will Be Women If Elected President",
         "Women make up over 50 percent of this country, but are grossly underrepresented in just about everything. In the United States Congress, more than 80 percent of those representing the people are men   80 percent in the Senate, 81 percent in the House.On the Supreme Court, only three of the nine Justices are women.And yes, even in the progressive Obama Administration, only 13 out of the 47 individuals who have served in his cabinet have been women   28 percent.It is no secret that Washington D.C. is still a hard place for a woman to find her voice. Even though it s been proven statistically that when women take charge of the operations and debates in D.C., stuff gets done quicker in a more bipartisan manner. Still, women aren t taken seriously.But Hillary Clinton, while shattering that glass ceiling herself, wants to shatter it in all aspects of D.C., starting with her cabinet, should she win the presidency.In an MSNBC town hall Monday night, Clinton told viewers that she intends to have her cabinet reflect the demographics of America:Well, I am going to have a Cabinet that looks like America, and 50 percent of America is women. Whether it s in a vice president or members of a Cabinet or in the White House staff, I want as broad a set of experiences that I can possibly draw together, because I m someone who likes to listen to people who come at problems from different perspectives.While Donald Trump accuses her of playing the  woman card,  Clinton is setting in motion a push to make women more equally represented in American society, something Trump would never consider.Should Clinton win, she not only is responsible for her cabinet, but also her appointments to the Supreme Court, which could produce two vacancies in the next four years.But it s this particular election that could be a driving force for women in Congress. Democrats have the opportunity to get out and elect women, from California to Maryland, from New York to Florida.If women are fifty percent of our population, then they deserve equal representation at every level, and Clinton seems to definitely be on board with making sure that happens if she were to become president.Featured image via Justin Sullivan/Getty Images",
         "April 26, 2016",
         "Fake News"
        ],
        [
         "3",
         "Russian bombing of U.S.-backed forces being discussed at 'highest levels': Mattis",
         "WASHINGTON (Reuters) - U.S. Defense Secretary Jim Mattis said on Monday that Russia s bombing of U.S-backed fighters in Syria was being discussed at the highest levels and while a communication link between the two countries had worked to avoid such incidents, the strike over the weekend was a departure.  When you look at the fact that this is a change, you can imagine this is at the highest levels,  Mattis told reporters. Russia s Defense Ministry on Sunday rejected the allegations, saying its planes only targeted Islamic State militants and that it had warned the United States well in advance of its operational plans. ",
         "September 18, 2017 ",
         "Factual News"
        ],
        [
         "4",
         "Britain says window to restore Northern Ireland devolution closing rapidly",
         "BELFAST (Reuters) - Northern Ireland s political parties are rapidly running out of time to restore a devolved power-sharing government, Britain s minister for the region said on Monday, as he sought to avoid a return of direct rule from London.  The window of opportunity to restore devolution and to form an executive is closing rapidly as we move further into the autumn and with pressures in public services already evident, the need for intervention is becoming increasingly clear,  James Brokenshire told a news conference.  I don t want to have to take this action, my intent is for politicians in Northern Ireland to form an executive. I m not going to pretend that this is easy as clear differences remain but it does remain achievable.   ",
         "September 4, 2017 ",
         "Factual News"
        ]
       ],
       "shape": {
        "columns": 4,
        "rows": 5
       }
      },
      "text/html": [
       "<div>\n",
       "<style scoped>\n",
       "    .dataframe tbody tr th:only-of-type {\n",
       "        vertical-align: middle;\n",
       "    }\n",
       "\n",
       "    .dataframe tbody tr th {\n",
       "        vertical-align: top;\n",
       "    }\n",
       "\n",
       "    .dataframe thead th {\n",
       "        text-align: right;\n",
       "    }\n",
       "</style>\n",
       "<table border=\"1\" class=\"dataframe\">\n",
       "  <thead>\n",
       "    <tr style=\"text-align: right;\">\n",
       "      <th></th>\n",
       "      <th>title</th>\n",
       "      <th>text</th>\n",
       "      <th>date</th>\n",
       "      <th>fake_or_factual</th>\n",
       "    </tr>\n",
       "  </thead>\n",
       "  <tbody>\n",
       "    <tr>\n",
       "      <th>0</th>\n",
       "      <td>HOLLYWEIRD LIB SUSAN SARANDON Compares Muslim ...</td>\n",
       "      <td>There are two small problems with your analogy...</td>\n",
       "      <td>Dec 30, 2015</td>\n",
       "      <td>Fake News</td>\n",
       "    </tr>\n",
       "    <tr>\n",
       "      <th>1</th>\n",
       "      <td>Elijah Cummings Called Trump Out To His Face ...</td>\n",
       "      <td>Buried in Trump s bonkers interview with New Y...</td>\n",
       "      <td>April 6, 2017</td>\n",
       "      <td>Fake News</td>\n",
       "    </tr>\n",
       "    <tr>\n",
       "      <th>2</th>\n",
       "      <td>Hillary Clinton Says Half Her Cabinet Will Be...</td>\n",
       "      <td>Women make up over 50 percent of this country,...</td>\n",
       "      <td>April 26, 2016</td>\n",
       "      <td>Fake News</td>\n",
       "    </tr>\n",
       "    <tr>\n",
       "      <th>3</th>\n",
       "      <td>Russian bombing of U.S.-backed forces being di...</td>\n",
       "      <td>WASHINGTON (Reuters) - U.S. Defense Secretary ...</td>\n",
       "      <td>September 18, 2017</td>\n",
       "      <td>Factual News</td>\n",
       "    </tr>\n",
       "    <tr>\n",
       "      <th>4</th>\n",
       "      <td>Britain says window to restore Northern Irelan...</td>\n",
       "      <td>BELFAST (Reuters) - Northern Ireland s politic...</td>\n",
       "      <td>September 4, 2017</td>\n",
       "      <td>Factual News</td>\n",
       "    </tr>\n",
       "  </tbody>\n",
       "</table>\n",
       "</div>"
      ],
      "text/plain": [
       "                                               title  \\\n",
       "0  HOLLYWEIRD LIB SUSAN SARANDON Compares Muslim ...   \n",
       "1   Elijah Cummings Called Trump Out To His Face ...   \n",
       "2   Hillary Clinton Says Half Her Cabinet Will Be...   \n",
       "3  Russian bombing of U.S.-backed forces being di...   \n",
       "4  Britain says window to restore Northern Irelan...   \n",
       "\n",
       "                                                text                 date  \\\n",
       "0  There are two small problems with your analogy...         Dec 30, 2015   \n",
       "1  Buried in Trump s bonkers interview with New Y...        April 6, 2017   \n",
       "2  Women make up over 50 percent of this country,...       April 26, 2016   \n",
       "3  WASHINGTON (Reuters) - U.S. Defense Secretary ...  September 18, 2017    \n",
       "4  BELFAST (Reuters) - Northern Ireland s politic...   September 4, 2017    \n",
       "\n",
       "  fake_or_factual  \n",
       "0       Fake News  \n",
       "1       Fake News  \n",
       "2       Fake News  \n",
       "3    Factual News  \n",
       "4    Factual News  "
      ]
     },
     "execution_count": 4,
     "metadata": {},
     "output_type": "execute_result"
    }
   ],
   "source": [
    "data.head()"
   ]
  },
  {
   "cell_type": "code",
   "execution_count": 5,
   "metadata": {},
   "outputs": [
    {
     "name": "stdout",
     "output_type": "stream",
     "text": [
      "<class 'pandas.core.frame.DataFrame'>\n",
      "RangeIndex: 198 entries, 0 to 197\n",
      "Data columns (total 4 columns):\n",
      " #   Column           Non-Null Count  Dtype \n",
      "---  ------           --------------  ----- \n",
      " 0   title            198 non-null    object\n",
      " 1   text             198 non-null    object\n",
      " 2   date             198 non-null    object\n",
      " 3   fake_or_factual  198 non-null    object\n",
      "dtypes: object(4)\n",
      "memory usage: 6.3+ KB\n"
     ]
    }
   ],
   "source": [
    "data.info()"
   ]
  },
  {
   "cell_type": "code",
   "execution_count": 6,
   "metadata": {},
   "outputs": [
    {
     "data": {
      "text/plain": [
       "Text(0.5, 0, 'Classification')"
      ]
     },
     "execution_count": 6,
     "metadata": {},
     "output_type": "execute_result"
    },
    {
     "data": {
      "image/png": "[encoded data removed]",
      "text/plain": [
       "<Figure size 1200x800 with 1 Axes>"
      ]
     },
     "metadata": {},
     "output_type": "display_data"
    }
   ],
   "source": [
    "# plot number of fake and factual articles\n",
    "data['fake_or_factual'].value_counts().plot(kind='bar', color=default_plot_colour)\n",
    "plt.title('Count of Article Classification')\n",
    "plt.ylabel('# of Articles')\n",
    "plt.xlabel('Classification')"
   ]
  },
  {
   "cell_type": "markdown",
   "metadata": {},
   "source": [
    "## Import packages required for processing and analysis"
   ]
  },
  {
   "cell_type": "code",
   "execution_count": 7,
   "metadata": {},
   "outputs": [],
   "source": [
    "import seaborn as sns\n",
    "import spacy\n",
    "from spacy import displacy\n",
    "from spacy import tokenizer\n",
    "import re\n",
    "import nltk\n",
    "from nltk.tokenize import word_tokenize\n",
    "from nltk.stem import PorterStemmer, WordNetLemmatizer\n",
    "from nltk.corpus import stopwords\n",
    "from vaderSentiment.vaderSentiment import SentimentIntensityAnalyzer\n",
    "import gensim\n",
    "import gensim.corpora as corpora\n",
    "from gensim.models.coherencemodel import CoherenceModel\n",
    "from gensim.models import LsiModel, TfidfModel\n",
    "from sklearn.feature_extraction.text import TfidfVectorizer\n",
    "from sklearn.feature_extraction.text import CountVectorizer, TfidfVectorizer\n",
    "from sklearn.model_selection import train_test_split\n",
    "from sklearn.linear_model import LogisticRegression, SGDClassifier\n",
    "from sklearn.metrics import accuracy_score, classification_report"
   ]
  },
  {
   "cell_type": "markdown",
   "metadata": {},
   "source": [
    "## POS Tagging"
   ]
  },
  {
   "cell_type": "code",
   "execution_count": 8,
   "metadata": {},
   "outputs": [],
   "source": [
    "nlp = spacy.load('en_core_web_sm')"
   ]
  },
  {
   "cell_type": "code",
   "execution_count": 9,
   "metadata": {},
   "outputs": [],
   "source": [
    "# split data by fake and factual news\n",
    "fake_news = data[data['fake_or_factual'] == \"Fake News\"]\n",
    "fact_news = data[data['fake_or_factual'] == \"Factual News\"]"
   ]
  },
  {
   "cell_type": "code",
   "execution_count": 10,
   "metadata": {},
   "outputs": [],
   "source": [
    "# create spacey documents - use pipe for dataframe\n",
    "fake_spaceydocs = list(nlp.pipe(fake_news['text']))\n",
    "fact_spaceydocs = list(nlp.pipe(fact_news['text'])) "
   ]
  },
  {
   "cell_type": "code",
   "execution_count": 11,
   "metadata": {},
   "outputs": [],
   "source": [
    "# create function to extract tags for each document in our data\n",
    "def extract_token_tags(doc:spacy.tokens.doc.Doc):\n",
    "    return [(i.text, i.ent_type_, i.pos_) for i in doc]"
   ]
  },
  {
   "cell_type": "code",
   "execution_count": 12,
   "metadata": {},
   "outputs": [],
   "source": [
    "# tag fake dataset \n",
    "fake_tagsdf = []\n",
    "columns = [\"token\", \"ner_tag\", \"pos_tag\"]\n",
    "\n",
    "for ix, doc in enumerate(fake_spaceydocs):\n",
    "    tags = extract_token_tags(doc)\n",
    "    tags = pd.DataFrame(tags)\n",
    "    tags.columns = columns\n",
    "    fake_tagsdf.append(tags)\n",
    "        \n",
    "fake_tagsdf = pd.concat(fake_tagsdf)"
   ]
  },
  {
   "cell_type": "code",
   "execution_count": 13,
   "metadata": {},
   "outputs": [],
   "source": [
    "# tag factual dataset \n",
    "fact_tagsdf = []\n",
    "\n",
    "for ix, doc in enumerate(fact_spaceydocs):\n",
    "    tags = extract_token_tags(doc)\n",
    "    tags = pd.DataFrame(tags)\n",
    "    tags.columns = columns\n",
    "    fact_tagsdf.append(tags)\n",
    "        \n",
    "fact_tagsdf = pd.concat(fact_tagsdf)   "
   ]
  },
  {
   "cell_type": "code",
   "execution_count": 14,
   "metadata": {},
   "outputs": [
    {
     "data": {
      "application/vnd.microsoft.datawrangler.viewer.v0+json": {
       "columns": [
        {
         "name": "index",
         "rawType": "int64",
         "type": "integer"
        },
        {
         "name": "token",
         "rawType": "object",
         "type": "string"
        },
        {
         "name": "ner_tag",
         "rawType": "object",
         "type": "string"
        },
        {
         "name": "pos_tag",
         "rawType": "object",
         "type": "string"
        }
       ],
       "conversionMethod": "pd.DataFrame",
       "ref": "a47906d8-96df-49d0-a728-d61b0ae89400",
       "rows": [
        [
         "0",
         "There",
         "",
         "PRON"
        ],
        [
         "1",
         "are",
         "",
         "VERB"
        ],
        [
         "2",
         "two",
         "CARDINAL",
         "NUM"
        ],
        [
         "3",
         "small",
         "",
         "ADJ"
        ],
        [
         "4",
         "problems",
         "",
         "NOUN"
        ]
       ],
       "shape": {
        "columns": 3,
        "rows": 5
       }
      },
      "text/html": [
       "<div>\n",
       "<style scoped>\n",
       "    .dataframe tbody tr th:only-of-type {\n",
       "        vertical-align: middle;\n",
       "    }\n",
       "\n",
       "    .dataframe tbody tr th {\n",
       "        vertical-align: top;\n",
       "    }\n",
       "\n",
       "    .dataframe thead th {\n",
       "        text-align: right;\n",
       "    }\n",
       "</style>\n",
       "<table border=\"1\" class=\"dataframe\">\n",
       "  <thead>\n",
       "    <tr style=\"text-align: right;\">\n",
       "      <th></th>\n",
       "      <th>token</th>\n",
       "      <th>ner_tag</th>\n",
       "      <th>pos_tag</th>\n",
       "    </tr>\n",
       "  </thead>\n",
       "  <tbody>\n",
       "    <tr>\n",
       "      <th>0</th>\n",
       "      <td>There</td>\n",
       "      <td></td>\n",
       "      <td>PRON</td>\n",
       "    </tr>\n",
       "    <tr>\n",
       "      <th>1</th>\n",
       "      <td>are</td>\n",
       "      <td></td>\n",
       "      <td>VERB</td>\n",
       "    </tr>\n",
       "    <tr>\n",
       "      <th>2</th>\n",
       "      <td>two</td>\n",
       "      <td>CARDINAL</td>\n",
       "      <td>NUM</td>\n",
       "    </tr>\n",
       "    <tr>\n",
       "      <th>3</th>\n",
       "      <td>small</td>\n",
       "      <td></td>\n",
       "      <td>ADJ</td>\n",
       "    </tr>\n",
       "    <tr>\n",
       "      <th>4</th>\n",
       "      <td>problems</td>\n",
       "      <td></td>\n",
       "      <td>NOUN</td>\n",
       "    </tr>\n",
       "  </tbody>\n",
       "</table>\n",
       "</div>"
      ],
      "text/plain": [
       "      token   ner_tag pos_tag\n",
       "0     There              PRON\n",
       "1       are              VERB\n",
       "2       two  CARDINAL     NUM\n",
       "3     small               ADJ\n",
       "4  problems              NOUN"
      ]
     },
     "execution_count": 14,
     "metadata": {},
     "output_type": "execute_result"
    }
   ],
   "source": [
    "fake_tagsdf.head()"
   ]
  },
  {
   "cell_type": "code",
   "execution_count": 15,
   "metadata": {},
   "outputs": [
    {
     "data": {
      "application/vnd.microsoft.datawrangler.viewer.v0+json": {
       "columns": [
        {
         "name": "index",
         "rawType": "int64",
         "type": "integer"
        },
        {
         "name": "token",
         "rawType": "object",
         "type": "string"
        },
        {
         "name": "pos_tag",
         "rawType": "object",
         "type": "string"
        },
        {
         "name": "counts",
         "rawType": "int64",
         "type": "integer"
        }
       ],
       "conversionMethod": "pd.DataFrame",
       "ref": "dbea7429-59dc-478d-b929-3f49b0d5402c",
       "rows": [
        [
         "29",
         ",",
         "PUNCT",
         "1908"
        ],
        [
         "7451",
         "the",
         "DET",
         "1834"
        ],
        [
         "41",
         ".",
         "PUNCT",
         "1530"
        ],
        [
         "5766",
         "of",
         "ADP",
         "922"
        ],
        [
         "2665",
         "and",
         "CCONJ",
         "875"
        ],
        [
         "2449",
         "a",
         "DET",
         "805"
        ],
        [
         "0",
         " ",
         "SPACE",
         "795"
        ],
        [
         "7528",
         "to",
         "PART",
         "767"
        ],
        [
         "4921",
         "in",
         "ADP",
         "668"
        ],
        [
         "5099",
         "is",
         "AUX",
         "419"
        ]
       ],
       "shape": {
        "columns": 3,
        "rows": 10
       }
      },
      "text/html": [
       "<div>\n",
       "<style scoped>\n",
       "    .dataframe tbody tr th:only-of-type {\n",
       "        vertical-align: middle;\n",
       "    }\n",
       "\n",
       "    .dataframe tbody tr th {\n",
       "        vertical-align: top;\n",
       "    }\n",
       "\n",
       "    .dataframe thead th {\n",
       "        text-align: right;\n",
       "    }\n",
       "</style>\n",
       "<table border=\"1\" class=\"dataframe\">\n",
       "  <thead>\n",
       "    <tr style=\"text-align: right;\">\n",
       "      <th></th>\n",
       "      <th>token</th>\n",
       "      <th>pos_tag</th>\n",
       "      <th>counts</th>\n",
       "    </tr>\n",
       "  </thead>\n",
       "  <tbody>\n",
       "    <tr>\n",
       "      <th>29</th>\n",
       "      <td>,</td>\n",
       "      <td>PUNCT</td>\n",
       "      <td>1908</td>\n",
       "    </tr>\n",
       "    <tr>\n",
       "      <th>7451</th>\n",
       "      <td>the</td>\n",
       "      <td>DET</td>\n",
       "      <td>1834</td>\n",
       "    </tr>\n",
       "    <tr>\n",
       "      <th>41</th>\n",
       "      <td>.</td>\n",
       "      <td>PUNCT</td>\n",
       "      <td>1530</td>\n",
       "    </tr>\n",
       "    <tr>\n",
       "      <th>5766</th>\n",
       "      <td>of</td>\n",
       "      <td>ADP</td>\n",
       "      <td>922</td>\n",
       "    </tr>\n",
       "    <tr>\n",
       "      <th>2665</th>\n",
       "      <td>and</td>\n",
       "      <td>CCONJ</td>\n",
       "      <td>875</td>\n",
       "    </tr>\n",
       "    <tr>\n",
       "      <th>2449</th>\n",
       "      <td>a</td>\n",
       "      <td>DET</td>\n",
       "      <td>805</td>\n",
       "    </tr>\n",
       "    <tr>\n",
       "      <th>0</th>\n",
       "      <td></td>\n",
       "      <td>SPACE</td>\n",
       "      <td>795</td>\n",
       "    </tr>\n",
       "    <tr>\n",
       "      <th>7528</th>\n",
       "      <td>to</td>\n",
       "      <td>PART</td>\n",
       "      <td>767</td>\n",
       "    </tr>\n",
       "    <tr>\n",
       "      <th>4921</th>\n",
       "      <td>in</td>\n",
       "      <td>ADP</td>\n",
       "      <td>668</td>\n",
       "    </tr>\n",
       "    <tr>\n",
       "      <th>5099</th>\n",
       "      <td>is</td>\n",
       "      <td>AUX</td>\n",
       "      <td>419</td>\n",
       "    </tr>\n",
       "  </tbody>\n",
       "</table>\n",
       "</div>"
      ],
      "text/plain": [
       "     token pos_tag  counts\n",
       "29       ,   PUNCT    1908\n",
       "7451   the     DET    1834\n",
       "41       .   PUNCT    1530\n",
       "5766    of     ADP     922\n",
       "2665   and   CCONJ     875\n",
       "2449     a     DET     805\n",
       "0            SPACE     795\n",
       "7528    to    PART     767\n",
       "4921    in     ADP     668\n",
       "5099    is     AUX     419"
      ]
     },
     "execution_count": 15,
     "metadata": {},
     "output_type": "execute_result"
    }
   ],
   "source": [
    "# token frequency count (fake)\n",
    "pos_counts_fake = fake_tagsdf.groupby(['token','pos_tag']).size().reset_index(name='counts').sort_values(by='counts', ascending=False)\n",
    "pos_counts_fake.head(10)"
   ]
  },
  {
   "cell_type": "code",
   "execution_count": 16,
   "metadata": {},
   "outputs": [
    {
     "data": {
      "application/vnd.microsoft.datawrangler.viewer.v0+json": {
       "columns": [
        {
         "name": "index",
         "rawType": "int64",
         "type": "integer"
        },
        {
         "name": "token",
         "rawType": "object",
         "type": "string"
        },
        {
         "name": "pos_tag",
         "rawType": "object",
         "type": "string"
        },
        {
         "name": "counts",
         "rawType": "int64",
         "type": "integer"
        }
       ],
       "conversionMethod": "pd.DataFrame",
       "ref": "56a1da74-ebc6-49e8-812d-82ad498a6402",
       "rows": [
        [
         "6145",
         "the",
         "DET",
         "1903"
        ],
        [
         "14",
         ",",
         "PUNCT",
         "1698"
        ],
        [
         "21",
         ".",
         "PUNCT",
         "1382"
        ],
        [
         "4716",
         "of",
         "ADP",
         "884"
        ],
        [
         "1898",
         "a",
         "DET",
         "789"
        ],
        [
         "2093",
         "and",
         "CCONJ",
         "757"
        ],
        [
         "4005",
         "in",
         "ADP",
         "671"
        ],
        [
         "6205",
         "to",
         "PART",
         "660"
        ],
        [
         "4743",
         "on",
         "ADP",
         "482"
        ],
        [
         "5567",
         "said",
         "VERB",
         "451"
        ]
       ],
       "shape": {
        "columns": 3,
        "rows": 10
       }
      },
      "text/html": [
       "<div>\n",
       "<style scoped>\n",
       "    .dataframe tbody tr th:only-of-type {\n",
       "        vertical-align: middle;\n",
       "    }\n",
       "\n",
       "    .dataframe tbody tr th {\n",
       "        vertical-align: top;\n",
       "    }\n",
       "\n",
       "    .dataframe thead th {\n",
       "        text-align: right;\n",
       "    }\n",
       "</style>\n",
       "<table border=\"1\" class=\"dataframe\">\n",
       "  <thead>\n",
       "    <tr style=\"text-align: right;\">\n",
       "      <th></th>\n",
       "      <th>token</th>\n",
       "      <th>pos_tag</th>\n",
       "      <th>counts</th>\n",
       "    </tr>\n",
       "  </thead>\n",
       "  <tbody>\n",
       "    <tr>\n",
       "      <th>6145</th>\n",
       "      <td>the</td>\n",
       "      <td>DET</td>\n",
       "      <td>1903</td>\n",
       "    </tr>\n",
       "    <tr>\n",
       "      <th>14</th>\n",
       "      <td>,</td>\n",
       "      <td>PUNCT</td>\n",
       "      <td>1698</td>\n",
       "    </tr>\n",
       "    <tr>\n",
       "      <th>21</th>\n",
       "      <td>.</td>\n",
       "      <td>PUNCT</td>\n",
       "      <td>1382</td>\n",
       "    </tr>\n",
       "    <tr>\n",
       "      <th>4716</th>\n",
       "      <td>of</td>\n",
       "      <td>ADP</td>\n",
       "      <td>884</td>\n",
       "    </tr>\n",
       "    <tr>\n",
       "      <th>1898</th>\n",
       "      <td>a</td>\n",
       "      <td>DET</td>\n",
       "      <td>789</td>\n",
       "    </tr>\n",
       "    <tr>\n",
       "      <th>2093</th>\n",
       "      <td>and</td>\n",
       "      <td>CCONJ</td>\n",
       "      <td>757</td>\n",
       "    </tr>\n",
       "    <tr>\n",
       "      <th>4005</th>\n",
       "      <td>in</td>\n",
       "      <td>ADP</td>\n",
       "      <td>671</td>\n",
       "    </tr>\n",
       "    <tr>\n",
       "      <th>6205</th>\n",
       "      <td>to</td>\n",
       "      <td>PART</td>\n",
       "      <td>660</td>\n",
       "    </tr>\n",
       "    <tr>\n",
       "      <th>4743</th>\n",
       "      <td>on</td>\n",
       "      <td>ADP</td>\n",
       "      <td>482</td>\n",
       "    </tr>\n",
       "    <tr>\n",
       "      <th>5567</th>\n",
       "      <td>said</td>\n",
       "      <td>VERB</td>\n",
       "      <td>451</td>\n",
       "    </tr>\n",
       "  </tbody>\n",
       "</table>\n",
       "</div>"
      ],
      "text/plain": [
       "     token pos_tag  counts\n",
       "6145   the     DET    1903\n",
       "14       ,   PUNCT    1698\n",
       "21       .   PUNCT    1382\n",
       "4716    of     ADP     884\n",
       "1898     a     DET     789\n",
       "2093   and   CCONJ     757\n",
       "4005    in     ADP     671\n",
       "6205    to    PART     660\n",
       "4743    on     ADP     482\n",
       "5567  said    VERB     451"
      ]
     },
     "execution_count": 16,
     "metadata": {},
     "output_type": "execute_result"
    }
   ],
   "source": [
    "# token frequency count (fact)\n",
    "pos_counts_fact = fact_tagsdf.groupby(['token','pos_tag']).size().reset_index(name='counts').sort_values(by='counts', ascending=False)\n",
    "pos_counts_fact.head(10)"
   ]
  },
  {
   "cell_type": "code",
   "execution_count": 17,
   "metadata": {},
   "outputs": [
    {
     "data": {
      "text/plain": [
       "pos_tag\n",
       "NOUN     2586\n",
       "VERB     1817\n",
       "PROPN    1672\n",
       "ADJ       882\n",
       "ADV       413\n",
       "NUM       221\n",
       "PRON       96\n",
       "ADP        89\n",
       "AUX        62\n",
       "SCONJ      51\n",
       "Name: token, dtype: int64"
      ]
     },
     "execution_count": 17,
     "metadata": {},
     "output_type": "execute_result"
    }
   ],
   "source": [
    "# frequencies of pos tags\n",
    "pos_counts_fake.groupby(['pos_tag'])['token'].count().sort_values(ascending=False).head(10)"
   ]
  },
  {
   "cell_type": "code",
   "execution_count": 18,
   "metadata": {},
   "outputs": [
    {
     "data": {
      "text/plain": [
       "pos_tag\n",
       "NOUN     2179\n",
       "VERB     1539\n",
       "PROPN    1379\n",
       "ADJ       747\n",
       "ADV       263\n",
       "NUM       205\n",
       "PRON       79\n",
       "ADP        70\n",
       "AUX        43\n",
       "SCONJ      42\n",
       "Name: token, dtype: int64"
      ]
     },
     "execution_count": 18,
     "metadata": {},
     "output_type": "execute_result"
    }
   ],
   "source": [
    "pos_counts_fact.groupby(['pos_tag'])['token'].count().sort_values(ascending=False).head(10)"
   ]
  },
  {
   "cell_type": "code",
   "execution_count": 19,
   "metadata": {},
   "outputs": [
    {
     "data": {
      "application/vnd.microsoft.datawrangler.viewer.v0+json": {
       "columns": [
        {
         "name": "index",
         "rawType": "int64",
         "type": "integer"
        },
        {
         "name": "token",
         "rawType": "object",
         "type": "string"
        },
        {
         "name": "pos_tag",
         "rawType": "object",
         "type": "string"
        },
        {
         "name": "counts",
         "rawType": "int64",
         "type": "integer"
        }
       ],
       "conversionMethod": "pd.DataFrame",
       "ref": "38e36ab7-fd7c-442d-951c-9863dc045053",
       "rows": [
        [
         "5981",
         "people",
         "NOUN",
         "77"
        ],
        [
         "7349",
         "t",
         "NOUN",
         "65"
        ],
        [
         "6216",
         "president",
         "NOUN",
         "58"
        ],
        [
         "7960",
         "women",
         "NOUN",
         "55"
        ],
        [
         "7516",
         "time",
         "NOUN",
         "52"
        ],
        [
         "3138",
         "campaign",
         "NOUN",
         "44"
        ],
        [
         "8011",
         "year",
         "NOUN",
         "44"
        ],
        [
         "4581",
         "government",
         "NOUN",
         "41"
        ],
        [
         "5213",
         "law",
         "NOUN",
         "40"
        ],
        [
         "8013",
         "years",
         "NOUN",
         "40"
        ],
        [
         "7165",
         "state",
         "NOUN",
         "38"
        ],
        [
         "4012",
         "election",
         "NOUN",
         "37"
        ],
        [
         "3643",
         "day",
         "NOUN",
         "35"
        ],
        [
         "5482",
         "media",
         "NOUN",
         "35"
        ],
        [
         "3538",
         "country",
         "NOUN",
         "33"
        ]
       ],
       "shape": {
        "columns": 3,
        "rows": 15
       }
      },
      "text/html": [
       "<div>\n",
       "<style scoped>\n",
       "    .dataframe tbody tr th:only-of-type {\n",
       "        vertical-align: middle;\n",
       "    }\n",
       "\n",
       "    .dataframe tbody tr th {\n",
       "        vertical-align: top;\n",
       "    }\n",
       "\n",
       "    .dataframe thead th {\n",
       "        text-align: right;\n",
       "    }\n",
       "</style>\n",
       "<table border=\"1\" class=\"dataframe\">\n",
       "  <thead>\n",
       "    <tr style=\"text-align: right;\">\n",
       "      <th></th>\n",
       "      <th>token</th>\n",
       "      <th>pos_tag</th>\n",
       "      <th>counts</th>\n",
       "    </tr>\n",
       "  </thead>\n",
       "  <tbody>\n",
       "    <tr>\n",
       "      <th>5981</th>\n",
       "      <td>people</td>\n",
       "      <td>NOUN</td>\n",
       "      <td>77</td>\n",
       "    </tr>\n",
       "    <tr>\n",
       "      <th>7349</th>\n",
       "      <td>t</td>\n",
       "      <td>NOUN</td>\n",
       "      <td>65</td>\n",
       "    </tr>\n",
       "    <tr>\n",
       "      <th>6216</th>\n",
       "      <td>president</td>\n",
       "      <td>NOUN</td>\n",
       "      <td>58</td>\n",
       "    </tr>\n",
       "    <tr>\n",
       "      <th>7960</th>\n",
       "      <td>women</td>\n",
       "      <td>NOUN</td>\n",
       "      <td>55</td>\n",
       "    </tr>\n",
       "    <tr>\n",
       "      <th>7516</th>\n",
       "      <td>time</td>\n",
       "      <td>NOUN</td>\n",
       "      <td>52</td>\n",
       "    </tr>\n",
       "    <tr>\n",
       "      <th>3138</th>\n",
       "      <td>campaign</td>\n",
       "      <td>NOUN</td>\n",
       "      <td>44</td>\n",
       "    </tr>\n",
       "    <tr>\n",
       "      <th>8011</th>\n",
       "      <td>year</td>\n",
       "      <td>NOUN</td>\n",
       "      <td>44</td>\n",
       "    </tr>\n",
       "    <tr>\n",
       "      <th>4581</th>\n",
       "      <td>government</td>\n",
       "      <td>NOUN</td>\n",
       "      <td>41</td>\n",
       "    </tr>\n",
       "    <tr>\n",
       "      <th>5213</th>\n",
       "      <td>law</td>\n",
       "      <td>NOUN</td>\n",
       "      <td>40</td>\n",
       "    </tr>\n",
       "    <tr>\n",
       "      <th>8013</th>\n",
       "      <td>years</td>\n",
       "      <td>NOUN</td>\n",
       "      <td>40</td>\n",
       "    </tr>\n",
       "    <tr>\n",
       "      <th>7165</th>\n",
       "      <td>state</td>\n",
       "      <td>NOUN</td>\n",
       "      <td>38</td>\n",
       "    </tr>\n",
       "    <tr>\n",
       "      <th>4012</th>\n",
       "      <td>election</td>\n",
       "      <td>NOUN</td>\n",
       "      <td>37</td>\n",
       "    </tr>\n",
       "    <tr>\n",
       "      <th>3643</th>\n",
       "      <td>day</td>\n",
       "      <td>NOUN</td>\n",
       "      <td>35</td>\n",
       "    </tr>\n",
       "    <tr>\n",
       "      <th>5482</th>\n",
       "      <td>media</td>\n",
       "      <td>NOUN</td>\n",
       "      <td>35</td>\n",
       "    </tr>\n",
       "    <tr>\n",
       "      <th>3538</th>\n",
       "      <td>country</td>\n",
       "      <td>NOUN</td>\n",
       "      <td>33</td>\n",
       "    </tr>\n",
       "  </tbody>\n",
       "</table>\n",
       "</div>"
      ],
      "text/plain": [
       "           token pos_tag  counts\n",
       "5981      people    NOUN      77\n",
       "7349           t    NOUN      65\n",
       "6216   president    NOUN      58\n",
       "7960       women    NOUN      55\n",
       "7516        time    NOUN      52\n",
       "3138    campaign    NOUN      44\n",
       "8011        year    NOUN      44\n",
       "4581  government    NOUN      41\n",
       "5213         law    NOUN      40\n",
       "8013       years    NOUN      40\n",
       "7165       state    NOUN      38\n",
       "4012    election    NOUN      37\n",
       "3643         day    NOUN      35\n",
       "5482       media    NOUN      35\n",
       "3538     country    NOUN      33"
      ]
     },
     "execution_count": 19,
     "metadata": {},
     "output_type": "execute_result"
    }
   ],
   "source": [
    "# dive into diferences in nouns\n",
    "pos_counts_fake[pos_counts_fake.pos_tag == \"NOUN\"][0:15]"
   ]
  },
  {
   "cell_type": "code",
   "execution_count": 20,
   "metadata": {},
   "outputs": [
    {
     "data": {
      "application/vnd.microsoft.datawrangler.viewer.v0+json": {
       "columns": [
        {
         "name": "index",
         "rawType": "int64",
         "type": "integer"
        },
        {
         "name": "token",
         "rawType": "object",
         "type": "string"
        },
        {
         "name": "pos_tag",
         "rawType": "object",
         "type": "string"
        },
        {
         "name": "counts",
         "rawType": "int64",
         "type": "integer"
        }
       ],
       "conversionMethod": "pd.DataFrame",
       "ref": "244fba20-4e7c-46c2-99f1-81ed71bfbe48",
       "rows": [
        [
         "3738",
         "government",
         "NOUN",
         "71"
        ],
        [
         "6618",
         "year",
         "NOUN",
         "64"
        ],
        [
         "5901",
         "state",
         "NOUN",
         "57"
        ],
        [
         "2360",
         "bill",
         "NOUN",
         "55"
        ],
        [
         "1975",
         "administration",
         "NOUN",
         "51"
        ],
        [
         "5066",
         "president",
         "NOUN",
         "49"
        ],
        [
         "3277",
         "election",
         "NOUN",
         "48"
        ],
        [
         "4919",
         "people",
         "NOUN",
         "45"
        ],
        [
         "4786",
         "order",
         "NOUN",
         "45"
        ],
        [
         "4259",
         "law",
         "NOUN",
         "42"
        ],
        [
         "2497",
         "campaign",
         "NOUN",
         "42"
        ],
        [
         "6095",
         "tax",
         "NOUN",
         "39"
        ],
        [
         "5396",
         "reporters",
         "NOUN",
         "38"
        ],
        [
         "5905",
         "statement",
         "NOUN",
         "37"
        ],
        [
         "2873",
         "court",
         "NOUN",
         "37"
        ]
       ],
       "shape": {
        "columns": 3,
        "rows": 15
       }
      },
      "text/html": [
       "<div>\n",
       "<style scoped>\n",
       "    .dataframe tbody tr th:only-of-type {\n",
       "        vertical-align: middle;\n",
       "    }\n",
       "\n",
       "    .dataframe tbody tr th {\n",
       "        vertical-align: top;\n",
       "    }\n",
       "\n",
       "    .dataframe thead th {\n",
       "        text-align: right;\n",
       "    }\n",
       "</style>\n",
       "<table border=\"1\" class=\"dataframe\">\n",
       "  <thead>\n",
       "    <tr style=\"text-align: right;\">\n",
       "      <th></th>\n",
       "      <th>token</th>\n",
       "      <th>pos_tag</th>\n",
       "      <th>counts</th>\n",
       "    </tr>\n",
       "  </thead>\n",
       "  <tbody>\n",
       "    <tr>\n",
       "      <th>3738</th>\n",
       "      <td>government</td>\n",
       "      <td>NOUN</td>\n",
       "      <td>71</td>\n",
       "    </tr>\n",
       "    <tr>\n",
       "      <th>6618</th>\n",
       "      <td>year</td>\n",
       "      <td>NOUN</td>\n",
       "      <td>64</td>\n",
       "    </tr>\n",
       "    <tr>\n",
       "      <th>5901</th>\n",
       "      <td>state</td>\n",
       "      <td>NOUN</td>\n",
       "      <td>57</td>\n",
       "    </tr>\n",
       "    <tr>\n",
       "      <th>2360</th>\n",
       "      <td>bill</td>\n",
       "      <td>NOUN</td>\n",
       "      <td>55</td>\n",
       "    </tr>\n",
       "    <tr>\n",
       "      <th>1975</th>\n",
       "      <td>administration</td>\n",
       "      <td>NOUN</td>\n",
       "      <td>51</td>\n",
       "    </tr>\n",
       "    <tr>\n",
       "      <th>5066</th>\n",
       "      <td>president</td>\n",
       "      <td>NOUN</td>\n",
       "      <td>49</td>\n",
       "    </tr>\n",
       "    <tr>\n",
       "      <th>3277</th>\n",
       "      <td>election</td>\n",
       "      <td>NOUN</td>\n",
       "      <td>48</td>\n",
       "    </tr>\n",
       "    <tr>\n",
       "      <th>4919</th>\n",
       "      <td>people</td>\n",
       "      <td>NOUN</td>\n",
       "      <td>45</td>\n",
       "    </tr>\n",
       "    <tr>\n",
       "      <th>4786</th>\n",
       "      <td>order</td>\n",
       "      <td>NOUN</td>\n",
       "      <td>45</td>\n",
       "    </tr>\n",
       "    <tr>\n",
       "      <th>4259</th>\n",
       "      <td>law</td>\n",
       "      <td>NOUN</td>\n",
       "      <td>42</td>\n",
       "    </tr>\n",
       "    <tr>\n",
       "      <th>2497</th>\n",
       "      <td>campaign</td>\n",
       "      <td>NOUN</td>\n",
       "      <td>42</td>\n",
       "    </tr>\n",
       "    <tr>\n",
       "      <th>6095</th>\n",
       "      <td>tax</td>\n",
       "      <td>NOUN</td>\n",
       "      <td>39</td>\n",
       "    </tr>\n",
       "    <tr>\n",
       "      <th>5396</th>\n",
       "      <td>reporters</td>\n",
       "      <td>NOUN</td>\n",
       "      <td>38</td>\n",
       "    </tr>\n",
       "    <tr>\n",
       "      <th>5905</th>\n",
       "      <td>statement</td>\n",
       "      <td>NOUN</td>\n",
       "      <td>37</td>\n",
       "    </tr>\n",
       "    <tr>\n",
       "      <th>2873</th>\n",
       "      <td>court</td>\n",
       "      <td>NOUN</td>\n",
       "      <td>37</td>\n",
       "    </tr>\n",
       "  </tbody>\n",
       "</table>\n",
       "</div>"
      ],
      "text/plain": [
       "               token pos_tag  counts\n",
       "3738      government    NOUN      71\n",
       "6618            year    NOUN      64\n",
       "5901           state    NOUN      57\n",
       "2360            bill    NOUN      55\n",
       "1975  administration    NOUN      51\n",
       "5066       president    NOUN      49\n",
       "3277        election    NOUN      48\n",
       "4919          people    NOUN      45\n",
       "4786           order    NOUN      45\n",
       "4259             law    NOUN      42\n",
       "2497        campaign    NOUN      42\n",
       "6095             tax    NOUN      39\n",
       "5396       reporters    NOUN      38\n",
       "5905       statement    NOUN      37\n",
       "2873           court    NOUN      37"
      ]
     },
     "execution_count": 20,
     "metadata": {},
     "output_type": "execute_result"
    }
   ],
   "source": [
    "pos_counts_fact[pos_counts_fact.pos_tag == \"NOUN\"][0:15]"
   ]
  },
  {
   "cell_type": "markdown",
   "metadata": {},
   "source": [
    "## Named Entities"
   ]
  },
  {
   "cell_type": "code",
   "execution_count": 21,
   "metadata": {},
   "outputs": [],
   "source": [
    "# top entities in fake news\n",
    "top_entities_fake = fake_tagsdf[fake_tagsdf['ner_tag'] != \"\"] \\\n",
    "                    .groupby(['token','ner_tag']).size().reset_index(name='counts') \\\n",
    "                    .sort_values(by='counts', ascending=False)"
   ]
  },
  {
   "cell_type": "code",
   "execution_count": 22,
   "metadata": {},
   "outputs": [],
   "source": [
    "# top entities in fact news\n",
    "top_entities_fact = fact_tagsdf[fact_tagsdf['ner_tag'] != \"\"] \\\n",
    "                    .groupby(['token','ner_tag']).size().reset_index(name='counts') \\\n",
    "                    .sort_values(by='counts', ascending=False)"
   ]
  },
  {
   "cell_type": "code",
   "execution_count": 23,
   "metadata": {},
   "outputs": [],
   "source": [
    "# create custom palette to ensure plots are consistent\n",
    "ner_palette = {\n",
    "    'ORG': sns.color_palette(\"Set2\").as_hex()[0],\n",
    "    'GPE': sns.color_palette(\"Set2\").as_hex()[1],\n",
    "    'NORP': sns.color_palette(\"Set2\").as_hex()[2],\n",
    "    'PERSON': sns.color_palette(\"Set2\").as_hex()[3],\n",
    "    'DATE': sns.color_palette(\"Set2\").as_hex()[4],\n",
    "    'CARDINAL': sns.color_palette(\"Set2\").as_hex()[5],\n",
    "    'PERCENT': sns.color_palette(\"Set2\").as_hex()[6]\n",
    "}"
   ]
  },
  {
   "cell_type": "code",
   "execution_count": 24,
   "metadata": {},
   "outputs": [
    {
     "data": {
      "text/plain": [
       "[Text(0.5, 1.0, 'Most Common Entities in Fake News')]"
      ]
     },
     "execution_count": 24,
     "metadata": {},
     "output_type": "execute_result"
    },
    {
     "data": {
      "image/png": "[encoded data removed]",
      "text/plain": [
       "<Figure size 1200x800 with 1 Axes>"
      ]
     },
     "metadata": {},
     "output_type": "display_data"
    }
   ],
   "source": [
    "sns.barplot(\n",
    "    x = 'counts',\n",
    "    y = 'token',\n",
    "    hue = 'ner_tag',\n",
    "    palette = ner_palette,\n",
    "    data = top_entities_fake[0:10],\n",
    "    orient = 'h',\n",
    "    dodge=False\n",
    ") \\\n",
    ".set(title='Most Common Entities in Fake News')"
   ]
  },
  {
   "cell_type": "code",
   "execution_count": 25,
   "metadata": {},
   "outputs": [
    {
     "data": {
      "text/plain": [
       "[Text(0.5, 1.0, 'Most Common Entities in Factual News')]"
      ]
     },
     "execution_count": 25,
     "metadata": {},
     "output_type": "execute_result"
    },
    {
     "data": {
      "image/png": "[encoded data removed]",
      "text/plain": [
       "<Figure size 1200x800 with 1 Axes>"
      ]
     },
     "metadata": {},
     "output_type": "display_data"
    }
   ],
   "source": [
    "sns.barplot(\n",
    "    x = 'counts',\n",
    "    y = 'token',\n",
    "    hue = 'ner_tag',\n",
    "    palette = ner_palette,\n",
    "    data = top_entities_fact[0:10],\n",
    "    orient = 'h',\n",
    "    dodge=False\n",
    ") \\\n",
    ".set(title='Most Common Entities in Factual News')"
   ]
  },
  {
   "cell_type": "markdown",
   "metadata": {},
   "source": [
    "## Text Pre-processing"
   ]
  },
  {
   "cell_type": "code",
   "execution_count": 26,
   "metadata": {},
   "outputs": [],
   "source": [
    "# a lot of the factual news has a location tag at the beginning of the article, let's use regex to remove this\n",
    "data['text_clean'] = data.apply(lambda x: re.sub(r\"^[^-]*-\\s*\", \"\", x['text']), axis=1)"
   ]
  },
  {
   "cell_type": "code",
   "execution_count": 27,
   "metadata": {},
   "outputs": [],
   "source": [
    "# lowercase \n",
    "data['text_clean'] = data['text_clean'].str.lower()"
   ]
  },
  {
   "cell_type": "code",
   "execution_count": 28,
   "metadata": {},
   "outputs": [],
   "source": [
    "# remove punctuation\n",
    "data['text_clean'] = data.apply(lambda x: re.sub(r\"([^\\w\\s])\", \"\", x['text_clean']), axis=1)"
   ]
  },
  {
   "cell_type": "code",
   "execution_count": 29,
   "metadata": {},
   "outputs": [
    {
     "name": "stdout",
     "output_type": "stream",
     "text": [
      "['a', 'about', 'above', 'after', 'again', 'against', 'ain', 'all', 'am', 'an', 'and', 'any', 'are', 'aren', \"aren't\", 'as', 'at', 'be', 'because', 'been', 'before', 'being', 'below', 'between', 'both', 'but', 'by', 'can', 'couldn', \"couldn't\", 'd', 'did', 'didn', \"didn't\", 'do', 'does', 'doesn', \"doesn't\", 'doing', 'don', \"don't\", 'down', 'during', 'each', 'few', 'for', 'from', 'further', 'had', 'hadn', \"hadn't\", 'has', 'hasn', \"hasn't\", 'have', 'haven', \"haven't\", 'having', 'he', \"he'd\", \"he'll\", 'her', 'here', 'hers', 'herself', \"he's\", 'him', 'himself', 'his', 'how', 'i', \"i'd\", 'if', \"i'll\", \"i'm\", 'in', 'into', 'is', 'isn', \"isn't\", 'it', \"it'd\", \"it'll\", \"it's\", 'its', 'itself', \"i've\", 'just', 'll', 'm', 'ma', 'me', 'mightn', \"mightn't\", 'more', 'most', 'mustn', \"mustn't\", 'my', 'myself', 'needn', \"needn't\", 'no', 'nor', 'not', 'now', 'o', 'of', 'off', 'on', 'once', 'only', 'or', 'other', 'our', 'ours', 'ourselves', 'out', 'over', 'own', 're', 's', 'same', 'shan', \"shan't\", 'she', \"she'd\", \"she'll\", \"she's\", 'should', 'shouldn', \"shouldn't\", \"should've\", 'so', 'some', 'such', 't', 'than', 'that', \"that'll\", 'the', 'their', 'theirs', 'them', 'themselves', 'then', 'there', 'these', 'they', \"they'd\", \"they'll\", \"they're\", \"they've\", 'this', 'those', 'through', 'to', 'too', 'under', 'until', 'up', 've', 'very', 'was', 'wasn', \"wasn't\", 'we', \"we'd\", \"we'll\", \"we're\", 'were', 'weren', \"weren't\", \"we've\", 'what', 'when', 'where', 'which', 'while', 'who', 'whom', 'why', 'will', 'with', 'won', \"won't\", 'wouldn', \"wouldn't\", 'y', 'you', \"you'd\", \"you'll\", 'your', \"you're\", 'yours', 'yourself', 'yourselves', \"you've\"]\n"
     ]
    }
   ],
   "source": [
    "# stop words\n",
    "en_stopwords = stopwords.words('english')\n",
    "print(en_stopwords) # check this against our most frequent n-grams"
   ]
  },
  {
   "cell_type": "code",
   "execution_count": 30,
   "metadata": {},
   "outputs": [],
   "source": [
    "data['text_clean'] = data['text_clean'].apply(lambda x: ' '.join([word for word in x.split() if word not in (en_stopwords)]))"
   ]
  },
  {
   "cell_type": "code",
   "execution_count": 31,
   "metadata": {},
   "outputs": [],
   "source": [
    "# tokenize \n",
    "data['text_clean'] = data.apply(lambda x: word_tokenize(x['text_clean']), axis=1)"
   ]
  },
  {
   "cell_type": "code",
   "execution_count": 32,
   "metadata": {},
   "outputs": [],
   "source": [
    "# lemmatize\n",
    "lemmatizer = WordNetLemmatizer()\n",
    "data[\"text_clean\"] = data[\"text_clean\"].apply(lambda tokens: [lemmatizer.lemmatize(token) for token in tokens])"
   ]
  },
  {
   "cell_type": "code",
   "execution_count": 33,
   "metadata": {},
   "outputs": [
    {
     "data": {
      "application/vnd.microsoft.datawrangler.viewer.v0+json": {
       "columns": [
        {
         "name": "index",
         "rawType": "int64",
         "type": "integer"
        },
        {
         "name": "title",
         "rawType": "object",
         "type": "string"
        },
        {
         "name": "text",
         "rawType": "object",
         "type": "string"
        },
        {
         "name": "date",
         "rawType": "object",
         "type": "string"
        },
        {
         "name": "fake_or_factual",
         "rawType": "object",
         "type": "string"
        },
        {
         "name": "text_clean",
         "rawType": "object",
         "type": "unknown"
        }
       ],
       "conversionMethod": "pd.DataFrame",
       "ref": "8147f1a5-199d-4278-bffc-bfb958e91deb",
       "rows": [
        [
         "0",
         "HOLLYWEIRD LIB SUSAN SARANDON Compares Muslim Refugees To Jesus’ Family",
         "There are two small problems with your analogy Susan  Jesus was NOT a Muslim and Joseph traveled to Bethlehem with Mary. For anyone who s not paying attention there don t appear to be many female refugees accompanying male Muslim  refugees  to Greece.Susan Sarandon spent the Christmas holiday on the Greek island of Lesbos assisting international organizations with the mounting Syrian refugee crisis   a crisis, she says, that recalls the travails of Joseph and Mary on their way to the Inn in Bethlehem.In a column for the Huffington Post and RYOT, the 69-year-old Oscar-winning actress described meeting a 16-year-old girl who had apparently given birth shortly before arriving on the island. I smile and approach her, but without a translator, our conversation is basic-friendly,  Sarandon wrote of her experience.  She takes the bundle next to her and opens it to me. Inside is a perfect, rosy, newborn. The actress continues:She is beaming, so proud. How did this young girl, just having given birth, manage that trip at sea? How did she do all that walking? Where did she give birth?Wasn t Mary just a kid too when she and Joseph took to the road? So far, there is no manger for this Syrian baby, no room at the inn.Sarandon s short column is part of a new collaborative series with the Huffington Post and the  virtual reality  network RYOT called The Crossing, which will see the actress host a series of reports  chronicling the refugee crisis as it unfolds in Greece. The actress also criticized the political discourse surrounding the refugee crisis in the United States:  It seemed like people who had the loudest voices were the most xenophobic and un-American,  she said.Sarandon isn t the only actor to have visited the Greek island to assist international aid efforts for refugees; Homeland star Mandy Patinkin recently spent time there assisting the International Rescue Committee after wrapping production on the fifth season of the hit Showtime drama. Via: Breitbart News",
         "Dec 30, 2015",
         "Fake News",
         "['yearold', 'oscarwinning', 'actress', 'described', 'meeting', '16yearold', 'girl', 'apparently', 'given', 'birth', 'shortly', 'arriving', 'island', 'smile', 'approach', 'without', 'translator', 'conversation', 'basicfriendly', 'sarandon', 'wrote', 'experience', 'take', 'bundle', 'next', 'open', 'inside', 'perfect', 'rosy', 'newborn', 'actress', 'continuesshe', 'beaming', 'proud', 'young', 'girl', 'given', 'birth', 'manage', 'trip', 'sea', 'walking', 'give', 'birthwasn', 'mary', 'kid', 'joseph', 'took', 'road', 'far', 'manger', 'syrian', 'baby', 'room', 'innsarandon', 'short', 'column', 'part', 'new', 'collaborative', 'series', 'huffington', 'post', 'virtual', 'reality', 'network', 'ryot', 'called', 'crossing', 'see', 'actress', 'host', 'series', 'report', 'chronicling', 'refugee', 'crisis', 'unfolds', 'greece', 'actress', 'also', 'criticized', 'political', 'discourse', 'surrounding', 'refugee', 'crisis', 'united', 'state', 'seemed', 'like', 'people', 'loudest', 'voice', 'xenophobic', 'unamerican', 'saidsarandon', 'actor', 'visited', 'greek', 'island', 'assist', 'international', 'aid', 'effort', 'refugee', 'homeland', 'star', 'mandy', 'patinkin', 'recently', 'spent', 'time', 'assisting', 'international', 'rescue', 'committee', 'wrapping', 'production', 'fifth', 'season', 'hit', 'showtime', 'drama', 'via', 'breitbart', 'news']"
        ],
        [
         "1",
         " Elijah Cummings Called Trump Out To His Face And Here’s The Pathetic Way Trump Tried To Spin It",
         "Buried in Trump s bonkers interview with New York Times reporters Maggie Haberman and Glenn Thrush is this outrageous exchange Trump claims happened recently:TRUMP: [U.S. Representative] Elijah Cummings was in my office and he said,  You will go down as one of the great presidents in the history of our country. HABERMAN: Really?TRUMP: And then he went out and I watched him on television yesterday and I said,  Was that the same man? Which  would have been odd considering Cummings, a fiery Democratic congressman, has been one of Trump s most intense critics. He s very public about it. Cummings has been outspoken about Trump s disturbing connections to Russia, the GOP s botched attempts to cover those connections up, and has repeatedly demanded Trump divest himself of his numerous conflicts of interest. He hardly sounds like a person who has looked at Trump s trainwreck first three months in office and concluded that he deserves to be up on Mount Rushmore.One theory was that Trump flatly lied. Always a possibility   Trump is a pathological liar. Another, suggested by writer Jamelle Bouie, is that Trump mixed up two black men, conflating Cummings with some other guy. Another strong possibility   Trump has shown a complete lack of interest in the lives of black Americans.Fortunately, Cummings came in to provide the real answer: Trump took a criticism Cummings has made to his face and filtered it through his unchecked narcissism. Here s how Cummings describes the meeting Trump said was about praising him: During my meeting with the president and on several occasions since then, I have said repeatedly that he could be a great president if   if   he takes steps to truly represent all Americans rather than continuing on the divisive and harmful path he is currently on. Note the jab that Trump completely missed? IF Trump stops being  divisive and harmful  he could someday be a great president. So far he has not done so. Hasn t even tried. (As if to underscore how little Trump has tried to stop being divisive, in the same interview he defended Bill O Reilly for sexually harassing women at Fox News.)Unintentionally, Trump s bizarre retelling of what went down during his meeting with Cummings exemplifies the warped way Trump sees the world. A criticism turns into praise, stripping away all context in the process. It may explain, for example, why Trump seems to genuinely believe he saw Muslim Americans celebrating on 9/11. His ego filters everything, facts get distorted and retooled for his own agenda.The fact that we have a president who does not seem to understand the difference between reality and the fantasy world that exists in his head is a recipe for disaster. If meetings with a congressman get this distorted, what other delusions is Trump living in?Featured image via Win McNamee/Getty Images",
         "April 6, 2017",
         "Fake News",
         "['buried', 'trump', 'bonkers', 'interview', 'new', 'york', 'time', 'reporter', 'maggie', 'haberman', 'glenn', 'thrush', 'outrageous', 'exchange', 'trump', 'claim', 'happened', 'recentlytrump', 'u', 'representative', 'elijah', 'cummings', 'office', 'said', 'go', 'one', 'great', 'president', 'history', 'country', 'haberman', 'reallytrump', 'went', 'watched', 'television', 'yesterday', 'said', 'man', 'would', 'odd', 'considering', 'cummings', 'fiery', 'democratic', 'congressman', 'one', 'trump', 'intense', 'critic', 'public', 'cummings', 'outspoken', 'trump', 'disturbing', 'connection', 'russia', 'gop', 'botched', 'attempt', 'cover', 'connection', 'repeatedly', 'demanded', 'trump', 'divest', 'numerous', 'conflict', 'interest', 'hardly', 'sound', 'like', 'person', 'looked', 'trump', 'trainwreck', 'first', 'three', 'month', 'office', 'concluded', 'deserves', 'mount', 'rushmoreone', 'theory', 'trump', 'flatly', 'lied', 'always', 'possibility', 'trump', 'pathological', 'liar', 'another', 'suggested', 'writer', 'jamelle', 'bouie', 'trump', 'mixed', 'two', 'black', 'men', 'conflating', 'cummings', 'guy', 'another', 'strong', 'possibility', 'trump', 'shown', 'complete', 'lack', 'interest', 'life', 'black', 'americansfortunately', 'cummings', 'came', 'provide', 'real', 'answer', 'trump', 'took', 'criticism', 'cummings', 'made', 'face', 'filtered', 'unchecked', 'narcissism', 'cummings', 'describes', 'meeting', 'trump', 'said', 'praising', 'meeting', 'president', 'several', 'occasion', 'since', 'said', 'repeatedly', 'could', 'great', 'president', 'take', 'step', 'truly', 'represent', 'american', 'rather', 'continuing', 'divisive', 'harmful', 'path', 'currently', 'note', 'jab', 'trump', 'completely', 'missed', 'trump', 'stop', 'divisive', 'harmful', 'could', 'someday', 'great', 'president', 'far', 'done', 'even', 'tried', 'underscore', 'little', 'trump', 'tried', 'stop', 'divisive', 'interview', 'defended', 'bill', 'reilly', 'sexually', 'harassing', 'woman', 'fox', 'newsunintentionally', 'trump', 'bizarre', 'retelling', 'went', 'meeting', 'cummings', 'exemplifies', 'warped', 'way', 'trump', 'see', 'world', 'criticism', 'turn', 'praise', 'stripping', 'away', 'context', 'process', 'may', 'explain', 'example', 'trump', 'seems', 'genuinely', 'believe', 'saw', 'muslim', 'american', 'celebrating', '911', 'ego', 'filter', 'everything', 'fact', 'get', 'distorted', 'retooled', 'agendathe', 'fact', 'president', 'seem', 'understand', 'difference', 'reality', 'fantasy', 'world', 'exists', 'head', 'recipe', 'disaster', 'meeting', 'congressman', 'get', 'distorted', 'delusion', 'trump', 'living', 'infeatured', 'image', 'via', 'win', 'mcnameegetty', 'image']"
        ],
        [
         "2",
         " Hillary Clinton Says Half Her Cabinet Will Be Women If Elected President",
         "Women make up over 50 percent of this country, but are grossly underrepresented in just about everything. In the United States Congress, more than 80 percent of those representing the people are men   80 percent in the Senate, 81 percent in the House.On the Supreme Court, only three of the nine Justices are women.And yes, even in the progressive Obama Administration, only 13 out of the 47 individuals who have served in his cabinet have been women   28 percent.It is no secret that Washington D.C. is still a hard place for a woman to find her voice. Even though it s been proven statistically that when women take charge of the operations and debates in D.C., stuff gets done quicker in a more bipartisan manner. Still, women aren t taken seriously.But Hillary Clinton, while shattering that glass ceiling herself, wants to shatter it in all aspects of D.C., starting with her cabinet, should she win the presidency.In an MSNBC town hall Monday night, Clinton told viewers that she intends to have her cabinet reflect the demographics of America:Well, I am going to have a Cabinet that looks like America, and 50 percent of America is women. Whether it s in a vice president or members of a Cabinet or in the White House staff, I want as broad a set of experiences that I can possibly draw together, because I m someone who likes to listen to people who come at problems from different perspectives.While Donald Trump accuses her of playing the  woman card,  Clinton is setting in motion a push to make women more equally represented in American society, something Trump would never consider.Should Clinton win, she not only is responsible for her cabinet, but also her appointments to the Supreme Court, which could produce two vacancies in the next four years.But it s this particular election that could be a driving force for women in Congress. Democrats have the opportunity to get out and elect women, from California to Maryland, from New York to Florida.If women are fifty percent of our population, then they deserve equal representation at every level, and Clinton seems to definitely be on board with making sure that happens if she were to become president.Featured image via Justin Sullivan/Getty Images",
         "April 26, 2016",
         "Fake News",
         "['woman', 'make', '50', 'percent', 'country', 'grossly', 'underrepresented', 'everything', 'united', 'state', 'congress', '80', 'percent', 'representing', 'people', 'men', '80', 'percent', 'senate', '81', 'percent', 'houseon', 'supreme', 'court', 'three', 'nine', 'justice', 'womenand', 'yes', 'even', 'progressive', 'obama', 'administration', '13', '47', 'individual', 'served', 'cabinet', 'woman', '28', 'percentit', 'secret', 'washington', 'dc', 'still', 'hard', 'place', 'woman', 'find', 'voice', 'even', 'though', 'proven', 'statistically', 'woman', 'take', 'charge', 'operation', 'debate', 'dc', 'stuff', 'get', 'done', 'quicker', 'bipartisan', 'manner', 'still', 'woman', 'taken', 'seriouslybut', 'hillary', 'clinton', 'shattering', 'glass', 'ceiling', 'want', 'shatter', 'aspect', 'dc', 'starting', 'cabinet', 'win', 'presidencyin', 'msnbc', 'town', 'hall', 'monday', 'night', 'clinton', 'told', 'viewer', 'intends', 'cabinet', 'reflect', 'demographic', 'americawell', 'going', 'cabinet', 'look', 'like', 'america', '50', 'percent', 'america', 'woman', 'whether', 'vice', 'president', 'member', 'cabinet', 'white', 'house', 'staff', 'want', 'broad', 'set', 'experience', 'possibly', 'draw', 'together', 'someone', 'like', 'listen', 'people', 'come', 'problem', 'different', 'perspectiveswhile', 'donald', 'trump', 'accuses', 'playing', 'woman', 'card', 'clinton', 'setting', 'motion', 'push', 'make', 'woman', 'equally', 'represented', 'american', 'society', 'something', 'trump', 'would', 'never', 'considershould', 'clinton', 'win', 'responsible', 'cabinet', 'also', 'appointment', 'supreme', 'court', 'could', 'produce', 'two', 'vacancy', 'next', 'four', 'yearsbut', 'particular', 'election', 'could', 'driving', 'force', 'woman', 'congress', 'democrat', 'opportunity', 'get', 'elect', 'woman', 'california', 'maryland', 'new', 'york', 'floridaif', 'woman', 'fifty', 'percent', 'population', 'deserve', 'equal', 'representation', 'every', 'level', 'clinton', 'seems', 'definitely', 'board', 'making', 'sure', 'happens', 'become', 'presidentfeatured', 'image', 'via', 'justin', 'sullivangetty', 'image']"
        ],
        [
         "3",
         "Russian bombing of U.S.-backed forces being discussed at 'highest levels': Mattis",
         "WASHINGTON (Reuters) - U.S. Defense Secretary Jim Mattis said on Monday that Russia s bombing of U.S-backed fighters in Syria was being discussed at the highest levels and while a communication link between the two countries had worked to avoid such incidents, the strike over the weekend was a departure.  When you look at the fact that this is a change, you can imagine this is at the highest levels,  Mattis told reporters. Russia s Defense Ministry on Sunday rejected the allegations, saying its planes only targeted Islamic State militants and that it had warned the United States well in advance of its operational plans. ",
         "September 18, 2017 ",
         "Factual News",
         "['u', 'defense', 'secretary', 'jim', 'mattis', 'said', 'monday', 'russia', 'bombing', 'usbacked', 'fighter', 'syria', 'discussed', 'highest', 'level', 'communication', 'link', 'two', 'country', 'worked', 'avoid', 'incident', 'strike', 'weekend', 'departure', 'look', 'fact', 'change', 'imagine', 'highest', 'level', 'mattis', 'told', 'reporter', 'russia', 'defense', 'ministry', 'sunday', 'rejected', 'allegation', 'saying', 'plane', 'targeted', 'islamic', 'state', 'militant', 'warned', 'united', 'state', 'well', 'advance', 'operational', 'plan']"
        ],
        [
         "4",
         "Britain says window to restore Northern Ireland devolution closing rapidly",
         "BELFAST (Reuters) - Northern Ireland s political parties are rapidly running out of time to restore a devolved power-sharing government, Britain s minister for the region said on Monday, as he sought to avoid a return of direct rule from London.  The window of opportunity to restore devolution and to form an executive is closing rapidly as we move further into the autumn and with pressures in public services already evident, the need for intervention is becoming increasingly clear,  James Brokenshire told a news conference.  I don t want to have to take this action, my intent is for politicians in Northern Ireland to form an executive. I m not going to pretend that this is easy as clear differences remain but it does remain achievable.   ",
         "September 4, 2017 ",
         "Factual News",
         "['northern', 'ireland', 'political', 'party', 'rapidly', 'running', 'time', 'restore', 'devolved', 'powersharing', 'government', 'britain', 'minister', 'region', 'said', 'monday', 'sought', 'avoid', 'return', 'direct', 'rule', 'london', 'window', 'opportunity', 'restore', 'devolution', 'form', 'executive', 'closing', 'rapidly', 'move', 'autumn', 'pressure', 'public', 'service', 'already', 'evident', 'need', 'intervention', 'becoming', 'increasingly', 'clear', 'james', 'brokenshire', 'told', 'news', 'conference', 'want', 'take', 'action', 'intent', 'politician', 'northern', 'ireland', 'form', 'executive', 'going', 'pretend', 'easy', 'clear', 'difference', 'remain', 'remain', 'achievable']"
        ]
       ],
       "shape": {
        "columns": 5,
        "rows": 5
       }
      },
      "text/html": [
       "<div>\n",
       "<style scoped>\n",
       "    .dataframe tbody tr th:only-of-type {\n",
       "        vertical-align: middle;\n",
       "    }\n",
       "\n",
       "    .dataframe tbody tr th {\n",
       "        vertical-align: top;\n",
       "    }\n",
       "\n",
       "    .dataframe thead th {\n",
       "        text-align: right;\n",
       "    }\n",
       "</style>\n",
       "<table border=\"1\" class=\"dataframe\">\n",
       "  <thead>\n",
       "    <tr style=\"text-align: right;\">\n",
       "      <th></th>\n",
       "      <th>title</th>\n",
       "      <th>text</th>\n",
       "      <th>date</th>\n",
       "      <th>fake_or_factual</th>\n",
       "      <th>text_clean</th>\n",
       "    </tr>\n",
       "  </thead>\n",
       "  <tbody>\n",
       "    <tr>\n",
       "      <th>0</th>\n",
       "      <td>HOLLYWEIRD LIB SUSAN SARANDON Compares Muslim ...</td>\n",
       "      <td>There are two small problems with your analogy...</td>\n",
       "      <td>Dec 30, 2015</td>\n",
       "      <td>Fake News</td>\n",
       "      <td>[yearold, oscarwinning, actress, described, me...</td>\n",
       "    </tr>\n",
       "    <tr>\n",
       "      <th>1</th>\n",
       "      <td>Elijah Cummings Called Trump Out To His Face ...</td>\n",
       "      <td>Buried in Trump s bonkers interview with New Y...</td>\n",
       "      <td>April 6, 2017</td>\n",
       "      <td>Fake News</td>\n",
       "      <td>[buried, trump, bonkers, interview, new, york,...</td>\n",
       "    </tr>\n",
       "    <tr>\n",
       "      <th>2</th>\n",
       "      <td>Hillary Clinton Says Half Her Cabinet Will Be...</td>\n",
       "      <td>Women make up over 50 percent of this country,...</td>\n",
       "      <td>April 26, 2016</td>\n",
       "      <td>Fake News</td>\n",
       "      <td>[woman, make, 50, percent, country, grossly, u...</td>\n",
       "    </tr>\n",
       "    <tr>\n",
       "      <th>3</th>\n",
       "      <td>Russian bombing of U.S.-backed forces being di...</td>\n",
       "      <td>WASHINGTON (Reuters) - U.S. Defense Secretary ...</td>\n",
       "      <td>September 18, 2017</td>\n",
       "      <td>Factual News</td>\n",
       "      <td>[u, defense, secretary, jim, mattis, said, mon...</td>\n",
       "    </tr>\n",
       "    <tr>\n",
       "      <th>4</th>\n",
       "      <td>Britain says window to restore Northern Irelan...</td>\n",
       "      <td>BELFAST (Reuters) - Northern Ireland s politic...</td>\n",
       "      <td>September 4, 2017</td>\n",
       "      <td>Factual News</td>\n",
       "      <td>[northern, ireland, political, party, rapidly,...</td>\n",
       "    </tr>\n",
       "  </tbody>\n",
       "</table>\n",
       "</div>"
      ],
      "text/plain": [
       "                                               title  \\\n",
       "0  HOLLYWEIRD LIB SUSAN SARANDON Compares Muslim ...   \n",
       "1   Elijah Cummings Called Trump Out To His Face ...   \n",
       "2   Hillary Clinton Says Half Her Cabinet Will Be...   \n",
       "3  Russian bombing of U.S.-backed forces being di...   \n",
       "4  Britain says window to restore Northern Irelan...   \n",
       "\n",
       "                                                text                 date  \\\n",
       "0  There are two small problems with your analogy...         Dec 30, 2015   \n",
       "1  Buried in Trump s bonkers interview with New Y...        April 6, 2017   \n",
       "2  Women make up over 50 percent of this country,...       April 26, 2016   \n",
       "3  WASHINGTON (Reuters) - U.S. Defense Secretary ...  September 18, 2017    \n",
       "4  BELFAST (Reuters) - Northern Ireland s politic...   September 4, 2017    \n",
       "\n",
       "  fake_or_factual                                         text_clean  \n",
       "0       Fake News  [yearold, oscarwinning, actress, described, me...  \n",
       "1       Fake News  [buried, trump, bonkers, interview, new, york,...  \n",
       "2       Fake News  [woman, make, 50, percent, country, grossly, u...  \n",
       "3    Factual News  [u, defense, secretary, jim, mattis, said, mon...  \n",
       "4    Factual News  [northern, ireland, political, party, rapidly,...  "
      ]
     },
     "execution_count": 33,
     "metadata": {},
     "output_type": "execute_result"
    }
   ],
   "source": [
    "data.head()"
   ]
  },
  {
   "cell_type": "code",
   "execution_count": 34,
   "metadata": {},
   "outputs": [
    {
     "name": "stdout",
     "output_type": "stream",
     "text": [
      "           index  count\n",
      "0        (said,)    560\n",
      "1       (trump,)    520\n",
      "2           (u,)    255\n",
      "3       (state,)    250\n",
      "4   (president,)    226\n",
      "5       (would,)    210\n",
      "6         (one,)    141\n",
      "7        (year,)    128\n",
      "8  (republican,)    128\n",
      "9        (also,)    124\n"
     ]
    }
   ],
   "source": [
    "# most common unigrams after preprocessing\n",
    "tokens_clean = sum(data['text_clean'], [])\n",
    "unigrams = (pd.Series(nltk.ngrams(tokens_clean, 1)).value_counts()).reset_index()[:10]\n",
    "print(unigrams)"
   ]
  },
  {
   "cell_type": "code",
   "execution_count": 35,
   "metadata": {},
   "outputs": [
    {
     "name": "stderr",
     "output_type": "stream",
     "text": [
      "C:\\Users\\Eda AYDIN\\AppData\\Local\\Temp\\ipykernel_1868\\4019870307.py:3: UserWarning: \n",
      "The palette list has fewer values (1) than needed (10) and will cycle, which may produce an uninterpretable plot.\n",
      "  sns.barplot(x = \"count\",\n"
     ]
    },
    {
     "data": {
      "text/plain": [
       "[Text(0.5, 1.0, 'Most Common Unigrams After Preprocessing')]"
      ]
     },
     "execution_count": 35,
     "metadata": {},
     "output_type": "execute_result"
    },
    {
     "data": {
      "image/png": "[encoded data removed]",
      "text/plain": [
       "<Figure size 1200x800 with 1 Axes>"
      ]
     },
     "metadata": {},
     "output_type": "display_data"
    }
   ],
   "source": [
    "unigrams['token'] = unigrams['index'].apply(lambda x: x[0]) # extract the token from the tuple so we can plot it\n",
    "\n",
    "sns.barplot(x = \"count\", \n",
    "            y = \"token\", \n",
    "            data=unigrams,\n",
    "            orient = 'h',\n",
    "            palette=[default_plot_colour],\n",
    "            hue = \"token\", legend = False)\\\n",
    ".set(title='Most Common Unigrams After Preprocessing')"
   ]
  },
  {
   "cell_type": "code",
   "execution_count": 36,
   "metadata": {},
   "outputs": [
    {
     "name": "stdout",
     "output_type": "stream",
     "text": [
      "(donald, trump)        92\n",
      "(united, state)        80\n",
      "(white, house)         72\n",
      "(president, donald)    42\n",
      "(hillary, clinton)     31\n",
      "(new, york)            31\n",
      "(image, via)           29\n",
      "(supreme, court)       29\n",
      "(official, said)       26\n",
      "(food, stamp)          24\n",
      "Name: count, dtype: int64\n"
     ]
    }
   ],
   "source": [
    "# most common bigrams after preprocessing\n",
    "bigrams = (pd.Series(nltk.ngrams(tokens_clean, 2)).value_counts()) \n",
    "print(bigrams[:10])"
   ]
  },
  {
   "cell_type": "markdown",
   "metadata": {},
   "source": [
    "## Sentiment Analysis"
   ]
  },
  {
   "cell_type": "code",
   "execution_count": 37,
   "metadata": {},
   "outputs": [],
   "source": [
    "# use vader so we also get a neutral sentiment count\n",
    "vader_sentiment = SentimentIntensityAnalyzer()"
   ]
  },
  {
   "cell_type": "code",
   "execution_count": 38,
   "metadata": {},
   "outputs": [],
   "source": [
    "data['vader_sentiment_score'] = data['text'].apply(lambda review: vader_sentiment.polarity_scores(review)['compound'])"
   ]
  },
  {
   "cell_type": "code",
   "execution_count": 39,
   "metadata": {},
   "outputs": [],
   "source": [
    "# create labels\n",
    "bins = [-1, -0.1, 0.1, 1]\n",
    "names = ['negative', 'neutral', 'positive']\n",
    "\n",
    "data['vader_sentiment_label'] = pd.cut(data['vader_sentiment_score'], bins, labels=names)"
   ]
  },
  {
   "cell_type": "code",
   "execution_count": 40,
   "metadata": {},
   "outputs": [
    {
     "data": {
      "text/plain": [
       "<Axes: xlabel='vader_sentiment_label'>"
      ]
     },
     "execution_count": 40,
     "metadata": {},
     "output_type": "execute_result"
    },
    {
     "data": {
      "image/png": "[encoded data removed]",
      "text/plain": [
       "<Figure size 1200x800 with 1 Axes>"
      ]
     },
     "metadata": {},
     "output_type": "display_data"
    }
   ],
   "source": [
    "data['vader_sentiment_label'].value_counts().plot.bar(color=default_plot_colour)"
   ]
  },
  {
   "cell_type": "code",
   "execution_count": 41,
   "metadata": {},
   "outputs": [
    {
     "name": "stderr",
     "output_type": "stream",
     "text": [
      "C:\\Users\\Eda AYDIN\\AppData\\Local\\Temp\\ipykernel_1868\\3014756626.py:1: UserWarning: The palette list has more values (6) than needed (3), which may not be intended.\n",
      "  sns.countplot(\n"
     ]
    },
    {
     "data": {
      "text/plain": [
       "[Text(0.5, 1.0, 'Sentiment by News Type')]"
      ]
     },
     "execution_count": 41,
     "metadata": {},
     "output_type": "execute_result"
    },
    {
     "data": {
      "image/png": "[encoded data removed]",
      "text/plain": [
       "<Figure size 1200x800 with 1 Axes>"
      ]
     },
     "metadata": {},
     "output_type": "display_data"
    }
   ],
   "source": [
    "sns.countplot(\n",
    "    x = 'fake_or_factual',\n",
    "    hue = 'vader_sentiment_label',\n",
    "    palette = sns.color_palette(\"hls\"),\n",
    "    data = data\n",
    ") \\\n",
    ".set(title='Sentiment by News Type')"
   ]
  },
  {
   "cell_type": "markdown",
   "metadata": {},
   "source": [
    "## LDA"
   ]
  },
  {
   "cell_type": "code",
   "execution_count": 42,
   "metadata": {},
   "outputs": [],
   "source": [
    "# fake news data vectorization\n",
    "fake_news_text = data[data['fake_or_factual'] == \"Fake News\"]['text_clean'].reset_index(drop=True)\n",
    "dictionary_fake = corpora.Dictionary(fake_news_text)\n",
    "doc_term_fake = [dictionary_fake.doc2bow(text) for text in fake_news_text]"
   ]
  },
  {
   "cell_type": "code",
   "execution_count": 43,
   "metadata": {},
   "outputs": [],
   "source": [
    "# generate coherence scores to determine an optimum number of topics\n",
    "coherence_values = []\n",
    "model_list = []\n",
    "\n",
    "min_topics = 2\n",
    "max_topics = 11\n",
    "\n",
    "for num_topics_i in range(min_topics, max_topics+1):\n",
    "    model = gensim.models.LdaModel(doc_term_fake, num_topics=num_topics_i, id2word = dictionary_fake)\n",
    "    model_list.append(model)\n",
    "    coherence_model = CoherenceModel(model=model, texts=fake_news_text, dictionary=dictionary_fake, coherence='c_v')\n",
    "    coherence_values.append(coherence_model.get_coherence())"
   ]
  },
  {
   "cell_type": "code",
   "execution_count": 44,
   "metadata": {},
   "outputs": [
    {
     "data": {
      "image/png": "[encoded data removed]",
      "text/plain": [
       "<Figure size 1200x800 with 1 Axes>"
      ]
     },
     "metadata": {},
     "output_type": "display_data"
    }
   ],
   "source": [
    "  \n",
    "plt.plot(range(min_topics, max_topics+1), coherence_values)\n",
    "plt.xlabel(\"Number of Topics\")\n",
    "plt.ylabel(\"Coherence score\")\n",
    "plt.legend((\"coherence_values\"), loc='best')\n",
    "plt.show()"
   ]
  },
  {
   "cell_type": "code",
   "execution_count": 45,
   "metadata": {},
   "outputs": [
    {
     "data": {
      "text/plain": [
       "[(0,\n",
       "  '0.008*\"trump\" + 0.007*\"clinton\" + 0.003*\"said\" + 0.003*\"president\" + 0.003*\"u\" + 0.003*\"woman\" + 0.003*\"time\" + 0.003*\"year\" + 0.003*\"one\" + 0.003*\"people\"'),\n",
       " (1,\n",
       "  '0.011*\"trump\" + 0.005*\"people\" + 0.004*\"said\" + 0.004*\"would\" + 0.004*\"state\" + 0.004*\"also\" + 0.003*\"new\" + 0.003*\"woman\" + 0.003*\"say\" + 0.003*\"one\"'),\n",
       " (2,\n",
       "  '0.006*\"trump\" + 0.006*\"state\" + 0.005*\"said\" + 0.004*\"president\" + 0.003*\"obama\" + 0.003*\"u\" + 0.003*\"time\" + 0.003*\"also\" + 0.003*\"republican\" + 0.003*\"would\"'),\n",
       " (3,\n",
       "  '0.007*\"trump\" + 0.004*\"u\" + 0.004*\"would\" + 0.004*\"one\" + 0.004*\"state\" + 0.003*\"mccain\" + 0.003*\"president\" + 0.003*\"clinton\" + 0.003*\"syria\" + 0.003*\"image\"'),\n",
       " (4,\n",
       "  '0.019*\"trump\" + 0.006*\"said\" + 0.005*\"clinton\" + 0.005*\"president\" + 0.005*\"republican\" + 0.004*\"woman\" + 0.004*\"one\" + 0.004*\"time\" + 0.004*\"state\" + 0.004*\"would\"'),\n",
       " (5,\n",
       "  '0.007*\"trump\" + 0.005*\"said\" + 0.005*\"president\" + 0.005*\"would\" + 0.004*\"time\" + 0.004*\"u\" + 0.003*\"year\" + 0.003*\"one\" + 0.003*\"republican\" + 0.003*\"state\"')]"
      ]
     },
     "execution_count": 45,
     "metadata": {},
     "output_type": "execute_result"
    }
   ],
   "source": [
    "# create lda model\n",
    "num_topics_fake = 6 \n",
    "\n",
    "lda_model_fake = gensim.models.LdaModel(corpus=doc_term_fake,\n",
    "                                       id2word=dictionary_fake,\n",
    "                                       num_topics=num_topics_fake)\n",
    "\n",
    "lda_model_fake.print_topics(num_topics=num_topics_fake, num_words=10)"
   ]
  },
  {
   "cell_type": "markdown",
   "metadata": {},
   "source": [
    "## TF-IDF & LSA"
   ]
  },
  {
   "cell_type": "code",
   "execution_count": 46,
   "metadata": {},
   "outputs": [],
   "source": [
    "def tfidf_corpus(doc_term_matrix):\n",
    "    # create a corpus using tfidf vecotization\n",
    "    tfidf = TfidfModel(corpus=doc_term_matrix, normalize=True)\n",
    "    corpus_tfidf = tfidf[doc_term_matrix]\n",
    "    return corpus_tfidf"
   ]
  },
  {
   "cell_type": "code",
   "execution_count": 47,
   "metadata": {},
   "outputs": [],
   "source": [
    "def get_coherence_scores(corpus, dictionary, text, min_topics, max_topics):\n",
    "    # generate coherence scores to determine an optimum number of topics\n",
    "    coherence_values = []\n",
    "    model_list = []\n",
    "    for num_topics_i in range(min_topics, max_topics+1):\n",
    "        model = LsiModel(corpus, num_topics=num_topics_i, id2word = dictionary, random_seed=0)\n",
    "        model_list.append(model)\n",
    "        coherence_model = CoherenceModel(model=model, texts=text, dictionary=dictionary, coherence='c_v')\n",
    "        coherence_values.append(coherence_model.get_coherence())\n",
    "    # plot results\n",
    "    plt.plot(range(min_topics, max_topics+1), coherence_values)\n",
    "    plt.xlabel(\"Number of Topics\")\n",
    "    plt.ylabel(\"Coherence score\")\n",
    "    plt.legend((\"coherence_values\"), loc='best')\n",
    "    plt.show()"
   ]
  },
  {
   "cell_type": "code",
   "execution_count": 48,
   "metadata": {},
   "outputs": [
    {
     "data": {
      "image/png": "[encoded data removed]",
      "text/plain": [
       "<Figure size 1200x800 with 1 Axes>"
      ]
     },
     "metadata": {},
     "output_type": "display_data"
    }
   ],
   "source": [
    "# create tfidf representation\n",
    "corpus_tfidf_fake = tfidf_corpus(doc_term_fake)\n",
    "# coherence scores for fake news data\n",
    "get_coherence_scores(corpus_tfidf_fake, dictionary_fake, fake_news_text, min_topics=2, max_topics=11)"
   ]
  },
  {
   "cell_type": "code",
   "execution_count": 49,
   "metadata": {},
   "outputs": [
    {
     "data": {
      "text/plain": [
       "[(0,\n",
       "  '0.218*\"trump\" + 0.135*\"clinton\" + 0.094*\"woman\" + 0.087*\"president\" + 0.086*\"republican\" + 0.085*\"obama\" + 0.084*\"party\" + 0.083*\"school\" + 0.081*\"said\" + 0.079*\"time\"'),\n",
       " (1,\n",
       "  '-0.299*\"boiler\" + -0.253*\"room\" + -0.250*\"acr\" + -0.186*\"jay\" + -0.185*\"animal\" + -0.176*\"episode\" + -0.147*\"analysis\" + -0.122*\"dyer\" + -0.119*\"mediamaniacs\" + -0.119*\"misguided\"'),\n",
       " (2,\n",
       "  '0.219*\"school\" + -0.195*\"clinton\" + -0.163*\"conference\" + 0.151*\"county\" + 0.137*\"student\" + -0.120*\"press\" + -0.116*\"trump\" + -0.112*\"hillary\" + 0.101*\"love\" + -0.095*\"email\"'),\n",
       " (3,\n",
       "  '-0.375*\"flynn\" + -0.151*\"russian\" + -0.111*\"email\" + -0.109*\"30\" + -0.101*\"department\" + -0.100*\"information\" + -0.100*\"nana\" + -0.099*\"official\" + -0.098*\"mccain\" + 0.096*\"trump\"'),\n",
       " (4,\n",
       "  '-0.235*\"trump\" + -0.223*\"flynn\" + -0.166*\"conference\" + 0.165*\"clinton\" + 0.153*\"dnc\" + 0.151*\"sander\" + 0.127*\"email\" + -0.111*\"press\" + 0.109*\"rich\" + -0.084*\"tax\"')]"
      ]
     },
     "execution_count": 49,
     "metadata": {},
     "output_type": "execute_result"
    }
   ],
   "source": [
    "# model for fake news data\n",
    "lsa_fake = LsiModel(corpus_tfidf_fake, id2word=dictionary_fake, num_topics=5)\n",
    "lsa_fake.print_topics()"
   ]
  },
  {
   "cell_type": "markdown",
   "metadata": {},
   "source": [
    "## Predict fake or factual news "
   ]
  },
  {
   "cell_type": "code",
   "execution_count": 50,
   "metadata": {},
   "outputs": [
    {
     "data": {
      "application/vnd.microsoft.datawrangler.viewer.v0+json": {
       "columns": [
        {
         "name": "index",
         "rawType": "int64",
         "type": "integer"
        },
        {
         "name": "title",
         "rawType": "object",
         "type": "string"
        },
        {
         "name": "text",
         "rawType": "object",
         "type": "string"
        },
        {
         "name": "date",
         "rawType": "object",
         "type": "string"
        },
        {
         "name": "fake_or_factual",
         "rawType": "object",
         "type": "string"
        },
        {
         "name": "text_clean",
         "rawType": "object",
         "type": "unknown"
        },
        {
         "name": "vader_sentiment_score",
         "rawType": "float64",
         "type": "float"
        },
        {
         "name": "vader_sentiment_label",
         "rawType": "category",
         "type": "unknown"
        }
       ],
       "conversionMethod": "pd.DataFrame",
       "ref": "ad00ed96-ae69-4d78-b397-0de7dc4144c2",
       "rows": [
        [
         "0",
         "HOLLYWEIRD LIB SUSAN SARANDON Compares Muslim Refugees To Jesus’ Family",
         "There are two small problems with your analogy Susan  Jesus was NOT a Muslim and Joseph traveled to Bethlehem with Mary. For anyone who s not paying attention there don t appear to be many female refugees accompanying male Muslim  refugees  to Greece.Susan Sarandon spent the Christmas holiday on the Greek island of Lesbos assisting international organizations with the mounting Syrian refugee crisis   a crisis, she says, that recalls the travails of Joseph and Mary on their way to the Inn in Bethlehem.In a column for the Huffington Post and RYOT, the 69-year-old Oscar-winning actress described meeting a 16-year-old girl who had apparently given birth shortly before arriving on the island. I smile and approach her, but without a translator, our conversation is basic-friendly,  Sarandon wrote of her experience.  She takes the bundle next to her and opens it to me. Inside is a perfect, rosy, newborn. The actress continues:She is beaming, so proud. How did this young girl, just having given birth, manage that trip at sea? How did she do all that walking? Where did she give birth?Wasn t Mary just a kid too when she and Joseph took to the road? So far, there is no manger for this Syrian baby, no room at the inn.Sarandon s short column is part of a new collaborative series with the Huffington Post and the  virtual reality  network RYOT called The Crossing, which will see the actress host a series of reports  chronicling the refugee crisis as it unfolds in Greece. The actress also criticized the political discourse surrounding the refugee crisis in the United States:  It seemed like people who had the loudest voices were the most xenophobic and un-American,  she said.Sarandon isn t the only actor to have visited the Greek island to assist international aid efforts for refugees; Homeland star Mandy Patinkin recently spent time there assisting the International Rescue Committee after wrapping production on the fifth season of the hit Showtime drama. Via: Breitbart News",
         "Dec 30, 2015",
         "Fake News",
         "['yearold', 'oscarwinning', 'actress', 'described', 'meeting', '16yearold', 'girl', 'apparently', 'given', 'birth', 'shortly', 'arriving', 'island', 'smile', 'approach', 'without', 'translator', 'conversation', 'basicfriendly', 'sarandon', 'wrote', 'experience', 'take', 'bundle', 'next', 'open', 'inside', 'perfect', 'rosy', 'newborn', 'actress', 'continuesshe', 'beaming', 'proud', 'young', 'girl', 'given', 'birth', 'manage', 'trip', 'sea', 'walking', 'give', 'birthwasn', 'mary', 'kid', 'joseph', 'took', 'road', 'far', 'manger', 'syrian', 'baby', 'room', 'innsarandon', 'short', 'column', 'part', 'new', 'collaborative', 'series', 'huffington', 'post', 'virtual', 'reality', 'network', 'ryot', 'called', 'crossing', 'see', 'actress', 'host', 'series', 'report', 'chronicling', 'refugee', 'crisis', 'unfolds', 'greece', 'actress', 'also', 'criticized', 'political', 'discourse', 'surrounding', 'refugee', 'crisis', 'united', 'state', 'seemed', 'like', 'people', 'loudest', 'voice', 'xenophobic', 'unamerican', 'saidsarandon', 'actor', 'visited', 'greek', 'island', 'assist', 'international', 'aid', 'effort', 'refugee', 'homeland', 'star', 'mandy', 'patinkin', 'recently', 'spent', 'time', 'assisting', 'international', 'rescue', 'committee', 'wrapping', 'production', 'fifth', 'season', 'hit', 'showtime', 'drama', 'via', 'breitbart', 'news']",
         "-0.366",
         "negative"
        ],
        [
         "1",
         " Elijah Cummings Called Trump Out To His Face And Here’s The Pathetic Way Trump Tried To Spin It",
         "Buried in Trump s bonkers interview with New York Times reporters Maggie Haberman and Glenn Thrush is this outrageous exchange Trump claims happened recently:TRUMP: [U.S. Representative] Elijah Cummings was in my office and he said,  You will go down as one of the great presidents in the history of our country. HABERMAN: Really?TRUMP: And then he went out and I watched him on television yesterday and I said,  Was that the same man? Which  would have been odd considering Cummings, a fiery Democratic congressman, has been one of Trump s most intense critics. He s very public about it. Cummings has been outspoken about Trump s disturbing connections to Russia, the GOP s botched attempts to cover those connections up, and has repeatedly demanded Trump divest himself of his numerous conflicts of interest. He hardly sounds like a person who has looked at Trump s trainwreck first three months in office and concluded that he deserves to be up on Mount Rushmore.One theory was that Trump flatly lied. Always a possibility   Trump is a pathological liar. Another, suggested by writer Jamelle Bouie, is that Trump mixed up two black men, conflating Cummings with some other guy. Another strong possibility   Trump has shown a complete lack of interest in the lives of black Americans.Fortunately, Cummings came in to provide the real answer: Trump took a criticism Cummings has made to his face and filtered it through his unchecked narcissism. Here s how Cummings describes the meeting Trump said was about praising him: During my meeting with the president and on several occasions since then, I have said repeatedly that he could be a great president if   if   he takes steps to truly represent all Americans rather than continuing on the divisive and harmful path he is currently on. Note the jab that Trump completely missed? IF Trump stops being  divisive and harmful  he could someday be a great president. So far he has not done so. Hasn t even tried. (As if to underscore how little Trump has tried to stop being divisive, in the same interview he defended Bill O Reilly for sexually harassing women at Fox News.)Unintentionally, Trump s bizarre retelling of what went down during his meeting with Cummings exemplifies the warped way Trump sees the world. A criticism turns into praise, stripping away all context in the process. It may explain, for example, why Trump seems to genuinely believe he saw Muslim Americans celebrating on 9/11. His ego filters everything, facts get distorted and retooled for his own agenda.The fact that we have a president who does not seem to understand the difference between reality and the fantasy world that exists in his head is a recipe for disaster. If meetings with a congressman get this distorted, what other delusions is Trump living in?Featured image via Win McNamee/Getty Images",
         "April 6, 2017",
         "Fake News",
         "['buried', 'trump', 'bonkers', 'interview', 'new', 'york', 'time', 'reporter', 'maggie', 'haberman', 'glenn', 'thrush', 'outrageous', 'exchange', 'trump', 'claim', 'happened', 'recentlytrump', 'u', 'representative', 'elijah', 'cummings', 'office', 'said', 'go', 'one', 'great', 'president', 'history', 'country', 'haberman', 'reallytrump', 'went', 'watched', 'television', 'yesterday', 'said', 'man', 'would', 'odd', 'considering', 'cummings', 'fiery', 'democratic', 'congressman', 'one', 'trump', 'intense', 'critic', 'public', 'cummings', 'outspoken', 'trump', 'disturbing', 'connection', 'russia', 'gop', 'botched', 'attempt', 'cover', 'connection', 'repeatedly', 'demanded', 'trump', 'divest', 'numerous', 'conflict', 'interest', 'hardly', 'sound', 'like', 'person', 'looked', 'trump', 'trainwreck', 'first', 'three', 'month', 'office', 'concluded', 'deserves', 'mount', 'rushmoreone', 'theory', 'trump', 'flatly', 'lied', 'always', 'possibility', 'trump', 'pathological', 'liar', 'another', 'suggested', 'writer', 'jamelle', 'bouie', 'trump', 'mixed', 'two', 'black', 'men', 'conflating', 'cummings', 'guy', 'another', 'strong', 'possibility', 'trump', 'shown', 'complete', 'lack', 'interest', 'life', 'black', 'americansfortunately', 'cummings', 'came', 'provide', 'real', 'answer', 'trump', 'took', 'criticism', 'cummings', 'made', 'face', 'filtered', 'unchecked', 'narcissism', 'cummings', 'describes', 'meeting', 'trump', 'said', 'praising', 'meeting', 'president', 'several', 'occasion', 'since', 'said', 'repeatedly', 'could', 'great', 'president', 'take', 'step', 'truly', 'represent', 'american', 'rather', 'continuing', 'divisive', 'harmful', 'path', 'currently', 'note', 'jab', 'trump', 'completely', 'missed', 'trump', 'stop', 'divisive', 'harmful', 'could', 'someday', 'great', 'president', 'far', 'done', 'even', 'tried', 'underscore', 'little', 'trump', 'tried', 'stop', 'divisive', 'interview', 'defended', 'bill', 'reilly', 'sexually', 'harassing', 'woman', 'fox', 'newsunintentionally', 'trump', 'bizarre', 'retelling', 'went', 'meeting', 'cummings', 'exemplifies', 'warped', 'way', 'trump', 'see', 'world', 'criticism', 'turn', 'praise', 'stripping', 'away', 'context', 'process', 'may', 'explain', 'example', 'trump', 'seems', 'genuinely', 'believe', 'saw', 'muslim', 'american', 'celebrating', '911', 'ego', 'filter', 'everything', 'fact', 'get', 'distorted', 'retooled', 'agendathe', 'fact', 'president', 'seem', 'understand', 'difference', 'reality', 'fantasy', 'world', 'exists', 'head', 'recipe', 'disaster', 'meeting', 'congressman', 'get', 'distorted', 'delusion', 'trump', 'living', 'infeatured', 'image', 'via', 'win', 'mcnameegetty', 'image']",
         "-0.8197",
         "negative"
        ],
        [
         "2",
         " Hillary Clinton Says Half Her Cabinet Will Be Women If Elected President",
         "Women make up over 50 percent of this country, but are grossly underrepresented in just about everything. In the United States Congress, more than 80 percent of those representing the people are men   80 percent in the Senate, 81 percent in the House.On the Supreme Court, only three of the nine Justices are women.And yes, even in the progressive Obama Administration, only 13 out of the 47 individuals who have served in his cabinet have been women   28 percent.It is no secret that Washington D.C. is still a hard place for a woman to find her voice. Even though it s been proven statistically that when women take charge of the operations and debates in D.C., stuff gets done quicker in a more bipartisan manner. Still, women aren t taken seriously.But Hillary Clinton, while shattering that glass ceiling herself, wants to shatter it in all aspects of D.C., starting with her cabinet, should she win the presidency.In an MSNBC town hall Monday night, Clinton told viewers that she intends to have her cabinet reflect the demographics of America:Well, I am going to have a Cabinet that looks like America, and 50 percent of America is women. Whether it s in a vice president or members of a Cabinet or in the White House staff, I want as broad a set of experiences that I can possibly draw together, because I m someone who likes to listen to people who come at problems from different perspectives.While Donald Trump accuses her of playing the  woman card,  Clinton is setting in motion a push to make women more equally represented in American society, something Trump would never consider.Should Clinton win, she not only is responsible for her cabinet, but also her appointments to the Supreme Court, which could produce two vacancies in the next four years.But it s this particular election that could be a driving force for women in Congress. Democrats have the opportunity to get out and elect women, from California to Maryland, from New York to Florida.If women are fifty percent of our population, then they deserve equal representation at every level, and Clinton seems to definitely be on board with making sure that happens if she were to become president.Featured image via Justin Sullivan/Getty Images",
         "April 26, 2016",
         "Fake News",
         "['woman', 'make', '50', 'percent', 'country', 'grossly', 'underrepresented', 'everything', 'united', 'state', 'congress', '80', 'percent', 'representing', 'people', 'men', '80', 'percent', 'senate', '81', 'percent', 'houseon', 'supreme', 'court', 'three', 'nine', 'justice', 'womenand', 'yes', 'even', 'progressive', 'obama', 'administration', '13', '47', 'individual', 'served', 'cabinet', 'woman', '28', 'percentit', 'secret', 'washington', 'dc', 'still', 'hard', 'place', 'woman', 'find', 'voice', 'even', 'though', 'proven', 'statistically', 'woman', 'take', 'charge', 'operation', 'debate', 'dc', 'stuff', 'get', 'done', 'quicker', 'bipartisan', 'manner', 'still', 'woman', 'taken', 'seriouslybut', 'hillary', 'clinton', 'shattering', 'glass', 'ceiling', 'want', 'shatter', 'aspect', 'dc', 'starting', 'cabinet', 'win', 'presidencyin', 'msnbc', 'town', 'hall', 'monday', 'night', 'clinton', 'told', 'viewer', 'intends', 'cabinet', 'reflect', 'demographic', 'americawell', 'going', 'cabinet', 'look', 'like', 'america', '50', 'percent', 'america', 'woman', 'whether', 'vice', 'president', 'member', 'cabinet', 'white', 'house', 'staff', 'want', 'broad', 'set', 'experience', 'possibly', 'draw', 'together', 'someone', 'like', 'listen', 'people', 'come', 'problem', 'different', 'perspectiveswhile', 'donald', 'trump', 'accuses', 'playing', 'woman', 'card', 'clinton', 'setting', 'motion', 'push', 'make', 'woman', 'equally', 'represented', 'american', 'society', 'something', 'trump', 'would', 'never', 'considershould', 'clinton', 'win', 'responsible', 'cabinet', 'also', 'appointment', 'supreme', 'court', 'could', 'produce', 'two', 'vacancy', 'next', 'four', 'yearsbut', 'particular', 'election', 'could', 'driving', 'force', 'woman', 'congress', 'democrat', 'opportunity', 'get', 'elect', 'woman', 'california', 'maryland', 'new', 'york', 'floridaif', 'woman', 'fifty', 'percent', 'population', 'deserve', 'equal', 'representation', 'every', 'level', 'clinton', 'seems', 'definitely', 'board', 'making', 'sure', 'happens', 'become', 'presidentfeatured', 'image', 'via', 'justin', 'sullivangetty', 'image']",
         "0.9779",
         "positive"
        ],
        [
         "3",
         "Russian bombing of U.S.-backed forces being discussed at 'highest levels': Mattis",
         "WASHINGTON (Reuters) - U.S. Defense Secretary Jim Mattis said on Monday that Russia s bombing of U.S-backed fighters in Syria was being discussed at the highest levels and while a communication link between the two countries had worked to avoid such incidents, the strike over the weekend was a departure.  When you look at the fact that this is a change, you can imagine this is at the highest levels,  Mattis told reporters. Russia s Defense Ministry on Sunday rejected the allegations, saying its planes only targeted Islamic State militants and that it had warned the United States well in advance of its operational plans. ",
         "September 18, 2017 ",
         "Factual News",
         "['u', 'defense', 'secretary', 'jim', 'mattis', 'said', 'monday', 'russia', 'bombing', 'usbacked', 'fighter', 'syria', 'discussed', 'highest', 'level', 'communication', 'link', 'two', 'country', 'worked', 'avoid', 'incident', 'strike', 'weekend', 'departure', 'look', 'fact', 'change', 'imagine', 'highest', 'level', 'mattis', 'told', 'reporter', 'russia', 'defense', 'ministry', 'sunday', 'rejected', 'allegation', 'saying', 'plane', 'targeted', 'islamic', 'state', 'militant', 'warned', 'united', 'state', 'well', 'advance', 'operational', 'plan']",
         "-0.34",
         "negative"
        ],
        [
         "4",
         "Britain says window to restore Northern Ireland devolution closing rapidly",
         "BELFAST (Reuters) - Northern Ireland s political parties are rapidly running out of time to restore a devolved power-sharing government, Britain s minister for the region said on Monday, as he sought to avoid a return of direct rule from London.  The window of opportunity to restore devolution and to form an executive is closing rapidly as we move further into the autumn and with pressures in public services already evident, the need for intervention is becoming increasingly clear,  James Brokenshire told a news conference.  I don t want to have to take this action, my intent is for politicians in Northern Ireland to form an executive. I m not going to pretend that this is easy as clear differences remain but it does remain achievable.   ",
         "September 4, 2017 ",
         "Factual News",
         "['northern', 'ireland', 'political', 'party', 'rapidly', 'running', 'time', 'restore', 'devolved', 'powersharing', 'government', 'britain', 'minister', 'region', 'said', 'monday', 'sought', 'avoid', 'return', 'direct', 'rule', 'london', 'window', 'opportunity', 'restore', 'devolution', 'form', 'executive', 'closing', 'rapidly', 'move', 'autumn', 'pressure', 'public', 'service', 'already', 'evident', 'need', 'intervention', 'becoming', 'increasingly', 'clear', 'james', 'brokenshire', 'told', 'news', 'conference', 'want', 'take', 'action', 'intent', 'politician', 'northern', 'ireland', 'form', 'executive', 'going', 'pretend', 'easy', 'clear', 'difference', 'remain', 'remain', 'achievable']",
         "0.859",
         "positive"
        ]
       ],
       "shape": {
        "columns": 7,
        "rows": 5
       }
      },
      "text/html": [
       "<div>\n",
       "<style scoped>\n",
       "    .dataframe tbody tr th:only-of-type {\n",
       "        vertical-align: middle;\n",
       "    }\n",
       "\n",
       "    .dataframe tbody tr th {\n",
       "        vertical-align: top;\n",
       "    }\n",
       "\n",
       "    .dataframe thead th {\n",
       "        text-align: right;\n",
       "    }\n",
       "</style>\n",
       "<table border=\"1\" class=\"dataframe\">\n",
       "  <thead>\n",
       "    <tr style=\"text-align: right;\">\n",
       "      <th></th>\n",
       "      <th>title</th>\n",
       "      <th>text</th>\n",
       "      <th>date</th>\n",
       "      <th>fake_or_factual</th>\n",
       "      <th>text_clean</th>\n",
       "      <th>vader_sentiment_score</th>\n",
       "      <th>vader_sentiment_label</th>\n",
       "    </tr>\n",
       "  </thead>\n",
       "  <tbody>\n",
       "    <tr>\n",
       "      <th>0</th>\n",
       "      <td>HOLLYWEIRD LIB SUSAN SARANDON Compares Muslim ...</td>\n",
       "      <td>There are two small problems with your analogy...</td>\n",
       "      <td>Dec 30, 2015</td>\n",
       "      <td>Fake News</td>\n",
       "      <td>[yearold, oscarwinning, actress, described, me...</td>\n",
       "      <td>-0.3660</td>\n",
       "      <td>negative</td>\n",
       "    </tr>\n",
       "    <tr>\n",
       "      <th>1</th>\n",
       "      <td>Elijah Cummings Called Trump Out To His Face ...</td>\n",
       "      <td>Buried in Trump s bonkers interview with New Y...</td>\n",
       "      <td>April 6, 2017</td>\n",
       "      <td>Fake News</td>\n",
       "      <td>[buried, trump, bonkers, interview, new, york,...</td>\n",
       "      <td>-0.8197</td>\n",
       "      <td>negative</td>\n",
       "    </tr>\n",
       "    <tr>\n",
       "      <th>2</th>\n",
       "      <td>Hillary Clinton Says Half Her Cabinet Will Be...</td>\n",
       "      <td>Women make up over 50 percent of this country,...</td>\n",
       "      <td>April 26, 2016</td>\n",
       "      <td>Fake News</td>\n",
       "      <td>[woman, make, 50, percent, country, grossly, u...</td>\n",
       "      <td>0.9779</td>\n",
       "      <td>positive</td>\n",
       "    </tr>\n",
       "    <tr>\n",
       "      <th>3</th>\n",
       "      <td>Russian bombing of U.S.-backed forces being di...</td>\n",
       "      <td>WASHINGTON (Reuters) - U.S. Defense Secretary ...</td>\n",
       "      <td>September 18, 2017</td>\n",
       "      <td>Factual News</td>\n",
       "      <td>[u, defense, secretary, jim, mattis, said, mon...</td>\n",
       "      <td>-0.3400</td>\n",
       "      <td>negative</td>\n",
       "    </tr>\n",
       "    <tr>\n",
       "      <th>4</th>\n",
       "      <td>Britain says window to restore Northern Irelan...</td>\n",
       "      <td>BELFAST (Reuters) - Northern Ireland s politic...</td>\n",
       "      <td>September 4, 2017</td>\n",
       "      <td>Factual News</td>\n",
       "      <td>[northern, ireland, political, party, rapidly,...</td>\n",
       "      <td>0.8590</td>\n",
       "      <td>positive</td>\n",
       "    </tr>\n",
       "  </tbody>\n",
       "</table>\n",
       "</div>"
      ],
      "text/plain": [
       "                                               title  \\\n",
       "0  HOLLYWEIRD LIB SUSAN SARANDON Compares Muslim ...   \n",
       "1   Elijah Cummings Called Trump Out To His Face ...   \n",
       "2   Hillary Clinton Says Half Her Cabinet Will Be...   \n",
       "3  Russian bombing of U.S.-backed forces being di...   \n",
       "4  Britain says window to restore Northern Irelan...   \n",
       "\n",
       "                                                text                 date  \\\n",
       "0  There are two small problems with your analogy...         Dec 30, 2015   \n",
       "1  Buried in Trump s bonkers interview with New Y...        April 6, 2017   \n",
       "2  Women make up over 50 percent of this country,...       April 26, 2016   \n",
       "3  WASHINGTON (Reuters) - U.S. Defense Secretary ...  September 18, 2017    \n",
       "4  BELFAST (Reuters) - Northern Ireland s politic...   September 4, 2017    \n",
       "\n",
       "  fake_or_factual                                         text_clean  \\\n",
       "0       Fake News  [yearold, oscarwinning, actress, described, me...   \n",
       "1       Fake News  [buried, trump, bonkers, interview, new, york,...   \n",
       "2       Fake News  [woman, make, 50, percent, country, grossly, u...   \n",
       "3    Factual News  [u, defense, secretary, jim, mattis, said, mon...   \n",
       "4    Factual News  [northern, ireland, political, party, rapidly,...   \n",
       "\n",
       "   vader_sentiment_score vader_sentiment_label  \n",
       "0                -0.3660              negative  \n",
       "1                -0.8197              negative  \n",
       "2                 0.9779              positive  \n",
       "3                -0.3400              negative  \n",
       "4                 0.8590              positive  "
      ]
     },
     "execution_count": 50,
     "metadata": {},
     "output_type": "execute_result"
    }
   ],
   "source": [
    "data.head()"
   ]
  },
  {
   "cell_type": "code",
   "execution_count": 51,
   "metadata": {},
   "outputs": [],
   "source": [
    "X = [','.join(map(str, l)) for l in data['text_clean']]\n",
    "Y = data['fake_or_factual']"
   ]
  },
  {
   "cell_type": "code",
   "execution_count": 52,
   "metadata": {},
   "outputs": [],
   "source": [
    "# text vectorization - CountVectorizer\n",
    "countvec = CountVectorizer()\n",
    "countvec_fit = countvec.fit_transform(X)\n",
    "bag_of_words = pd.DataFrame(countvec_fit.toarray(), columns = countvec.get_feature_names_out())"
   ]
  },
  {
   "cell_type": "code",
   "execution_count": 53,
   "metadata": {},
   "outputs": [],
   "source": [
    "# split into train and test data\n",
    "X_train, X_test, y_train, y_test = train_test_split(bag_of_words, Y, test_size=0.3)"
   ]
  },
  {
   "cell_type": "code",
   "execution_count": 54,
   "metadata": {},
   "outputs": [],
   "source": [
    "lr = LogisticRegression(random_state=0).fit(X_train, y_train)"
   ]
  },
  {
   "cell_type": "code",
   "execution_count": 55,
   "metadata": {},
   "outputs": [],
   "source": [
    "y_pred_lr = lr.predict(X_test)"
   ]
  },
  {
   "cell_type": "code",
   "execution_count": 56,
   "metadata": {},
   "outputs": [
    {
     "data": {
      "text/plain": [
       "0.8166666666666667"
      ]
     },
     "execution_count": 56,
     "metadata": {},
     "output_type": "execute_result"
    }
   ],
   "source": [
    "accuracy_score(y_pred_lr, y_test)"
   ]
  },
  {
   "cell_type": "code",
   "execution_count": 57,
   "metadata": {},
   "outputs": [
    {
     "name": "stdout",
     "output_type": "stream",
     "text": [
      "              precision    recall  f1-score   support\n",
      "\n",
      "Factual News       0.73      0.92      0.81        26\n",
      "   Fake News       0.93      0.74      0.82        34\n",
      "\n",
      "    accuracy                           0.82        60\n",
      "   macro avg       0.83      0.83      0.82        60\n",
      "weighted avg       0.84      0.82      0.82        60\n",
      "\n"
     ]
    }
   ],
   "source": [
    "print(classification_report(y_test, y_pred_lr))"
   ]
  },
  {
   "cell_type": "code",
   "execution_count": 58,
   "metadata": {},
   "outputs": [],
   "source": [
    "svm = SGDClassifier().fit(X_train, y_train)"
   ]
  },
  {
   "cell_type": "code",
   "execution_count": 59,
   "metadata": {},
   "outputs": [],
   "source": [
    "y_pred_svm = svm.predict(X_test)"
   ]
  },
  {
   "cell_type": "code",
   "execution_count": 60,
   "metadata": {},
   "outputs": [
    {
     "data": {
      "text/plain": [
       "0.8333333333333334"
      ]
     },
     "execution_count": 60,
     "metadata": {},
     "output_type": "execute_result"
    }
   ],
   "source": [
    "accuracy_score(y_pred_svm, y_test)"
   ]
  },
  {
   "cell_type": "code",
   "execution_count": 61,
   "metadata": {},
   "outputs": [
    {
     "name": "stdout",
     "output_type": "stream",
     "text": [
      "              precision    recall  f1-score   support\n",
      "\n",
      "Factual News       0.77      0.88      0.82        26\n",
      "   Fake News       0.90      0.79      0.84        34\n",
      "\n",
      "    accuracy                           0.83        60\n",
      "   macro avg       0.83      0.84      0.83        60\n",
      "weighted avg       0.84      0.83      0.83        60\n",
      "\n"
     ]
    }
   ],
   "source": [
    "print(classification_report(y_test, y_pred_svm))"
   ]
  }
 ],
 "metadata": {
  "kernelspec": {
   "display_name": "Python 3",
   "language": "python",
   "name": "python3"
  },
  "language_info": {
   "codemirror_mode": {
    "name": "ipython",
    "version": 3
   },
   "file_extension": ".py",
   "mimetype": "text/x-python",
   "name": "python",
   "nbconvert_exporter": "python",
   "pygments_lexer": "ipython3",
   "version": "3.12.6"
  }
 },
 "nbformat": 4,
 "nbformat_minor": 4
}
