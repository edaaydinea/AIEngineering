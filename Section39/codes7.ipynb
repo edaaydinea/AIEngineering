{
 "cells": [
  {
   "cell_type": "markdown",
   "id": "8ef0304d",
   "metadata": {},
   "source": [
    "# LLMChain"
   ]
  },
  {
   "cell_type": "code",
   "execution_count": 1,
   "id": "fb1da3b8",
   "metadata": {},
   "outputs": [],
   "source": [
    "from langchain_ollama import ChatOllama\n",
    "\n",
    "from langchain_core.prompts import (ChatPromptTemplate,\n",
    "                                    HumanMessagePromptTemplate, \n",
    "                                    AIMessagePromptTemplate, \n",
    "                                    FewShotChatMessagePromptTemplate)\n",
    "\n",
    "from langchain.chains.llm import LLMChain"
   ]
  },
  {
   "cell_type": "code",
   "execution_count": 2,
   "id": "13dd4d74",
   "metadata": {},
   "outputs": [],
   "source": [
    "chat = ChatOllama(model=\"llama3.2\") "
   ]
  },
  {
   "cell_type": "code",
   "execution_count": 3,
   "id": "c1b37090",
   "metadata": {},
   "outputs": [],
   "source": [
    "TEMPLATE_H = '''I've recently adopted a {pet}. \n",
    "Could you suggest some {pet} names?'''\n",
    "TEMPLATE_AI = '''{response}'''\n",
    "\n",
    "message_template_h = HumanMessagePromptTemplate.from_template(template = TEMPLATE_H)\n",
    "message_template_ai = AIMessagePromptTemplate.from_template(template = TEMPLATE_AI)"
   ]
  },
  {
   "cell_type": "code",
   "execution_count": 4,
   "id": "4fd72c7c",
   "metadata": {},
   "outputs": [],
   "source": [
    "example_template = ChatPromptTemplate.from_messages([message_template_h, \n",
    "                                                     message_template_ai])"
   ]
  },
  {
   "cell_type": "code",
   "execution_count": 5,
   "id": "ee667ded",
   "metadata": {},
   "outputs": [],
   "source": [
    "examples = [{'pet':'dog', \n",
    "             'response':'''Oh, absolutely. Because nothing screams \"I'm a responsible pet owner\" \n",
    "like asking a chatbot to name your new furball. How about \"Bark Twain\" (if it's a literary hound)? '''}, \n",
    "            \n",
    "            {'pet':'cat', \n",
    "             'response':'''Oh, absolutely. Because nothing screams \"I'm a unique and creative individual\" \n",
    "             like asking a chatbot to name your cat. How about \"Furry McFurFace\", \"Sir Meowsalot\", or \"Catastrophe\"? '''}, \n",
    "            \n",
    "            {'pet':'fish', \n",
    "             'response':\n",
    "             '''Oh, absolutely. Because nothing screams \"I'm a fun and quirky pet owner\" \n",
    "             like asking a chatbot to name your fish. How about \"Fin Diesel\", \"Gill Gates\", or \"Bubbles\"?'''}]"
   ]
  },
  {
   "cell_type": "code",
   "execution_count": 6,
   "id": "009179db",
   "metadata": {},
   "outputs": [],
   "source": [
    "few_shot_prompt = FewShotChatMessagePromptTemplate(examples = examples, \n",
    "                                                   example_prompt = example_template, \n",
    "                                                   input_variables = ['pet'])"
   ]
  },
  {
   "cell_type": "code",
   "execution_count": 7,
   "id": "230d63c2",
   "metadata": {},
   "outputs": [],
   "source": [
    "chat_template = ChatPromptTemplate.from_messages([few_shot_prompt, \n",
    "                                                  message_template_h])"
   ]
  },
  {
   "cell_type": "code",
   "execution_count": 8,
   "id": "6a290916",
   "metadata": {},
   "outputs": [
    {
     "name": "stderr",
     "output_type": "stream",
     "text": [
      "C:\\Users\\Eda AYDIN\\AppData\\Local\\Temp\\ipykernel_9308\\2633328307.py:1: LangChainDeprecationWarning: The class `LLMChain` was deprecated in LangChain 0.1.17 and will be removed in 1.0. Use :meth:`~RunnableSequence, e.g., `prompt | llm`` instead.\n",
      "  chain = LLMChain(llm = chat,\n"
     ]
    }
   ],
   "source": [
    "chain = LLMChain(llm = chat, \n",
    "                 prompt = chat_template)"
   ]
  },
  {
   "cell_type": "code",
   "execution_count": 9,
   "id": "d1229cb5",
   "metadata": {},
   "outputs": [],
   "source": [
    "response = chain.invoke({'pet':'fish'})"
   ]
  },
  {
   "cell_type": "code",
   "execution_count": 10,
   "id": "23f48c1e",
   "metadata": {},
   "outputs": [
    {
     "data": {
      "text/plain": [
       "{'pet': 'fish',\n",
       " 'text': \"Here are some fin-tastic name suggestions for your new aquatic friend:\\n\\n1. Coral\\n2. Neptune (after the sea god)\\n3. Luna (for a celestial-inspired look)\\n4. Bubbles\\n5. Finley\\n6. Goldie (if they're a goldfish)\\n7. Splash\\n8. Triton (after the sea king in mythology)\\n9. Nemo (a classic choice)\\n10. Scales\\n\\nYou could also consider names that reflect their color, like:\\n\\n* Ruby (for a red fish)\\n* Onyx (for a black fish)\\n* Pearl (for a white or cream-colored fish)\\n\\nOr, you could choose a name that suits their personality, like:\\n\\n* Ziggy (for a lively and energetic fish)\\n* Luna (for a calm and dreamy fish)\\n\\nWhatever name you choose, I'm sure your new fish will be swimming in style!\"}"
      ]
     },
     "execution_count": 10,
     "metadata": {},
     "output_type": "execute_result"
    }
   ],
   "source": [
    "response"
   ]
  }
 ],
 "metadata": {
  "kernelspec": {
   "display_name": "Python 3",
   "language": "python",
   "name": "python3"
  },
  "language_info": {
   "codemirror_mode": {
    "name": "ipython",
    "version": 3
   },
   "file_extension": ".py",
   "mimetype": "text/x-python",
   "name": "python",
   "nbconvert_exporter": "python",
   "pygments_lexer": "ipython3",
   "version": "3.12.6"
  }
 },
 "nbformat": 4,
 "nbformat_minor": 5
}
