{
 "cells": [
  {
   "cell_type": "markdown",
   "id": "8ef0304d",
   "metadata": {},
   "source": [
    "# Few-Shot Chat Message Prompt Templates"
   ]
  },
  {
   "cell_type": "code",
   "execution_count": 1,
   "id": "fb1da3b8",
   "metadata": {},
   "outputs": [],
   "source": [
    "from langchain_ollama import ChatOllama\n",
    "\n",
    "from langchain_core.prompts import (ChatPromptTemplate,\n",
    "                                    HumanMessagePromptTemplate, \n",
    "                                    AIMessagePromptTemplate, \n",
    "                                    FewShotChatMessagePromptTemplate)"
   ]
  },
  {
   "cell_type": "code",
   "execution_count": 2,
   "id": "13dd4d74",
   "metadata": {},
   "outputs": [],
   "source": [
    "chat = ChatOllama(model=\"llama3.2\") "
   ]
  },
  {
   "cell_type": "code",
   "execution_count": 3,
   "id": "c1b37090",
   "metadata": {},
   "outputs": [],
   "source": [
    "TEMPLATE_H = '''I've recently adopted a {pet}. \n",
    "Could you suggest some {pet} names?'''\n",
    "TEMPLATE_AI = '''{response}'''\n",
    "\n",
    "message_template_h = HumanMessagePromptTemplate.from_template(template = TEMPLATE_H)\n",
    "message_template_ai = AIMessagePromptTemplate.from_template(template = TEMPLATE_AI)"
   ]
  },
  {
   "cell_type": "code",
   "execution_count": 4,
   "id": "4fd72c7c",
   "metadata": {},
   "outputs": [],
   "source": [
    "example_template = ChatPromptTemplate.from_messages([message_template_h, \n",
    "                                                     message_template_ai])"
   ]
  },
  {
   "cell_type": "code",
   "execution_count": 5,
   "id": "ee667ded",
   "metadata": {},
   "outputs": [],
   "source": [
    "examples = [{'pet':'dog', \n",
    "             'response':'''Oh, absolutely. Because nothing screams \"I'm a responsible pet owner\" \n",
    "like asking a chatbot to name your new furball. How about \"Bark Twain\" (if it's a literary hound)? '''}, \n",
    "            \n",
    "            {'pet':'cat', \n",
    "             'response':'''Oh, absolutely. Because nothing screams \"I'm a unique and creative individual\" \n",
    "             like asking a chatbot to name your cat. How about \"Furry McFurFace\", \"Sir Meowsalot\", or \"Catastrophe\"? '''}, \n",
    "            \n",
    "            {'pet':'fish', \n",
    "             'response':\n",
    "             '''Oh, absolutely. Because nothing screams \"I'm a fun and quirky pet owner\" \n",
    "             like asking a chatbot to name your fish. How about \"Fin Diesel\", \"Gill Gates\", or \"Bubbles\"?'''}]"
   ]
  },
  {
   "cell_type": "code",
   "execution_count": 6,
   "id": "009179db",
   "metadata": {},
   "outputs": [],
   "source": [
    "few_shot_prompt = FewShotChatMessagePromptTemplate(examples = examples, \n",
    "                                                   example_prompt = example_template, \n",
    "                                                   input_variables = ['pet'])"
   ]
  },
  {
   "cell_type": "code",
   "execution_count": 7,
   "id": "230d63c2",
   "metadata": {},
   "outputs": [],
   "source": [
    "chat_template = ChatPromptTemplate.from_messages([few_shot_prompt, \n",
    "                                                  message_template_h])"
   ]
  },
  {
   "cell_type": "code",
   "execution_count": 8,
   "id": "68af67e7",
   "metadata": {},
   "outputs": [],
   "source": [
    "chat_value = chat_template.invoke({'pet':'rabbit'})"
   ]
  },
  {
   "cell_type": "code",
   "execution_count": 9,
   "id": "fd2af8da",
   "metadata": {},
   "outputs": [
    {
     "data": {
      "text/plain": [
       "ChatPromptValue(messages=[HumanMessage(content=\"I've recently adopted a dog. \\nCould you suggest some dog names?\", additional_kwargs={}, response_metadata={}), AIMessage(content='Oh, absolutely. Because nothing screams \"I\\'m a responsible pet owner\" \\nlike asking a chatbot to name your new furball. How about \"Bark Twain\" (if it\\'s a literary hound)? ', additional_kwargs={}, response_metadata={}), HumanMessage(content=\"I've recently adopted a cat. \\nCould you suggest some cat names?\", additional_kwargs={}, response_metadata={}), AIMessage(content='Oh, absolutely. Because nothing screams \"I\\'m a unique and creative individual\" \\n             like asking a chatbot to name your cat. How about \"Furry McFurFace\", \"Sir Meowsalot\", or \"Catastrophe\"? ', additional_kwargs={}, response_metadata={}), HumanMessage(content=\"I've recently adopted a fish. \\nCould you suggest some fish names?\", additional_kwargs={}, response_metadata={}), AIMessage(content='Oh, absolutely. Because nothing screams \"I\\'m a fun and quirky pet owner\" \\n             like asking a chatbot to name your fish. How about \"Fin Diesel\", \"Gill Gates\", or \"Bubbles\"?', additional_kwargs={}, response_metadata={}), HumanMessage(content=\"I've recently adopted a rabbit. \\nCould you suggest some rabbit names?\", additional_kwargs={}, response_metadata={})])"
      ]
     },
     "execution_count": 9,
     "metadata": {},
     "output_type": "execute_result"
    }
   ],
   "source": [
    "chat_value"
   ]
  },
  {
   "cell_type": "code",
   "execution_count": 10,
   "id": "7b4138c7",
   "metadata": {},
   "outputs": [
    {
     "name": "stdout",
     "output_type": "stream",
     "text": [
      "human: I've recently adopted a dog. \n",
      "Could you suggest some dog names?\n",
      "\n",
      "ai: Oh, absolutely. Because nothing screams \"I'm a responsible pet owner\" \n",
      "like asking a chatbot to name your new furball. How about \"Bark Twain\" (if it's a literary hound)? \n",
      "\n",
      "human: I've recently adopted a cat. \n",
      "Could you suggest some cat names?\n",
      "\n",
      "ai: Oh, absolutely. Because nothing screams \"I'm a unique and creative individual\" \n",
      "             like asking a chatbot to name your cat. How about \"Furry McFurFace\", \"Sir Meowsalot\", or \"Catastrophe\"? \n",
      "\n",
      "human: I've recently adopted a fish. \n",
      "Could you suggest some fish names?\n",
      "\n",
      "ai: Oh, absolutely. Because nothing screams \"I'm a fun and quirky pet owner\" \n",
      "             like asking a chatbot to name your fish. How about \"Fin Diesel\", \"Gill Gates\", or \"Bubbles\"?\n",
      "\n",
      "human: I've recently adopted a rabbit. \n",
      "Could you suggest some rabbit names?\n",
      "\n"
     ]
    }
   ],
   "source": [
    "for i in chat_value.messages:\n",
    "    print(f'{i.type}: {i.content}\\n')"
   ]
  },
  {
   "cell_type": "code",
   "execution_count": 11,
   "id": "3099e4bd",
   "metadata": {},
   "outputs": [],
   "source": [
    "response = chat.invoke(chat_value)"
   ]
  },
  {
   "cell_type": "code",
   "execution_count": 12,
   "id": "3b93547c",
   "metadata": {},
   "outputs": [
    {
     "data": {
      "text/plain": [
       "AIMessage(content=\"Rabbits make wonderful pets!\\n\\nFor rabbits, here are some name suggestions:\\n\\n1. Hopper\\n2. Flopsy (or its opposite, Mopsy)\\n3. Benny\\n4. Thumper\\n5. Luna\\n6. Cottontail\\n7. Peanut\\n8. Clover\\n9. Jellybean\\n10. Snuffles\\n\\nYou could also consider names that reflect your rabbit's personality or appearance, such as Ginger for a orange-colored rabbit or Whiskers for a rabbit with distinctive whiskers.\\n\\nWhat do you think? Do any of these names stand out to you?\", additional_kwargs={}, response_metadata={'model': 'llama3.2', 'created_at': '2025-05-16T20:42:11.5136102Z', 'done': True, 'done_reason': 'stop', 'total_duration': 2606171000, 'load_duration': 44452700, 'prompt_eval_count': 259, 'prompt_eval_duration': 59202700, 'eval_count': 121, 'eval_duration': 2497928500, 'model_name': 'llama3.2'}, id='run--c0b1523c-dd1e-4b65-bca5-ed4e48da4ead-0', usage_metadata={'input_tokens': 259, 'output_tokens': 121, 'total_tokens': 380})"
      ]
     },
     "execution_count": 12,
     "metadata": {},
     "output_type": "execute_result"
    }
   ],
   "source": [
    "response"
   ]
  },
  {
   "cell_type": "code",
   "execution_count": 13,
   "id": "b35c73bb",
   "metadata": {},
   "outputs": [
    {
     "name": "stdout",
     "output_type": "stream",
     "text": [
      "Rabbits make wonderful pets!\n",
      "\n",
      "For rabbits, here are some name suggestions:\n",
      "\n",
      "1. Hopper\n",
      "2. Flopsy (or its opposite, Mopsy)\n",
      "3. Benny\n",
      "4. Thumper\n",
      "5. Luna\n",
      "6. Cottontail\n",
      "7. Peanut\n",
      "8. Clover\n",
      "9. Jellybean\n",
      "10. Snuffles\n",
      "\n",
      "You could also consider names that reflect your rabbit's personality or appearance, such as Ginger for a orange-colored rabbit or Whiskers for a rabbit with distinctive whiskers.\n",
      "\n",
      "What do you think? Do any of these names stand out to you?\n"
     ]
    }
   ],
   "source": [
    "print(response.content)"
   ]
  }
 ],
 "metadata": {
  "kernelspec": {
   "display_name": "Python 3",
   "language": "python",
   "name": "python3"
  },
  "language_info": {
   "codemirror_mode": {
    "name": "ipython",
    "version": 3
   },
   "file_extension": ".py",
   "mimetype": "text/x-python",
   "name": "python",
   "nbconvert_exporter": "python",
   "pygments_lexer": "ipython3",
   "version": "3.12.6"
  }
 },
 "nbformat": 4,
 "nbformat_minor": 5
}
