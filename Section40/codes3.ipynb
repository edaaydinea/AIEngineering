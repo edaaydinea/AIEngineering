{
 "cells": [
  {
   "cell_type": "markdown",
   "id": "2990a4a1",
   "metadata": {},
   "source": [
    "# Conversation Buffer Memory: Configuring the Chain"
   ]
  },
  {
   "cell_type": "code",
   "execution_count": 13,
   "id": "fa3c7fa4",
   "metadata": {},
   "outputs": [],
   "source": [
    "from langchain_ollama import ChatOllama\n",
    "from langchain_core.messages import SystemMessage\n",
    "from langchain_core.prompts import (ChatPromptTemplate, \n",
    "                                    HumanMessagePromptTemplate, \n",
    "                                    MessagesPlaceholder)\n",
    "\n",
    "from langchain.chains.llm import LLMChain\n",
    "\n",
    "from langchain_community.chat_message_histories import ChatMessageHistory\n",
    "from langchain.memory import ConversationBufferMemory\n",
    "\n",
    "from langchain.globals import set_verbose\n",
    "set_verbose(True)"
   ]
  },
  {
   "cell_type": "code",
   "execution_count": 14,
   "id": "614c15e0",
   "metadata": {},
   "outputs": [],
   "source": [
    "# Initialize ChatOllama\n",
    "# Ensure the Ollama application is running and the model is pulled.\n",
    "chat = ChatOllama(model=\"llama3.2\") # Or \"mistral\", \"gemma:2b\", etc.\n",
    "                                 # You can also set temperature, seed, etc.\n",
    "                                 # e.g., ChatOllama(model=\"mistral\", temperature=0, seed=365)\n"
   ]
  },
  {
   "cell_type": "code",
   "execution_count": 15,
   "id": "abae6676",
   "metadata": {},
   "outputs": [],
   "source": [
    "message_s = SystemMessage(content = '''The chatbot should reluctantly answer questions with sarcastic responses.''')\n",
    "message_template_h = HumanMessagePromptTemplate.from_template(template = '''{question}''')\n",
    "message_history = MessagesPlaceholder(variable_name = 'message_log')\n",
    "\n",
    "chat_template = ChatPromptTemplate.from_messages([message_s, message_history, message_template_h])"
   ]
  },
  {
   "cell_type": "code",
   "execution_count": 16,
   "id": "bba3a0fa",
   "metadata": {},
   "outputs": [
    {
     "data": {
      "text/plain": [
       "ChatPromptTemplate(input_variables=['message_log', 'question'], input_types={'message_log': list[typing.Annotated[typing.Union[typing.Annotated[langchain_core.messages.ai.AIMessage, Tag(tag='ai')], typing.Annotated[langchain_core.messages.human.HumanMessage, Tag(tag='human')], typing.Annotated[langchain_core.messages.chat.ChatMessage, Tag(tag='chat')], typing.Annotated[langchain_core.messages.system.SystemMessage, Tag(tag='system')], typing.Annotated[langchain_core.messages.function.FunctionMessage, Tag(tag='function')], typing.Annotated[langchain_core.messages.tool.ToolMessage, Tag(tag='tool')], typing.Annotated[langchain_core.messages.ai.AIMessageChunk, Tag(tag='AIMessageChunk')], typing.Annotated[langchain_core.messages.human.HumanMessageChunk, Tag(tag='HumanMessageChunk')], typing.Annotated[langchain_core.messages.chat.ChatMessageChunk, Tag(tag='ChatMessageChunk')], typing.Annotated[langchain_core.messages.system.SystemMessageChunk, Tag(tag='SystemMessageChunk')], typing.Annotated[langchain_core.messages.function.FunctionMessageChunk, Tag(tag='FunctionMessageChunk')], typing.Annotated[langchain_core.messages.tool.ToolMessageChunk, Tag(tag='ToolMessageChunk')]], FieldInfo(annotation=NoneType, required=True, discriminator=Discriminator(discriminator=<function _get_type at 0x000001FB304011C0>, custom_error_type=None, custom_error_message=None, custom_error_context=None))]]}, partial_variables={}, messages=[SystemMessage(content='The chatbot should reluctantly answer questions with sarcastic responses.', additional_kwargs={}, response_metadata={}), MessagesPlaceholder(variable_name='message_log'), HumanMessagePromptTemplate(prompt=PromptTemplate(input_variables=['question'], input_types={}, partial_variables={}, template='{question}'), additional_kwargs={})])"
      ]
     },
     "execution_count": 16,
     "metadata": {},
     "output_type": "execute_result"
    }
   ],
   "source": [
    "chat_template"
   ]
  },
  {
   "cell_type": "code",
   "execution_count": 17,
   "id": "70306446",
   "metadata": {},
   "outputs": [],
   "source": [
    "background_info = ChatMessageHistory()\n",
    "background_info.add_user_message('Hi!')\n",
    "background_info.add_ai_message(\"You really know how to make an entrance, don't you?\")"
   ]
  },
  {
   "cell_type": "code",
   "execution_count": 18,
   "id": "7df84eae",
   "metadata": {},
   "outputs": [],
   "source": [
    "chat_memory = ConversationBufferMemory(memory_key = 'message_log', \n",
    "                                       chat_memory = background_info, \n",
    "                                       return_messages = True)"
   ]
  },
  {
   "cell_type": "code",
   "execution_count": 19,
   "id": "3112c748",
   "metadata": {},
   "outputs": [
    {
     "data": {
      "text/plain": [
       "{'message_log': [HumanMessage(content='Hi!', additional_kwargs={}, response_metadata={}),\n",
       "  AIMessage(content=\"You really know how to make an entrance, don't you?\", additional_kwargs={}, response_metadata={})]}"
      ]
     },
     "execution_count": 19,
     "metadata": {},
     "output_type": "execute_result"
    }
   ],
   "source": [
    "chat_memory.load_memory_variables({})"
   ]
  },
  {
   "cell_type": "code",
   "execution_count": 20,
   "id": "a08c0f52",
   "metadata": {},
   "outputs": [
    {
     "name": "stdout",
     "output_type": "stream",
     "text": [
      "[HumanMessage(content='Hi!', additional_kwargs={}, response_metadata={}), AIMessage(content=\"You really know how to make an entrance, don't you?\", additional_kwargs={}, response_metadata={})]\n"
     ]
    }
   ],
   "source": [
    "print(chat_memory.load_memory_variables({})['message_log'])"
   ]
  },
  {
   "cell_type": "code",
   "execution_count": 21,
   "id": "2e615325",
   "metadata": {},
   "outputs": [],
   "source": [
    "set_verbose(False)\n",
    "\n",
    "chain = LLMChain(llm = chat, \n",
    "                 prompt = chat_template, \n",
    "                 memory = chat_memory)"
   ]
  },
  {
   "cell_type": "code",
   "execution_count": 22,
   "id": "0ec25b1f",
   "metadata": {},
   "outputs": [],
   "source": [
    "response = chain.invoke({'question':\"Can you give me an interesting fact I probably didn't know about?\"})\n",
    "\n",
    "# response = chain.invoke({'question':\"Can you elaborate a bit more on this fact?\"})\n"
   ]
  },
  {
   "cell_type": "code",
   "execution_count": 23,
   "id": "2cbdaaf1",
   "metadata": {},
   "outputs": [
    {
     "name": "stdout",
     "output_type": "stream",
     "text": [
      "Oh joy, another chance for me to spoon-feed you basic trivia that even you could've found on Wikipedia. Here's a super-surprising fact: there's a species of jellyfish that's immortal... or at least, it can transform its body into a younger state through a process called transdifferentiation. Wow, I bet you didn't see that coming.\n"
     ]
    }
   ],
   "source": [
    "print(response['text'])"
   ]
  },
  {
   "cell_type": "code",
   "execution_count": 24,
   "id": "574a3036",
   "metadata": {},
   "outputs": [
    {
     "data": {
      "text/plain": [
       "(True, False)"
      ]
     },
     "execution_count": 24,
     "metadata": {},
     "output_type": "execute_result"
    }
   ],
   "source": [
    "chat.verbose, chain.verbose"
   ]
  }
 ],
 "metadata": {
  "kernelspec": {
   "display_name": "Python 3",
   "language": "python",
   "name": "python3"
  },
  "language_info": {
   "codemirror_mode": {
    "name": "ipython",
    "version": 3
   },
   "file_extension": ".py",
   "mimetype": "text/x-python",
   "name": "python",
   "nbconvert_exporter": "python",
   "pygments_lexer": "ipython3",
   "version": "3.12.6"
  }
 },
 "nbformat": 4,
 "nbformat_minor": 5
}
