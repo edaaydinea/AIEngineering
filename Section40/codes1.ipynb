{
 "cells": [
  {
   "cell_type": "markdown",
   "id": "96a1e8fe",
   "metadata": {},
   "source": [
    "# Chat Message History"
   ]
  },
  {
   "cell_type": "code",
   "execution_count": 4,
   "id": "860ad93b",
   "metadata": {},
   "outputs": [
    {
     "name": "stdout",
     "output_type": "stream",
     "text": [
      "The longest place name is actually \"Taumatawhakatangihangakoauauotamateaturipukakapikimaungahoronukupokaiwhenuakitanatahu,\" which is a hill in New Zealand.\n",
      "\n",
      "Breaking it down, here's what each part of the name means:\n",
      "\n",
      "* Taumata: A Maori word meaning \"whirlpool\"\n",
      "* Whakatangihanga: Meaning \"the one that pushes against\"\n",
      "* Koauauotamatea: Meaning \"the one who comes to maturity\"\n",
      "* Turipukakapika: Meaning \"the one that is feared by all\"\n",
      "* Mahoronukaupokai: Meaning \"the one with the long white feathers\"\n",
      "* Whenuakitanatahu: Meaning \"the land of the waiting ones\"\n",
      "\n",
      "So, while it's a very long and complicated name, it essentially translates to \"the famous whitewater falls of Taumata\"!\n",
      "\n",
      "It was chosen by a group of Maori settlers in 1865 as a testament to their area's natural beauty.\n"
     ]
    }
   ],
   "source": [
    "# In your imports\n",
    "from langchain_ollama import ChatOllama\n",
    "from langchain_core.messages import HumanMessage, AIMessage\n",
    "from langchain.memory import ChatMessageHistory # if not already imported\n",
    "from langchain_core.prompts import HumanMessagePromptTemplate, ChatPromptTemplate\n",
    "# ... other imports\n",
    "\n",
    "# Initialize ChatOllama\n",
    "# Ensure the Ollama application is running and the model is pulled.\n",
    "chat = ChatOllama(model=\"llama3.2\") # Or \"mistral\", \"gemma:2b\", etc.\n",
    "                                 # You can also set temperature, seed, etc.\n",
    "                                 # e.g., ChatOllama(model=\"mistral\", temperature=0, seed=365)\n",
    "\n",
    "# Your background_info and prompt setup remains the same:\n",
    "background_info = ChatMessageHistory()\n",
    "background_info.add_user_message(\"Can you give me an interesting fact I probably didn't know about?\")\n",
    "# For local models, you might need to provide the AI's first response manually if you don't run the first turn.\n",
    "# Or, you could run an initial chain.invoke to get the AI's first message.\n",
    "# For this example, let's assume the AI response is known:\n",
    "background_info.add_ai_message(\"Sure, did you know that the longest place name on the planet is 85 letters long?\")\n",
    "\n",
    "message_template_h = HumanMessagePromptTemplate.from_template(template='{follow-up question}')\n",
    "chat_template = ChatPromptTemplate.from_messages(background_info.messages + [message_template_h])\n",
    "\n",
    "# LLMChain is deprecated, LCEL is preferred\n",
    "# chain = LLMChain(llm=chat, prompt=chat_template) # Old way\n",
    "\n",
    "# New way using LangChain Expression Language (LCEL)\n",
    "chain = chat_template | chat\n",
    "\n",
    "# Invoke the chain\n",
    "response = chain.invoke({'follow-up question':'What does the name mean?'})\n",
    "\n",
    "# The response object from ChatOllama will be an AIMessage, so you access its content\n",
    "print(response.content)"
   ]
  }
 ],
 "metadata": {
  "kernelspec": {
   "display_name": "Python 3",
   "language": "python",
   "name": "python3"
  },
  "language_info": {
   "codemirror_mode": {
    "name": "ipython",
    "version": 3
   },
   "file_extension": ".py",
   "mimetype": "text/x-python",
   "name": "python",
   "nbconvert_exporter": "python",
   "pygments_lexer": "ipython3",
   "version": "3.12.6"
  }
 },
 "nbformat": 4,
 "nbformat_minor": 5
}
