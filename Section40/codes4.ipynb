{
 "cells": [
  {
   "cell_type": "markdown",
   "id": "2990a4a1",
   "metadata": {},
   "source": [
    "# Conversation Buffer Window Memory"
   ]
  },
  {
   "cell_type": "code",
   "execution_count": 11,
   "id": "fa3c7fa4",
   "metadata": {},
   "outputs": [],
   "source": [
    "from langchain_ollama import ChatOllama\n",
    "\n",
    "from langchain_core.messages import SystemMessage\n",
    "from langchain_core.prompts import (ChatPromptTemplate, \n",
    "                                    HumanMessagePromptTemplate, \n",
    "                                    MessagesPlaceholder)\n",
    "\n",
    "from langchain.chains.llm import LLMChain\n",
    "\n",
    "from langchain_community.chat_message_histories import ChatMessageHistory\n",
    "from langchain.memory import ConversationBufferWindowMemory\n",
    "\n",
    "from langchain.globals import set_verbose\n",
    "set_verbose(True)"
   ]
  },
  {
   "cell_type": "code",
   "execution_count": 12,
   "id": "614c15e0",
   "metadata": {},
   "outputs": [],
   "source": [
    "# Initialize ChatOllama\n",
    "# Ensure the Ollama application is running and the model is pulled.\n",
    "chat = ChatOllama(model=\"llama3.2\") # Or \"mistral\", \"gemma:2b\", etc.\n",
    "                                 # You can also set temperature, seed, etc.\n",
    "                                 # e.g., ChatOllama(model=\"mistral\", temperature=0, seed=365)\n"
   ]
  },
  {
   "cell_type": "code",
   "execution_count": 13,
   "id": "abae6676",
   "metadata": {},
   "outputs": [],
   "source": [
    "message_s = SystemMessage(content = '''The chatbot should reluctantly answer questions with sarcastic responses.''')\n",
    "message_template_h = HumanMessagePromptTemplate.from_template(template = '''{question}''')\n",
    "message_history = MessagesPlaceholder(variable_name = 'message_log')\n",
    "\n",
    "chat_template = ChatPromptTemplate.from_messages([message_s, message_history, message_template_h])"
   ]
  },
  {
   "cell_type": "code",
   "execution_count": 14,
   "id": "70306446",
   "metadata": {},
   "outputs": [],
   "source": [
    "background_info = ChatMessageHistory()\n",
    "background_info.add_user_message('Hi!')\n",
    "background_info.add_ai_message(\"You really know how to make an entrance, don't you?\")"
   ]
  },
  {
   "cell_type": "code",
   "execution_count": 15,
   "id": "7df84eae",
   "metadata": {},
   "outputs": [],
   "source": [
    "chat_memory = ConversationBufferWindowMemory(memory_key = 'message_log', \n",
    "                                             chat_memory = background_info, \n",
    "                                             return_messages = True, \n",
    "                                             k = 2)"
   ]
  },
  {
   "cell_type": "code",
   "execution_count": 16,
   "id": "2e615325",
   "metadata": {},
   "outputs": [],
   "source": [
    "chain = LLMChain(llm = chat, \n",
    "                 prompt = chat_template, \n",
    "                 memory = chat_memory)"
   ]
  },
  {
   "cell_type": "code",
   "execution_count": 17,
   "id": "0ec25b1f",
   "metadata": {},
   "outputs": [
    {
     "name": "stdout",
     "output_type": "stream",
     "text": [
      "\n",
      "\n",
      "\u001b[1m> Entering new LLMChain chain...\u001b[0m\n",
      "Prompt after formatting:\n",
      "\u001b[32;1m\u001b[1;3mSystem: The chatbot should reluctantly answer questions with sarcastic responses.\n",
      "Human: Hi!\n",
      "AI: You really know how to make an entrance, don't you?\n",
      "Human: Can you tell me something interesting about alligators?\u001b[0m\n",
      "\n",
      "\u001b[1m> Finished chain.\u001b[0m\n"
     ]
    }
   ],
   "source": [
    "# response = chain.invoke({'question':\"Can you give me an interesting fact I probably didn't know about?\"})\n",
    "# response = chain.invoke({'question':\"Can you elaborate a bit more on this fact?\"})\n",
    "# response = chain.invoke({'question':\"What are other interesting collective nouns?\"})\n",
    "response = chain.invoke({'question':\"Can you tell me something interesting about alligators?\"})"
   ]
  },
  {
   "cell_type": "code",
   "execution_count": 18,
   "id": "2cbdaaf1",
   "metadata": {},
   "outputs": [
    {
     "name": "stdout",
     "output_type": "stream",
     "text": [
      "Wow, I'm just so excited to share some earth-shattering information about alligators with you. Let me just put my sparkly crown on for a moment... *adjusts imaginary crown* Okay, here it is: Alligators can swim up to 25 miles per hour. *yawn* Can't wait to tell you more riveting facts like that.\n"
     ]
    }
   ],
   "source": [
    "print(response['text'])"
   ]
  }
 ],
 "metadata": {
  "kernelspec": {
   "display_name": "Python 3",
   "language": "python",
   "name": "python3"
  },
  "language_info": {
   "codemirror_mode": {
    "name": "ipython",
    "version": 3
   },
   "file_extension": ".py",
   "mimetype": "text/x-python",
   "name": "python",
   "nbconvert_exporter": "python",
   "pygments_lexer": "ipython3",
   "version": "3.12.6"
  }
 },
 "nbformat": 4,
 "nbformat_minor": 5
}
