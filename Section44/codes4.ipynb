{
 "cells": [
  {
   "cell_type": "markdown",
   "id": "65d542da",
   "metadata": {},
   "source": [
    "# Creating a Tool Calling Agent and an Agent Executor"
   ]
  },
  {
   "cell_type": "code",
   "execution_count": 1,
   "id": "c5910cd0",
   "metadata": {},
   "outputs": [],
   "source": [
    "from langchain_community.utilities import WikipediaAPIWrapper\n",
    "from langchain_community.tools import WikipediaQueryRun\n",
    "from langchain_chroma import Chroma\n",
    "\n",
    "from langchain_huggingface import HuggingFaceEmbeddings\n",
    "from langchain_ollama import ChatOllama\n",
    "\n",
    "from langchain.tools.retriever import create_retriever_tool\n",
    "from langchain.tools import tool\n",
    "\n",
    "from langchain import hub\n",
    "\n",
    "from platform import python_version\n",
    "\n",
    "from langchain.agents import create_tool_calling_agent, AgentExecutor"
   ]
  },
  {
   "cell_type": "code",
   "execution_count": 2,
   "id": "600913d1",
   "metadata": {},
   "outputs": [],
   "source": [
    "wikipedia_tool = WikipediaQueryRun(api_wrapper = WikipediaAPIWrapper())"
   ]
  },
  {
   "cell_type": "code",
   "execution_count": 3,
   "id": "8b6eb52d",
   "metadata": {},
   "outputs": [
    {
     "name": "stdout",
     "output_type": "stream",
     "text": [
      "WARNING:tensorflow:From c:\\Users\\Eda AYDIN\\AppData\\Local\\Programs\\Python\\Python312\\Lib\\site-packages\\tf_keras\\src\\losses.py:2976: The name tf.losses.sparse_softmax_cross_entropy is deprecated. Please use tf.compat.v1.losses.sparse_softmax_cross_entropy instead.\n",
      "\n"
     ]
    }
   ],
   "source": [
    "vectorstore = Chroma(persist_directory = \"./intro-to-ds-lectures\", \n",
    "                     embedding_function = HuggingFaceEmbeddings(model_name = \"sentence-transformers/all-MiniLM-L6-v2\"))\n",
    "\n",
    "retriever = vectorstore.as_retriever(search_type = 'mmr', \n",
    "                                     search_kwargs = {'k':3, \n",
    "                                                      'lambda_mult':0.7})\n",
    "\n",
    "retriever_tool = create_retriever_tool(retriever = retriever, \n",
    "                                       name = \"Introduction-to-Data-and-Data-Science-Course-Lectures\", \n",
    "                                       description = '''For any questions regarding \n",
    "                                       the Introduction to Data and Data Science course, you must use this tool.''')"
   ]
  },
  {
   "cell_type": "code",
   "execution_count": 4,
   "id": "15d06807",
   "metadata": {},
   "outputs": [],
   "source": [
    "@tool\n",
    "def get_python_version() -> str:\n",
    "    ''' Useful for questions regarding the version of Python currently used. '''\n",
    "    return python_version()"
   ]
  },
  {
   "cell_type": "code",
   "execution_count": 5,
   "id": "00dfd9a4",
   "metadata": {},
   "outputs": [],
   "source": [
    "tools = [wikipedia_tool, retriever_tool, get_python_version]"
   ]
  },
  {
   "cell_type": "code",
   "execution_count": 6,
   "id": "14fbe673",
   "metadata": {},
   "outputs": [],
   "source": [
    "chat = ChatOllama(model=\"llama3.2\", \n",
    "                  temperature=0,\n",
    "                  seed=365)"
   ]
  },
  {
   "cell_type": "code",
   "execution_count": 7,
   "id": "6d227f43",
   "metadata": {},
   "outputs": [
    {
     "name": "stderr",
     "output_type": "stream",
     "text": [
      "c:\\Users\\Eda AYDIN\\AppData\\Local\\Programs\\Python\\Python312\\Lib\\site-packages\\langsmith\\client.py:253: LangSmithMissingAPIKeyWarning: API key must be provided when using hosted LangSmith API\n",
      "  warnings.warn(\n"
     ]
    }
   ],
   "source": [
    "chat_prompt_template = hub.pull(\"hwchase17/openai-tools-agent\")"
   ]
  },
  {
   "cell_type": "code",
   "execution_count": 8,
   "id": "f974df21",
   "metadata": {},
   "outputs": [],
   "source": [
    "agent = create_tool_calling_agent(llm = chat, \n",
    "                                  tools = tools, \n",
    "                                  prompt = chat_prompt_template)"
   ]
  },
  {
   "cell_type": "code",
   "execution_count": 9,
   "id": "aa6b44a5",
   "metadata": {},
   "outputs": [],
   "source": [
    "agent_executor = AgentExecutor(agent = agent, \n",
    "                               tools = tools, \n",
    "                               verbose = True, \n",
    "                               return_intermediate_steps = True)"
   ]
  },
  {
   "cell_type": "code",
   "execution_count": 10,
   "id": "25631abf",
   "metadata": {},
   "outputs": [
    {
     "name": "stdout",
     "output_type": "stream",
     "text": [
      "\n",
      "\n",
      "\u001b[1m> Entering new AgentExecutor chain...\u001b[0m\n",
      "\u001b[32;1m\u001b[1;3m\n",
      "Invoking: `get_python_version` with `{}`\n",
      "\n",
      "\n",
      "\u001b[0m\u001b[38;5;200m\u001b[1;3m3.12.6\u001b[0m\u001b[32;1m\u001b[1;3mThe current version of Python is 3.12.6.\u001b[0m\n",
      "\n",
      "\u001b[1m> Finished chain.\u001b[0m\n"
     ]
    }
   ],
   "source": [
    "response = agent_executor.invoke({\"input\":\"Could you tell me the version of Python I'm currently using?\"})"
   ]
  },
  {
   "cell_type": "code",
   "execution_count": 11,
   "id": "9608db2c",
   "metadata": {},
   "outputs": [
    {
     "data": {
      "text/plain": [
       "{'input': \"Could you tell me the version of Python I'm currently using?\",\n",
       " 'output': 'The current version of Python is 3.12.6.',\n",
       " 'intermediate_steps': [(ToolAgentAction(tool='get_python_version', tool_input={}, log='\\nInvoking: `get_python_version` with `{}`\\n\\n\\n', message_log=[AIMessageChunk(content='', additional_kwargs={}, response_metadata={'model': 'llama3.2', 'created_at': '2025-05-23T18:33:24.7777539Z', 'done': True, 'done_reason': 'stop', 'total_duration': 440780200, 'load_duration': 49753500, 'prompt_eval_count': 326, 'prompt_eval_duration': 42048600, 'eval_count': 12, 'eval_duration': 346356700, 'model_name': 'llama3.2'}, id='run--8c580090-5d4e-4f2e-b162-2b723923fcf4', tool_calls=[{'name': 'get_python_version', 'args': {}, 'id': '937b1c1a-93a1-4d75-8da6-1decbcf0aecf', 'type': 'tool_call'}], usage_metadata={'input_tokens': 326, 'output_tokens': 12, 'total_tokens': 338}, tool_call_chunks=[{'name': 'get_python_version', 'args': '{}', 'id': '937b1c1a-93a1-4d75-8da6-1decbcf0aecf', 'index': None, 'type': 'tool_call_chunk'}])], tool_call_id='937b1c1a-93a1-4d75-8da6-1decbcf0aecf'),\n",
       "   '3.12.6')]}"
      ]
     },
     "execution_count": 11,
     "metadata": {},
     "output_type": "execute_result"
    }
   ],
   "source": [
    "response"
   ]
  },
  {
   "cell_type": "code",
   "execution_count": 12,
   "id": "b652facd",
   "metadata": {
    "scrolled": false
   },
   "outputs": [
    {
     "name": "stdout",
     "output_type": "stream",
     "text": [
      "\n",
      "\n",
      "\u001b[1m> Entering new AgentExecutor chain...\u001b[0m\n",
      "\u001b[32;1m\u001b[1;3m\n",
      "Invoking: `Introduction-to-Data-and-Data-Science-Course-Lectures` with `{'query': 'programming languages for data scientists and their creators'}`\n",
      "\n",
      "\n",
      "\u001b[0m\u001b[33;1m\u001b[1;3m\u001b[0m\u001b[32;1m\u001b[1;3mThe programming languages that a data scientist should know are:\n",
      "\n",
      "1. Python: Created by Guido van Rossum in 1991, Python is one of the most popular and widely used programming languages in data science.\n",
      "2. R: Developed by Ross Ihaka and Robert Gentleman in 1993, R is a popular language for statistical computing and data visualization.\n",
      "3. SQL: Created by Donald Chamberlin and Raymond Boyce in 1974, SQL (Structured Query Language) is a standard language for managing relational databases.\n",
      "4. Julia: Developed by Jeff Bezanson, Alan Edelman, Brian Smith, and Stefan Karpinski in 2012, Julia is a new language that aims to provide high performance and dynamism for data science applications.\n",
      "\n",
      "These languages are commonly used in data science for tasks such as data cleaning, visualization, modeling, and machine learning.\u001b[0m\n",
      "\n",
      "\u001b[1m> Finished chain.\u001b[0m\n"
     ]
    }
   ],
   "source": [
    "response = agent_executor.invoke({\"input\":'''\n",
    "I’m currently following the Introduction to Data and Data Science course. \n",
    "Could you list the programming languages a data scientist should know? \n",
    "Additionally, could you tell me who their creators are?\n",
    "'''})"
   ]
  },
  {
   "cell_type": "code",
   "execution_count": 13,
   "id": "e3e7ab5a",
   "metadata": {},
   "outputs": [
    {
     "data": {
      "text/plain": [
       "{'input': '\\nI’m currently following the Introduction to Data and Data Science course. \\nCould you list the programming languages a data scientist should know? \\nAdditionally, could you tell me who their creators are?\\n',\n",
       " 'output': 'The programming languages that a data scientist should know are:\\n\\n1. Python: Created by Guido van Rossum in 1991, Python is one of the most popular and widely used programming languages in data science.\\n2. R: Developed by Ross Ihaka and Robert Gentleman in 1993, R is a popular language for statistical computing and data visualization.\\n3. SQL: Created by Donald Chamberlin and Raymond Boyce in 1974, SQL (Structured Query Language) is a standard language for managing relational databases.\\n4. Julia: Developed by Jeff Bezanson, Alan Edelman, Brian Smith, and Stefan Karpinski in 2012, Julia is a new language that aims to provide high performance and dynamism for data science applications.\\n\\nThese languages are commonly used in data science for tasks such as data cleaning, visualization, modeling, and machine learning.',\n",
       " 'intermediate_steps': [(ToolAgentAction(tool='Introduction-to-Data-and-Data-Science-Course-Lectures', tool_input={'query': 'programming languages for data scientists and their creators'}, log=\"\\nInvoking: `Introduction-to-Data-and-Data-Science-Course-Lectures` with `{'query': 'programming languages for data scientists and their creators'}`\\n\\n\\n\", message_log=[AIMessageChunk(content='', additional_kwargs={}, response_metadata={'model': 'llama3.2', 'created_at': '2025-05-23T18:33:25.9650689Z', 'done': True, 'done_reason': 'stop', 'total_duration': 835594000, 'load_duration': 35178300, 'prompt_eval_count': 351, 'prompt_eval_duration': 24032900, 'eval_count': 36, 'eval_duration': 774530700, 'model_name': 'llama3.2'}, id='run--00ad2706-15c6-4b38-8fa1-7614db8b13b0', tool_calls=[{'name': 'Introduction-to-Data-and-Data-Science-Course-Lectures', 'args': {'query': 'programming languages for data scientists and their creators'}, 'id': 'a666ab51-d4d4-451d-9cd5-6f03ffcd21bd', 'type': 'tool_call'}], usage_metadata={'input_tokens': 351, 'output_tokens': 36, 'total_tokens': 387}, tool_call_chunks=[{'name': 'Introduction-to-Data-and-Data-Science-Course-Lectures', 'args': '{\"query\": \"programming languages for data scientists and their creators\"}', 'id': 'a666ab51-d4d4-451d-9cd5-6f03ffcd21bd', 'index': None, 'type': 'tool_call_chunk'}])], tool_call_id='a666ab51-d4d4-451d-9cd5-6f03ffcd21bd'),\n",
       "   '')]}"
      ]
     },
     "execution_count": 13,
     "metadata": {},
     "output_type": "execute_result"
    }
   ],
   "source": [
    "response"
   ]
  }
 ],
 "metadata": {
  "kernelspec": {
   "display_name": "Python 3",
   "language": "python",
   "name": "python3"
  },
  "language_info": {
   "codemirror_mode": {
    "name": "ipython",
    "version": 3
   },
   "file_extension": ".py",
   "mimetype": "text/x-python",
   "name": "python",
   "nbconvert_exporter": "python",
   "pygments_lexer": "ipython3",
   "version": "3.12.6"
  }
 },
 "nbformat": 4,
 "nbformat_minor": 5
}
