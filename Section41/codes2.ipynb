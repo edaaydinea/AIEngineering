{
 "cells": [
  {
   "cell_type": "markdown",
   "id": "f9c56589",
   "metadata": {},
   "source": [
    "# Comma-Separated List Output Parser"
   ]
  },
  {
   "cell_type": "code",
   "execution_count": 2,
   "id": "ca220245",
   "metadata": {},
   "outputs": [],
   "source": [
    "from langchain_ollama import ChatOllama\n",
    "from langchain_core.messages import HumanMessage\n",
    "from langchain_core.output_parsers import CommaSeparatedListOutputParser"
   ]
  },
  {
   "cell_type": "code",
   "execution_count": 3,
   "id": "456e4534",
   "metadata": {},
   "outputs": [],
   "source": [
    "chat = ChatOllama(model=\"llama3.2\")"
   ]
  },
  {
   "cell_type": "code",
   "execution_count": 4,
   "id": "ef22fe22",
   "metadata": {},
   "outputs": [],
   "source": [
    "message_h = HumanMessage(content = f''' I've recently adopted a dog. Could you suggest some dog names? \n",
    "\n",
    "{CommaSeparatedListOutputParser().get_format_instructions()}\n",
    "''')"
   ]
  },
  {
   "cell_type": "code",
   "execution_count": 5,
   "id": "ed7b4995",
   "metadata": {},
   "outputs": [
    {
     "name": "stdout",
     "output_type": "stream",
     "text": [
      " I've recently adopted a dog. Could you suggest some dog names? \n",
      "\n",
      "Your response should be a list of comma separated values, eg: `foo, bar, baz` or `foo,bar,baz`\n",
      "\n"
     ]
    }
   ],
   "source": [
    "print(message_h.content)"
   ]
  },
  {
   "cell_type": "code",
   "execution_count": 6,
   "id": "57bf55d9",
   "metadata": {
    "scrolled": true
   },
   "outputs": [
    {
     "name": "stdout",
     "output_type": "stream",
     "text": [
      "Congratulations on your new furry family member!\n",
      "\n",
      "Here are some popular and unique dog name suggestions:\n",
      "\n",
      "Bella, Max, Charlie, Lucy, Cooper, Rocky, Luna, Duke, Daisy, Bear, Gracie, Buddy, Sadie, Maggie, Oliver, Abbie.\n",
      "\n",
      "If you'd like more specific suggestions based on your dog's breed, size, or personality, feel free to let me know!\n",
      "\n",
      "Would you also like me to suggest some creative ways to help your dog get to know their new name?\n"
     ]
    }
   ],
   "source": [
    "response = chat.invoke([message_h])\n",
    "print(response.content)"
   ]
  },
  {
   "cell_type": "code",
   "execution_count": 7,
   "id": "a22f7704",
   "metadata": {},
   "outputs": [],
   "source": [
    "list_output_parser = CommaSeparatedListOutputParser()"
   ]
  },
  {
   "cell_type": "code",
   "execution_count": 8,
   "id": "009b58d6",
   "metadata": {},
   "outputs": [],
   "source": [
    "response_parsed = list_output_parser.invoke(response)"
   ]
  },
  {
   "cell_type": "code",
   "execution_count": 9,
   "id": "eedd2603",
   "metadata": {},
   "outputs": [
    {
     "data": {
      "text/plain": [
       "['Congratulations on your new furry family member!',\n",
       " 'Here are some popular and unique dog name suggestions:',\n",
       " 'Bella',\n",
       " 'Max',\n",
       " 'Charlie',\n",
       " 'Lucy',\n",
       " 'Cooper',\n",
       " 'Rocky',\n",
       " 'Luna',\n",
       " 'Duke',\n",
       " 'Daisy',\n",
       " 'Bear',\n",
       " 'Gracie',\n",
       " 'Buddy',\n",
       " 'Sadie',\n",
       " 'Maggie',\n",
       " 'Oliver',\n",
       " 'Abbie.',\n",
       " \"If you'd like more specific suggestions based on your dog's breed\",\n",
       " 'size',\n",
       " 'or personality',\n",
       " 'feel free to let me know!',\n",
       " 'Would you also like me to suggest some creative ways to help your dog get to know their new name?']"
      ]
     },
     "execution_count": 9,
     "metadata": {},
     "output_type": "execute_result"
    }
   ],
   "source": [
    "response_parsed"
   ]
  },
  {
   "cell_type": "code",
   "execution_count": 10,
   "id": "f830c3af",
   "metadata": {},
   "outputs": [
    {
     "name": "stdout",
     "output_type": "stream",
     "text": [
      "Your response should be a list of comma separated values, eg: `foo, bar, baz` or `foo,bar,baz`\n"
     ]
    }
   ],
   "source": [
    "print(list_output_parser.get_format_instructions())"
   ]
  }
 ],
 "metadata": {
  "kernelspec": {
   "display_name": "Python 3",
   "language": "python",
   "name": "python3"
  },
  "language_info": {
   "codemirror_mode": {
    "name": "ipython",
    "version": 3
   },
   "file_extension": ".py",
   "mimetype": "text/x-python",
   "name": "python",
   "nbconvert_exporter": "python",
   "pygments_lexer": "ipython3",
   "version": "3.12.6"
  }
 },
 "nbformat": 4,
 "nbformat_minor": 5
}
