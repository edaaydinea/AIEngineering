{
 "cells": [
  {
   "cell_type": "markdown",
   "id": "121eeed4",
   "metadata": {},
   "source": [
    "# String Output Parser"
   ]
  },
  {
   "cell_type": "code",
   "execution_count": 1,
   "id": "616565cc",
   "metadata": {},
   "outputs": [],
   "source": [
    "from langchain_ollama import ChatOllama\n",
    "from langchain_core.messages import HumanMessage\n",
    "from langchain_core.output_parsers import StrOutputParser"
   ]
  },
  {
   "cell_type": "code",
   "execution_count": null,
   "id": "7c9f2600",
   "metadata": {},
   "outputs": [],
   "source": [
    "chat = ChatOllama(model=\"llama3.2\")"
   ]
  },
  {
   "cell_type": "code",
   "execution_count": 3,
   "id": "66ae07c5",
   "metadata": {},
   "outputs": [],
   "source": [
    "message_h = HumanMessage(content = \"Can you give me an interesting fact I probably didn't know about?\")"
   ]
  },
  {
   "cell_type": "code",
   "execution_count": 4,
   "id": "5519f1f4",
   "metadata": {},
   "outputs": [],
   "source": [
    "response = chat.invoke([message_h])"
   ]
  },
  {
   "cell_type": "code",
   "execution_count": 5,
   "id": "dc6e21ed",
   "metadata": {},
   "outputs": [
    {
     "data": {
      "text/plain": [
       "AIMessage(content='Here\\'s something that might surprise you:\\n\\nThere is a type of jellyfish that is immortal. The Turritopsis dohrnii, also known as the \"immortal jellyfish,\" can transform its body into a younger state through a process called transdifferentiation. This means that it can essentially revert back to its polyp stage, which is the juvenile form of a jellyfish, and then grow back into an adult again. This process can be repeated indefinitely, making the Turritopsis dohrnii theoretically immortal.\\n\\nIsn\\'t that mind-blowing?\\n\\nWould you like to hear more interesting facts?', additional_kwargs={}, response_metadata={'model': 'llama3.2', 'created_at': '2025-05-21T12:45:54.0528623Z', 'done': True, 'done_reason': 'stop', 'total_duration': 9741341000, 'load_duration': 7002916900, 'prompt_eval_count': 39, 'prompt_eval_duration': 468793800, 'eval_count': 124, 'eval_duration': 2264584500, 'model_name': 'llama3.2'}, id='run--f378bfdf-3ae2-4131-979e-7745b5bd2c33-0', usage_metadata={'input_tokens': 39, 'output_tokens': 124, 'total_tokens': 163})"
      ]
     },
     "execution_count": 5,
     "metadata": {},
     "output_type": "execute_result"
    }
   ],
   "source": [
    "response"
   ]
  },
  {
   "cell_type": "code",
   "execution_count": 6,
   "id": "b2b26762",
   "metadata": {},
   "outputs": [],
   "source": [
    "str_output_parser = StrOutputParser()"
   ]
  },
  {
   "cell_type": "code",
   "execution_count": 7,
   "id": "80acf877",
   "metadata": {},
   "outputs": [
    {
     "data": {
      "text/plain": [
       "'Here\\'s something that might surprise you:\\n\\nThere is a type of jellyfish that is immortal. The Turritopsis dohrnii, also known as the \"immortal jellyfish,\" can transform its body into a younger state through a process called transdifferentiation. This means that it can essentially revert back to its polyp stage, which is the juvenile form of a jellyfish, and then grow back into an adult again. This process can be repeated indefinitely, making the Turritopsis dohrnii theoretically immortal.\\n\\nIsn\\'t that mind-blowing?\\n\\nWould you like to hear more interesting facts?'"
      ]
     },
     "execution_count": 7,
     "metadata": {},
     "output_type": "execute_result"
    }
   ],
   "source": [
    "response_parsed = str_output_parser.invoke(response)\n",
    "response_parsed"
   ]
  }
 ],
 "metadata": {
  "kernelspec": {
   "display_name": "Python 3",
   "language": "python",
   "name": "python3"
  },
  "language_info": {
   "codemirror_mode": {
    "name": "ipython",
    "version": 3
   },
   "file_extension": ".py",
   "mimetype": "text/x-python",
   "name": "python",
   "nbconvert_exporter": "python",
   "pygments_lexer": "ipython3",
   "version": "3.12.6"
  }
 },
 "nbformat": 4,
 "nbformat_minor": 5
}
