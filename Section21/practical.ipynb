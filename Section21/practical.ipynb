{
 "cells": [
  {
   "cell_type": "code",
   "execution_count": 1,
   "metadata": {},
   "outputs": [],
   "source": [
    "import nltk\n",
    "from nltk.tokenize import word_tokenize\n",
    "from nltk.stem import PorterStemmer, WordNetLemmatizer\n",
    "from nltk.corpus import stopwords\n",
    "import re\n",
    "import pandas as pd"
   ]
  },
  {
   "cell_type": "code",
   "execution_count": 2,
   "metadata": {},
   "outputs": [],
   "source": [
    "data = pd.read_csv(\"tripadvisor_hotel_reviews.csv\")"
   ]
  },
  {
   "cell_type": "code",
   "execution_count": 3,
   "metadata": {},
   "outputs": [
    {
     "name": "stdout",
     "output_type": "stream",
     "text": [
      "<class 'pandas.core.frame.DataFrame'>\n",
      "RangeIndex: 109 entries, 0 to 108\n",
      "Data columns (total 2 columns):\n",
      " #   Column  Non-Null Count  Dtype \n",
      "---  ------  --------------  ----- \n",
      " 0   Review  109 non-null    object\n",
      " 1   Rating  109 non-null    int64 \n",
      "dtypes: int64(1), object(1)\n",
      "memory usage: 1.8+ KB\n"
     ]
    }
   ],
   "source": [
    "data.info()"
   ]
  },
  {
   "cell_type": "code",
   "execution_count": 4,
   "metadata": {},
   "outputs": [
    {
     "data": {
      "application/vnd.microsoft.datawrangler.viewer.v0+json": {
       "columns": [
        {
         "name": "index",
         "rawType": "int64",
         "type": "integer"
        },
        {
         "name": "Review",
         "rawType": "object",
         "type": "string"
        },
        {
         "name": "Rating",
         "rawType": "int64",
         "type": "integer"
        }
       ],
       "conversionMethod": "pd.DataFrame",
       "ref": "2ef4b82a-4dd5-40e4-bd28-931767028e3a",
       "rows": [
        [
         "0",
         "nice hotel expensive parking got good deal stay hotel anniversary, arrived late evening took advice previous reviews did valet parking, check quick easy, little disappointed non-existent view room room clean nice size, bed comfortable woke stiff neck high pillows, not soundproof like heard music room night morning loud bangs doors opening closing hear people talking hallway, maybe just noisy neighbors, aveda bath products nice, did not goldfish stay nice touch taken advantage staying longer, location great walking distance shopping, overall nice experience having pay 40 parking night,  ",
         "4"
        ],
        [
         "1",
         "ok nothing special charge diamond member hilton decided chain shot 20th anniversary seattle, start booked suite paid extra website description not, suite bedroom bathroom standard hotel room, took printed reservation desk showed said things like tv couch ect desk clerk told oh mixed suites description kimpton website sorry free breakfast, got kidding, embassy suits sitting room bathroom bedroom unlike kimpton calls suite, 5 day stay offer correct false advertising, send kimpton preferred guest website email asking failure provide suite advertised website reservation description furnished hard copy reservation printout website desk manager duty did not reply solution, send email trip guest survey did not follow email mail, guess tell concerned guest.the staff ranged indifferent not helpful, asked desk good breakfast spots neighborhood hood told no hotels, gee best breakfast spots seattle 1/2 block away convenient hotel does not know exist, arrived late night 11 pm inside run bellman busy chating cell phone help bags.prior arrival emailed hotel inform 20th anniversary half really picky wanted make sure good, got nice email saying like deliver bottle champagne chocolate covered strawberries room arrival celebrate, told needed foam pillows, arrival no champagne strawberries no foam pillows great room view alley high rise building good not better housekeeping staff cleaner room property, impressed left morning shopping room got short trips 2 hours, beds comfortable.not good ac-heat control 4 x 4 inch screen bring green shine directly eyes night, light sensitive tape controls.this not 4 start hotel clean business hotel super high rates, better chain hotels seattle,  ",
         "2"
        ],
        [
         "2",
         "nice rooms not 4* experience hotel monaco seattle good hotel n't 4* level.positives large bathroom mediterranean suite comfortable bed pillowsattentive housekeeping staffnegatives ac unit malfunctioned stay desk disorganized, missed 3 separate wakeup calls, concierge busy hard touch, did n't provide guidance special requests.tv hard use ipod sound dock suite non functioning. decided book mediterranean suite 3 night weekend stay 1st choice rest party filled, comparison w spent 45 night larger square footage room great soaking tub whirlpool jets nice shower.before stay hotel arrange car service price 53 tip reasonable driver waiting arrival.checkin easy downside room picked 2 person jacuzi tub no bath accessories salts bubble bath did n't stay, night got 12/1a checked voucher bottle champagne nice gesture fish waiting room, impression room huge open space felt room big, tv far away bed chore change channel, ipod dock broken disappointing.in morning way asked desk check thermostat said 65f 74 2 degrees warm try cover face night bright blue light kept, got room night no, 1st drop desk, called maintainence came look thermostat told play settings happy digital box wo n't work, asked wakeup 10am morning did n't happen, called later 6pm nap wakeup forgot, 10am wakeup morning yep forgotten.the bathroom facilities great room surprised room sold whirlpool bath tub n't bath amenities, great relax water jets going,  ",
         "3"
        ],
        [
         "3",
         "unique, great stay, wonderful time hotel monaco, location excellent short stroll main downtown shopping area, pet friendly room showed no signs animal hair smells, monaco suite sleeping area big striped curtains pulled closed nice touch felt cosy, goldfish named brandi enjoyed, did n't partake free wine coffee/tea service lobby thought great feature, great staff friendly, free wireless internet hotel worked suite 2 laptops, decor lovely eclectic mix pattens color palatte, animal print bathrobes feel like rock stars, nice did n't look like sterile chain hotel hotel personality excellent stay,  ",
         "5"
        ],
        [
         "4",
         "great stay great stay, went seahawk game awesome, downfall view building did n't complain, room huge staff helpful, booked hotels website seahawk package, no charge parking got voucher taxi, problem taxi driver did n't want accept voucher barely spoke english, funny thing speak arabic called started making comments girlfriend cell phone buddy, took second realize just said fact speak language face priceless, ass told, said large city, told head doorman issue called cab company promply answer did n't, apologized offered pay taxi, bucks 2 miles stadium, game plan taxi return going humpin, great walk did n't mind, right christmas wonderful lights, homeless stowed away building entrances leave, police presence not greatest area stadium, activities 7 blocks pike street waterfront great coffee shops way, hotel mantained foyer awesome, wine tasting available evening, best dog, taking st. bernard time family, safes hotel located service desk room, bathroom huge jetted tub huge, funny house keeping walked girlfriend getting dressed, did n't hear knock doing turn service, screamed girlfriend screams hit floor laughing, started talking spanish worked, place recommend price, check online deals just good not better, besite contains deals vouchers travel websites n't tell,  ",
         "5"
        ]
       ],
       "shape": {
        "columns": 2,
        "rows": 5
       }
      },
      "text/html": [
       "<div>\n",
       "<style scoped>\n",
       "    .dataframe tbody tr th:only-of-type {\n",
       "        vertical-align: middle;\n",
       "    }\n",
       "\n",
       "    .dataframe tbody tr th {\n",
       "        vertical-align: top;\n",
       "    }\n",
       "\n",
       "    .dataframe thead th {\n",
       "        text-align: right;\n",
       "    }\n",
       "</style>\n",
       "<table border=\"1\" class=\"dataframe\">\n",
       "  <thead>\n",
       "    <tr style=\"text-align: right;\">\n",
       "      <th></th>\n",
       "      <th>Review</th>\n",
       "      <th>Rating</th>\n",
       "    </tr>\n",
       "  </thead>\n",
       "  <tbody>\n",
       "    <tr>\n",
       "      <th>0</th>\n",
       "      <td>nice hotel expensive parking got good deal sta...</td>\n",
       "      <td>4</td>\n",
       "    </tr>\n",
       "    <tr>\n",
       "      <th>1</th>\n",
       "      <td>ok nothing special charge diamond member hilto...</td>\n",
       "      <td>2</td>\n",
       "    </tr>\n",
       "    <tr>\n",
       "      <th>2</th>\n",
       "      <td>nice rooms not 4* experience hotel monaco seat...</td>\n",
       "      <td>3</td>\n",
       "    </tr>\n",
       "    <tr>\n",
       "      <th>3</th>\n",
       "      <td>unique, great stay, wonderful time hotel monac...</td>\n",
       "      <td>5</td>\n",
       "    </tr>\n",
       "    <tr>\n",
       "      <th>4</th>\n",
       "      <td>great stay great stay, went seahawk game aweso...</td>\n",
       "      <td>5</td>\n",
       "    </tr>\n",
       "  </tbody>\n",
       "</table>\n",
       "</div>"
      ],
      "text/plain": [
       "                                              Review  Rating\n",
       "0  nice hotel expensive parking got good deal sta...       4\n",
       "1  ok nothing special charge diamond member hilto...       2\n",
       "2  nice rooms not 4* experience hotel monaco seat...       3\n",
       "3  unique, great stay, wonderful time hotel monac...       5\n",
       "4  great stay great stay, went seahawk game aweso...       5"
      ]
     },
     "execution_count": 4,
     "metadata": {},
     "output_type": "execute_result"
    }
   ],
   "source": [
    "data.head()"
   ]
  },
  {
   "cell_type": "markdown",
   "metadata": {},
   "source": [
    "### Lowercase"
   ]
  },
  {
   "cell_type": "code",
   "execution_count": 5,
   "metadata": {},
   "outputs": [],
   "source": [
    "data['ReviewLower'] = data['Review'].str.lower()"
   ]
  },
  {
   "cell_type": "code",
   "execution_count": 6,
   "metadata": {},
   "outputs": [
    {
     "data": {
      "application/vnd.microsoft.datawrangler.viewer.v0+json": {
       "columns": [
        {
         "name": "index",
         "rawType": "int64",
         "type": "integer"
        },
        {
         "name": "Review",
         "rawType": "object",
         "type": "string"
        },
        {
         "name": "Rating",
         "rawType": "int64",
         "type": "integer"
        },
        {
         "name": "ReviewLower",
         "rawType": "object",
         "type": "string"
        }
       ],
       "conversionMethod": "pd.DataFrame",
       "ref": "815e06f7-b9a3-4c0f-b681-729b41cea854",
       "rows": [
        [
         "0",
         "nice hotel expensive parking got good deal stay hotel anniversary, arrived late evening took advice previous reviews did valet parking, check quick easy, little disappointed non-existent view room room clean nice size, bed comfortable woke stiff neck high pillows, not soundproof like heard music room night morning loud bangs doors opening closing hear people talking hallway, maybe just noisy neighbors, aveda bath products nice, did not goldfish stay nice touch taken advantage staying longer, location great walking distance shopping, overall nice experience having pay 40 parking night,  ",
         "4",
         "nice hotel expensive parking got good deal stay hotel anniversary, arrived late evening took advice previous reviews did valet parking, check quick easy, little disappointed non-existent view room room clean nice size, bed comfortable woke stiff neck high pillows, not soundproof like heard music room night morning loud bangs doors opening closing hear people talking hallway, maybe just noisy neighbors, aveda bath products nice, did not goldfish stay nice touch taken advantage staying longer, location great walking distance shopping, overall nice experience having pay 40 parking night,  "
        ],
        [
         "1",
         "ok nothing special charge diamond member hilton decided chain shot 20th anniversary seattle, start booked suite paid extra website description not, suite bedroom bathroom standard hotel room, took printed reservation desk showed said things like tv couch ect desk clerk told oh mixed suites description kimpton website sorry free breakfast, got kidding, embassy suits sitting room bathroom bedroom unlike kimpton calls suite, 5 day stay offer correct false advertising, send kimpton preferred guest website email asking failure provide suite advertised website reservation description furnished hard copy reservation printout website desk manager duty did not reply solution, send email trip guest survey did not follow email mail, guess tell concerned guest.the staff ranged indifferent not helpful, asked desk good breakfast spots neighborhood hood told no hotels, gee best breakfast spots seattle 1/2 block away convenient hotel does not know exist, arrived late night 11 pm inside run bellman busy chating cell phone help bags.prior arrival emailed hotel inform 20th anniversary half really picky wanted make sure good, got nice email saying like deliver bottle champagne chocolate covered strawberries room arrival celebrate, told needed foam pillows, arrival no champagne strawberries no foam pillows great room view alley high rise building good not better housekeeping staff cleaner room property, impressed left morning shopping room got short trips 2 hours, beds comfortable.not good ac-heat control 4 x 4 inch screen bring green shine directly eyes night, light sensitive tape controls.this not 4 start hotel clean business hotel super high rates, better chain hotels seattle,  ",
         "2",
         "ok nothing special charge diamond member hilton decided chain shot 20th anniversary seattle, start booked suite paid extra website description not, suite bedroom bathroom standard hotel room, took printed reservation desk showed said things like tv couch ect desk clerk told oh mixed suites description kimpton website sorry free breakfast, got kidding, embassy suits sitting room bathroom bedroom unlike kimpton calls suite, 5 day stay offer correct false advertising, send kimpton preferred guest website email asking failure provide suite advertised website reservation description furnished hard copy reservation printout website desk manager duty did not reply solution, send email trip guest survey did not follow email mail, guess tell concerned guest.the staff ranged indifferent not helpful, asked desk good breakfast spots neighborhood hood told no hotels, gee best breakfast spots seattle 1/2 block away convenient hotel does not know exist, arrived late night 11 pm inside run bellman busy chating cell phone help bags.prior arrival emailed hotel inform 20th anniversary half really picky wanted make sure good, got nice email saying like deliver bottle champagne chocolate covered strawberries room arrival celebrate, told needed foam pillows, arrival no champagne strawberries no foam pillows great room view alley high rise building good not better housekeeping staff cleaner room property, impressed left morning shopping room got short trips 2 hours, beds comfortable.not good ac-heat control 4 x 4 inch screen bring green shine directly eyes night, light sensitive tape controls.this not 4 start hotel clean business hotel super high rates, better chain hotels seattle,  "
        ],
        [
         "2",
         "nice rooms not 4* experience hotel monaco seattle good hotel n't 4* level.positives large bathroom mediterranean suite comfortable bed pillowsattentive housekeeping staffnegatives ac unit malfunctioned stay desk disorganized, missed 3 separate wakeup calls, concierge busy hard touch, did n't provide guidance special requests.tv hard use ipod sound dock suite non functioning. decided book mediterranean suite 3 night weekend stay 1st choice rest party filled, comparison w spent 45 night larger square footage room great soaking tub whirlpool jets nice shower.before stay hotel arrange car service price 53 tip reasonable driver waiting arrival.checkin easy downside room picked 2 person jacuzi tub no bath accessories salts bubble bath did n't stay, night got 12/1a checked voucher bottle champagne nice gesture fish waiting room, impression room huge open space felt room big, tv far away bed chore change channel, ipod dock broken disappointing.in morning way asked desk check thermostat said 65f 74 2 degrees warm try cover face night bright blue light kept, got room night no, 1st drop desk, called maintainence came look thermostat told play settings happy digital box wo n't work, asked wakeup 10am morning did n't happen, called later 6pm nap wakeup forgot, 10am wakeup morning yep forgotten.the bathroom facilities great room surprised room sold whirlpool bath tub n't bath amenities, great relax water jets going,  ",
         "3",
         "nice rooms not 4* experience hotel monaco seattle good hotel n't 4* level.positives large bathroom mediterranean suite comfortable bed pillowsattentive housekeeping staffnegatives ac unit malfunctioned stay desk disorganized, missed 3 separate wakeup calls, concierge busy hard touch, did n't provide guidance special requests.tv hard use ipod sound dock suite non functioning. decided book mediterranean suite 3 night weekend stay 1st choice rest party filled, comparison w spent 45 night larger square footage room great soaking tub whirlpool jets nice shower.before stay hotel arrange car service price 53 tip reasonable driver waiting arrival.checkin easy downside room picked 2 person jacuzi tub no bath accessories salts bubble bath did n't stay, night got 12/1a checked voucher bottle champagne nice gesture fish waiting room, impression room huge open space felt room big, tv far away bed chore change channel, ipod dock broken disappointing.in morning way asked desk check thermostat said 65f 74 2 degrees warm try cover face night bright blue light kept, got room night no, 1st drop desk, called maintainence came look thermostat told play settings happy digital box wo n't work, asked wakeup 10am morning did n't happen, called later 6pm nap wakeup forgot, 10am wakeup morning yep forgotten.the bathroom facilities great room surprised room sold whirlpool bath tub n't bath amenities, great relax water jets going,  "
        ],
        [
         "3",
         "unique, great stay, wonderful time hotel monaco, location excellent short stroll main downtown shopping area, pet friendly room showed no signs animal hair smells, monaco suite sleeping area big striped curtains pulled closed nice touch felt cosy, goldfish named brandi enjoyed, did n't partake free wine coffee/tea service lobby thought great feature, great staff friendly, free wireless internet hotel worked suite 2 laptops, decor lovely eclectic mix pattens color palatte, animal print bathrobes feel like rock stars, nice did n't look like sterile chain hotel hotel personality excellent stay,  ",
         "5",
         "unique, great stay, wonderful time hotel monaco, location excellent short stroll main downtown shopping area, pet friendly room showed no signs animal hair smells, monaco suite sleeping area big striped curtains pulled closed nice touch felt cosy, goldfish named brandi enjoyed, did n't partake free wine coffee/tea service lobby thought great feature, great staff friendly, free wireless internet hotel worked suite 2 laptops, decor lovely eclectic mix pattens color palatte, animal print bathrobes feel like rock stars, nice did n't look like sterile chain hotel hotel personality excellent stay,  "
        ],
        [
         "4",
         "great stay great stay, went seahawk game awesome, downfall view building did n't complain, room huge staff helpful, booked hotels website seahawk package, no charge parking got voucher taxi, problem taxi driver did n't want accept voucher barely spoke english, funny thing speak arabic called started making comments girlfriend cell phone buddy, took second realize just said fact speak language face priceless, ass told, said large city, told head doorman issue called cab company promply answer did n't, apologized offered pay taxi, bucks 2 miles stadium, game plan taxi return going humpin, great walk did n't mind, right christmas wonderful lights, homeless stowed away building entrances leave, police presence not greatest area stadium, activities 7 blocks pike street waterfront great coffee shops way, hotel mantained foyer awesome, wine tasting available evening, best dog, taking st. bernard time family, safes hotel located service desk room, bathroom huge jetted tub huge, funny house keeping walked girlfriend getting dressed, did n't hear knock doing turn service, screamed girlfriend screams hit floor laughing, started talking spanish worked, place recommend price, check online deals just good not better, besite contains deals vouchers travel websites n't tell,  ",
         "5",
         "great stay great stay, went seahawk game awesome, downfall view building did n't complain, room huge staff helpful, booked hotels website seahawk package, no charge parking got voucher taxi, problem taxi driver did n't want accept voucher barely spoke english, funny thing speak arabic called started making comments girlfriend cell phone buddy, took second realize just said fact speak language face priceless, ass told, said large city, told head doorman issue called cab company promply answer did n't, apologized offered pay taxi, bucks 2 miles stadium, game plan taxi return going humpin, great walk did n't mind, right christmas wonderful lights, homeless stowed away building entrances leave, police presence not greatest area stadium, activities 7 blocks pike street waterfront great coffee shops way, hotel mantained foyer awesome, wine tasting available evening, best dog, taking st. bernard time family, safes hotel located service desk room, bathroom huge jetted tub huge, funny house keeping walked girlfriend getting dressed, did n't hear knock doing turn service, screamed girlfriend screams hit floor laughing, started talking spanish worked, place recommend price, check online deals just good not better, besite contains deals vouchers travel websites n't tell,  "
        ]
       ],
       "shape": {
        "columns": 3,
        "rows": 5
       }
      },
      "text/html": [
       "<div>\n",
       "<style scoped>\n",
       "    .dataframe tbody tr th:only-of-type {\n",
       "        vertical-align: middle;\n",
       "    }\n",
       "\n",
       "    .dataframe tbody tr th {\n",
       "        vertical-align: top;\n",
       "    }\n",
       "\n",
       "    .dataframe thead th {\n",
       "        text-align: right;\n",
       "    }\n",
       "</style>\n",
       "<table border=\"1\" class=\"dataframe\">\n",
       "  <thead>\n",
       "    <tr style=\"text-align: right;\">\n",
       "      <th></th>\n",
       "      <th>Review</th>\n",
       "      <th>Rating</th>\n",
       "      <th>ReviewLower</th>\n",
       "    </tr>\n",
       "  </thead>\n",
       "  <tbody>\n",
       "    <tr>\n",
       "      <th>0</th>\n",
       "      <td>nice hotel expensive parking got good deal sta...</td>\n",
       "      <td>4</td>\n",
       "      <td>nice hotel expensive parking got good deal sta...</td>\n",
       "    </tr>\n",
       "    <tr>\n",
       "      <th>1</th>\n",
       "      <td>ok nothing special charge diamond member hilto...</td>\n",
       "      <td>2</td>\n",
       "      <td>ok nothing special charge diamond member hilto...</td>\n",
       "    </tr>\n",
       "    <tr>\n",
       "      <th>2</th>\n",
       "      <td>nice rooms not 4* experience hotel monaco seat...</td>\n",
       "      <td>3</td>\n",
       "      <td>nice rooms not 4* experience hotel monaco seat...</td>\n",
       "    </tr>\n",
       "    <tr>\n",
       "      <th>3</th>\n",
       "      <td>unique, great stay, wonderful time hotel monac...</td>\n",
       "      <td>5</td>\n",
       "      <td>unique, great stay, wonderful time hotel monac...</td>\n",
       "    </tr>\n",
       "    <tr>\n",
       "      <th>4</th>\n",
       "      <td>great stay great stay, went seahawk game aweso...</td>\n",
       "      <td>5</td>\n",
       "      <td>great stay great stay, went seahawk game aweso...</td>\n",
       "    </tr>\n",
       "  </tbody>\n",
       "</table>\n",
       "</div>"
      ],
      "text/plain": [
       "                                              Review  Rating  \\\n",
       "0  nice hotel expensive parking got good deal sta...       4   \n",
       "1  ok nothing special charge diamond member hilto...       2   \n",
       "2  nice rooms not 4* experience hotel monaco seat...       3   \n",
       "3  unique, great stay, wonderful time hotel monac...       5   \n",
       "4  great stay great stay, went seahawk game aweso...       5   \n",
       "\n",
       "                                         ReviewLower  \n",
       "0  nice hotel expensive parking got good deal sta...  \n",
       "1  ok nothing special charge diamond member hilto...  \n",
       "2  nice rooms not 4* experience hotel monaco seat...  \n",
       "3  unique, great stay, wonderful time hotel monac...  \n",
       "4  great stay great stay, went seahawk game aweso...  "
      ]
     },
     "execution_count": 6,
     "metadata": {},
     "output_type": "execute_result"
    }
   ],
   "source": [
    "data.head()"
   ]
  },
  {
   "cell_type": "markdown",
   "metadata": {},
   "source": [
    "### Stop Word Removal"
   ]
  },
  {
   "cell_type": "code",
   "execution_count": 7,
   "metadata": {},
   "outputs": [],
   "source": [
    "en_stopwords = set(stopwords.words('english'))\n",
    "en_stopwords.remove('not')"
   ]
  },
  {
   "cell_type": "code",
   "execution_count": 8,
   "metadata": {},
   "outputs": [],
   "source": [
    "data[\"ReviewCleaned\"] = data[\"ReviewLower\"].apply(lambda x: \" \".join([word for word in word_tokenize(x) if word not in en_stopwords]))"
   ]
  },
  {
   "cell_type": "code",
   "execution_count": 9,
   "metadata": {},
   "outputs": [
    {
     "data": {
      "application/vnd.microsoft.datawrangler.viewer.v0+json": {
       "columns": [
        {
         "name": "index",
         "rawType": "int64",
         "type": "integer"
        },
        {
         "name": "Review",
         "rawType": "object",
         "type": "string"
        },
        {
         "name": "Rating",
         "rawType": "int64",
         "type": "integer"
        },
        {
         "name": "ReviewLower",
         "rawType": "object",
         "type": "string"
        },
        {
         "name": "ReviewCleaned",
         "rawType": "object",
         "type": "string"
        }
       ],
       "conversionMethod": "pd.DataFrame",
       "ref": "832d997f-f697-48f7-90fe-416a8845b52a",
       "rows": [
        [
         "0",
         "nice hotel expensive parking got good deal stay hotel anniversary, arrived late evening took advice previous reviews did valet parking, check quick easy, little disappointed non-existent view room room clean nice size, bed comfortable woke stiff neck high pillows, not soundproof like heard music room night morning loud bangs doors opening closing hear people talking hallway, maybe just noisy neighbors, aveda bath products nice, did not goldfish stay nice touch taken advantage staying longer, location great walking distance shopping, overall nice experience having pay 40 parking night,  ",
         "4",
         "nice hotel expensive parking got good deal stay hotel anniversary, arrived late evening took advice previous reviews did valet parking, check quick easy, little disappointed non-existent view room room clean nice size, bed comfortable woke stiff neck high pillows, not soundproof like heard music room night morning loud bangs doors opening closing hear people talking hallway, maybe just noisy neighbors, aveda bath products nice, did not goldfish stay nice touch taken advantage staying longer, location great walking distance shopping, overall nice experience having pay 40 parking night,  ",
         "nice hotel expensive parking got good deal stay hotel anniversary , arrived late evening took advice previous reviews valet parking , check quick easy , little disappointed non-existent view room room clean nice size , bed comfortable woke stiff neck high pillows , not soundproof like heard music room night morning loud bangs doors opening closing hear people talking hallway , maybe noisy neighbors , aveda bath products nice , not goldfish stay nice touch taken advantage staying longer , location great walking distance shopping , overall nice experience pay 40 parking night ,"
        ],
        [
         "1",
         "ok nothing special charge diamond member hilton decided chain shot 20th anniversary seattle, start booked suite paid extra website description not, suite bedroom bathroom standard hotel room, took printed reservation desk showed said things like tv couch ect desk clerk told oh mixed suites description kimpton website sorry free breakfast, got kidding, embassy suits sitting room bathroom bedroom unlike kimpton calls suite, 5 day stay offer correct false advertising, send kimpton preferred guest website email asking failure provide suite advertised website reservation description furnished hard copy reservation printout website desk manager duty did not reply solution, send email trip guest survey did not follow email mail, guess tell concerned guest.the staff ranged indifferent not helpful, asked desk good breakfast spots neighborhood hood told no hotels, gee best breakfast spots seattle 1/2 block away convenient hotel does not know exist, arrived late night 11 pm inside run bellman busy chating cell phone help bags.prior arrival emailed hotel inform 20th anniversary half really picky wanted make sure good, got nice email saying like deliver bottle champagne chocolate covered strawberries room arrival celebrate, told needed foam pillows, arrival no champagne strawberries no foam pillows great room view alley high rise building good not better housekeeping staff cleaner room property, impressed left morning shopping room got short trips 2 hours, beds comfortable.not good ac-heat control 4 x 4 inch screen bring green shine directly eyes night, light sensitive tape controls.this not 4 start hotel clean business hotel super high rates, better chain hotels seattle,  ",
         "2",
         "ok nothing special charge diamond member hilton decided chain shot 20th anniversary seattle, start booked suite paid extra website description not, suite bedroom bathroom standard hotel room, took printed reservation desk showed said things like tv couch ect desk clerk told oh mixed suites description kimpton website sorry free breakfast, got kidding, embassy suits sitting room bathroom bedroom unlike kimpton calls suite, 5 day stay offer correct false advertising, send kimpton preferred guest website email asking failure provide suite advertised website reservation description furnished hard copy reservation printout website desk manager duty did not reply solution, send email trip guest survey did not follow email mail, guess tell concerned guest.the staff ranged indifferent not helpful, asked desk good breakfast spots neighborhood hood told no hotels, gee best breakfast spots seattle 1/2 block away convenient hotel does not know exist, arrived late night 11 pm inside run bellman busy chating cell phone help bags.prior arrival emailed hotel inform 20th anniversary half really picky wanted make sure good, got nice email saying like deliver bottle champagne chocolate covered strawberries room arrival celebrate, told needed foam pillows, arrival no champagne strawberries no foam pillows great room view alley high rise building good not better housekeeping staff cleaner room property, impressed left morning shopping room got short trips 2 hours, beds comfortable.not good ac-heat control 4 x 4 inch screen bring green shine directly eyes night, light sensitive tape controls.this not 4 start hotel clean business hotel super high rates, better chain hotels seattle,  ",
         "ok nothing special charge diamond member hilton decided chain shot 20th anniversary seattle , start booked suite paid extra website description not , suite bedroom bathroom standard hotel room , took printed reservation desk showed said things like tv couch ect desk clerk told oh mixed suites description kimpton website sorry free breakfast , got kidding , embassy suits sitting room bathroom bedroom unlike kimpton calls suite , 5 day stay offer correct false advertising , send kimpton preferred guest website email asking failure provide suite advertised website reservation description furnished hard copy reservation printout website desk manager duty not reply solution , send email trip guest survey not follow email mail , guess tell concerned guest.the staff ranged indifferent not helpful , asked desk good breakfast spots neighborhood hood told hotels , gee best breakfast spots seattle 1/2 block away convenient hotel not know exist , arrived late night 11 pm inside run bellman busy chating cell phone help bags.prior arrival emailed hotel inform 20th anniversary half really picky wanted make sure good , got nice email saying like deliver bottle champagne chocolate covered strawberries room arrival celebrate , told needed foam pillows , arrival champagne strawberries foam pillows great room view alley high rise building good not better housekeeping staff cleaner room property , impressed left morning shopping room got short trips 2 hours , beds comfortable.not good ac-heat control 4 x 4 inch screen bring green shine directly eyes night , light sensitive tape controls.this not 4 start hotel clean business hotel super high rates , better chain hotels seattle ,"
        ],
        [
         "2",
         "nice rooms not 4* experience hotel monaco seattle good hotel n't 4* level.positives large bathroom mediterranean suite comfortable bed pillowsattentive housekeeping staffnegatives ac unit malfunctioned stay desk disorganized, missed 3 separate wakeup calls, concierge busy hard touch, did n't provide guidance special requests.tv hard use ipod sound dock suite non functioning. decided book mediterranean suite 3 night weekend stay 1st choice rest party filled, comparison w spent 45 night larger square footage room great soaking tub whirlpool jets nice shower.before stay hotel arrange car service price 53 tip reasonable driver waiting arrival.checkin easy downside room picked 2 person jacuzi tub no bath accessories salts bubble bath did n't stay, night got 12/1a checked voucher bottle champagne nice gesture fish waiting room, impression room huge open space felt room big, tv far away bed chore change channel, ipod dock broken disappointing.in morning way asked desk check thermostat said 65f 74 2 degrees warm try cover face night bright blue light kept, got room night no, 1st drop desk, called maintainence came look thermostat told play settings happy digital box wo n't work, asked wakeup 10am morning did n't happen, called later 6pm nap wakeup forgot, 10am wakeup morning yep forgotten.the bathroom facilities great room surprised room sold whirlpool bath tub n't bath amenities, great relax water jets going,  ",
         "3",
         "nice rooms not 4* experience hotel monaco seattle good hotel n't 4* level.positives large bathroom mediterranean suite comfortable bed pillowsattentive housekeeping staffnegatives ac unit malfunctioned stay desk disorganized, missed 3 separate wakeup calls, concierge busy hard touch, did n't provide guidance special requests.tv hard use ipod sound dock suite non functioning. decided book mediterranean suite 3 night weekend stay 1st choice rest party filled, comparison w spent 45 night larger square footage room great soaking tub whirlpool jets nice shower.before stay hotel arrange car service price 53 tip reasonable driver waiting arrival.checkin easy downside room picked 2 person jacuzi tub no bath accessories salts bubble bath did n't stay, night got 12/1a checked voucher bottle champagne nice gesture fish waiting room, impression room huge open space felt room big, tv far away bed chore change channel, ipod dock broken disappointing.in morning way asked desk check thermostat said 65f 74 2 degrees warm try cover face night bright blue light kept, got room night no, 1st drop desk, called maintainence came look thermostat told play settings happy digital box wo n't work, asked wakeup 10am morning did n't happen, called later 6pm nap wakeup forgot, 10am wakeup morning yep forgotten.the bathroom facilities great room surprised room sold whirlpool bath tub n't bath amenities, great relax water jets going,  ",
         "nice rooms not 4 * experience hotel monaco seattle good hotel n't 4 * level.positives large bathroom mediterranean suite comfortable bed pillowsattentive housekeeping staffnegatives ac unit malfunctioned stay desk disorganized , missed 3 separate wakeup calls , concierge busy hard touch , n't provide guidance special requests.tv hard use ipod sound dock suite non functioning . decided book mediterranean suite 3 night weekend stay 1st choice rest party filled , comparison w spent 45 night larger square footage room great soaking tub whirlpool jets nice shower.before stay hotel arrange car service price 53 tip reasonable driver waiting arrival.checkin easy downside room picked 2 person jacuzi tub bath accessories salts bubble bath n't stay , night got 12/1a checked voucher bottle champagne nice gesture fish waiting room , impression room huge open space felt room big , tv far away bed chore change channel , ipod dock broken disappointing.in morning way asked desk check thermostat said 65f 74 2 degrees warm try cover face night bright blue light kept , got room night , 1st drop desk , called maintainence came look thermostat told play settings happy digital box wo n't work , asked wakeup 10am morning n't happen , called later 6pm nap wakeup forgot , 10am wakeup morning yep forgotten.the bathroom facilities great room surprised room sold whirlpool bath tub n't bath amenities , great relax water jets going ,"
        ],
        [
         "3",
         "unique, great stay, wonderful time hotel monaco, location excellent short stroll main downtown shopping area, pet friendly room showed no signs animal hair smells, monaco suite sleeping area big striped curtains pulled closed nice touch felt cosy, goldfish named brandi enjoyed, did n't partake free wine coffee/tea service lobby thought great feature, great staff friendly, free wireless internet hotel worked suite 2 laptops, decor lovely eclectic mix pattens color palatte, animal print bathrobes feel like rock stars, nice did n't look like sterile chain hotel hotel personality excellent stay,  ",
         "5",
         "unique, great stay, wonderful time hotel monaco, location excellent short stroll main downtown shopping area, pet friendly room showed no signs animal hair smells, monaco suite sleeping area big striped curtains pulled closed nice touch felt cosy, goldfish named brandi enjoyed, did n't partake free wine coffee/tea service lobby thought great feature, great staff friendly, free wireless internet hotel worked suite 2 laptops, decor lovely eclectic mix pattens color palatte, animal print bathrobes feel like rock stars, nice did n't look like sterile chain hotel hotel personality excellent stay,  ",
         "unique , great stay , wonderful time hotel monaco , location excellent short stroll main downtown shopping area , pet friendly room showed signs animal hair smells , monaco suite sleeping area big striped curtains pulled closed nice touch felt cosy , goldfish named brandi enjoyed , n't partake free wine coffee/tea service lobby thought great feature , great staff friendly , free wireless internet hotel worked suite 2 laptops , decor lovely eclectic mix pattens color palatte , animal print bathrobes feel like rock stars , nice n't look like sterile chain hotel hotel personality excellent stay ,"
        ],
        [
         "4",
         "great stay great stay, went seahawk game awesome, downfall view building did n't complain, room huge staff helpful, booked hotels website seahawk package, no charge parking got voucher taxi, problem taxi driver did n't want accept voucher barely spoke english, funny thing speak arabic called started making comments girlfriend cell phone buddy, took second realize just said fact speak language face priceless, ass told, said large city, told head doorman issue called cab company promply answer did n't, apologized offered pay taxi, bucks 2 miles stadium, game plan taxi return going humpin, great walk did n't mind, right christmas wonderful lights, homeless stowed away building entrances leave, police presence not greatest area stadium, activities 7 blocks pike street waterfront great coffee shops way, hotel mantained foyer awesome, wine tasting available evening, best dog, taking st. bernard time family, safes hotel located service desk room, bathroom huge jetted tub huge, funny house keeping walked girlfriend getting dressed, did n't hear knock doing turn service, screamed girlfriend screams hit floor laughing, started talking spanish worked, place recommend price, check online deals just good not better, besite contains deals vouchers travel websites n't tell,  ",
         "5",
         "great stay great stay, went seahawk game awesome, downfall view building did n't complain, room huge staff helpful, booked hotels website seahawk package, no charge parking got voucher taxi, problem taxi driver did n't want accept voucher barely spoke english, funny thing speak arabic called started making comments girlfriend cell phone buddy, took second realize just said fact speak language face priceless, ass told, said large city, told head doorman issue called cab company promply answer did n't, apologized offered pay taxi, bucks 2 miles stadium, game plan taxi return going humpin, great walk did n't mind, right christmas wonderful lights, homeless stowed away building entrances leave, police presence not greatest area stadium, activities 7 blocks pike street waterfront great coffee shops way, hotel mantained foyer awesome, wine tasting available evening, best dog, taking st. bernard time family, safes hotel located service desk room, bathroom huge jetted tub huge, funny house keeping walked girlfriend getting dressed, did n't hear knock doing turn service, screamed girlfriend screams hit floor laughing, started talking spanish worked, place recommend price, check online deals just good not better, besite contains deals vouchers travel websites n't tell,  ",
         "great stay great stay , went seahawk game awesome , downfall view building n't complain , room huge staff helpful , booked hotels website seahawk package , charge parking got voucher taxi , problem taxi driver n't want accept voucher barely spoke english , funny thing speak arabic called started making comments girlfriend cell phone buddy , took second realize said fact speak language face priceless , ass told , said large city , told head doorman issue called cab company promply answer n't , apologized offered pay taxi , bucks 2 miles stadium , game plan taxi return going humpin , great walk n't mind , right christmas wonderful lights , homeless stowed away building entrances leave , police presence not greatest area stadium , activities 7 blocks pike street waterfront great coffee shops way , hotel mantained foyer awesome , wine tasting available evening , best dog , taking st. bernard time family , safes hotel located service desk room , bathroom huge jetted tub huge , funny house keeping walked girlfriend getting dressed , n't hear knock turn service , screamed girlfriend screams hit floor laughing , started talking spanish worked , place recommend price , check online deals good not better , besite contains deals vouchers travel websites n't tell ,"
        ]
       ],
       "shape": {
        "columns": 4,
        "rows": 5
       }
      },
      "text/html": [
       "<div>\n",
       "<style scoped>\n",
       "    .dataframe tbody tr th:only-of-type {\n",
       "        vertical-align: middle;\n",
       "    }\n",
       "\n",
       "    .dataframe tbody tr th {\n",
       "        vertical-align: top;\n",
       "    }\n",
       "\n",
       "    .dataframe thead th {\n",
       "        text-align: right;\n",
       "    }\n",
       "</style>\n",
       "<table border=\"1\" class=\"dataframe\">\n",
       "  <thead>\n",
       "    <tr style=\"text-align: right;\">\n",
       "      <th></th>\n",
       "      <th>Review</th>\n",
       "      <th>Rating</th>\n",
       "      <th>ReviewLower</th>\n",
       "      <th>ReviewCleaned</th>\n",
       "    </tr>\n",
       "  </thead>\n",
       "  <tbody>\n",
       "    <tr>\n",
       "      <th>0</th>\n",
       "      <td>nice hotel expensive parking got good deal sta...</td>\n",
       "      <td>4</td>\n",
       "      <td>nice hotel expensive parking got good deal sta...</td>\n",
       "      <td>nice hotel expensive parking got good deal sta...</td>\n",
       "    </tr>\n",
       "    <tr>\n",
       "      <th>1</th>\n",
       "      <td>ok nothing special charge diamond member hilto...</td>\n",
       "      <td>2</td>\n",
       "      <td>ok nothing special charge diamond member hilto...</td>\n",
       "      <td>ok nothing special charge diamond member hilto...</td>\n",
       "    </tr>\n",
       "    <tr>\n",
       "      <th>2</th>\n",
       "      <td>nice rooms not 4* experience hotel monaco seat...</td>\n",
       "      <td>3</td>\n",
       "      <td>nice rooms not 4* experience hotel monaco seat...</td>\n",
       "      <td>nice rooms not 4 * experience hotel monaco sea...</td>\n",
       "    </tr>\n",
       "    <tr>\n",
       "      <th>3</th>\n",
       "      <td>unique, great stay, wonderful time hotel monac...</td>\n",
       "      <td>5</td>\n",
       "      <td>unique, great stay, wonderful time hotel monac...</td>\n",
       "      <td>unique , great stay , wonderful time hotel mon...</td>\n",
       "    </tr>\n",
       "    <tr>\n",
       "      <th>4</th>\n",
       "      <td>great stay great stay, went seahawk game aweso...</td>\n",
       "      <td>5</td>\n",
       "      <td>great stay great stay, went seahawk game aweso...</td>\n",
       "      <td>great stay great stay , went seahawk game awes...</td>\n",
       "    </tr>\n",
       "  </tbody>\n",
       "</table>\n",
       "</div>"
      ],
      "text/plain": [
       "                                              Review  Rating  \\\n",
       "0  nice hotel expensive parking got good deal sta...       4   \n",
       "1  ok nothing special charge diamond member hilto...       2   \n",
       "2  nice rooms not 4* experience hotel monaco seat...       3   \n",
       "3  unique, great stay, wonderful time hotel monac...       5   \n",
       "4  great stay great stay, went seahawk game aweso...       5   \n",
       "\n",
       "                                         ReviewLower  \\\n",
       "0  nice hotel expensive parking got good deal sta...   \n",
       "1  ok nothing special charge diamond member hilto...   \n",
       "2  nice rooms not 4* experience hotel monaco seat...   \n",
       "3  unique, great stay, wonderful time hotel monac...   \n",
       "4  great stay great stay, went seahawk game aweso...   \n",
       "\n",
       "                                       ReviewCleaned  \n",
       "0  nice hotel expensive parking got good deal sta...  \n",
       "1  ok nothing special charge diamond member hilto...  \n",
       "2  nice rooms not 4 * experience hotel monaco sea...  \n",
       "3  unique , great stay , wonderful time hotel mon...  \n",
       "4  great stay great stay , went seahawk game awes...  "
      ]
     },
     "execution_count": 9,
     "metadata": {},
     "output_type": "execute_result"
    }
   ],
   "source": [
    "data.head()"
   ]
  },
  {
   "cell_type": "markdown",
   "metadata": {},
   "source": [
    "### Punctuation Removal"
   ]
  },
  {
   "cell_type": "code",
   "execution_count": 10,
   "metadata": {},
   "outputs": [],
   "source": [
    "# (convert * to star)\n",
    "data[\"ReviewNoPunctuation\"] = data[\"ReviewCleaned\"].apply(lambda x: re.sub(r\"[*]\", \"star\", x))"
   ]
  },
  {
   "cell_type": "code",
   "execution_count": 11,
   "metadata": {},
   "outputs": [],
   "source": [
    "# Remove special characters\n",
    "data[\"ReviewNoPunctuation\"] = data[\"ReviewNoPunctuation\"].apply(lambda x: re.sub(r\"[^\\w\\s]\", \" \", x))"
   ]
  },
  {
   "cell_type": "code",
   "execution_count": 12,
   "metadata": {},
   "outputs": [
    {
     "data": {
      "application/vnd.microsoft.datawrangler.viewer.v0+json": {
       "columns": [
        {
         "name": "index",
         "rawType": "int64",
         "type": "integer"
        },
        {
         "name": "Review",
         "rawType": "object",
         "type": "string"
        },
        {
         "name": "Rating",
         "rawType": "int64",
         "type": "integer"
        },
        {
         "name": "ReviewLower",
         "rawType": "object",
         "type": "string"
        },
        {
         "name": "ReviewCleaned",
         "rawType": "object",
         "type": "string"
        },
        {
         "name": "ReviewNoPunctuation",
         "rawType": "object",
         "type": "string"
        }
       ],
       "conversionMethod": "pd.DataFrame",
       "ref": "93d00c9e-75c7-4eb2-b355-386e5e0dfe09",
       "rows": [
        [
         "0",
         "nice hotel expensive parking got good deal stay hotel anniversary, arrived late evening took advice previous reviews did valet parking, check quick easy, little disappointed non-existent view room room clean nice size, bed comfortable woke stiff neck high pillows, not soundproof like heard music room night morning loud bangs doors opening closing hear people talking hallway, maybe just noisy neighbors, aveda bath products nice, did not goldfish stay nice touch taken advantage staying longer, location great walking distance shopping, overall nice experience having pay 40 parking night,  ",
         "4",
         "nice hotel expensive parking got good deal stay hotel anniversary, arrived late evening took advice previous reviews did valet parking, check quick easy, little disappointed non-existent view room room clean nice size, bed comfortable woke stiff neck high pillows, not soundproof like heard music room night morning loud bangs doors opening closing hear people talking hallway, maybe just noisy neighbors, aveda bath products nice, did not goldfish stay nice touch taken advantage staying longer, location great walking distance shopping, overall nice experience having pay 40 parking night,  ",
         "nice hotel expensive parking got good deal stay hotel anniversary , arrived late evening took advice previous reviews valet parking , check quick easy , little disappointed non-existent view room room clean nice size , bed comfortable woke stiff neck high pillows , not soundproof like heard music room night morning loud bangs doors opening closing hear people talking hallway , maybe noisy neighbors , aveda bath products nice , not goldfish stay nice touch taken advantage staying longer , location great walking distance shopping , overall nice experience pay 40 parking night ,",
         "nice hotel expensive parking got good deal stay hotel anniversary   arrived late evening took advice previous reviews valet parking   check quick easy   little disappointed non existent view room room clean nice size   bed comfortable woke stiff neck high pillows   not soundproof like heard music room night morning loud bangs doors opening closing hear people talking hallway   maybe noisy neighbors   aveda bath products nice   not goldfish stay nice touch taken advantage staying longer   location great walking distance shopping   overall nice experience pay 40 parking night  "
        ],
        [
         "1",
         "ok nothing special charge diamond member hilton decided chain shot 20th anniversary seattle, start booked suite paid extra website description not, suite bedroom bathroom standard hotel room, took printed reservation desk showed said things like tv couch ect desk clerk told oh mixed suites description kimpton website sorry free breakfast, got kidding, embassy suits sitting room bathroom bedroom unlike kimpton calls suite, 5 day stay offer correct false advertising, send kimpton preferred guest website email asking failure provide suite advertised website reservation description furnished hard copy reservation printout website desk manager duty did not reply solution, send email trip guest survey did not follow email mail, guess tell concerned guest.the staff ranged indifferent not helpful, asked desk good breakfast spots neighborhood hood told no hotels, gee best breakfast spots seattle 1/2 block away convenient hotel does not know exist, arrived late night 11 pm inside run bellman busy chating cell phone help bags.prior arrival emailed hotel inform 20th anniversary half really picky wanted make sure good, got nice email saying like deliver bottle champagne chocolate covered strawberries room arrival celebrate, told needed foam pillows, arrival no champagne strawberries no foam pillows great room view alley high rise building good not better housekeeping staff cleaner room property, impressed left morning shopping room got short trips 2 hours, beds comfortable.not good ac-heat control 4 x 4 inch screen bring green shine directly eyes night, light sensitive tape controls.this not 4 start hotel clean business hotel super high rates, better chain hotels seattle,  ",
         "2",
         "ok nothing special charge diamond member hilton decided chain shot 20th anniversary seattle, start booked suite paid extra website description not, suite bedroom bathroom standard hotel room, took printed reservation desk showed said things like tv couch ect desk clerk told oh mixed suites description kimpton website sorry free breakfast, got kidding, embassy suits sitting room bathroom bedroom unlike kimpton calls suite, 5 day stay offer correct false advertising, send kimpton preferred guest website email asking failure provide suite advertised website reservation description furnished hard copy reservation printout website desk manager duty did not reply solution, send email trip guest survey did not follow email mail, guess tell concerned guest.the staff ranged indifferent not helpful, asked desk good breakfast spots neighborhood hood told no hotels, gee best breakfast spots seattle 1/2 block away convenient hotel does not know exist, arrived late night 11 pm inside run bellman busy chating cell phone help bags.prior arrival emailed hotel inform 20th anniversary half really picky wanted make sure good, got nice email saying like deliver bottle champagne chocolate covered strawberries room arrival celebrate, told needed foam pillows, arrival no champagne strawberries no foam pillows great room view alley high rise building good not better housekeeping staff cleaner room property, impressed left morning shopping room got short trips 2 hours, beds comfortable.not good ac-heat control 4 x 4 inch screen bring green shine directly eyes night, light sensitive tape controls.this not 4 start hotel clean business hotel super high rates, better chain hotels seattle,  ",
         "ok nothing special charge diamond member hilton decided chain shot 20th anniversary seattle , start booked suite paid extra website description not , suite bedroom bathroom standard hotel room , took printed reservation desk showed said things like tv couch ect desk clerk told oh mixed suites description kimpton website sorry free breakfast , got kidding , embassy suits sitting room bathroom bedroom unlike kimpton calls suite , 5 day stay offer correct false advertising , send kimpton preferred guest website email asking failure provide suite advertised website reservation description furnished hard copy reservation printout website desk manager duty not reply solution , send email trip guest survey not follow email mail , guess tell concerned guest.the staff ranged indifferent not helpful , asked desk good breakfast spots neighborhood hood told hotels , gee best breakfast spots seattle 1/2 block away convenient hotel not know exist , arrived late night 11 pm inside run bellman busy chating cell phone help bags.prior arrival emailed hotel inform 20th anniversary half really picky wanted make sure good , got nice email saying like deliver bottle champagne chocolate covered strawberries room arrival celebrate , told needed foam pillows , arrival champagne strawberries foam pillows great room view alley high rise building good not better housekeeping staff cleaner room property , impressed left morning shopping room got short trips 2 hours , beds comfortable.not good ac-heat control 4 x 4 inch screen bring green shine directly eyes night , light sensitive tape controls.this not 4 start hotel clean business hotel super high rates , better chain hotels seattle ,",
         "ok nothing special charge diamond member hilton decided chain shot 20th anniversary seattle   start booked suite paid extra website description not   suite bedroom bathroom standard hotel room   took printed reservation desk showed said things like tv couch ect desk clerk told oh mixed suites description kimpton website sorry free breakfast   got kidding   embassy suits sitting room bathroom bedroom unlike kimpton calls suite   5 day stay offer correct false advertising   send kimpton preferred guest website email asking failure provide suite advertised website reservation description furnished hard copy reservation printout website desk manager duty not reply solution   send email trip guest survey not follow email mail   guess tell concerned guest the staff ranged indifferent not helpful   asked desk good breakfast spots neighborhood hood told hotels   gee best breakfast spots seattle 1 2 block away convenient hotel not know exist   arrived late night 11 pm inside run bellman busy chating cell phone help bags prior arrival emailed hotel inform 20th anniversary half really picky wanted make sure good   got nice email saying like deliver bottle champagne chocolate covered strawberries room arrival celebrate   told needed foam pillows   arrival champagne strawberries foam pillows great room view alley high rise building good not better housekeeping staff cleaner room property   impressed left morning shopping room got short trips 2 hours   beds comfortable not good ac heat control 4 x 4 inch screen bring green shine directly eyes night   light sensitive tape controls this not 4 start hotel clean business hotel super high rates   better chain hotels seattle  "
        ],
        [
         "2",
         "nice rooms not 4* experience hotel monaco seattle good hotel n't 4* level.positives large bathroom mediterranean suite comfortable bed pillowsattentive housekeeping staffnegatives ac unit malfunctioned stay desk disorganized, missed 3 separate wakeup calls, concierge busy hard touch, did n't provide guidance special requests.tv hard use ipod sound dock suite non functioning. decided book mediterranean suite 3 night weekend stay 1st choice rest party filled, comparison w spent 45 night larger square footage room great soaking tub whirlpool jets nice shower.before stay hotel arrange car service price 53 tip reasonable driver waiting arrival.checkin easy downside room picked 2 person jacuzi tub no bath accessories salts bubble bath did n't stay, night got 12/1a checked voucher bottle champagne nice gesture fish waiting room, impression room huge open space felt room big, tv far away bed chore change channel, ipod dock broken disappointing.in morning way asked desk check thermostat said 65f 74 2 degrees warm try cover face night bright blue light kept, got room night no, 1st drop desk, called maintainence came look thermostat told play settings happy digital box wo n't work, asked wakeup 10am morning did n't happen, called later 6pm nap wakeup forgot, 10am wakeup morning yep forgotten.the bathroom facilities great room surprised room sold whirlpool bath tub n't bath amenities, great relax water jets going,  ",
         "3",
         "nice rooms not 4* experience hotel monaco seattle good hotel n't 4* level.positives large bathroom mediterranean suite comfortable bed pillowsattentive housekeeping staffnegatives ac unit malfunctioned stay desk disorganized, missed 3 separate wakeup calls, concierge busy hard touch, did n't provide guidance special requests.tv hard use ipod sound dock suite non functioning. decided book mediterranean suite 3 night weekend stay 1st choice rest party filled, comparison w spent 45 night larger square footage room great soaking tub whirlpool jets nice shower.before stay hotel arrange car service price 53 tip reasonable driver waiting arrival.checkin easy downside room picked 2 person jacuzi tub no bath accessories salts bubble bath did n't stay, night got 12/1a checked voucher bottle champagne nice gesture fish waiting room, impression room huge open space felt room big, tv far away bed chore change channel, ipod dock broken disappointing.in morning way asked desk check thermostat said 65f 74 2 degrees warm try cover face night bright blue light kept, got room night no, 1st drop desk, called maintainence came look thermostat told play settings happy digital box wo n't work, asked wakeup 10am morning did n't happen, called later 6pm nap wakeup forgot, 10am wakeup morning yep forgotten.the bathroom facilities great room surprised room sold whirlpool bath tub n't bath amenities, great relax water jets going,  ",
         "nice rooms not 4 * experience hotel monaco seattle good hotel n't 4 * level.positives large bathroom mediterranean suite comfortable bed pillowsattentive housekeeping staffnegatives ac unit malfunctioned stay desk disorganized , missed 3 separate wakeup calls , concierge busy hard touch , n't provide guidance special requests.tv hard use ipod sound dock suite non functioning . decided book mediterranean suite 3 night weekend stay 1st choice rest party filled , comparison w spent 45 night larger square footage room great soaking tub whirlpool jets nice shower.before stay hotel arrange car service price 53 tip reasonable driver waiting arrival.checkin easy downside room picked 2 person jacuzi tub bath accessories salts bubble bath n't stay , night got 12/1a checked voucher bottle champagne nice gesture fish waiting room , impression room huge open space felt room big , tv far away bed chore change channel , ipod dock broken disappointing.in morning way asked desk check thermostat said 65f 74 2 degrees warm try cover face night bright blue light kept , got room night , 1st drop desk , called maintainence came look thermostat told play settings happy digital box wo n't work , asked wakeup 10am morning n't happen , called later 6pm nap wakeup forgot , 10am wakeup morning yep forgotten.the bathroom facilities great room surprised room sold whirlpool bath tub n't bath amenities , great relax water jets going ,",
         "nice rooms not 4 star experience hotel monaco seattle good hotel n t 4 star level positives large bathroom mediterranean suite comfortable bed pillowsattentive housekeeping staffnegatives ac unit malfunctioned stay desk disorganized   missed 3 separate wakeup calls   concierge busy hard touch   n t provide guidance special requests tv hard use ipod sound dock suite non functioning   decided book mediterranean suite 3 night weekend stay 1st choice rest party filled   comparison w spent 45 night larger square footage room great soaking tub whirlpool jets nice shower before stay hotel arrange car service price 53 tip reasonable driver waiting arrival checkin easy downside room picked 2 person jacuzi tub bath accessories salts bubble bath n t stay   night got 12 1a checked voucher bottle champagne nice gesture fish waiting room   impression room huge open space felt room big   tv far away bed chore change channel   ipod dock broken disappointing in morning way asked desk check thermostat said 65f 74 2 degrees warm try cover face night bright blue light kept   got room night   1st drop desk   called maintainence came look thermostat told play settings happy digital box wo n t work   asked wakeup 10am morning n t happen   called later 6pm nap wakeup forgot   10am wakeup morning yep forgotten the bathroom facilities great room surprised room sold whirlpool bath tub n t bath amenities   great relax water jets going  "
        ],
        [
         "3",
         "unique, great stay, wonderful time hotel monaco, location excellent short stroll main downtown shopping area, pet friendly room showed no signs animal hair smells, monaco suite sleeping area big striped curtains pulled closed nice touch felt cosy, goldfish named brandi enjoyed, did n't partake free wine coffee/tea service lobby thought great feature, great staff friendly, free wireless internet hotel worked suite 2 laptops, decor lovely eclectic mix pattens color palatte, animal print bathrobes feel like rock stars, nice did n't look like sterile chain hotel hotel personality excellent stay,  ",
         "5",
         "unique, great stay, wonderful time hotel monaco, location excellent short stroll main downtown shopping area, pet friendly room showed no signs animal hair smells, monaco suite sleeping area big striped curtains pulled closed nice touch felt cosy, goldfish named brandi enjoyed, did n't partake free wine coffee/tea service lobby thought great feature, great staff friendly, free wireless internet hotel worked suite 2 laptops, decor lovely eclectic mix pattens color palatte, animal print bathrobes feel like rock stars, nice did n't look like sterile chain hotel hotel personality excellent stay,  ",
         "unique , great stay , wonderful time hotel monaco , location excellent short stroll main downtown shopping area , pet friendly room showed signs animal hair smells , monaco suite sleeping area big striped curtains pulled closed nice touch felt cosy , goldfish named brandi enjoyed , n't partake free wine coffee/tea service lobby thought great feature , great staff friendly , free wireless internet hotel worked suite 2 laptops , decor lovely eclectic mix pattens color palatte , animal print bathrobes feel like rock stars , nice n't look like sterile chain hotel hotel personality excellent stay ,",
         "unique   great stay   wonderful time hotel monaco   location excellent short stroll main downtown shopping area   pet friendly room showed signs animal hair smells   monaco suite sleeping area big striped curtains pulled closed nice touch felt cosy   goldfish named brandi enjoyed   n t partake free wine coffee tea service lobby thought great feature   great staff friendly   free wireless internet hotel worked suite 2 laptops   decor lovely eclectic mix pattens color palatte   animal print bathrobes feel like rock stars   nice n t look like sterile chain hotel hotel personality excellent stay  "
        ],
        [
         "4",
         "great stay great stay, went seahawk game awesome, downfall view building did n't complain, room huge staff helpful, booked hotels website seahawk package, no charge parking got voucher taxi, problem taxi driver did n't want accept voucher barely spoke english, funny thing speak arabic called started making comments girlfriend cell phone buddy, took second realize just said fact speak language face priceless, ass told, said large city, told head doorman issue called cab company promply answer did n't, apologized offered pay taxi, bucks 2 miles stadium, game plan taxi return going humpin, great walk did n't mind, right christmas wonderful lights, homeless stowed away building entrances leave, police presence not greatest area stadium, activities 7 blocks pike street waterfront great coffee shops way, hotel mantained foyer awesome, wine tasting available evening, best dog, taking st. bernard time family, safes hotel located service desk room, bathroom huge jetted tub huge, funny house keeping walked girlfriend getting dressed, did n't hear knock doing turn service, screamed girlfriend screams hit floor laughing, started talking spanish worked, place recommend price, check online deals just good not better, besite contains deals vouchers travel websites n't tell,  ",
         "5",
         "great stay great stay, went seahawk game awesome, downfall view building did n't complain, room huge staff helpful, booked hotels website seahawk package, no charge parking got voucher taxi, problem taxi driver did n't want accept voucher barely spoke english, funny thing speak arabic called started making comments girlfriend cell phone buddy, took second realize just said fact speak language face priceless, ass told, said large city, told head doorman issue called cab company promply answer did n't, apologized offered pay taxi, bucks 2 miles stadium, game plan taxi return going humpin, great walk did n't mind, right christmas wonderful lights, homeless stowed away building entrances leave, police presence not greatest area stadium, activities 7 blocks pike street waterfront great coffee shops way, hotel mantained foyer awesome, wine tasting available evening, best dog, taking st. bernard time family, safes hotel located service desk room, bathroom huge jetted tub huge, funny house keeping walked girlfriend getting dressed, did n't hear knock doing turn service, screamed girlfriend screams hit floor laughing, started talking spanish worked, place recommend price, check online deals just good not better, besite contains deals vouchers travel websites n't tell,  ",
         "great stay great stay , went seahawk game awesome , downfall view building n't complain , room huge staff helpful , booked hotels website seahawk package , charge parking got voucher taxi , problem taxi driver n't want accept voucher barely spoke english , funny thing speak arabic called started making comments girlfriend cell phone buddy , took second realize said fact speak language face priceless , ass told , said large city , told head doorman issue called cab company promply answer n't , apologized offered pay taxi , bucks 2 miles stadium , game plan taxi return going humpin , great walk n't mind , right christmas wonderful lights , homeless stowed away building entrances leave , police presence not greatest area stadium , activities 7 blocks pike street waterfront great coffee shops way , hotel mantained foyer awesome , wine tasting available evening , best dog , taking st. bernard time family , safes hotel located service desk room , bathroom huge jetted tub huge , funny house keeping walked girlfriend getting dressed , n't hear knock turn service , screamed girlfriend screams hit floor laughing , started talking spanish worked , place recommend price , check online deals good not better , besite contains deals vouchers travel websites n't tell ,",
         "great stay great stay   went seahawk game awesome   downfall view building n t complain   room huge staff helpful   booked hotels website seahawk package   charge parking got voucher taxi   problem taxi driver n t want accept voucher barely spoke english   funny thing speak arabic called started making comments girlfriend cell phone buddy   took second realize said fact speak language face priceless   ass told   said large city   told head doorman issue called cab company promply answer n t   apologized offered pay taxi   bucks 2 miles stadium   game plan taxi return going humpin   great walk n t mind   right christmas wonderful lights   homeless stowed away building entrances leave   police presence not greatest area stadium   activities 7 blocks pike street waterfront great coffee shops way   hotel mantained foyer awesome   wine tasting available evening   best dog   taking st  bernard time family   safes hotel located service desk room   bathroom huge jetted tub huge   funny house keeping walked girlfriend getting dressed   n t hear knock turn service   screamed girlfriend screams hit floor laughing   started talking spanish worked   place recommend price   check online deals good not better   besite contains deals vouchers travel websites n t tell  "
        ]
       ],
       "shape": {
        "columns": 5,
        "rows": 5
       }
      },
      "text/html": [
       "<div>\n",
       "<style scoped>\n",
       "    .dataframe tbody tr th:only-of-type {\n",
       "        vertical-align: middle;\n",
       "    }\n",
       "\n",
       "    .dataframe tbody tr th {\n",
       "        vertical-align: top;\n",
       "    }\n",
       "\n",
       "    .dataframe thead th {\n",
       "        text-align: right;\n",
       "    }\n",
       "</style>\n",
       "<table border=\"1\" class=\"dataframe\">\n",
       "  <thead>\n",
       "    <tr style=\"text-align: right;\">\n",
       "      <th></th>\n",
       "      <th>Review</th>\n",
       "      <th>Rating</th>\n",
       "      <th>ReviewLower</th>\n",
       "      <th>ReviewCleaned</th>\n",
       "      <th>ReviewNoPunctuation</th>\n",
       "    </tr>\n",
       "  </thead>\n",
       "  <tbody>\n",
       "    <tr>\n",
       "      <th>0</th>\n",
       "      <td>nice hotel expensive parking got good deal sta...</td>\n",
       "      <td>4</td>\n",
       "      <td>nice hotel expensive parking got good deal sta...</td>\n",
       "      <td>nice hotel expensive parking got good deal sta...</td>\n",
       "      <td>nice hotel expensive parking got good deal sta...</td>\n",
       "    </tr>\n",
       "    <tr>\n",
       "      <th>1</th>\n",
       "      <td>ok nothing special charge diamond member hilto...</td>\n",
       "      <td>2</td>\n",
       "      <td>ok nothing special charge diamond member hilto...</td>\n",
       "      <td>ok nothing special charge diamond member hilto...</td>\n",
       "      <td>ok nothing special charge diamond member hilto...</td>\n",
       "    </tr>\n",
       "    <tr>\n",
       "      <th>2</th>\n",
       "      <td>nice rooms not 4* experience hotel monaco seat...</td>\n",
       "      <td>3</td>\n",
       "      <td>nice rooms not 4* experience hotel monaco seat...</td>\n",
       "      <td>nice rooms not 4 * experience hotel monaco sea...</td>\n",
       "      <td>nice rooms not 4 star experience hotel monaco ...</td>\n",
       "    </tr>\n",
       "    <tr>\n",
       "      <th>3</th>\n",
       "      <td>unique, great stay, wonderful time hotel monac...</td>\n",
       "      <td>5</td>\n",
       "      <td>unique, great stay, wonderful time hotel monac...</td>\n",
       "      <td>unique , great stay , wonderful time hotel mon...</td>\n",
       "      <td>unique   great stay   wonderful time hotel mon...</td>\n",
       "    </tr>\n",
       "    <tr>\n",
       "      <th>4</th>\n",
       "      <td>great stay great stay, went seahawk game aweso...</td>\n",
       "      <td>5</td>\n",
       "      <td>great stay great stay, went seahawk game aweso...</td>\n",
       "      <td>great stay great stay , went seahawk game awes...</td>\n",
       "      <td>great stay great stay   went seahawk game awes...</td>\n",
       "    </tr>\n",
       "  </tbody>\n",
       "</table>\n",
       "</div>"
      ],
      "text/plain": [
       "                                              Review  Rating  \\\n",
       "0  nice hotel expensive parking got good deal sta...       4   \n",
       "1  ok nothing special charge diamond member hilto...       2   \n",
       "2  nice rooms not 4* experience hotel monaco seat...       3   \n",
       "3  unique, great stay, wonderful time hotel monac...       5   \n",
       "4  great stay great stay, went seahawk game aweso...       5   \n",
       "\n",
       "                                         ReviewLower  \\\n",
       "0  nice hotel expensive parking got good deal sta...   \n",
       "1  ok nothing special charge diamond member hilto...   \n",
       "2  nice rooms not 4* experience hotel monaco seat...   \n",
       "3  unique, great stay, wonderful time hotel monac...   \n",
       "4  great stay great stay, went seahawk game aweso...   \n",
       "\n",
       "                                       ReviewCleaned  \\\n",
       "0  nice hotel expensive parking got good deal sta...   \n",
       "1  ok nothing special charge diamond member hilto...   \n",
       "2  nice rooms not 4 * experience hotel monaco sea...   \n",
       "3  unique , great stay , wonderful time hotel mon...   \n",
       "4  great stay great stay , went seahawk game awes...   \n",
       "\n",
       "                                 ReviewNoPunctuation  \n",
       "0  nice hotel expensive parking got good deal sta...  \n",
       "1  ok nothing special charge diamond member hilto...  \n",
       "2  nice rooms not 4 star experience hotel monaco ...  \n",
       "3  unique   great stay   wonderful time hotel mon...  \n",
       "4  great stay great stay   went seahawk game awes...  "
      ]
     },
     "execution_count": 12,
     "metadata": {},
     "output_type": "execute_result"
    }
   ],
   "source": [
    "data.head()"
   ]
  },
  {
   "cell_type": "markdown",
   "metadata": {},
   "source": [
    "### Tokenization"
   ]
  },
  {
   "cell_type": "code",
   "execution_count": 13,
   "metadata": {},
   "outputs": [],
   "source": [
    "data[\"Tokenized\"] = data[\"ReviewNoPunctuation\"].apply(lambda x: word_tokenize(x))"
   ]
  },
  {
   "cell_type": "code",
   "execution_count": 14,
   "metadata": {},
   "outputs": [
    {
     "data": {
      "application/vnd.microsoft.datawrangler.viewer.v0+json": {
       "columns": [
        {
         "name": "index",
         "rawType": "int64",
         "type": "integer"
        },
        {
         "name": "Review",
         "rawType": "object",
         "type": "string"
        },
        {
         "name": "Rating",
         "rawType": "int64",
         "type": "integer"
        },
        {
         "name": "ReviewLower",
         "rawType": "object",
         "type": "string"
        },
        {
         "name": "ReviewCleaned",
         "rawType": "object",
         "type": "string"
        },
        {
         "name": "ReviewNoPunctuation",
         "rawType": "object",
         "type": "string"
        },
        {
         "name": "Tokenized",
         "rawType": "object",
         "type": "unknown"
        }
       ],
       "conversionMethod": "pd.DataFrame",
       "ref": "b9bf8ca1-263d-4f11-8b97-35e18d043dab",
       "rows": [
        [
         "0",
         "nice hotel expensive parking got good deal stay hotel anniversary, arrived late evening took advice previous reviews did valet parking, check quick easy, little disappointed non-existent view room room clean nice size, bed comfortable woke stiff neck high pillows, not soundproof like heard music room night morning loud bangs doors opening closing hear people talking hallway, maybe just noisy neighbors, aveda bath products nice, did not goldfish stay nice touch taken advantage staying longer, location great walking distance shopping, overall nice experience having pay 40 parking night,  ",
         "4",
         "nice hotel expensive parking got good deal stay hotel anniversary, arrived late evening took advice previous reviews did valet parking, check quick easy, little disappointed non-existent view room room clean nice size, bed comfortable woke stiff neck high pillows, not soundproof like heard music room night morning loud bangs doors opening closing hear people talking hallway, maybe just noisy neighbors, aveda bath products nice, did not goldfish stay nice touch taken advantage staying longer, location great walking distance shopping, overall nice experience having pay 40 parking night,  ",
         "nice hotel expensive parking got good deal stay hotel anniversary , arrived late evening took advice previous reviews valet parking , check quick easy , little disappointed non-existent view room room clean nice size , bed comfortable woke stiff neck high pillows , not soundproof like heard music room night morning loud bangs doors opening closing hear people talking hallway , maybe noisy neighbors , aveda bath products nice , not goldfish stay nice touch taken advantage staying longer , location great walking distance shopping , overall nice experience pay 40 parking night ,",
         "nice hotel expensive parking got good deal stay hotel anniversary   arrived late evening took advice previous reviews valet parking   check quick easy   little disappointed non existent view room room clean nice size   bed comfortable woke stiff neck high pillows   not soundproof like heard music room night morning loud bangs doors opening closing hear people talking hallway   maybe noisy neighbors   aveda bath products nice   not goldfish stay nice touch taken advantage staying longer   location great walking distance shopping   overall nice experience pay 40 parking night  ",
         "['nice', 'hotel', 'expensive', 'parking', 'got', 'good', 'deal', 'stay', 'hotel', 'anniversary', 'arrived', 'late', 'evening', 'took', 'advice', 'previous', 'reviews', 'valet', 'parking', 'check', 'quick', 'easy', 'little', 'disappointed', 'non', 'existent', 'view', 'room', 'room', 'clean', 'nice', 'size', 'bed', 'comfortable', 'woke', 'stiff', 'neck', 'high', 'pillows', 'not', 'soundproof', 'like', 'heard', 'music', 'room', 'night', 'morning', 'loud', 'bangs', 'doors', 'opening', 'closing', 'hear', 'people', 'talking', 'hallway', 'maybe', 'noisy', 'neighbors', 'aveda', 'bath', 'products', 'nice', 'not', 'goldfish', 'stay', 'nice', 'touch', 'taken', 'advantage', 'staying', 'longer', 'location', 'great', 'walking', 'distance', 'shopping', 'overall', 'nice', 'experience', 'pay', '40', 'parking', 'night']"
        ],
        [
         "1",
         "ok nothing special charge diamond member hilton decided chain shot 20th anniversary seattle, start booked suite paid extra website description not, suite bedroom bathroom standard hotel room, took printed reservation desk showed said things like tv couch ect desk clerk told oh mixed suites description kimpton website sorry free breakfast, got kidding, embassy suits sitting room bathroom bedroom unlike kimpton calls suite, 5 day stay offer correct false advertising, send kimpton preferred guest website email asking failure provide suite advertised website reservation description furnished hard copy reservation printout website desk manager duty did not reply solution, send email trip guest survey did not follow email mail, guess tell concerned guest.the staff ranged indifferent not helpful, asked desk good breakfast spots neighborhood hood told no hotels, gee best breakfast spots seattle 1/2 block away convenient hotel does not know exist, arrived late night 11 pm inside run bellman busy chating cell phone help bags.prior arrival emailed hotel inform 20th anniversary half really picky wanted make sure good, got nice email saying like deliver bottle champagne chocolate covered strawberries room arrival celebrate, told needed foam pillows, arrival no champagne strawberries no foam pillows great room view alley high rise building good not better housekeeping staff cleaner room property, impressed left morning shopping room got short trips 2 hours, beds comfortable.not good ac-heat control 4 x 4 inch screen bring green shine directly eyes night, light sensitive tape controls.this not 4 start hotel clean business hotel super high rates, better chain hotels seattle,  ",
         "2",
         "ok nothing special charge diamond member hilton decided chain shot 20th anniversary seattle, start booked suite paid extra website description not, suite bedroom bathroom standard hotel room, took printed reservation desk showed said things like tv couch ect desk clerk told oh mixed suites description kimpton website sorry free breakfast, got kidding, embassy suits sitting room bathroom bedroom unlike kimpton calls suite, 5 day stay offer correct false advertising, send kimpton preferred guest website email asking failure provide suite advertised website reservation description furnished hard copy reservation printout website desk manager duty did not reply solution, send email trip guest survey did not follow email mail, guess tell concerned guest.the staff ranged indifferent not helpful, asked desk good breakfast spots neighborhood hood told no hotels, gee best breakfast spots seattle 1/2 block away convenient hotel does not know exist, arrived late night 11 pm inside run bellman busy chating cell phone help bags.prior arrival emailed hotel inform 20th anniversary half really picky wanted make sure good, got nice email saying like deliver bottle champagne chocolate covered strawberries room arrival celebrate, told needed foam pillows, arrival no champagne strawberries no foam pillows great room view alley high rise building good not better housekeeping staff cleaner room property, impressed left morning shopping room got short trips 2 hours, beds comfortable.not good ac-heat control 4 x 4 inch screen bring green shine directly eyes night, light sensitive tape controls.this not 4 start hotel clean business hotel super high rates, better chain hotels seattle,  ",
         "ok nothing special charge diamond member hilton decided chain shot 20th anniversary seattle , start booked suite paid extra website description not , suite bedroom bathroom standard hotel room , took printed reservation desk showed said things like tv couch ect desk clerk told oh mixed suites description kimpton website sorry free breakfast , got kidding , embassy suits sitting room bathroom bedroom unlike kimpton calls suite , 5 day stay offer correct false advertising , send kimpton preferred guest website email asking failure provide suite advertised website reservation description furnished hard copy reservation printout website desk manager duty not reply solution , send email trip guest survey not follow email mail , guess tell concerned guest.the staff ranged indifferent not helpful , asked desk good breakfast spots neighborhood hood told hotels , gee best breakfast spots seattle 1/2 block away convenient hotel not know exist , arrived late night 11 pm inside run bellman busy chating cell phone help bags.prior arrival emailed hotel inform 20th anniversary half really picky wanted make sure good , got nice email saying like deliver bottle champagne chocolate covered strawberries room arrival celebrate , told needed foam pillows , arrival champagne strawberries foam pillows great room view alley high rise building good not better housekeeping staff cleaner room property , impressed left morning shopping room got short trips 2 hours , beds comfortable.not good ac-heat control 4 x 4 inch screen bring green shine directly eyes night , light sensitive tape controls.this not 4 start hotel clean business hotel super high rates , better chain hotels seattle ,",
         "ok nothing special charge diamond member hilton decided chain shot 20th anniversary seattle   start booked suite paid extra website description not   suite bedroom bathroom standard hotel room   took printed reservation desk showed said things like tv couch ect desk clerk told oh mixed suites description kimpton website sorry free breakfast   got kidding   embassy suits sitting room bathroom bedroom unlike kimpton calls suite   5 day stay offer correct false advertising   send kimpton preferred guest website email asking failure provide suite advertised website reservation description furnished hard copy reservation printout website desk manager duty not reply solution   send email trip guest survey not follow email mail   guess tell concerned guest the staff ranged indifferent not helpful   asked desk good breakfast spots neighborhood hood told hotels   gee best breakfast spots seattle 1 2 block away convenient hotel not know exist   arrived late night 11 pm inside run bellman busy chating cell phone help bags prior arrival emailed hotel inform 20th anniversary half really picky wanted make sure good   got nice email saying like deliver bottle champagne chocolate covered strawberries room arrival celebrate   told needed foam pillows   arrival champagne strawberries foam pillows great room view alley high rise building good not better housekeeping staff cleaner room property   impressed left morning shopping room got short trips 2 hours   beds comfortable not good ac heat control 4 x 4 inch screen bring green shine directly eyes night   light sensitive tape controls this not 4 start hotel clean business hotel super high rates   better chain hotels seattle  ",
         "['ok', 'nothing', 'special', 'charge', 'diamond', 'member', 'hilton', 'decided', 'chain', 'shot', '20th', 'anniversary', 'seattle', 'start', 'booked', 'suite', 'paid', 'extra', 'website', 'description', 'not', 'suite', 'bedroom', 'bathroom', 'standard', 'hotel', 'room', 'took', 'printed', 'reservation', 'desk', 'showed', 'said', 'things', 'like', 'tv', 'couch', 'ect', 'desk', 'clerk', 'told', 'oh', 'mixed', 'suites', 'description', 'kimpton', 'website', 'sorry', 'free', 'breakfast', 'got', 'kidding', 'embassy', 'suits', 'sitting', 'room', 'bathroom', 'bedroom', 'unlike', 'kimpton', 'calls', 'suite', '5', 'day', 'stay', 'offer', 'correct', 'false', 'advertising', 'send', 'kimpton', 'preferred', 'guest', 'website', 'email', 'asking', 'failure', 'provide', 'suite', 'advertised', 'website', 'reservation', 'description', 'furnished', 'hard', 'copy', 'reservation', 'printout', 'website', 'desk', 'manager', 'duty', 'not', 'reply', 'solution', 'send', 'email', 'trip', 'guest', 'survey', 'not', 'follow', 'email', 'mail', 'guess', 'tell', 'concerned', 'guest', 'the', 'staff', 'ranged', 'indifferent', 'not', 'helpful', 'asked', 'desk', 'good', 'breakfast', 'spots', 'neighborhood', 'hood', 'told', 'hotels', 'gee', 'best', 'breakfast', 'spots', 'seattle', '1', '2', 'block', 'away', 'convenient', 'hotel', 'not', 'know', 'exist', 'arrived', 'late', 'night', '11', 'pm', 'inside', 'run', 'bellman', 'busy', 'chating', 'cell', 'phone', 'help', 'bags', 'prior', 'arrival', 'emailed', 'hotel', 'inform', '20th', 'anniversary', 'half', 'really', 'picky', 'wanted', 'make', 'sure', 'good', 'got', 'nice', 'email', 'saying', 'like', 'deliver', 'bottle', 'champagne', 'chocolate', 'covered', 'strawberries', 'room', 'arrival', 'celebrate', 'told', 'needed', 'foam', 'pillows', 'arrival', 'champagne', 'strawberries', 'foam', 'pillows', 'great', 'room', 'view', 'alley', 'high', 'rise', 'building', 'good', 'not', 'better', 'housekeeping', 'staff', 'cleaner', 'room', 'property', 'impressed', 'left', 'morning', 'shopping', 'room', 'got', 'short', 'trips', '2', 'hours', 'beds', 'comfortable', 'not', 'good', 'ac', 'heat', 'control', '4', 'x', '4', 'inch', 'screen', 'bring', 'green', 'shine', 'directly', 'eyes', 'night', 'light', 'sensitive', 'tape', 'controls', 'this', 'not', '4', 'start', 'hotel', 'clean', 'business', 'hotel', 'super', 'high', 'rates', 'better', 'chain', 'hotels', 'seattle']"
        ],
        [
         "2",
         "nice rooms not 4* experience hotel monaco seattle good hotel n't 4* level.positives large bathroom mediterranean suite comfortable bed pillowsattentive housekeeping staffnegatives ac unit malfunctioned stay desk disorganized, missed 3 separate wakeup calls, concierge busy hard touch, did n't provide guidance special requests.tv hard use ipod sound dock suite non functioning. decided book mediterranean suite 3 night weekend stay 1st choice rest party filled, comparison w spent 45 night larger square footage room great soaking tub whirlpool jets nice shower.before stay hotel arrange car service price 53 tip reasonable driver waiting arrival.checkin easy downside room picked 2 person jacuzi tub no bath accessories salts bubble bath did n't stay, night got 12/1a checked voucher bottle champagne nice gesture fish waiting room, impression room huge open space felt room big, tv far away bed chore change channel, ipod dock broken disappointing.in morning way asked desk check thermostat said 65f 74 2 degrees warm try cover face night bright blue light kept, got room night no, 1st drop desk, called maintainence came look thermostat told play settings happy digital box wo n't work, asked wakeup 10am morning did n't happen, called later 6pm nap wakeup forgot, 10am wakeup morning yep forgotten.the bathroom facilities great room surprised room sold whirlpool bath tub n't bath amenities, great relax water jets going,  ",
         "3",
         "nice rooms not 4* experience hotel monaco seattle good hotel n't 4* level.positives large bathroom mediterranean suite comfortable bed pillowsattentive housekeeping staffnegatives ac unit malfunctioned stay desk disorganized, missed 3 separate wakeup calls, concierge busy hard touch, did n't provide guidance special requests.tv hard use ipod sound dock suite non functioning. decided book mediterranean suite 3 night weekend stay 1st choice rest party filled, comparison w spent 45 night larger square footage room great soaking tub whirlpool jets nice shower.before stay hotel arrange car service price 53 tip reasonable driver waiting arrival.checkin easy downside room picked 2 person jacuzi tub no bath accessories salts bubble bath did n't stay, night got 12/1a checked voucher bottle champagne nice gesture fish waiting room, impression room huge open space felt room big, tv far away bed chore change channel, ipod dock broken disappointing.in morning way asked desk check thermostat said 65f 74 2 degrees warm try cover face night bright blue light kept, got room night no, 1st drop desk, called maintainence came look thermostat told play settings happy digital box wo n't work, asked wakeup 10am morning did n't happen, called later 6pm nap wakeup forgot, 10am wakeup morning yep forgotten.the bathroom facilities great room surprised room sold whirlpool bath tub n't bath amenities, great relax water jets going,  ",
         "nice rooms not 4 * experience hotel monaco seattle good hotel n't 4 * level.positives large bathroom mediterranean suite comfortable bed pillowsattentive housekeeping staffnegatives ac unit malfunctioned stay desk disorganized , missed 3 separate wakeup calls , concierge busy hard touch , n't provide guidance special requests.tv hard use ipod sound dock suite non functioning . decided book mediterranean suite 3 night weekend stay 1st choice rest party filled , comparison w spent 45 night larger square footage room great soaking tub whirlpool jets nice shower.before stay hotel arrange car service price 53 tip reasonable driver waiting arrival.checkin easy downside room picked 2 person jacuzi tub bath accessories salts bubble bath n't stay , night got 12/1a checked voucher bottle champagne nice gesture fish waiting room , impression room huge open space felt room big , tv far away bed chore change channel , ipod dock broken disappointing.in morning way asked desk check thermostat said 65f 74 2 degrees warm try cover face night bright blue light kept , got room night , 1st drop desk , called maintainence came look thermostat told play settings happy digital box wo n't work , asked wakeup 10am morning n't happen , called later 6pm nap wakeup forgot , 10am wakeup morning yep forgotten.the bathroom facilities great room surprised room sold whirlpool bath tub n't bath amenities , great relax water jets going ,",
         "nice rooms not 4 star experience hotel monaco seattle good hotel n t 4 star level positives large bathroom mediterranean suite comfortable bed pillowsattentive housekeeping staffnegatives ac unit malfunctioned stay desk disorganized   missed 3 separate wakeup calls   concierge busy hard touch   n t provide guidance special requests tv hard use ipod sound dock suite non functioning   decided book mediterranean suite 3 night weekend stay 1st choice rest party filled   comparison w spent 45 night larger square footage room great soaking tub whirlpool jets nice shower before stay hotel arrange car service price 53 tip reasonable driver waiting arrival checkin easy downside room picked 2 person jacuzi tub bath accessories salts bubble bath n t stay   night got 12 1a checked voucher bottle champagne nice gesture fish waiting room   impression room huge open space felt room big   tv far away bed chore change channel   ipod dock broken disappointing in morning way asked desk check thermostat said 65f 74 2 degrees warm try cover face night bright blue light kept   got room night   1st drop desk   called maintainence came look thermostat told play settings happy digital box wo n t work   asked wakeup 10am morning n t happen   called later 6pm nap wakeup forgot   10am wakeup morning yep forgotten the bathroom facilities great room surprised room sold whirlpool bath tub n t bath amenities   great relax water jets going  ",
         "['nice', 'rooms', 'not', '4', 'star', 'experience', 'hotel', 'monaco', 'seattle', 'good', 'hotel', 'n', 't', '4', 'star', 'level', 'positives', 'large', 'bathroom', 'mediterranean', 'suite', 'comfortable', 'bed', 'pillowsattentive', 'housekeeping', 'staffnegatives', 'ac', 'unit', 'malfunctioned', 'stay', 'desk', 'disorganized', 'missed', '3', 'separate', 'wakeup', 'calls', 'concierge', 'busy', 'hard', 'touch', 'n', 't', 'provide', 'guidance', 'special', 'requests', 'tv', 'hard', 'use', 'ipod', 'sound', 'dock', 'suite', 'non', 'functioning', 'decided', 'book', 'mediterranean', 'suite', '3', 'night', 'weekend', 'stay', '1st', 'choice', 'rest', 'party', 'filled', 'comparison', 'w', 'spent', '45', 'night', 'larger', 'square', 'footage', 'room', 'great', 'soaking', 'tub', 'whirlpool', 'jets', 'nice', 'shower', 'before', 'stay', 'hotel', 'arrange', 'car', 'service', 'price', '53', 'tip', 'reasonable', 'driver', 'waiting', 'arrival', 'checkin', 'easy', 'downside', 'room', 'picked', '2', 'person', 'jacuzi', 'tub', 'bath', 'accessories', 'salts', 'bubble', 'bath', 'n', 't', 'stay', 'night', 'got', '12', '1a', 'checked', 'voucher', 'bottle', 'champagne', 'nice', 'gesture', 'fish', 'waiting', 'room', 'impression', 'room', 'huge', 'open', 'space', 'felt', 'room', 'big', 'tv', 'far', 'away', 'bed', 'chore', 'change', 'channel', 'ipod', 'dock', 'broken', 'disappointing', 'in', 'morning', 'way', 'asked', 'desk', 'check', 'thermostat', 'said', '65f', '74', '2', 'degrees', 'warm', 'try', 'cover', 'face', 'night', 'bright', 'blue', 'light', 'kept', 'got', 'room', 'night', '1st', 'drop', 'desk', 'called', 'maintainence', 'came', 'look', 'thermostat', 'told', 'play', 'settings', 'happy', 'digital', 'box', 'wo', 'n', 't', 'work', 'asked', 'wakeup', '10am', 'morning', 'n', 't', 'happen', 'called', 'later', '6pm', 'nap', 'wakeup', 'forgot', '10am', 'wakeup', 'morning', 'yep', 'forgotten', 'the', 'bathroom', 'facilities', 'great', 'room', 'surprised', 'room', 'sold', 'whirlpool', 'bath', 'tub', 'n', 't', 'bath', 'amenities', 'great', 'relax', 'water', 'jets', 'going']"
        ],
        [
         "3",
         "unique, great stay, wonderful time hotel monaco, location excellent short stroll main downtown shopping area, pet friendly room showed no signs animal hair smells, monaco suite sleeping area big striped curtains pulled closed nice touch felt cosy, goldfish named brandi enjoyed, did n't partake free wine coffee/tea service lobby thought great feature, great staff friendly, free wireless internet hotel worked suite 2 laptops, decor lovely eclectic mix pattens color palatte, animal print bathrobes feel like rock stars, nice did n't look like sterile chain hotel hotel personality excellent stay,  ",
         "5",
         "unique, great stay, wonderful time hotel monaco, location excellent short stroll main downtown shopping area, pet friendly room showed no signs animal hair smells, monaco suite sleeping area big striped curtains pulled closed nice touch felt cosy, goldfish named brandi enjoyed, did n't partake free wine coffee/tea service lobby thought great feature, great staff friendly, free wireless internet hotel worked suite 2 laptops, decor lovely eclectic mix pattens color palatte, animal print bathrobes feel like rock stars, nice did n't look like sterile chain hotel hotel personality excellent stay,  ",
         "unique , great stay , wonderful time hotel monaco , location excellent short stroll main downtown shopping area , pet friendly room showed signs animal hair smells , monaco suite sleeping area big striped curtains pulled closed nice touch felt cosy , goldfish named brandi enjoyed , n't partake free wine coffee/tea service lobby thought great feature , great staff friendly , free wireless internet hotel worked suite 2 laptops , decor lovely eclectic mix pattens color palatte , animal print bathrobes feel like rock stars , nice n't look like sterile chain hotel hotel personality excellent stay ,",
         "unique   great stay   wonderful time hotel monaco   location excellent short stroll main downtown shopping area   pet friendly room showed signs animal hair smells   monaco suite sleeping area big striped curtains pulled closed nice touch felt cosy   goldfish named brandi enjoyed   n t partake free wine coffee tea service lobby thought great feature   great staff friendly   free wireless internet hotel worked suite 2 laptops   decor lovely eclectic mix pattens color palatte   animal print bathrobes feel like rock stars   nice n t look like sterile chain hotel hotel personality excellent stay  ",
         "['unique', 'great', 'stay', 'wonderful', 'time', 'hotel', 'monaco', 'location', 'excellent', 'short', 'stroll', 'main', 'downtown', 'shopping', 'area', 'pet', 'friendly', 'room', 'showed', 'signs', 'animal', 'hair', 'smells', 'monaco', 'suite', 'sleeping', 'area', 'big', 'striped', 'curtains', 'pulled', 'closed', 'nice', 'touch', 'felt', 'cosy', 'goldfish', 'named', 'brandi', 'enjoyed', 'n', 't', 'partake', 'free', 'wine', 'coffee', 'tea', 'service', 'lobby', 'thought', 'great', 'feature', 'great', 'staff', 'friendly', 'free', 'wireless', 'internet', 'hotel', 'worked', 'suite', '2', 'laptops', 'decor', 'lovely', 'eclectic', 'mix', 'pattens', 'color', 'palatte', 'animal', 'print', 'bathrobes', 'feel', 'like', 'rock', 'stars', 'nice', 'n', 't', 'look', 'like', 'sterile', 'chain', 'hotel', 'hotel', 'personality', 'excellent', 'stay']"
        ],
        [
         "4",
         "great stay great stay, went seahawk game awesome, downfall view building did n't complain, room huge staff helpful, booked hotels website seahawk package, no charge parking got voucher taxi, problem taxi driver did n't want accept voucher barely spoke english, funny thing speak arabic called started making comments girlfriend cell phone buddy, took second realize just said fact speak language face priceless, ass told, said large city, told head doorman issue called cab company promply answer did n't, apologized offered pay taxi, bucks 2 miles stadium, game plan taxi return going humpin, great walk did n't mind, right christmas wonderful lights, homeless stowed away building entrances leave, police presence not greatest area stadium, activities 7 blocks pike street waterfront great coffee shops way, hotel mantained foyer awesome, wine tasting available evening, best dog, taking st. bernard time family, safes hotel located service desk room, bathroom huge jetted tub huge, funny house keeping walked girlfriend getting dressed, did n't hear knock doing turn service, screamed girlfriend screams hit floor laughing, started talking spanish worked, place recommend price, check online deals just good not better, besite contains deals vouchers travel websites n't tell,  ",
         "5",
         "great stay great stay, went seahawk game awesome, downfall view building did n't complain, room huge staff helpful, booked hotels website seahawk package, no charge parking got voucher taxi, problem taxi driver did n't want accept voucher barely spoke english, funny thing speak arabic called started making comments girlfriend cell phone buddy, took second realize just said fact speak language face priceless, ass told, said large city, told head doorman issue called cab company promply answer did n't, apologized offered pay taxi, bucks 2 miles stadium, game plan taxi return going humpin, great walk did n't mind, right christmas wonderful lights, homeless stowed away building entrances leave, police presence not greatest area stadium, activities 7 blocks pike street waterfront great coffee shops way, hotel mantained foyer awesome, wine tasting available evening, best dog, taking st. bernard time family, safes hotel located service desk room, bathroom huge jetted tub huge, funny house keeping walked girlfriend getting dressed, did n't hear knock doing turn service, screamed girlfriend screams hit floor laughing, started talking spanish worked, place recommend price, check online deals just good not better, besite contains deals vouchers travel websites n't tell,  ",
         "great stay great stay , went seahawk game awesome , downfall view building n't complain , room huge staff helpful , booked hotels website seahawk package , charge parking got voucher taxi , problem taxi driver n't want accept voucher barely spoke english , funny thing speak arabic called started making comments girlfriend cell phone buddy , took second realize said fact speak language face priceless , ass told , said large city , told head doorman issue called cab company promply answer n't , apologized offered pay taxi , bucks 2 miles stadium , game plan taxi return going humpin , great walk n't mind , right christmas wonderful lights , homeless stowed away building entrances leave , police presence not greatest area stadium , activities 7 blocks pike street waterfront great coffee shops way , hotel mantained foyer awesome , wine tasting available evening , best dog , taking st. bernard time family , safes hotel located service desk room , bathroom huge jetted tub huge , funny house keeping walked girlfriend getting dressed , n't hear knock turn service , screamed girlfriend screams hit floor laughing , started talking spanish worked , place recommend price , check online deals good not better , besite contains deals vouchers travel websites n't tell ,",
         "great stay great stay   went seahawk game awesome   downfall view building n t complain   room huge staff helpful   booked hotels website seahawk package   charge parking got voucher taxi   problem taxi driver n t want accept voucher barely spoke english   funny thing speak arabic called started making comments girlfriend cell phone buddy   took second realize said fact speak language face priceless   ass told   said large city   told head doorman issue called cab company promply answer n t   apologized offered pay taxi   bucks 2 miles stadium   game plan taxi return going humpin   great walk n t mind   right christmas wonderful lights   homeless stowed away building entrances leave   police presence not greatest area stadium   activities 7 blocks pike street waterfront great coffee shops way   hotel mantained foyer awesome   wine tasting available evening   best dog   taking st  bernard time family   safes hotel located service desk room   bathroom huge jetted tub huge   funny house keeping walked girlfriend getting dressed   n t hear knock turn service   screamed girlfriend screams hit floor laughing   started talking spanish worked   place recommend price   check online deals good not better   besite contains deals vouchers travel websites n t tell  ",
         "['great', 'stay', 'great', 'stay', 'went', 'seahawk', 'game', 'awesome', 'downfall', 'view', 'building', 'n', 't', 'complain', 'room', 'huge', 'staff', 'helpful', 'booked', 'hotels', 'website', 'seahawk', 'package', 'charge', 'parking', 'got', 'voucher', 'taxi', 'problem', 'taxi', 'driver', 'n', 't', 'want', 'accept', 'voucher', 'barely', 'spoke', 'english', 'funny', 'thing', 'speak', 'arabic', 'called', 'started', 'making', 'comments', 'girlfriend', 'cell', 'phone', 'buddy', 'took', 'second', 'realize', 'said', 'fact', 'speak', 'language', 'face', 'priceless', 'ass', 'told', 'said', 'large', 'city', 'told', 'head', 'doorman', 'issue', 'called', 'cab', 'company', 'promply', 'answer', 'n', 't', 'apologized', 'offered', 'pay', 'taxi', 'bucks', '2', 'miles', 'stadium', 'game', 'plan', 'taxi', 'return', 'going', 'humpin', 'great', 'walk', 'n', 't', 'mind', 'right', 'christmas', 'wonderful', 'lights', 'homeless', 'stowed', 'away', 'building', 'entrances', 'leave', 'police', 'presence', 'not', 'greatest', 'area', 'stadium', 'activities', '7', 'blocks', 'pike', 'street', 'waterfront', 'great', 'coffee', 'shops', 'way', 'hotel', 'mantained', 'foyer', 'awesome', 'wine', 'tasting', 'available', 'evening', 'best', 'dog', 'taking', 'st', 'bernard', 'time', 'family', 'safes', 'hotel', 'located', 'service', 'desk', 'room', 'bathroom', 'huge', 'jetted', 'tub', 'huge', 'funny', 'house', 'keeping', 'walked', 'girlfriend', 'getting', 'dressed', 'n', 't', 'hear', 'knock', 'turn', 'service', 'screamed', 'girlfriend', 'screams', 'hit', 'floor', 'laughing', 'started', 'talking', 'spanish', 'worked', 'place', 'recommend', 'price', 'check', 'online', 'deals', 'good', 'not', 'better', 'besite', 'contains', 'deals', 'vouchers', 'travel', 'websites', 'n', 't', 'tell']"
        ]
       ],
       "shape": {
        "columns": 6,
        "rows": 5
       }
      },
      "text/html": [
       "<div>\n",
       "<style scoped>\n",
       "    .dataframe tbody tr th:only-of-type {\n",
       "        vertical-align: middle;\n",
       "    }\n",
       "\n",
       "    .dataframe tbody tr th {\n",
       "        vertical-align: top;\n",
       "    }\n",
       "\n",
       "    .dataframe thead th {\n",
       "        text-align: right;\n",
       "    }\n",
       "</style>\n",
       "<table border=\"1\" class=\"dataframe\">\n",
       "  <thead>\n",
       "    <tr style=\"text-align: right;\">\n",
       "      <th></th>\n",
       "      <th>Review</th>\n",
       "      <th>Rating</th>\n",
       "      <th>ReviewLower</th>\n",
       "      <th>ReviewCleaned</th>\n",
       "      <th>ReviewNoPunctuation</th>\n",
       "      <th>Tokenized</th>\n",
       "    </tr>\n",
       "  </thead>\n",
       "  <tbody>\n",
       "    <tr>\n",
       "      <th>0</th>\n",
       "      <td>nice hotel expensive parking got good deal sta...</td>\n",
       "      <td>4</td>\n",
       "      <td>nice hotel expensive parking got good deal sta...</td>\n",
       "      <td>nice hotel expensive parking got good deal sta...</td>\n",
       "      <td>nice hotel expensive parking got good deal sta...</td>\n",
       "      <td>[nice, hotel, expensive, parking, got, good, d...</td>\n",
       "    </tr>\n",
       "    <tr>\n",
       "      <th>1</th>\n",
       "      <td>ok nothing special charge diamond member hilto...</td>\n",
       "      <td>2</td>\n",
       "      <td>ok nothing special charge diamond member hilto...</td>\n",
       "      <td>ok nothing special charge diamond member hilto...</td>\n",
       "      <td>ok nothing special charge diamond member hilto...</td>\n",
       "      <td>[ok, nothing, special, charge, diamond, member...</td>\n",
       "    </tr>\n",
       "    <tr>\n",
       "      <th>2</th>\n",
       "      <td>nice rooms not 4* experience hotel monaco seat...</td>\n",
       "      <td>3</td>\n",
       "      <td>nice rooms not 4* experience hotel monaco seat...</td>\n",
       "      <td>nice rooms not 4 * experience hotel monaco sea...</td>\n",
       "      <td>nice rooms not 4 star experience hotel monaco ...</td>\n",
       "      <td>[nice, rooms, not, 4, star, experience, hotel,...</td>\n",
       "    </tr>\n",
       "    <tr>\n",
       "      <th>3</th>\n",
       "      <td>unique, great stay, wonderful time hotel monac...</td>\n",
       "      <td>5</td>\n",
       "      <td>unique, great stay, wonderful time hotel monac...</td>\n",
       "      <td>unique , great stay , wonderful time hotel mon...</td>\n",
       "      <td>unique   great stay   wonderful time hotel mon...</td>\n",
       "      <td>[unique, great, stay, wonderful, time, hotel, ...</td>\n",
       "    </tr>\n",
       "    <tr>\n",
       "      <th>4</th>\n",
       "      <td>great stay great stay, went seahawk game aweso...</td>\n",
       "      <td>5</td>\n",
       "      <td>great stay great stay, went seahawk game aweso...</td>\n",
       "      <td>great stay great stay , went seahawk game awes...</td>\n",
       "      <td>great stay great stay   went seahawk game awes...</td>\n",
       "      <td>[great, stay, great, stay, went, seahawk, game...</td>\n",
       "    </tr>\n",
       "  </tbody>\n",
       "</table>\n",
       "</div>"
      ],
      "text/plain": [
       "                                              Review  Rating  \\\n",
       "0  nice hotel expensive parking got good deal sta...       4   \n",
       "1  ok nothing special charge diamond member hilto...       2   \n",
       "2  nice rooms not 4* experience hotel monaco seat...       3   \n",
       "3  unique, great stay, wonderful time hotel monac...       5   \n",
       "4  great stay great stay, went seahawk game aweso...       5   \n",
       "\n",
       "                                         ReviewLower  \\\n",
       "0  nice hotel expensive parking got good deal sta...   \n",
       "1  ok nothing special charge diamond member hilto...   \n",
       "2  nice rooms not 4* experience hotel monaco seat...   \n",
       "3  unique, great stay, wonderful time hotel monac...   \n",
       "4  great stay great stay, went seahawk game aweso...   \n",
       "\n",
       "                                       ReviewCleaned  \\\n",
       "0  nice hotel expensive parking got good deal sta...   \n",
       "1  ok nothing special charge diamond member hilto...   \n",
       "2  nice rooms not 4 * experience hotel monaco sea...   \n",
       "3  unique , great stay , wonderful time hotel mon...   \n",
       "4  great stay great stay , went seahawk game awes...   \n",
       "\n",
       "                                 ReviewNoPunctuation  \\\n",
       "0  nice hotel expensive parking got good deal sta...   \n",
       "1  ok nothing special charge diamond member hilto...   \n",
       "2  nice rooms not 4 star experience hotel monaco ...   \n",
       "3  unique   great stay   wonderful time hotel mon...   \n",
       "4  great stay great stay   went seahawk game awes...   \n",
       "\n",
       "                                           Tokenized  \n",
       "0  [nice, hotel, expensive, parking, got, good, d...  \n",
       "1  [ok, nothing, special, charge, diamond, member...  \n",
       "2  [nice, rooms, not, 4, star, experience, hotel,...  \n",
       "3  [unique, great, stay, wonderful, time, hotel, ...  \n",
       "4  [great, stay, great, stay, went, seahawk, game...  "
      ]
     },
     "execution_count": 14,
     "metadata": {},
     "output_type": "execute_result"
    }
   ],
   "source": [
    "data.head()"
   ]
  },
  {
   "cell_type": "markdown",
   "metadata": {},
   "source": [
    "### Stemming"
   ]
  },
  {
   "cell_type": "code",
   "execution_count": 15,
   "metadata": {},
   "outputs": [],
   "source": [
    "ps = PorterStemmer()\n",
    "\n",
    "data[\"Stemmed\"] = data[\"Tokenized\"].apply(lambda x: [ps.stem(word) for word in x])"
   ]
  },
  {
   "cell_type": "code",
   "execution_count": 16,
   "metadata": {},
   "outputs": [
    {
     "data": {
      "application/vnd.microsoft.datawrangler.viewer.v0+json": {
       "columns": [
        {
         "name": "index",
         "rawType": "int64",
         "type": "integer"
        },
        {
         "name": "Review",
         "rawType": "object",
         "type": "string"
        },
        {
         "name": "Rating",
         "rawType": "int64",
         "type": "integer"
        },
        {
         "name": "ReviewLower",
         "rawType": "object",
         "type": "string"
        },
        {
         "name": "ReviewCleaned",
         "rawType": "object",
         "type": "string"
        },
        {
         "name": "ReviewNoPunctuation",
         "rawType": "object",
         "type": "string"
        },
        {
         "name": "Tokenized",
         "rawType": "object",
         "type": "unknown"
        },
        {
         "name": "Stemmed",
         "rawType": "object",
         "type": "unknown"
        }
       ],
       "conversionMethod": "pd.DataFrame",
       "ref": "9ef04bd9-21eb-41ea-8b19-e1e8b94c5d6c",
       "rows": [
        [
         "0",
         "nice hotel expensive parking got good deal stay hotel anniversary, arrived late evening took advice previous reviews did valet parking, check quick easy, little disappointed non-existent view room room clean nice size, bed comfortable woke stiff neck high pillows, not soundproof like heard music room night morning loud bangs doors opening closing hear people talking hallway, maybe just noisy neighbors, aveda bath products nice, did not goldfish stay nice touch taken advantage staying longer, location great walking distance shopping, overall nice experience having pay 40 parking night,  ",
         "4",
         "nice hotel expensive parking got good deal stay hotel anniversary, arrived late evening took advice previous reviews did valet parking, check quick easy, little disappointed non-existent view room room clean nice size, bed comfortable woke stiff neck high pillows, not soundproof like heard music room night morning loud bangs doors opening closing hear people talking hallway, maybe just noisy neighbors, aveda bath products nice, did not goldfish stay nice touch taken advantage staying longer, location great walking distance shopping, overall nice experience having pay 40 parking night,  ",
         "nice hotel expensive parking got good deal stay hotel anniversary , arrived late evening took advice previous reviews valet parking , check quick easy , little disappointed non-existent view room room clean nice size , bed comfortable woke stiff neck high pillows , not soundproof like heard music room night morning loud bangs doors opening closing hear people talking hallway , maybe noisy neighbors , aveda bath products nice , not goldfish stay nice touch taken advantage staying longer , location great walking distance shopping , overall nice experience pay 40 parking night ,",
         "nice hotel expensive parking got good deal stay hotel anniversary   arrived late evening took advice previous reviews valet parking   check quick easy   little disappointed non existent view room room clean nice size   bed comfortable woke stiff neck high pillows   not soundproof like heard music room night morning loud bangs doors opening closing hear people talking hallway   maybe noisy neighbors   aveda bath products nice   not goldfish stay nice touch taken advantage staying longer   location great walking distance shopping   overall nice experience pay 40 parking night  ",
         "['nice', 'hotel', 'expensive', 'parking', 'got', 'good', 'deal', 'stay', 'hotel', 'anniversary', 'arrived', 'late', 'evening', 'took', 'advice', 'previous', 'reviews', 'valet', 'parking', 'check', 'quick', 'easy', 'little', 'disappointed', 'non', 'existent', 'view', 'room', 'room', 'clean', 'nice', 'size', 'bed', 'comfortable', 'woke', 'stiff', 'neck', 'high', 'pillows', 'not', 'soundproof', 'like', 'heard', 'music', 'room', 'night', 'morning', 'loud', 'bangs', 'doors', 'opening', 'closing', 'hear', 'people', 'talking', 'hallway', 'maybe', 'noisy', 'neighbors', 'aveda', 'bath', 'products', 'nice', 'not', 'goldfish', 'stay', 'nice', 'touch', 'taken', 'advantage', 'staying', 'longer', 'location', 'great', 'walking', 'distance', 'shopping', 'overall', 'nice', 'experience', 'pay', '40', 'parking', 'night']",
         "['nice', 'hotel', 'expens', 'park', 'got', 'good', 'deal', 'stay', 'hotel', 'anniversari', 'arriv', 'late', 'even', 'took', 'advic', 'previou', 'review', 'valet', 'park', 'check', 'quick', 'easi', 'littl', 'disappoint', 'non', 'exist', 'view', 'room', 'room', 'clean', 'nice', 'size', 'bed', 'comfort', 'woke', 'stiff', 'neck', 'high', 'pillow', 'not', 'soundproof', 'like', 'heard', 'music', 'room', 'night', 'morn', 'loud', 'bang', 'door', 'open', 'close', 'hear', 'peopl', 'talk', 'hallway', 'mayb', 'noisi', 'neighbor', 'aveda', 'bath', 'product', 'nice', 'not', 'goldfish', 'stay', 'nice', 'touch', 'taken', 'advantag', 'stay', 'longer', 'locat', 'great', 'walk', 'distanc', 'shop', 'overal', 'nice', 'experi', 'pay', '40', 'park', 'night']"
        ],
        [
         "1",
         "ok nothing special charge diamond member hilton decided chain shot 20th anniversary seattle, start booked suite paid extra website description not, suite bedroom bathroom standard hotel room, took printed reservation desk showed said things like tv couch ect desk clerk told oh mixed suites description kimpton website sorry free breakfast, got kidding, embassy suits sitting room bathroom bedroom unlike kimpton calls suite, 5 day stay offer correct false advertising, send kimpton preferred guest website email asking failure provide suite advertised website reservation description furnished hard copy reservation printout website desk manager duty did not reply solution, send email trip guest survey did not follow email mail, guess tell concerned guest.the staff ranged indifferent not helpful, asked desk good breakfast spots neighborhood hood told no hotels, gee best breakfast spots seattle 1/2 block away convenient hotel does not know exist, arrived late night 11 pm inside run bellman busy chating cell phone help bags.prior arrival emailed hotel inform 20th anniversary half really picky wanted make sure good, got nice email saying like deliver bottle champagne chocolate covered strawberries room arrival celebrate, told needed foam pillows, arrival no champagne strawberries no foam pillows great room view alley high rise building good not better housekeeping staff cleaner room property, impressed left morning shopping room got short trips 2 hours, beds comfortable.not good ac-heat control 4 x 4 inch screen bring green shine directly eyes night, light sensitive tape controls.this not 4 start hotel clean business hotel super high rates, better chain hotels seattle,  ",
         "2",
         "ok nothing special charge diamond member hilton decided chain shot 20th anniversary seattle, start booked suite paid extra website description not, suite bedroom bathroom standard hotel room, took printed reservation desk showed said things like tv couch ect desk clerk told oh mixed suites description kimpton website sorry free breakfast, got kidding, embassy suits sitting room bathroom bedroom unlike kimpton calls suite, 5 day stay offer correct false advertising, send kimpton preferred guest website email asking failure provide suite advertised website reservation description furnished hard copy reservation printout website desk manager duty did not reply solution, send email trip guest survey did not follow email mail, guess tell concerned guest.the staff ranged indifferent not helpful, asked desk good breakfast spots neighborhood hood told no hotels, gee best breakfast spots seattle 1/2 block away convenient hotel does not know exist, arrived late night 11 pm inside run bellman busy chating cell phone help bags.prior arrival emailed hotel inform 20th anniversary half really picky wanted make sure good, got nice email saying like deliver bottle champagne chocolate covered strawberries room arrival celebrate, told needed foam pillows, arrival no champagne strawberries no foam pillows great room view alley high rise building good not better housekeeping staff cleaner room property, impressed left morning shopping room got short trips 2 hours, beds comfortable.not good ac-heat control 4 x 4 inch screen bring green shine directly eyes night, light sensitive tape controls.this not 4 start hotel clean business hotel super high rates, better chain hotels seattle,  ",
         "ok nothing special charge diamond member hilton decided chain shot 20th anniversary seattle , start booked suite paid extra website description not , suite bedroom bathroom standard hotel room , took printed reservation desk showed said things like tv couch ect desk clerk told oh mixed suites description kimpton website sorry free breakfast , got kidding , embassy suits sitting room bathroom bedroom unlike kimpton calls suite , 5 day stay offer correct false advertising , send kimpton preferred guest website email asking failure provide suite advertised website reservation description furnished hard copy reservation printout website desk manager duty not reply solution , send email trip guest survey not follow email mail , guess tell concerned guest.the staff ranged indifferent not helpful , asked desk good breakfast spots neighborhood hood told hotels , gee best breakfast spots seattle 1/2 block away convenient hotel not know exist , arrived late night 11 pm inside run bellman busy chating cell phone help bags.prior arrival emailed hotel inform 20th anniversary half really picky wanted make sure good , got nice email saying like deliver bottle champagne chocolate covered strawberries room arrival celebrate , told needed foam pillows , arrival champagne strawberries foam pillows great room view alley high rise building good not better housekeeping staff cleaner room property , impressed left morning shopping room got short trips 2 hours , beds comfortable.not good ac-heat control 4 x 4 inch screen bring green shine directly eyes night , light sensitive tape controls.this not 4 start hotel clean business hotel super high rates , better chain hotels seattle ,",
         "ok nothing special charge diamond member hilton decided chain shot 20th anniversary seattle   start booked suite paid extra website description not   suite bedroom bathroom standard hotel room   took printed reservation desk showed said things like tv couch ect desk clerk told oh mixed suites description kimpton website sorry free breakfast   got kidding   embassy suits sitting room bathroom bedroom unlike kimpton calls suite   5 day stay offer correct false advertising   send kimpton preferred guest website email asking failure provide suite advertised website reservation description furnished hard copy reservation printout website desk manager duty not reply solution   send email trip guest survey not follow email mail   guess tell concerned guest the staff ranged indifferent not helpful   asked desk good breakfast spots neighborhood hood told hotels   gee best breakfast spots seattle 1 2 block away convenient hotel not know exist   arrived late night 11 pm inside run bellman busy chating cell phone help bags prior arrival emailed hotel inform 20th anniversary half really picky wanted make sure good   got nice email saying like deliver bottle champagne chocolate covered strawberries room arrival celebrate   told needed foam pillows   arrival champagne strawberries foam pillows great room view alley high rise building good not better housekeeping staff cleaner room property   impressed left morning shopping room got short trips 2 hours   beds comfortable not good ac heat control 4 x 4 inch screen bring green shine directly eyes night   light sensitive tape controls this not 4 start hotel clean business hotel super high rates   better chain hotels seattle  ",
         "['ok', 'nothing', 'special', 'charge', 'diamond', 'member', 'hilton', 'decided', 'chain', 'shot', '20th', 'anniversary', 'seattle', 'start', 'booked', 'suite', 'paid', 'extra', 'website', 'description', 'not', 'suite', 'bedroom', 'bathroom', 'standard', 'hotel', 'room', 'took', 'printed', 'reservation', 'desk', 'showed', 'said', 'things', 'like', 'tv', 'couch', 'ect', 'desk', 'clerk', 'told', 'oh', 'mixed', 'suites', 'description', 'kimpton', 'website', 'sorry', 'free', 'breakfast', 'got', 'kidding', 'embassy', 'suits', 'sitting', 'room', 'bathroom', 'bedroom', 'unlike', 'kimpton', 'calls', 'suite', '5', 'day', 'stay', 'offer', 'correct', 'false', 'advertising', 'send', 'kimpton', 'preferred', 'guest', 'website', 'email', 'asking', 'failure', 'provide', 'suite', 'advertised', 'website', 'reservation', 'description', 'furnished', 'hard', 'copy', 'reservation', 'printout', 'website', 'desk', 'manager', 'duty', 'not', 'reply', 'solution', 'send', 'email', 'trip', 'guest', 'survey', 'not', 'follow', 'email', 'mail', 'guess', 'tell', 'concerned', 'guest', 'the', 'staff', 'ranged', 'indifferent', 'not', 'helpful', 'asked', 'desk', 'good', 'breakfast', 'spots', 'neighborhood', 'hood', 'told', 'hotels', 'gee', 'best', 'breakfast', 'spots', 'seattle', '1', '2', 'block', 'away', 'convenient', 'hotel', 'not', 'know', 'exist', 'arrived', 'late', 'night', '11', 'pm', 'inside', 'run', 'bellman', 'busy', 'chating', 'cell', 'phone', 'help', 'bags', 'prior', 'arrival', 'emailed', 'hotel', 'inform', '20th', 'anniversary', 'half', 'really', 'picky', 'wanted', 'make', 'sure', 'good', 'got', 'nice', 'email', 'saying', 'like', 'deliver', 'bottle', 'champagne', 'chocolate', 'covered', 'strawberries', 'room', 'arrival', 'celebrate', 'told', 'needed', 'foam', 'pillows', 'arrival', 'champagne', 'strawberries', 'foam', 'pillows', 'great', 'room', 'view', 'alley', 'high', 'rise', 'building', 'good', 'not', 'better', 'housekeeping', 'staff', 'cleaner', 'room', 'property', 'impressed', 'left', 'morning', 'shopping', 'room', 'got', 'short', 'trips', '2', 'hours', 'beds', 'comfortable', 'not', 'good', 'ac', 'heat', 'control', '4', 'x', '4', 'inch', 'screen', 'bring', 'green', 'shine', 'directly', 'eyes', 'night', 'light', 'sensitive', 'tape', 'controls', 'this', 'not', '4', 'start', 'hotel', 'clean', 'business', 'hotel', 'super', 'high', 'rates', 'better', 'chain', 'hotels', 'seattle']",
         "['ok', 'noth', 'special', 'charg', 'diamond', 'member', 'hilton', 'decid', 'chain', 'shot', '20th', 'anniversari', 'seattl', 'start', 'book', 'suit', 'paid', 'extra', 'websit', 'descript', 'not', 'suit', 'bedroom', 'bathroom', 'standard', 'hotel', 'room', 'took', 'print', 'reserv', 'desk', 'show', 'said', 'thing', 'like', 'tv', 'couch', 'ect', 'desk', 'clerk', 'told', 'oh', 'mix', 'suit', 'descript', 'kimpton', 'websit', 'sorri', 'free', 'breakfast', 'got', 'kid', 'embassi', 'suit', 'sit', 'room', 'bathroom', 'bedroom', 'unlik', 'kimpton', 'call', 'suit', '5', 'day', 'stay', 'offer', 'correct', 'fals', 'advertis', 'send', 'kimpton', 'prefer', 'guest', 'websit', 'email', 'ask', 'failur', 'provid', 'suit', 'advertis', 'websit', 'reserv', 'descript', 'furnish', 'hard', 'copi', 'reserv', 'printout', 'websit', 'desk', 'manag', 'duti', 'not', 'repli', 'solut', 'send', 'email', 'trip', 'guest', 'survey', 'not', 'follow', 'email', 'mail', 'guess', 'tell', 'concern', 'guest', 'the', 'staff', 'rang', 'indiffer', 'not', 'help', 'ask', 'desk', 'good', 'breakfast', 'spot', 'neighborhood', 'hood', 'told', 'hotel', 'gee', 'best', 'breakfast', 'spot', 'seattl', '1', '2', 'block', 'away', 'conveni', 'hotel', 'not', 'know', 'exist', 'arriv', 'late', 'night', '11', 'pm', 'insid', 'run', 'bellman', 'busi', 'chate', 'cell', 'phone', 'help', 'bag', 'prior', 'arriv', 'email', 'hotel', 'inform', '20th', 'anniversari', 'half', 'realli', 'picki', 'want', 'make', 'sure', 'good', 'got', 'nice', 'email', 'say', 'like', 'deliv', 'bottl', 'champagn', 'chocol', 'cover', 'strawberri', 'room', 'arriv', 'celebr', 'told', 'need', 'foam', 'pillow', 'arriv', 'champagn', 'strawberri', 'foam', 'pillow', 'great', 'room', 'view', 'alley', 'high', 'rise', 'build', 'good', 'not', 'better', 'housekeep', 'staff', 'cleaner', 'room', 'properti', 'impress', 'left', 'morn', 'shop', 'room', 'got', 'short', 'trip', '2', 'hour', 'bed', 'comfort', 'not', 'good', 'ac', 'heat', 'control', '4', 'x', '4', 'inch', 'screen', 'bring', 'green', 'shine', 'directli', 'eye', 'night', 'light', 'sensit', 'tape', 'control', 'thi', 'not', '4', 'start', 'hotel', 'clean', 'busi', 'hotel', 'super', 'high', 'rate', 'better', 'chain', 'hotel', 'seattl']"
        ],
        [
         "2",
         "nice rooms not 4* experience hotel monaco seattle good hotel n't 4* level.positives large bathroom mediterranean suite comfortable bed pillowsattentive housekeeping staffnegatives ac unit malfunctioned stay desk disorganized, missed 3 separate wakeup calls, concierge busy hard touch, did n't provide guidance special requests.tv hard use ipod sound dock suite non functioning. decided book mediterranean suite 3 night weekend stay 1st choice rest party filled, comparison w spent 45 night larger square footage room great soaking tub whirlpool jets nice shower.before stay hotel arrange car service price 53 tip reasonable driver waiting arrival.checkin easy downside room picked 2 person jacuzi tub no bath accessories salts bubble bath did n't stay, night got 12/1a checked voucher bottle champagne nice gesture fish waiting room, impression room huge open space felt room big, tv far away bed chore change channel, ipod dock broken disappointing.in morning way asked desk check thermostat said 65f 74 2 degrees warm try cover face night bright blue light kept, got room night no, 1st drop desk, called maintainence came look thermostat told play settings happy digital box wo n't work, asked wakeup 10am morning did n't happen, called later 6pm nap wakeup forgot, 10am wakeup morning yep forgotten.the bathroom facilities great room surprised room sold whirlpool bath tub n't bath amenities, great relax water jets going,  ",
         "3",
         "nice rooms not 4* experience hotel monaco seattle good hotel n't 4* level.positives large bathroom mediterranean suite comfortable bed pillowsattentive housekeeping staffnegatives ac unit malfunctioned stay desk disorganized, missed 3 separate wakeup calls, concierge busy hard touch, did n't provide guidance special requests.tv hard use ipod sound dock suite non functioning. decided book mediterranean suite 3 night weekend stay 1st choice rest party filled, comparison w spent 45 night larger square footage room great soaking tub whirlpool jets nice shower.before stay hotel arrange car service price 53 tip reasonable driver waiting arrival.checkin easy downside room picked 2 person jacuzi tub no bath accessories salts bubble bath did n't stay, night got 12/1a checked voucher bottle champagne nice gesture fish waiting room, impression room huge open space felt room big, tv far away bed chore change channel, ipod dock broken disappointing.in morning way asked desk check thermostat said 65f 74 2 degrees warm try cover face night bright blue light kept, got room night no, 1st drop desk, called maintainence came look thermostat told play settings happy digital box wo n't work, asked wakeup 10am morning did n't happen, called later 6pm nap wakeup forgot, 10am wakeup morning yep forgotten.the bathroom facilities great room surprised room sold whirlpool bath tub n't bath amenities, great relax water jets going,  ",
         "nice rooms not 4 * experience hotel monaco seattle good hotel n't 4 * level.positives large bathroom mediterranean suite comfortable bed pillowsattentive housekeeping staffnegatives ac unit malfunctioned stay desk disorganized , missed 3 separate wakeup calls , concierge busy hard touch , n't provide guidance special requests.tv hard use ipod sound dock suite non functioning . decided book mediterranean suite 3 night weekend stay 1st choice rest party filled , comparison w spent 45 night larger square footage room great soaking tub whirlpool jets nice shower.before stay hotel arrange car service price 53 tip reasonable driver waiting arrival.checkin easy downside room picked 2 person jacuzi tub bath accessories salts bubble bath n't stay , night got 12/1a checked voucher bottle champagne nice gesture fish waiting room , impression room huge open space felt room big , tv far away bed chore change channel , ipod dock broken disappointing.in morning way asked desk check thermostat said 65f 74 2 degrees warm try cover face night bright blue light kept , got room night , 1st drop desk , called maintainence came look thermostat told play settings happy digital box wo n't work , asked wakeup 10am morning n't happen , called later 6pm nap wakeup forgot , 10am wakeup morning yep forgotten.the bathroom facilities great room surprised room sold whirlpool bath tub n't bath amenities , great relax water jets going ,",
         "nice rooms not 4 star experience hotel monaco seattle good hotel n t 4 star level positives large bathroom mediterranean suite comfortable bed pillowsattentive housekeeping staffnegatives ac unit malfunctioned stay desk disorganized   missed 3 separate wakeup calls   concierge busy hard touch   n t provide guidance special requests tv hard use ipod sound dock suite non functioning   decided book mediterranean suite 3 night weekend stay 1st choice rest party filled   comparison w spent 45 night larger square footage room great soaking tub whirlpool jets nice shower before stay hotel arrange car service price 53 tip reasonable driver waiting arrival checkin easy downside room picked 2 person jacuzi tub bath accessories salts bubble bath n t stay   night got 12 1a checked voucher bottle champagne nice gesture fish waiting room   impression room huge open space felt room big   tv far away bed chore change channel   ipod dock broken disappointing in morning way asked desk check thermostat said 65f 74 2 degrees warm try cover face night bright blue light kept   got room night   1st drop desk   called maintainence came look thermostat told play settings happy digital box wo n t work   asked wakeup 10am morning n t happen   called later 6pm nap wakeup forgot   10am wakeup morning yep forgotten the bathroom facilities great room surprised room sold whirlpool bath tub n t bath amenities   great relax water jets going  ",
         "['nice', 'rooms', 'not', '4', 'star', 'experience', 'hotel', 'monaco', 'seattle', 'good', 'hotel', 'n', 't', '4', 'star', 'level', 'positives', 'large', 'bathroom', 'mediterranean', 'suite', 'comfortable', 'bed', 'pillowsattentive', 'housekeeping', 'staffnegatives', 'ac', 'unit', 'malfunctioned', 'stay', 'desk', 'disorganized', 'missed', '3', 'separate', 'wakeup', 'calls', 'concierge', 'busy', 'hard', 'touch', 'n', 't', 'provide', 'guidance', 'special', 'requests', 'tv', 'hard', 'use', 'ipod', 'sound', 'dock', 'suite', 'non', 'functioning', 'decided', 'book', 'mediterranean', 'suite', '3', 'night', 'weekend', 'stay', '1st', 'choice', 'rest', 'party', 'filled', 'comparison', 'w', 'spent', '45', 'night', 'larger', 'square', 'footage', 'room', 'great', 'soaking', 'tub', 'whirlpool', 'jets', 'nice', 'shower', 'before', 'stay', 'hotel', 'arrange', 'car', 'service', 'price', '53', 'tip', 'reasonable', 'driver', 'waiting', 'arrival', 'checkin', 'easy', 'downside', 'room', 'picked', '2', 'person', 'jacuzi', 'tub', 'bath', 'accessories', 'salts', 'bubble', 'bath', 'n', 't', 'stay', 'night', 'got', '12', '1a', 'checked', 'voucher', 'bottle', 'champagne', 'nice', 'gesture', 'fish', 'waiting', 'room', 'impression', 'room', 'huge', 'open', 'space', 'felt', 'room', 'big', 'tv', 'far', 'away', 'bed', 'chore', 'change', 'channel', 'ipod', 'dock', 'broken', 'disappointing', 'in', 'morning', 'way', 'asked', 'desk', 'check', 'thermostat', 'said', '65f', '74', '2', 'degrees', 'warm', 'try', 'cover', 'face', 'night', 'bright', 'blue', 'light', 'kept', 'got', 'room', 'night', '1st', 'drop', 'desk', 'called', 'maintainence', 'came', 'look', 'thermostat', 'told', 'play', 'settings', 'happy', 'digital', 'box', 'wo', 'n', 't', 'work', 'asked', 'wakeup', '10am', 'morning', 'n', 't', 'happen', 'called', 'later', '6pm', 'nap', 'wakeup', 'forgot', '10am', 'wakeup', 'morning', 'yep', 'forgotten', 'the', 'bathroom', 'facilities', 'great', 'room', 'surprised', 'room', 'sold', 'whirlpool', 'bath', 'tub', 'n', 't', 'bath', 'amenities', 'great', 'relax', 'water', 'jets', 'going']",
         "['nice', 'room', 'not', '4', 'star', 'experi', 'hotel', 'monaco', 'seattl', 'good', 'hotel', 'n', 't', '4', 'star', 'level', 'posit', 'larg', 'bathroom', 'mediterranean', 'suit', 'comfort', 'bed', 'pillowsattent', 'housekeep', 'staffneg', 'ac', 'unit', 'malfunct', 'stay', 'desk', 'disorgan', 'miss', '3', 'separ', 'wakeup', 'call', 'concierg', 'busi', 'hard', 'touch', 'n', 't', 'provid', 'guidanc', 'special', 'request', 'tv', 'hard', 'use', 'ipod', 'sound', 'dock', 'suit', 'non', 'function', 'decid', 'book', 'mediterranean', 'suit', '3', 'night', 'weekend', 'stay', '1st', 'choic', 'rest', 'parti', 'fill', 'comparison', 'w', 'spent', '45', 'night', 'larger', 'squar', 'footag', 'room', 'great', 'soak', 'tub', 'whirlpool', 'jet', 'nice', 'shower', 'befor', 'stay', 'hotel', 'arrang', 'car', 'servic', 'price', '53', 'tip', 'reason', 'driver', 'wait', 'arriv', 'checkin', 'easi', 'downsid', 'room', 'pick', '2', 'person', 'jacuzi', 'tub', 'bath', 'accessori', 'salt', 'bubbl', 'bath', 'n', 't', 'stay', 'night', 'got', '12', '1a', 'check', 'voucher', 'bottl', 'champagn', 'nice', 'gestur', 'fish', 'wait', 'room', 'impress', 'room', 'huge', 'open', 'space', 'felt', 'room', 'big', 'tv', 'far', 'away', 'bed', 'chore', 'chang', 'channel', 'ipod', 'dock', 'broken', 'disappoint', 'in', 'morn', 'way', 'ask', 'desk', 'check', 'thermostat', 'said', '65f', '74', '2', 'degre', 'warm', 'tri', 'cover', 'face', 'night', 'bright', 'blue', 'light', 'kept', 'got', 'room', 'night', '1st', 'drop', 'desk', 'call', 'maintain', 'came', 'look', 'thermostat', 'told', 'play', 'set', 'happi', 'digit', 'box', 'wo', 'n', 't', 'work', 'ask', 'wakeup', '10am', 'morn', 'n', 't', 'happen', 'call', 'later', '6pm', 'nap', 'wakeup', 'forgot', '10am', 'wakeup', 'morn', 'yep', 'forgotten', 'the', 'bathroom', 'facil', 'great', 'room', 'surpris', 'room', 'sold', 'whirlpool', 'bath', 'tub', 'n', 't', 'bath', 'amen', 'great', 'relax', 'water', 'jet', 'go']"
        ],
        [
         "3",
         "unique, great stay, wonderful time hotel monaco, location excellent short stroll main downtown shopping area, pet friendly room showed no signs animal hair smells, monaco suite sleeping area big striped curtains pulled closed nice touch felt cosy, goldfish named brandi enjoyed, did n't partake free wine coffee/tea service lobby thought great feature, great staff friendly, free wireless internet hotel worked suite 2 laptops, decor lovely eclectic mix pattens color palatte, animal print bathrobes feel like rock stars, nice did n't look like sterile chain hotel hotel personality excellent stay,  ",
         "5",
         "unique, great stay, wonderful time hotel monaco, location excellent short stroll main downtown shopping area, pet friendly room showed no signs animal hair smells, monaco suite sleeping area big striped curtains pulled closed nice touch felt cosy, goldfish named brandi enjoyed, did n't partake free wine coffee/tea service lobby thought great feature, great staff friendly, free wireless internet hotel worked suite 2 laptops, decor lovely eclectic mix pattens color palatte, animal print bathrobes feel like rock stars, nice did n't look like sterile chain hotel hotel personality excellent stay,  ",
         "unique , great stay , wonderful time hotel monaco , location excellent short stroll main downtown shopping area , pet friendly room showed signs animal hair smells , monaco suite sleeping area big striped curtains pulled closed nice touch felt cosy , goldfish named brandi enjoyed , n't partake free wine coffee/tea service lobby thought great feature , great staff friendly , free wireless internet hotel worked suite 2 laptops , decor lovely eclectic mix pattens color palatte , animal print bathrobes feel like rock stars , nice n't look like sterile chain hotel hotel personality excellent stay ,",
         "unique   great stay   wonderful time hotel monaco   location excellent short stroll main downtown shopping area   pet friendly room showed signs animal hair smells   monaco suite sleeping area big striped curtains pulled closed nice touch felt cosy   goldfish named brandi enjoyed   n t partake free wine coffee tea service lobby thought great feature   great staff friendly   free wireless internet hotel worked suite 2 laptops   decor lovely eclectic mix pattens color palatte   animal print bathrobes feel like rock stars   nice n t look like sterile chain hotel hotel personality excellent stay  ",
         "['unique', 'great', 'stay', 'wonderful', 'time', 'hotel', 'monaco', 'location', 'excellent', 'short', 'stroll', 'main', 'downtown', 'shopping', 'area', 'pet', 'friendly', 'room', 'showed', 'signs', 'animal', 'hair', 'smells', 'monaco', 'suite', 'sleeping', 'area', 'big', 'striped', 'curtains', 'pulled', 'closed', 'nice', 'touch', 'felt', 'cosy', 'goldfish', 'named', 'brandi', 'enjoyed', 'n', 't', 'partake', 'free', 'wine', 'coffee', 'tea', 'service', 'lobby', 'thought', 'great', 'feature', 'great', 'staff', 'friendly', 'free', 'wireless', 'internet', 'hotel', 'worked', 'suite', '2', 'laptops', 'decor', 'lovely', 'eclectic', 'mix', 'pattens', 'color', 'palatte', 'animal', 'print', 'bathrobes', 'feel', 'like', 'rock', 'stars', 'nice', 'n', 't', 'look', 'like', 'sterile', 'chain', 'hotel', 'hotel', 'personality', 'excellent', 'stay']",
         "['uniqu', 'great', 'stay', 'wonder', 'time', 'hotel', 'monaco', 'locat', 'excel', 'short', 'stroll', 'main', 'downtown', 'shop', 'area', 'pet', 'friendli', 'room', 'show', 'sign', 'anim', 'hair', 'smell', 'monaco', 'suit', 'sleep', 'area', 'big', 'stripe', 'curtain', 'pull', 'close', 'nice', 'touch', 'felt', 'cosi', 'goldfish', 'name', 'brandi', 'enjoy', 'n', 't', 'partak', 'free', 'wine', 'coffe', 'tea', 'servic', 'lobbi', 'thought', 'great', 'featur', 'great', 'staff', 'friendli', 'free', 'wireless', 'internet', 'hotel', 'work', 'suit', '2', 'laptop', 'decor', 'love', 'eclect', 'mix', 'patten', 'color', 'palatt', 'anim', 'print', 'bathrob', 'feel', 'like', 'rock', 'star', 'nice', 'n', 't', 'look', 'like', 'steril', 'chain', 'hotel', 'hotel', 'person', 'excel', 'stay']"
        ],
        [
         "4",
         "great stay great stay, went seahawk game awesome, downfall view building did n't complain, room huge staff helpful, booked hotels website seahawk package, no charge parking got voucher taxi, problem taxi driver did n't want accept voucher barely spoke english, funny thing speak arabic called started making comments girlfriend cell phone buddy, took second realize just said fact speak language face priceless, ass told, said large city, told head doorman issue called cab company promply answer did n't, apologized offered pay taxi, bucks 2 miles stadium, game plan taxi return going humpin, great walk did n't mind, right christmas wonderful lights, homeless stowed away building entrances leave, police presence not greatest area stadium, activities 7 blocks pike street waterfront great coffee shops way, hotel mantained foyer awesome, wine tasting available evening, best dog, taking st. bernard time family, safes hotel located service desk room, bathroom huge jetted tub huge, funny house keeping walked girlfriend getting dressed, did n't hear knock doing turn service, screamed girlfriend screams hit floor laughing, started talking spanish worked, place recommend price, check online deals just good not better, besite contains deals vouchers travel websites n't tell,  ",
         "5",
         "great stay great stay, went seahawk game awesome, downfall view building did n't complain, room huge staff helpful, booked hotels website seahawk package, no charge parking got voucher taxi, problem taxi driver did n't want accept voucher barely spoke english, funny thing speak arabic called started making comments girlfriend cell phone buddy, took second realize just said fact speak language face priceless, ass told, said large city, told head doorman issue called cab company promply answer did n't, apologized offered pay taxi, bucks 2 miles stadium, game plan taxi return going humpin, great walk did n't mind, right christmas wonderful lights, homeless stowed away building entrances leave, police presence not greatest area stadium, activities 7 blocks pike street waterfront great coffee shops way, hotel mantained foyer awesome, wine tasting available evening, best dog, taking st. bernard time family, safes hotel located service desk room, bathroom huge jetted tub huge, funny house keeping walked girlfriend getting dressed, did n't hear knock doing turn service, screamed girlfriend screams hit floor laughing, started talking spanish worked, place recommend price, check online deals just good not better, besite contains deals vouchers travel websites n't tell,  ",
         "great stay great stay , went seahawk game awesome , downfall view building n't complain , room huge staff helpful , booked hotels website seahawk package , charge parking got voucher taxi , problem taxi driver n't want accept voucher barely spoke english , funny thing speak arabic called started making comments girlfriend cell phone buddy , took second realize said fact speak language face priceless , ass told , said large city , told head doorman issue called cab company promply answer n't , apologized offered pay taxi , bucks 2 miles stadium , game plan taxi return going humpin , great walk n't mind , right christmas wonderful lights , homeless stowed away building entrances leave , police presence not greatest area stadium , activities 7 blocks pike street waterfront great coffee shops way , hotel mantained foyer awesome , wine tasting available evening , best dog , taking st. bernard time family , safes hotel located service desk room , bathroom huge jetted tub huge , funny house keeping walked girlfriend getting dressed , n't hear knock turn service , screamed girlfriend screams hit floor laughing , started talking spanish worked , place recommend price , check online deals good not better , besite contains deals vouchers travel websites n't tell ,",
         "great stay great stay   went seahawk game awesome   downfall view building n t complain   room huge staff helpful   booked hotels website seahawk package   charge parking got voucher taxi   problem taxi driver n t want accept voucher barely spoke english   funny thing speak arabic called started making comments girlfriend cell phone buddy   took second realize said fact speak language face priceless   ass told   said large city   told head doorman issue called cab company promply answer n t   apologized offered pay taxi   bucks 2 miles stadium   game plan taxi return going humpin   great walk n t mind   right christmas wonderful lights   homeless stowed away building entrances leave   police presence not greatest area stadium   activities 7 blocks pike street waterfront great coffee shops way   hotel mantained foyer awesome   wine tasting available evening   best dog   taking st  bernard time family   safes hotel located service desk room   bathroom huge jetted tub huge   funny house keeping walked girlfriend getting dressed   n t hear knock turn service   screamed girlfriend screams hit floor laughing   started talking spanish worked   place recommend price   check online deals good not better   besite contains deals vouchers travel websites n t tell  ",
         "['great', 'stay', 'great', 'stay', 'went', 'seahawk', 'game', 'awesome', 'downfall', 'view', 'building', 'n', 't', 'complain', 'room', 'huge', 'staff', 'helpful', 'booked', 'hotels', 'website', 'seahawk', 'package', 'charge', 'parking', 'got', 'voucher', 'taxi', 'problem', 'taxi', 'driver', 'n', 't', 'want', 'accept', 'voucher', 'barely', 'spoke', 'english', 'funny', 'thing', 'speak', 'arabic', 'called', 'started', 'making', 'comments', 'girlfriend', 'cell', 'phone', 'buddy', 'took', 'second', 'realize', 'said', 'fact', 'speak', 'language', 'face', 'priceless', 'ass', 'told', 'said', 'large', 'city', 'told', 'head', 'doorman', 'issue', 'called', 'cab', 'company', 'promply', 'answer', 'n', 't', 'apologized', 'offered', 'pay', 'taxi', 'bucks', '2', 'miles', 'stadium', 'game', 'plan', 'taxi', 'return', 'going', 'humpin', 'great', 'walk', 'n', 't', 'mind', 'right', 'christmas', 'wonderful', 'lights', 'homeless', 'stowed', 'away', 'building', 'entrances', 'leave', 'police', 'presence', 'not', 'greatest', 'area', 'stadium', 'activities', '7', 'blocks', 'pike', 'street', 'waterfront', 'great', 'coffee', 'shops', 'way', 'hotel', 'mantained', 'foyer', 'awesome', 'wine', 'tasting', 'available', 'evening', 'best', 'dog', 'taking', 'st', 'bernard', 'time', 'family', 'safes', 'hotel', 'located', 'service', 'desk', 'room', 'bathroom', 'huge', 'jetted', 'tub', 'huge', 'funny', 'house', 'keeping', 'walked', 'girlfriend', 'getting', 'dressed', 'n', 't', 'hear', 'knock', 'turn', 'service', 'screamed', 'girlfriend', 'screams', 'hit', 'floor', 'laughing', 'started', 'talking', 'spanish', 'worked', 'place', 'recommend', 'price', 'check', 'online', 'deals', 'good', 'not', 'better', 'besite', 'contains', 'deals', 'vouchers', 'travel', 'websites', 'n', 't', 'tell']",
         "['great', 'stay', 'great', 'stay', 'went', 'seahawk', 'game', 'awesom', 'downfal', 'view', 'build', 'n', 't', 'complain', 'room', 'huge', 'staff', 'help', 'book', 'hotel', 'websit', 'seahawk', 'packag', 'charg', 'park', 'got', 'voucher', 'taxi', 'problem', 'taxi', 'driver', 'n', 't', 'want', 'accept', 'voucher', 'bare', 'spoke', 'english', 'funni', 'thing', 'speak', 'arab', 'call', 'start', 'make', 'comment', 'girlfriend', 'cell', 'phone', 'buddi', 'took', 'second', 'realiz', 'said', 'fact', 'speak', 'languag', 'face', 'priceless', 'ass', 'told', 'said', 'larg', 'citi', 'told', 'head', 'doorman', 'issu', 'call', 'cab', 'compani', 'prompli', 'answer', 'n', 't', 'apolog', 'offer', 'pay', 'taxi', 'buck', '2', 'mile', 'stadium', 'game', 'plan', 'taxi', 'return', 'go', 'humpin', 'great', 'walk', 'n', 't', 'mind', 'right', 'christma', 'wonder', 'light', 'homeless', 'stow', 'away', 'build', 'entranc', 'leav', 'polic', 'presenc', 'not', 'greatest', 'area', 'stadium', 'activ', '7', 'block', 'pike', 'street', 'waterfront', 'great', 'coffe', 'shop', 'way', 'hotel', 'mantain', 'foyer', 'awesom', 'wine', 'tast', 'avail', 'even', 'best', 'dog', 'take', 'st', 'bernard', 'time', 'famili', 'safe', 'hotel', 'locat', 'servic', 'desk', 'room', 'bathroom', 'huge', 'jet', 'tub', 'huge', 'funni', 'hous', 'keep', 'walk', 'girlfriend', 'get', 'dress', 'n', 't', 'hear', 'knock', 'turn', 'servic', 'scream', 'girlfriend', 'scream', 'hit', 'floor', 'laugh', 'start', 'talk', 'spanish', 'work', 'place', 'recommend', 'price', 'check', 'onlin', 'deal', 'good', 'not', 'better', 'besit', 'contain', 'deal', 'voucher', 'travel', 'websit', 'n', 't', 'tell']"
        ]
       ],
       "shape": {
        "columns": 7,
        "rows": 5
       }
      },
      "text/html": [
       "<div>\n",
       "<style scoped>\n",
       "    .dataframe tbody tr th:only-of-type {\n",
       "        vertical-align: middle;\n",
       "    }\n",
       "\n",
       "    .dataframe tbody tr th {\n",
       "        vertical-align: top;\n",
       "    }\n",
       "\n",
       "    .dataframe thead th {\n",
       "        text-align: right;\n",
       "    }\n",
       "</style>\n",
       "<table border=\"1\" class=\"dataframe\">\n",
       "  <thead>\n",
       "    <tr style=\"text-align: right;\">\n",
       "      <th></th>\n",
       "      <th>Review</th>\n",
       "      <th>Rating</th>\n",
       "      <th>ReviewLower</th>\n",
       "      <th>ReviewCleaned</th>\n",
       "      <th>ReviewNoPunctuation</th>\n",
       "      <th>Tokenized</th>\n",
       "      <th>Stemmed</th>\n",
       "    </tr>\n",
       "  </thead>\n",
       "  <tbody>\n",
       "    <tr>\n",
       "      <th>0</th>\n",
       "      <td>nice hotel expensive parking got good deal sta...</td>\n",
       "      <td>4</td>\n",
       "      <td>nice hotel expensive parking got good deal sta...</td>\n",
       "      <td>nice hotel expensive parking got good deal sta...</td>\n",
       "      <td>nice hotel expensive parking got good deal sta...</td>\n",
       "      <td>[nice, hotel, expensive, parking, got, good, d...</td>\n",
       "      <td>[nice, hotel, expens, park, got, good, deal, s...</td>\n",
       "    </tr>\n",
       "    <tr>\n",
       "      <th>1</th>\n",
       "      <td>ok nothing special charge diamond member hilto...</td>\n",
       "      <td>2</td>\n",
       "      <td>ok nothing special charge diamond member hilto...</td>\n",
       "      <td>ok nothing special charge diamond member hilto...</td>\n",
       "      <td>ok nothing special charge diamond member hilto...</td>\n",
       "      <td>[ok, nothing, special, charge, diamond, member...</td>\n",
       "      <td>[ok, noth, special, charg, diamond, member, hi...</td>\n",
       "    </tr>\n",
       "    <tr>\n",
       "      <th>2</th>\n",
       "      <td>nice rooms not 4* experience hotel monaco seat...</td>\n",
       "      <td>3</td>\n",
       "      <td>nice rooms not 4* experience hotel monaco seat...</td>\n",
       "      <td>nice rooms not 4 * experience hotel monaco sea...</td>\n",
       "      <td>nice rooms not 4 star experience hotel monaco ...</td>\n",
       "      <td>[nice, rooms, not, 4, star, experience, hotel,...</td>\n",
       "      <td>[nice, room, not, 4, star, experi, hotel, mona...</td>\n",
       "    </tr>\n",
       "    <tr>\n",
       "      <th>3</th>\n",
       "      <td>unique, great stay, wonderful time hotel monac...</td>\n",
       "      <td>5</td>\n",
       "      <td>unique, great stay, wonderful time hotel monac...</td>\n",
       "      <td>unique , great stay , wonderful time hotel mon...</td>\n",
       "      <td>unique   great stay   wonderful time hotel mon...</td>\n",
       "      <td>[unique, great, stay, wonderful, time, hotel, ...</td>\n",
       "      <td>[uniqu, great, stay, wonder, time, hotel, mona...</td>\n",
       "    </tr>\n",
       "    <tr>\n",
       "      <th>4</th>\n",
       "      <td>great stay great stay, went seahawk game aweso...</td>\n",
       "      <td>5</td>\n",
       "      <td>great stay great stay, went seahawk game aweso...</td>\n",
       "      <td>great stay great stay , went seahawk game awes...</td>\n",
       "      <td>great stay great stay   went seahawk game awes...</td>\n",
       "      <td>[great, stay, great, stay, went, seahawk, game...</td>\n",
       "      <td>[great, stay, great, stay, went, seahawk, game...</td>\n",
       "    </tr>\n",
       "  </tbody>\n",
       "</table>\n",
       "</div>"
      ],
      "text/plain": [
       "                                              Review  Rating  \\\n",
       "0  nice hotel expensive parking got good deal sta...       4   \n",
       "1  ok nothing special charge diamond member hilto...       2   \n",
       "2  nice rooms not 4* experience hotel monaco seat...       3   \n",
       "3  unique, great stay, wonderful time hotel monac...       5   \n",
       "4  great stay great stay, went seahawk game aweso...       5   \n",
       "\n",
       "                                         ReviewLower  \\\n",
       "0  nice hotel expensive parking got good deal sta...   \n",
       "1  ok nothing special charge diamond member hilto...   \n",
       "2  nice rooms not 4* experience hotel monaco seat...   \n",
       "3  unique, great stay, wonderful time hotel monac...   \n",
       "4  great stay great stay, went seahawk game aweso...   \n",
       "\n",
       "                                       ReviewCleaned  \\\n",
       "0  nice hotel expensive parking got good deal sta...   \n",
       "1  ok nothing special charge diamond member hilto...   \n",
       "2  nice rooms not 4 * experience hotel monaco sea...   \n",
       "3  unique , great stay , wonderful time hotel mon...   \n",
       "4  great stay great stay , went seahawk game awes...   \n",
       "\n",
       "                                 ReviewNoPunctuation  \\\n",
       "0  nice hotel expensive parking got good deal sta...   \n",
       "1  ok nothing special charge diamond member hilto...   \n",
       "2  nice rooms not 4 star experience hotel monaco ...   \n",
       "3  unique   great stay   wonderful time hotel mon...   \n",
       "4  great stay great stay   went seahawk game awes...   \n",
       "\n",
       "                                           Tokenized  \\\n",
       "0  [nice, hotel, expensive, parking, got, good, d...   \n",
       "1  [ok, nothing, special, charge, diamond, member...   \n",
       "2  [nice, rooms, not, 4, star, experience, hotel,...   \n",
       "3  [unique, great, stay, wonderful, time, hotel, ...   \n",
       "4  [great, stay, great, stay, went, seahawk, game...   \n",
       "\n",
       "                                             Stemmed  \n",
       "0  [nice, hotel, expens, park, got, good, deal, s...  \n",
       "1  [ok, noth, special, charg, diamond, member, hi...  \n",
       "2  [nice, room, not, 4, star, experi, hotel, mona...  \n",
       "3  [uniqu, great, stay, wonder, time, hotel, mona...  \n",
       "4  [great, stay, great, stay, went, seahawk, game...  "
      ]
     },
     "execution_count": 16,
     "metadata": {},
     "output_type": "execute_result"
    }
   ],
   "source": [
    "data.head()"
   ]
  },
  {
   "cell_type": "markdown",
   "metadata": {},
   "source": [
    "### Lemmatization"
   ]
  },
  {
   "cell_type": "code",
   "execution_count": 17,
   "metadata": {},
   "outputs": [],
   "source": [
    "lemmatizer = WordNetLemmatizer()\n",
    "\n",
    "data[\"Lemmatized\"] = data[\"Tokenized\"].apply(lambda x: [lemmatizer.lemmatize(word) for word in x])"
   ]
  },
  {
   "cell_type": "code",
   "execution_count": 18,
   "metadata": {},
   "outputs": [
    {
     "data": {
      "application/vnd.microsoft.datawrangler.viewer.v0+json": {
       "columns": [
        {
         "name": "index",
         "rawType": "int64",
         "type": "integer"
        },
        {
         "name": "Review",
         "rawType": "object",
         "type": "string"
        },
        {
         "name": "Rating",
         "rawType": "int64",
         "type": "integer"
        },
        {
         "name": "ReviewLower",
         "rawType": "object",
         "type": "string"
        },
        {
         "name": "ReviewCleaned",
         "rawType": "object",
         "type": "string"
        },
        {
         "name": "ReviewNoPunctuation",
         "rawType": "object",
         "type": "string"
        },
        {
         "name": "Tokenized",
         "rawType": "object",
         "type": "unknown"
        },
        {
         "name": "Stemmed",
         "rawType": "object",
         "type": "unknown"
        },
        {
         "name": "Lemmatized",
         "rawType": "object",
         "type": "unknown"
        }
       ],
       "conversionMethod": "pd.DataFrame",
       "ref": "65661703-4dfa-4b91-b2cc-34c0c325afab",
       "rows": [
        [
         "0",
         "nice hotel expensive parking got good deal stay hotel anniversary, arrived late evening took advice previous reviews did valet parking, check quick easy, little disappointed non-existent view room room clean nice size, bed comfortable woke stiff neck high pillows, not soundproof like heard music room night morning loud bangs doors opening closing hear people talking hallway, maybe just noisy neighbors, aveda bath products nice, did not goldfish stay nice touch taken advantage staying longer, location great walking distance shopping, overall nice experience having pay 40 parking night,  ",
         "4",
         "nice hotel expensive parking got good deal stay hotel anniversary, arrived late evening took advice previous reviews did valet parking, check quick easy, little disappointed non-existent view room room clean nice size, bed comfortable woke stiff neck high pillows, not soundproof like heard music room night morning loud bangs doors opening closing hear people talking hallway, maybe just noisy neighbors, aveda bath products nice, did not goldfish stay nice touch taken advantage staying longer, location great walking distance shopping, overall nice experience having pay 40 parking night,  ",
         "nice hotel expensive parking got good deal stay hotel anniversary , arrived late evening took advice previous reviews valet parking , check quick easy , little disappointed non-existent view room room clean nice size , bed comfortable woke stiff neck high pillows , not soundproof like heard music room night morning loud bangs doors opening closing hear people talking hallway , maybe noisy neighbors , aveda bath products nice , not goldfish stay nice touch taken advantage staying longer , location great walking distance shopping , overall nice experience pay 40 parking night ,",
         "nice hotel expensive parking got good deal stay hotel anniversary   arrived late evening took advice previous reviews valet parking   check quick easy   little disappointed non existent view room room clean nice size   bed comfortable woke stiff neck high pillows   not soundproof like heard music room night morning loud bangs doors opening closing hear people talking hallway   maybe noisy neighbors   aveda bath products nice   not goldfish stay nice touch taken advantage staying longer   location great walking distance shopping   overall nice experience pay 40 parking night  ",
         "['nice', 'hotel', 'expensive', 'parking', 'got', 'good', 'deal', 'stay', 'hotel', 'anniversary', 'arrived', 'late', 'evening', 'took', 'advice', 'previous', 'reviews', 'valet', 'parking', 'check', 'quick', 'easy', 'little', 'disappointed', 'non', 'existent', 'view', 'room', 'room', 'clean', 'nice', 'size', 'bed', 'comfortable', 'woke', 'stiff', 'neck', 'high', 'pillows', 'not', 'soundproof', 'like', 'heard', 'music', 'room', 'night', 'morning', 'loud', 'bangs', 'doors', 'opening', 'closing', 'hear', 'people', 'talking', 'hallway', 'maybe', 'noisy', 'neighbors', 'aveda', 'bath', 'products', 'nice', 'not', 'goldfish', 'stay', 'nice', 'touch', 'taken', 'advantage', 'staying', 'longer', 'location', 'great', 'walking', 'distance', 'shopping', 'overall', 'nice', 'experience', 'pay', '40', 'parking', 'night']",
         "['nice', 'hotel', 'expens', 'park', 'got', 'good', 'deal', 'stay', 'hotel', 'anniversari', 'arriv', 'late', 'even', 'took', 'advic', 'previou', 'review', 'valet', 'park', 'check', 'quick', 'easi', 'littl', 'disappoint', 'non', 'exist', 'view', 'room', 'room', 'clean', 'nice', 'size', 'bed', 'comfort', 'woke', 'stiff', 'neck', 'high', 'pillow', 'not', 'soundproof', 'like', 'heard', 'music', 'room', 'night', 'morn', 'loud', 'bang', 'door', 'open', 'close', 'hear', 'peopl', 'talk', 'hallway', 'mayb', 'noisi', 'neighbor', 'aveda', 'bath', 'product', 'nice', 'not', 'goldfish', 'stay', 'nice', 'touch', 'taken', 'advantag', 'stay', 'longer', 'locat', 'great', 'walk', 'distanc', 'shop', 'overal', 'nice', 'experi', 'pay', '40', 'park', 'night']",
         "['nice', 'hotel', 'expensive', 'parking', 'got', 'good', 'deal', 'stay', 'hotel', 'anniversary', 'arrived', 'late', 'evening', 'took', 'advice', 'previous', 'review', 'valet', 'parking', 'check', 'quick', 'easy', 'little', 'disappointed', 'non', 'existent', 'view', 'room', 'room', 'clean', 'nice', 'size', 'bed', 'comfortable', 'woke', 'stiff', 'neck', 'high', 'pillow', 'not', 'soundproof', 'like', 'heard', 'music', 'room', 'night', 'morning', 'loud', 'bang', 'door', 'opening', 'closing', 'hear', 'people', 'talking', 'hallway', 'maybe', 'noisy', 'neighbor', 'aveda', 'bath', 'product', 'nice', 'not', 'goldfish', 'stay', 'nice', 'touch', 'taken', 'advantage', 'staying', 'longer', 'location', 'great', 'walking', 'distance', 'shopping', 'overall', 'nice', 'experience', 'pay', '40', 'parking', 'night']"
        ],
        [
         "1",
         "ok nothing special charge diamond member hilton decided chain shot 20th anniversary seattle, start booked suite paid extra website description not, suite bedroom bathroom standard hotel room, took printed reservation desk showed said things like tv couch ect desk clerk told oh mixed suites description kimpton website sorry free breakfast, got kidding, embassy suits sitting room bathroom bedroom unlike kimpton calls suite, 5 day stay offer correct false advertising, send kimpton preferred guest website email asking failure provide suite advertised website reservation description furnished hard copy reservation printout website desk manager duty did not reply solution, send email trip guest survey did not follow email mail, guess tell concerned guest.the staff ranged indifferent not helpful, asked desk good breakfast spots neighborhood hood told no hotels, gee best breakfast spots seattle 1/2 block away convenient hotel does not know exist, arrived late night 11 pm inside run bellman busy chating cell phone help bags.prior arrival emailed hotel inform 20th anniversary half really picky wanted make sure good, got nice email saying like deliver bottle champagne chocolate covered strawberries room arrival celebrate, told needed foam pillows, arrival no champagne strawberries no foam pillows great room view alley high rise building good not better housekeeping staff cleaner room property, impressed left morning shopping room got short trips 2 hours, beds comfortable.not good ac-heat control 4 x 4 inch screen bring green shine directly eyes night, light sensitive tape controls.this not 4 start hotel clean business hotel super high rates, better chain hotels seattle,  ",
         "2",
         "ok nothing special charge diamond member hilton decided chain shot 20th anniversary seattle, start booked suite paid extra website description not, suite bedroom bathroom standard hotel room, took printed reservation desk showed said things like tv couch ect desk clerk told oh mixed suites description kimpton website sorry free breakfast, got kidding, embassy suits sitting room bathroom bedroom unlike kimpton calls suite, 5 day stay offer correct false advertising, send kimpton preferred guest website email asking failure provide suite advertised website reservation description furnished hard copy reservation printout website desk manager duty did not reply solution, send email trip guest survey did not follow email mail, guess tell concerned guest.the staff ranged indifferent not helpful, asked desk good breakfast spots neighborhood hood told no hotels, gee best breakfast spots seattle 1/2 block away convenient hotel does not know exist, arrived late night 11 pm inside run bellman busy chating cell phone help bags.prior arrival emailed hotel inform 20th anniversary half really picky wanted make sure good, got nice email saying like deliver bottle champagne chocolate covered strawberries room arrival celebrate, told needed foam pillows, arrival no champagne strawberries no foam pillows great room view alley high rise building good not better housekeeping staff cleaner room property, impressed left morning shopping room got short trips 2 hours, beds comfortable.not good ac-heat control 4 x 4 inch screen bring green shine directly eyes night, light sensitive tape controls.this not 4 start hotel clean business hotel super high rates, better chain hotels seattle,  ",
         "ok nothing special charge diamond member hilton decided chain shot 20th anniversary seattle , start booked suite paid extra website description not , suite bedroom bathroom standard hotel room , took printed reservation desk showed said things like tv couch ect desk clerk told oh mixed suites description kimpton website sorry free breakfast , got kidding , embassy suits sitting room bathroom bedroom unlike kimpton calls suite , 5 day stay offer correct false advertising , send kimpton preferred guest website email asking failure provide suite advertised website reservation description furnished hard copy reservation printout website desk manager duty not reply solution , send email trip guest survey not follow email mail , guess tell concerned guest.the staff ranged indifferent not helpful , asked desk good breakfast spots neighborhood hood told hotels , gee best breakfast spots seattle 1/2 block away convenient hotel not know exist , arrived late night 11 pm inside run bellman busy chating cell phone help bags.prior arrival emailed hotel inform 20th anniversary half really picky wanted make sure good , got nice email saying like deliver bottle champagne chocolate covered strawberries room arrival celebrate , told needed foam pillows , arrival champagne strawberries foam pillows great room view alley high rise building good not better housekeeping staff cleaner room property , impressed left morning shopping room got short trips 2 hours , beds comfortable.not good ac-heat control 4 x 4 inch screen bring green shine directly eyes night , light sensitive tape controls.this not 4 start hotel clean business hotel super high rates , better chain hotels seattle ,",
         "ok nothing special charge diamond member hilton decided chain shot 20th anniversary seattle   start booked suite paid extra website description not   suite bedroom bathroom standard hotel room   took printed reservation desk showed said things like tv couch ect desk clerk told oh mixed suites description kimpton website sorry free breakfast   got kidding   embassy suits sitting room bathroom bedroom unlike kimpton calls suite   5 day stay offer correct false advertising   send kimpton preferred guest website email asking failure provide suite advertised website reservation description furnished hard copy reservation printout website desk manager duty not reply solution   send email trip guest survey not follow email mail   guess tell concerned guest the staff ranged indifferent not helpful   asked desk good breakfast spots neighborhood hood told hotels   gee best breakfast spots seattle 1 2 block away convenient hotel not know exist   arrived late night 11 pm inside run bellman busy chating cell phone help bags prior arrival emailed hotel inform 20th anniversary half really picky wanted make sure good   got nice email saying like deliver bottle champagne chocolate covered strawberries room arrival celebrate   told needed foam pillows   arrival champagne strawberries foam pillows great room view alley high rise building good not better housekeeping staff cleaner room property   impressed left morning shopping room got short trips 2 hours   beds comfortable not good ac heat control 4 x 4 inch screen bring green shine directly eyes night   light sensitive tape controls this not 4 start hotel clean business hotel super high rates   better chain hotels seattle  ",
         "['ok', 'nothing', 'special', 'charge', 'diamond', 'member', 'hilton', 'decided', 'chain', 'shot', '20th', 'anniversary', 'seattle', 'start', 'booked', 'suite', 'paid', 'extra', 'website', 'description', 'not', 'suite', 'bedroom', 'bathroom', 'standard', 'hotel', 'room', 'took', 'printed', 'reservation', 'desk', 'showed', 'said', 'things', 'like', 'tv', 'couch', 'ect', 'desk', 'clerk', 'told', 'oh', 'mixed', 'suites', 'description', 'kimpton', 'website', 'sorry', 'free', 'breakfast', 'got', 'kidding', 'embassy', 'suits', 'sitting', 'room', 'bathroom', 'bedroom', 'unlike', 'kimpton', 'calls', 'suite', '5', 'day', 'stay', 'offer', 'correct', 'false', 'advertising', 'send', 'kimpton', 'preferred', 'guest', 'website', 'email', 'asking', 'failure', 'provide', 'suite', 'advertised', 'website', 'reservation', 'description', 'furnished', 'hard', 'copy', 'reservation', 'printout', 'website', 'desk', 'manager', 'duty', 'not', 'reply', 'solution', 'send', 'email', 'trip', 'guest', 'survey', 'not', 'follow', 'email', 'mail', 'guess', 'tell', 'concerned', 'guest', 'the', 'staff', 'ranged', 'indifferent', 'not', 'helpful', 'asked', 'desk', 'good', 'breakfast', 'spots', 'neighborhood', 'hood', 'told', 'hotels', 'gee', 'best', 'breakfast', 'spots', 'seattle', '1', '2', 'block', 'away', 'convenient', 'hotel', 'not', 'know', 'exist', 'arrived', 'late', 'night', '11', 'pm', 'inside', 'run', 'bellman', 'busy', 'chating', 'cell', 'phone', 'help', 'bags', 'prior', 'arrival', 'emailed', 'hotel', 'inform', '20th', 'anniversary', 'half', 'really', 'picky', 'wanted', 'make', 'sure', 'good', 'got', 'nice', 'email', 'saying', 'like', 'deliver', 'bottle', 'champagne', 'chocolate', 'covered', 'strawberries', 'room', 'arrival', 'celebrate', 'told', 'needed', 'foam', 'pillows', 'arrival', 'champagne', 'strawberries', 'foam', 'pillows', 'great', 'room', 'view', 'alley', 'high', 'rise', 'building', 'good', 'not', 'better', 'housekeeping', 'staff', 'cleaner', 'room', 'property', 'impressed', 'left', 'morning', 'shopping', 'room', 'got', 'short', 'trips', '2', 'hours', 'beds', 'comfortable', 'not', 'good', 'ac', 'heat', 'control', '4', 'x', '4', 'inch', 'screen', 'bring', 'green', 'shine', 'directly', 'eyes', 'night', 'light', 'sensitive', 'tape', 'controls', 'this', 'not', '4', 'start', 'hotel', 'clean', 'business', 'hotel', 'super', 'high', 'rates', 'better', 'chain', 'hotels', 'seattle']",
         "['ok', 'noth', 'special', 'charg', 'diamond', 'member', 'hilton', 'decid', 'chain', 'shot', '20th', 'anniversari', 'seattl', 'start', 'book', 'suit', 'paid', 'extra', 'websit', 'descript', 'not', 'suit', 'bedroom', 'bathroom', 'standard', 'hotel', 'room', 'took', 'print', 'reserv', 'desk', 'show', 'said', 'thing', 'like', 'tv', 'couch', 'ect', 'desk', 'clerk', 'told', 'oh', 'mix', 'suit', 'descript', 'kimpton', 'websit', 'sorri', 'free', 'breakfast', 'got', 'kid', 'embassi', 'suit', 'sit', 'room', 'bathroom', 'bedroom', 'unlik', 'kimpton', 'call', 'suit', '5', 'day', 'stay', 'offer', 'correct', 'fals', 'advertis', 'send', 'kimpton', 'prefer', 'guest', 'websit', 'email', 'ask', 'failur', 'provid', 'suit', 'advertis', 'websit', 'reserv', 'descript', 'furnish', 'hard', 'copi', 'reserv', 'printout', 'websit', 'desk', 'manag', 'duti', 'not', 'repli', 'solut', 'send', 'email', 'trip', 'guest', 'survey', 'not', 'follow', 'email', 'mail', 'guess', 'tell', 'concern', 'guest', 'the', 'staff', 'rang', 'indiffer', 'not', 'help', 'ask', 'desk', 'good', 'breakfast', 'spot', 'neighborhood', 'hood', 'told', 'hotel', 'gee', 'best', 'breakfast', 'spot', 'seattl', '1', '2', 'block', 'away', 'conveni', 'hotel', 'not', 'know', 'exist', 'arriv', 'late', 'night', '11', 'pm', 'insid', 'run', 'bellman', 'busi', 'chate', 'cell', 'phone', 'help', 'bag', 'prior', 'arriv', 'email', 'hotel', 'inform', '20th', 'anniversari', 'half', 'realli', 'picki', 'want', 'make', 'sure', 'good', 'got', 'nice', 'email', 'say', 'like', 'deliv', 'bottl', 'champagn', 'chocol', 'cover', 'strawberri', 'room', 'arriv', 'celebr', 'told', 'need', 'foam', 'pillow', 'arriv', 'champagn', 'strawberri', 'foam', 'pillow', 'great', 'room', 'view', 'alley', 'high', 'rise', 'build', 'good', 'not', 'better', 'housekeep', 'staff', 'cleaner', 'room', 'properti', 'impress', 'left', 'morn', 'shop', 'room', 'got', 'short', 'trip', '2', 'hour', 'bed', 'comfort', 'not', 'good', 'ac', 'heat', 'control', '4', 'x', '4', 'inch', 'screen', 'bring', 'green', 'shine', 'directli', 'eye', 'night', 'light', 'sensit', 'tape', 'control', 'thi', 'not', '4', 'start', 'hotel', 'clean', 'busi', 'hotel', 'super', 'high', 'rate', 'better', 'chain', 'hotel', 'seattl']",
         "['ok', 'nothing', 'special', 'charge', 'diamond', 'member', 'hilton', 'decided', 'chain', 'shot', '20th', 'anniversary', 'seattle', 'start', 'booked', 'suite', 'paid', 'extra', 'website', 'description', 'not', 'suite', 'bedroom', 'bathroom', 'standard', 'hotel', 'room', 'took', 'printed', 'reservation', 'desk', 'showed', 'said', 'thing', 'like', 'tv', 'couch', 'ect', 'desk', 'clerk', 'told', 'oh', 'mixed', 'suite', 'description', 'kimpton', 'website', 'sorry', 'free', 'breakfast', 'got', 'kidding', 'embassy', 'suit', 'sitting', 'room', 'bathroom', 'bedroom', 'unlike', 'kimpton', 'call', 'suite', '5', 'day', 'stay', 'offer', 'correct', 'false', 'advertising', 'send', 'kimpton', 'preferred', 'guest', 'website', 'email', 'asking', 'failure', 'provide', 'suite', 'advertised', 'website', 'reservation', 'description', 'furnished', 'hard', 'copy', 'reservation', 'printout', 'website', 'desk', 'manager', 'duty', 'not', 'reply', 'solution', 'send', 'email', 'trip', 'guest', 'survey', 'not', 'follow', 'email', 'mail', 'guess', 'tell', 'concerned', 'guest', 'the', 'staff', 'ranged', 'indifferent', 'not', 'helpful', 'asked', 'desk', 'good', 'breakfast', 'spot', 'neighborhood', 'hood', 'told', 'hotel', 'gee', 'best', 'breakfast', 'spot', 'seattle', '1', '2', 'block', 'away', 'convenient', 'hotel', 'not', 'know', 'exist', 'arrived', 'late', 'night', '11', 'pm', 'inside', 'run', 'bellman', 'busy', 'chating', 'cell', 'phone', 'help', 'bag', 'prior', 'arrival', 'emailed', 'hotel', 'inform', '20th', 'anniversary', 'half', 'really', 'picky', 'wanted', 'make', 'sure', 'good', 'got', 'nice', 'email', 'saying', 'like', 'deliver', 'bottle', 'champagne', 'chocolate', 'covered', 'strawberry', 'room', 'arrival', 'celebrate', 'told', 'needed', 'foam', 'pillow', 'arrival', 'champagne', 'strawberry', 'foam', 'pillow', 'great', 'room', 'view', 'alley', 'high', 'rise', 'building', 'good', 'not', 'better', 'housekeeping', 'staff', 'cleaner', 'room', 'property', 'impressed', 'left', 'morning', 'shopping', 'room', 'got', 'short', 'trip', '2', 'hour', 'bed', 'comfortable', 'not', 'good', 'ac', 'heat', 'control', '4', 'x', '4', 'inch', 'screen', 'bring', 'green', 'shine', 'directly', 'eye', 'night', 'light', 'sensitive', 'tape', 'control', 'this', 'not', '4', 'start', 'hotel', 'clean', 'business', 'hotel', 'super', 'high', 'rate', 'better', 'chain', 'hotel', 'seattle']"
        ],
        [
         "2",
         "nice rooms not 4* experience hotel monaco seattle good hotel n't 4* level.positives large bathroom mediterranean suite comfortable bed pillowsattentive housekeeping staffnegatives ac unit malfunctioned stay desk disorganized, missed 3 separate wakeup calls, concierge busy hard touch, did n't provide guidance special requests.tv hard use ipod sound dock suite non functioning. decided book mediterranean suite 3 night weekend stay 1st choice rest party filled, comparison w spent 45 night larger square footage room great soaking tub whirlpool jets nice shower.before stay hotel arrange car service price 53 tip reasonable driver waiting arrival.checkin easy downside room picked 2 person jacuzi tub no bath accessories salts bubble bath did n't stay, night got 12/1a checked voucher bottle champagne nice gesture fish waiting room, impression room huge open space felt room big, tv far away bed chore change channel, ipod dock broken disappointing.in morning way asked desk check thermostat said 65f 74 2 degrees warm try cover face night bright blue light kept, got room night no, 1st drop desk, called maintainence came look thermostat told play settings happy digital box wo n't work, asked wakeup 10am morning did n't happen, called later 6pm nap wakeup forgot, 10am wakeup morning yep forgotten.the bathroom facilities great room surprised room sold whirlpool bath tub n't bath amenities, great relax water jets going,  ",
         "3",
         "nice rooms not 4* experience hotel monaco seattle good hotel n't 4* level.positives large bathroom mediterranean suite comfortable bed pillowsattentive housekeeping staffnegatives ac unit malfunctioned stay desk disorganized, missed 3 separate wakeup calls, concierge busy hard touch, did n't provide guidance special requests.tv hard use ipod sound dock suite non functioning. decided book mediterranean suite 3 night weekend stay 1st choice rest party filled, comparison w spent 45 night larger square footage room great soaking tub whirlpool jets nice shower.before stay hotel arrange car service price 53 tip reasonable driver waiting arrival.checkin easy downside room picked 2 person jacuzi tub no bath accessories salts bubble bath did n't stay, night got 12/1a checked voucher bottle champagne nice gesture fish waiting room, impression room huge open space felt room big, tv far away bed chore change channel, ipod dock broken disappointing.in morning way asked desk check thermostat said 65f 74 2 degrees warm try cover face night bright blue light kept, got room night no, 1st drop desk, called maintainence came look thermostat told play settings happy digital box wo n't work, asked wakeup 10am morning did n't happen, called later 6pm nap wakeup forgot, 10am wakeup morning yep forgotten.the bathroom facilities great room surprised room sold whirlpool bath tub n't bath amenities, great relax water jets going,  ",
         "nice rooms not 4 * experience hotel monaco seattle good hotel n't 4 * level.positives large bathroom mediterranean suite comfortable bed pillowsattentive housekeeping staffnegatives ac unit malfunctioned stay desk disorganized , missed 3 separate wakeup calls , concierge busy hard touch , n't provide guidance special requests.tv hard use ipod sound dock suite non functioning . decided book mediterranean suite 3 night weekend stay 1st choice rest party filled , comparison w spent 45 night larger square footage room great soaking tub whirlpool jets nice shower.before stay hotel arrange car service price 53 tip reasonable driver waiting arrival.checkin easy downside room picked 2 person jacuzi tub bath accessories salts bubble bath n't stay , night got 12/1a checked voucher bottle champagne nice gesture fish waiting room , impression room huge open space felt room big , tv far away bed chore change channel , ipod dock broken disappointing.in morning way asked desk check thermostat said 65f 74 2 degrees warm try cover face night bright blue light kept , got room night , 1st drop desk , called maintainence came look thermostat told play settings happy digital box wo n't work , asked wakeup 10am morning n't happen , called later 6pm nap wakeup forgot , 10am wakeup morning yep forgotten.the bathroom facilities great room surprised room sold whirlpool bath tub n't bath amenities , great relax water jets going ,",
         "nice rooms not 4 star experience hotel monaco seattle good hotel n t 4 star level positives large bathroom mediterranean suite comfortable bed pillowsattentive housekeeping staffnegatives ac unit malfunctioned stay desk disorganized   missed 3 separate wakeup calls   concierge busy hard touch   n t provide guidance special requests tv hard use ipod sound dock suite non functioning   decided book mediterranean suite 3 night weekend stay 1st choice rest party filled   comparison w spent 45 night larger square footage room great soaking tub whirlpool jets nice shower before stay hotel arrange car service price 53 tip reasonable driver waiting arrival checkin easy downside room picked 2 person jacuzi tub bath accessories salts bubble bath n t stay   night got 12 1a checked voucher bottle champagne nice gesture fish waiting room   impression room huge open space felt room big   tv far away bed chore change channel   ipod dock broken disappointing in morning way asked desk check thermostat said 65f 74 2 degrees warm try cover face night bright blue light kept   got room night   1st drop desk   called maintainence came look thermostat told play settings happy digital box wo n t work   asked wakeup 10am morning n t happen   called later 6pm nap wakeup forgot   10am wakeup morning yep forgotten the bathroom facilities great room surprised room sold whirlpool bath tub n t bath amenities   great relax water jets going  ",
         "['nice', 'rooms', 'not', '4', 'star', 'experience', 'hotel', 'monaco', 'seattle', 'good', 'hotel', 'n', 't', '4', 'star', 'level', 'positives', 'large', 'bathroom', 'mediterranean', 'suite', 'comfortable', 'bed', 'pillowsattentive', 'housekeeping', 'staffnegatives', 'ac', 'unit', 'malfunctioned', 'stay', 'desk', 'disorganized', 'missed', '3', 'separate', 'wakeup', 'calls', 'concierge', 'busy', 'hard', 'touch', 'n', 't', 'provide', 'guidance', 'special', 'requests', 'tv', 'hard', 'use', 'ipod', 'sound', 'dock', 'suite', 'non', 'functioning', 'decided', 'book', 'mediterranean', 'suite', '3', 'night', 'weekend', 'stay', '1st', 'choice', 'rest', 'party', 'filled', 'comparison', 'w', 'spent', '45', 'night', 'larger', 'square', 'footage', 'room', 'great', 'soaking', 'tub', 'whirlpool', 'jets', 'nice', 'shower', 'before', 'stay', 'hotel', 'arrange', 'car', 'service', 'price', '53', 'tip', 'reasonable', 'driver', 'waiting', 'arrival', 'checkin', 'easy', 'downside', 'room', 'picked', '2', 'person', 'jacuzi', 'tub', 'bath', 'accessories', 'salts', 'bubble', 'bath', 'n', 't', 'stay', 'night', 'got', '12', '1a', 'checked', 'voucher', 'bottle', 'champagne', 'nice', 'gesture', 'fish', 'waiting', 'room', 'impression', 'room', 'huge', 'open', 'space', 'felt', 'room', 'big', 'tv', 'far', 'away', 'bed', 'chore', 'change', 'channel', 'ipod', 'dock', 'broken', 'disappointing', 'in', 'morning', 'way', 'asked', 'desk', 'check', 'thermostat', 'said', '65f', '74', '2', 'degrees', 'warm', 'try', 'cover', 'face', 'night', 'bright', 'blue', 'light', 'kept', 'got', 'room', 'night', '1st', 'drop', 'desk', 'called', 'maintainence', 'came', 'look', 'thermostat', 'told', 'play', 'settings', 'happy', 'digital', 'box', 'wo', 'n', 't', 'work', 'asked', 'wakeup', '10am', 'morning', 'n', 't', 'happen', 'called', 'later', '6pm', 'nap', 'wakeup', 'forgot', '10am', 'wakeup', 'morning', 'yep', 'forgotten', 'the', 'bathroom', 'facilities', 'great', 'room', 'surprised', 'room', 'sold', 'whirlpool', 'bath', 'tub', 'n', 't', 'bath', 'amenities', 'great', 'relax', 'water', 'jets', 'going']",
         "['nice', 'room', 'not', '4', 'star', 'experi', 'hotel', 'monaco', 'seattl', 'good', 'hotel', 'n', 't', '4', 'star', 'level', 'posit', 'larg', 'bathroom', 'mediterranean', 'suit', 'comfort', 'bed', 'pillowsattent', 'housekeep', 'staffneg', 'ac', 'unit', 'malfunct', 'stay', 'desk', 'disorgan', 'miss', '3', 'separ', 'wakeup', 'call', 'concierg', 'busi', 'hard', 'touch', 'n', 't', 'provid', 'guidanc', 'special', 'request', 'tv', 'hard', 'use', 'ipod', 'sound', 'dock', 'suit', 'non', 'function', 'decid', 'book', 'mediterranean', 'suit', '3', 'night', 'weekend', 'stay', '1st', 'choic', 'rest', 'parti', 'fill', 'comparison', 'w', 'spent', '45', 'night', 'larger', 'squar', 'footag', 'room', 'great', 'soak', 'tub', 'whirlpool', 'jet', 'nice', 'shower', 'befor', 'stay', 'hotel', 'arrang', 'car', 'servic', 'price', '53', 'tip', 'reason', 'driver', 'wait', 'arriv', 'checkin', 'easi', 'downsid', 'room', 'pick', '2', 'person', 'jacuzi', 'tub', 'bath', 'accessori', 'salt', 'bubbl', 'bath', 'n', 't', 'stay', 'night', 'got', '12', '1a', 'check', 'voucher', 'bottl', 'champagn', 'nice', 'gestur', 'fish', 'wait', 'room', 'impress', 'room', 'huge', 'open', 'space', 'felt', 'room', 'big', 'tv', 'far', 'away', 'bed', 'chore', 'chang', 'channel', 'ipod', 'dock', 'broken', 'disappoint', 'in', 'morn', 'way', 'ask', 'desk', 'check', 'thermostat', 'said', '65f', '74', '2', 'degre', 'warm', 'tri', 'cover', 'face', 'night', 'bright', 'blue', 'light', 'kept', 'got', 'room', 'night', '1st', 'drop', 'desk', 'call', 'maintain', 'came', 'look', 'thermostat', 'told', 'play', 'set', 'happi', 'digit', 'box', 'wo', 'n', 't', 'work', 'ask', 'wakeup', '10am', 'morn', 'n', 't', 'happen', 'call', 'later', '6pm', 'nap', 'wakeup', 'forgot', '10am', 'wakeup', 'morn', 'yep', 'forgotten', 'the', 'bathroom', 'facil', 'great', 'room', 'surpris', 'room', 'sold', 'whirlpool', 'bath', 'tub', 'n', 't', 'bath', 'amen', 'great', 'relax', 'water', 'jet', 'go']",
         "['nice', 'room', 'not', '4', 'star', 'experience', 'hotel', 'monaco', 'seattle', 'good', 'hotel', 'n', 't', '4', 'star', 'level', 'positive', 'large', 'bathroom', 'mediterranean', 'suite', 'comfortable', 'bed', 'pillowsattentive', 'housekeeping', 'staffnegatives', 'ac', 'unit', 'malfunctioned', 'stay', 'desk', 'disorganized', 'missed', '3', 'separate', 'wakeup', 'call', 'concierge', 'busy', 'hard', 'touch', 'n', 't', 'provide', 'guidance', 'special', 'request', 'tv', 'hard', 'use', 'ipod', 'sound', 'dock', 'suite', 'non', 'functioning', 'decided', 'book', 'mediterranean', 'suite', '3', 'night', 'weekend', 'stay', '1st', 'choice', 'rest', 'party', 'filled', 'comparison', 'w', 'spent', '45', 'night', 'larger', 'square', 'footage', 'room', 'great', 'soaking', 'tub', 'whirlpool', 'jet', 'nice', 'shower', 'before', 'stay', 'hotel', 'arrange', 'car', 'service', 'price', '53', 'tip', 'reasonable', 'driver', 'waiting', 'arrival', 'checkin', 'easy', 'downside', 'room', 'picked', '2', 'person', 'jacuzi', 'tub', 'bath', 'accessory', 'salt', 'bubble', 'bath', 'n', 't', 'stay', 'night', 'got', '12', '1a', 'checked', 'voucher', 'bottle', 'champagne', 'nice', 'gesture', 'fish', 'waiting', 'room', 'impression', 'room', 'huge', 'open', 'space', 'felt', 'room', 'big', 'tv', 'far', 'away', 'bed', 'chore', 'change', 'channel', 'ipod', 'dock', 'broken', 'disappointing', 'in', 'morning', 'way', 'asked', 'desk', 'check', 'thermostat', 'said', '65f', '74', '2', 'degree', 'warm', 'try', 'cover', 'face', 'night', 'bright', 'blue', 'light', 'kept', 'got', 'room', 'night', '1st', 'drop', 'desk', 'called', 'maintainence', 'came', 'look', 'thermostat', 'told', 'play', 'setting', 'happy', 'digital', 'box', 'wo', 'n', 't', 'work', 'asked', 'wakeup', '10am', 'morning', 'n', 't', 'happen', 'called', 'later', '6pm', 'nap', 'wakeup', 'forgot', '10am', 'wakeup', 'morning', 'yep', 'forgotten', 'the', 'bathroom', 'facility', 'great', 'room', 'surprised', 'room', 'sold', 'whirlpool', 'bath', 'tub', 'n', 't', 'bath', 'amenity', 'great', 'relax', 'water', 'jet', 'going']"
        ],
        [
         "3",
         "unique, great stay, wonderful time hotel monaco, location excellent short stroll main downtown shopping area, pet friendly room showed no signs animal hair smells, monaco suite sleeping area big striped curtains pulled closed nice touch felt cosy, goldfish named brandi enjoyed, did n't partake free wine coffee/tea service lobby thought great feature, great staff friendly, free wireless internet hotel worked suite 2 laptops, decor lovely eclectic mix pattens color palatte, animal print bathrobes feel like rock stars, nice did n't look like sterile chain hotel hotel personality excellent stay,  ",
         "5",
         "unique, great stay, wonderful time hotel monaco, location excellent short stroll main downtown shopping area, pet friendly room showed no signs animal hair smells, monaco suite sleeping area big striped curtains pulled closed nice touch felt cosy, goldfish named brandi enjoyed, did n't partake free wine coffee/tea service lobby thought great feature, great staff friendly, free wireless internet hotel worked suite 2 laptops, decor lovely eclectic mix pattens color palatte, animal print bathrobes feel like rock stars, nice did n't look like sterile chain hotel hotel personality excellent stay,  ",
         "unique , great stay , wonderful time hotel monaco , location excellent short stroll main downtown shopping area , pet friendly room showed signs animal hair smells , monaco suite sleeping area big striped curtains pulled closed nice touch felt cosy , goldfish named brandi enjoyed , n't partake free wine coffee/tea service lobby thought great feature , great staff friendly , free wireless internet hotel worked suite 2 laptops , decor lovely eclectic mix pattens color palatte , animal print bathrobes feel like rock stars , nice n't look like sterile chain hotel hotel personality excellent stay ,",
         "unique   great stay   wonderful time hotel monaco   location excellent short stroll main downtown shopping area   pet friendly room showed signs animal hair smells   monaco suite sleeping area big striped curtains pulled closed nice touch felt cosy   goldfish named brandi enjoyed   n t partake free wine coffee tea service lobby thought great feature   great staff friendly   free wireless internet hotel worked suite 2 laptops   decor lovely eclectic mix pattens color palatte   animal print bathrobes feel like rock stars   nice n t look like sterile chain hotel hotel personality excellent stay  ",
         "['unique', 'great', 'stay', 'wonderful', 'time', 'hotel', 'monaco', 'location', 'excellent', 'short', 'stroll', 'main', 'downtown', 'shopping', 'area', 'pet', 'friendly', 'room', 'showed', 'signs', 'animal', 'hair', 'smells', 'monaco', 'suite', 'sleeping', 'area', 'big', 'striped', 'curtains', 'pulled', 'closed', 'nice', 'touch', 'felt', 'cosy', 'goldfish', 'named', 'brandi', 'enjoyed', 'n', 't', 'partake', 'free', 'wine', 'coffee', 'tea', 'service', 'lobby', 'thought', 'great', 'feature', 'great', 'staff', 'friendly', 'free', 'wireless', 'internet', 'hotel', 'worked', 'suite', '2', 'laptops', 'decor', 'lovely', 'eclectic', 'mix', 'pattens', 'color', 'palatte', 'animal', 'print', 'bathrobes', 'feel', 'like', 'rock', 'stars', 'nice', 'n', 't', 'look', 'like', 'sterile', 'chain', 'hotel', 'hotel', 'personality', 'excellent', 'stay']",
         "['uniqu', 'great', 'stay', 'wonder', 'time', 'hotel', 'monaco', 'locat', 'excel', 'short', 'stroll', 'main', 'downtown', 'shop', 'area', 'pet', 'friendli', 'room', 'show', 'sign', 'anim', 'hair', 'smell', 'monaco', 'suit', 'sleep', 'area', 'big', 'stripe', 'curtain', 'pull', 'close', 'nice', 'touch', 'felt', 'cosi', 'goldfish', 'name', 'brandi', 'enjoy', 'n', 't', 'partak', 'free', 'wine', 'coffe', 'tea', 'servic', 'lobbi', 'thought', 'great', 'featur', 'great', 'staff', 'friendli', 'free', 'wireless', 'internet', 'hotel', 'work', 'suit', '2', 'laptop', 'decor', 'love', 'eclect', 'mix', 'patten', 'color', 'palatt', 'anim', 'print', 'bathrob', 'feel', 'like', 'rock', 'star', 'nice', 'n', 't', 'look', 'like', 'steril', 'chain', 'hotel', 'hotel', 'person', 'excel', 'stay']",
         "['unique', 'great', 'stay', 'wonderful', 'time', 'hotel', 'monaco', 'location', 'excellent', 'short', 'stroll', 'main', 'downtown', 'shopping', 'area', 'pet', 'friendly', 'room', 'showed', 'sign', 'animal', 'hair', 'smell', 'monaco', 'suite', 'sleeping', 'area', 'big', 'striped', 'curtain', 'pulled', 'closed', 'nice', 'touch', 'felt', 'cosy', 'goldfish', 'named', 'brandi', 'enjoyed', 'n', 't', 'partake', 'free', 'wine', 'coffee', 'tea', 'service', 'lobby', 'thought', 'great', 'feature', 'great', 'staff', 'friendly', 'free', 'wireless', 'internet', 'hotel', 'worked', 'suite', '2', 'laptop', 'decor', 'lovely', 'eclectic', 'mix', 'patten', 'color', 'palatte', 'animal', 'print', 'bathrobe', 'feel', 'like', 'rock', 'star', 'nice', 'n', 't', 'look', 'like', 'sterile', 'chain', 'hotel', 'hotel', 'personality', 'excellent', 'stay']"
        ],
        [
         "4",
         "great stay great stay, went seahawk game awesome, downfall view building did n't complain, room huge staff helpful, booked hotels website seahawk package, no charge parking got voucher taxi, problem taxi driver did n't want accept voucher barely spoke english, funny thing speak arabic called started making comments girlfriend cell phone buddy, took second realize just said fact speak language face priceless, ass told, said large city, told head doorman issue called cab company promply answer did n't, apologized offered pay taxi, bucks 2 miles stadium, game plan taxi return going humpin, great walk did n't mind, right christmas wonderful lights, homeless stowed away building entrances leave, police presence not greatest area stadium, activities 7 blocks pike street waterfront great coffee shops way, hotel mantained foyer awesome, wine tasting available evening, best dog, taking st. bernard time family, safes hotel located service desk room, bathroom huge jetted tub huge, funny house keeping walked girlfriend getting dressed, did n't hear knock doing turn service, screamed girlfriend screams hit floor laughing, started talking spanish worked, place recommend price, check online deals just good not better, besite contains deals vouchers travel websites n't tell,  ",
         "5",
         "great stay great stay, went seahawk game awesome, downfall view building did n't complain, room huge staff helpful, booked hotels website seahawk package, no charge parking got voucher taxi, problem taxi driver did n't want accept voucher barely spoke english, funny thing speak arabic called started making comments girlfriend cell phone buddy, took second realize just said fact speak language face priceless, ass told, said large city, told head doorman issue called cab company promply answer did n't, apologized offered pay taxi, bucks 2 miles stadium, game plan taxi return going humpin, great walk did n't mind, right christmas wonderful lights, homeless stowed away building entrances leave, police presence not greatest area stadium, activities 7 blocks pike street waterfront great coffee shops way, hotel mantained foyer awesome, wine tasting available evening, best dog, taking st. bernard time family, safes hotel located service desk room, bathroom huge jetted tub huge, funny house keeping walked girlfriend getting dressed, did n't hear knock doing turn service, screamed girlfriend screams hit floor laughing, started talking spanish worked, place recommend price, check online deals just good not better, besite contains deals vouchers travel websites n't tell,  ",
         "great stay great stay , went seahawk game awesome , downfall view building n't complain , room huge staff helpful , booked hotels website seahawk package , charge parking got voucher taxi , problem taxi driver n't want accept voucher barely spoke english , funny thing speak arabic called started making comments girlfriend cell phone buddy , took second realize said fact speak language face priceless , ass told , said large city , told head doorman issue called cab company promply answer n't , apologized offered pay taxi , bucks 2 miles stadium , game plan taxi return going humpin , great walk n't mind , right christmas wonderful lights , homeless stowed away building entrances leave , police presence not greatest area stadium , activities 7 blocks pike street waterfront great coffee shops way , hotel mantained foyer awesome , wine tasting available evening , best dog , taking st. bernard time family , safes hotel located service desk room , bathroom huge jetted tub huge , funny house keeping walked girlfriend getting dressed , n't hear knock turn service , screamed girlfriend screams hit floor laughing , started talking spanish worked , place recommend price , check online deals good not better , besite contains deals vouchers travel websites n't tell ,",
         "great stay great stay   went seahawk game awesome   downfall view building n t complain   room huge staff helpful   booked hotels website seahawk package   charge parking got voucher taxi   problem taxi driver n t want accept voucher barely spoke english   funny thing speak arabic called started making comments girlfriend cell phone buddy   took second realize said fact speak language face priceless   ass told   said large city   told head doorman issue called cab company promply answer n t   apologized offered pay taxi   bucks 2 miles stadium   game plan taxi return going humpin   great walk n t mind   right christmas wonderful lights   homeless stowed away building entrances leave   police presence not greatest area stadium   activities 7 blocks pike street waterfront great coffee shops way   hotel mantained foyer awesome   wine tasting available evening   best dog   taking st  bernard time family   safes hotel located service desk room   bathroom huge jetted tub huge   funny house keeping walked girlfriend getting dressed   n t hear knock turn service   screamed girlfriend screams hit floor laughing   started talking spanish worked   place recommend price   check online deals good not better   besite contains deals vouchers travel websites n t tell  ",
         "['great', 'stay', 'great', 'stay', 'went', 'seahawk', 'game', 'awesome', 'downfall', 'view', 'building', 'n', 't', 'complain', 'room', 'huge', 'staff', 'helpful', 'booked', 'hotels', 'website', 'seahawk', 'package', 'charge', 'parking', 'got', 'voucher', 'taxi', 'problem', 'taxi', 'driver', 'n', 't', 'want', 'accept', 'voucher', 'barely', 'spoke', 'english', 'funny', 'thing', 'speak', 'arabic', 'called', 'started', 'making', 'comments', 'girlfriend', 'cell', 'phone', 'buddy', 'took', 'second', 'realize', 'said', 'fact', 'speak', 'language', 'face', 'priceless', 'ass', 'told', 'said', 'large', 'city', 'told', 'head', 'doorman', 'issue', 'called', 'cab', 'company', 'promply', 'answer', 'n', 't', 'apologized', 'offered', 'pay', 'taxi', 'bucks', '2', 'miles', 'stadium', 'game', 'plan', 'taxi', 'return', 'going', 'humpin', 'great', 'walk', 'n', 't', 'mind', 'right', 'christmas', 'wonderful', 'lights', 'homeless', 'stowed', 'away', 'building', 'entrances', 'leave', 'police', 'presence', 'not', 'greatest', 'area', 'stadium', 'activities', '7', 'blocks', 'pike', 'street', 'waterfront', 'great', 'coffee', 'shops', 'way', 'hotel', 'mantained', 'foyer', 'awesome', 'wine', 'tasting', 'available', 'evening', 'best', 'dog', 'taking', 'st', 'bernard', 'time', 'family', 'safes', 'hotel', 'located', 'service', 'desk', 'room', 'bathroom', 'huge', 'jetted', 'tub', 'huge', 'funny', 'house', 'keeping', 'walked', 'girlfriend', 'getting', 'dressed', 'n', 't', 'hear', 'knock', 'turn', 'service', 'screamed', 'girlfriend', 'screams', 'hit', 'floor', 'laughing', 'started', 'talking', 'spanish', 'worked', 'place', 'recommend', 'price', 'check', 'online', 'deals', 'good', 'not', 'better', 'besite', 'contains', 'deals', 'vouchers', 'travel', 'websites', 'n', 't', 'tell']",
         "['great', 'stay', 'great', 'stay', 'went', 'seahawk', 'game', 'awesom', 'downfal', 'view', 'build', 'n', 't', 'complain', 'room', 'huge', 'staff', 'help', 'book', 'hotel', 'websit', 'seahawk', 'packag', 'charg', 'park', 'got', 'voucher', 'taxi', 'problem', 'taxi', 'driver', 'n', 't', 'want', 'accept', 'voucher', 'bare', 'spoke', 'english', 'funni', 'thing', 'speak', 'arab', 'call', 'start', 'make', 'comment', 'girlfriend', 'cell', 'phone', 'buddi', 'took', 'second', 'realiz', 'said', 'fact', 'speak', 'languag', 'face', 'priceless', 'ass', 'told', 'said', 'larg', 'citi', 'told', 'head', 'doorman', 'issu', 'call', 'cab', 'compani', 'prompli', 'answer', 'n', 't', 'apolog', 'offer', 'pay', 'taxi', 'buck', '2', 'mile', 'stadium', 'game', 'plan', 'taxi', 'return', 'go', 'humpin', 'great', 'walk', 'n', 't', 'mind', 'right', 'christma', 'wonder', 'light', 'homeless', 'stow', 'away', 'build', 'entranc', 'leav', 'polic', 'presenc', 'not', 'greatest', 'area', 'stadium', 'activ', '7', 'block', 'pike', 'street', 'waterfront', 'great', 'coffe', 'shop', 'way', 'hotel', 'mantain', 'foyer', 'awesom', 'wine', 'tast', 'avail', 'even', 'best', 'dog', 'take', 'st', 'bernard', 'time', 'famili', 'safe', 'hotel', 'locat', 'servic', 'desk', 'room', 'bathroom', 'huge', 'jet', 'tub', 'huge', 'funni', 'hous', 'keep', 'walk', 'girlfriend', 'get', 'dress', 'n', 't', 'hear', 'knock', 'turn', 'servic', 'scream', 'girlfriend', 'scream', 'hit', 'floor', 'laugh', 'start', 'talk', 'spanish', 'work', 'place', 'recommend', 'price', 'check', 'onlin', 'deal', 'good', 'not', 'better', 'besit', 'contain', 'deal', 'voucher', 'travel', 'websit', 'n', 't', 'tell']",
         "['great', 'stay', 'great', 'stay', 'went', 'seahawk', 'game', 'awesome', 'downfall', 'view', 'building', 'n', 't', 'complain', 'room', 'huge', 'staff', 'helpful', 'booked', 'hotel', 'website', 'seahawk', 'package', 'charge', 'parking', 'got', 'voucher', 'taxi', 'problem', 'taxi', 'driver', 'n', 't', 'want', 'accept', 'voucher', 'barely', 'spoke', 'english', 'funny', 'thing', 'speak', 'arabic', 'called', 'started', 'making', 'comment', 'girlfriend', 'cell', 'phone', 'buddy', 'took', 'second', 'realize', 'said', 'fact', 'speak', 'language', 'face', 'priceless', 'as', 'told', 'said', 'large', 'city', 'told', 'head', 'doorman', 'issue', 'called', 'cab', 'company', 'promply', 'answer', 'n', 't', 'apologized', 'offered', 'pay', 'taxi', 'buck', '2', 'mile', 'stadium', 'game', 'plan', 'taxi', 'return', 'going', 'humpin', 'great', 'walk', 'n', 't', 'mind', 'right', 'christmas', 'wonderful', 'light', 'homeless', 'stowed', 'away', 'building', 'entrance', 'leave', 'police', 'presence', 'not', 'greatest', 'area', 'stadium', 'activity', '7', 'block', 'pike', 'street', 'waterfront', 'great', 'coffee', 'shop', 'way', 'hotel', 'mantained', 'foyer', 'awesome', 'wine', 'tasting', 'available', 'evening', 'best', 'dog', 'taking', 'st', 'bernard', 'time', 'family', 'safe', 'hotel', 'located', 'service', 'desk', 'room', 'bathroom', 'huge', 'jetted', 'tub', 'huge', 'funny', 'house', 'keeping', 'walked', 'girlfriend', 'getting', 'dressed', 'n', 't', 'hear', 'knock', 'turn', 'service', 'screamed', 'girlfriend', 'scream', 'hit', 'floor', 'laughing', 'started', 'talking', 'spanish', 'worked', 'place', 'recommend', 'price', 'check', 'online', 'deal', 'good', 'not', 'better', 'besite', 'contains', 'deal', 'voucher', 'travel', 'website', 'n', 't', 'tell']"
        ]
       ],
       "shape": {
        "columns": 8,
        "rows": 5
       }
      },
      "text/html": [
       "<div>\n",
       "<style scoped>\n",
       "    .dataframe tbody tr th:only-of-type {\n",
       "        vertical-align: middle;\n",
       "    }\n",
       "\n",
       "    .dataframe tbody tr th {\n",
       "        vertical-align: top;\n",
       "    }\n",
       "\n",
       "    .dataframe thead th {\n",
       "        text-align: right;\n",
       "    }\n",
       "</style>\n",
       "<table border=\"1\" class=\"dataframe\">\n",
       "  <thead>\n",
       "    <tr style=\"text-align: right;\">\n",
       "      <th></th>\n",
       "      <th>Review</th>\n",
       "      <th>Rating</th>\n",
       "      <th>ReviewLower</th>\n",
       "      <th>ReviewCleaned</th>\n",
       "      <th>ReviewNoPunctuation</th>\n",
       "      <th>Tokenized</th>\n",
       "      <th>Stemmed</th>\n",
       "      <th>Lemmatized</th>\n",
       "    </tr>\n",
       "  </thead>\n",
       "  <tbody>\n",
       "    <tr>\n",
       "      <th>0</th>\n",
       "      <td>nice hotel expensive parking got good deal sta...</td>\n",
       "      <td>4</td>\n",
       "      <td>nice hotel expensive parking got good deal sta...</td>\n",
       "      <td>nice hotel expensive parking got good deal sta...</td>\n",
       "      <td>nice hotel expensive parking got good deal sta...</td>\n",
       "      <td>[nice, hotel, expensive, parking, got, good, d...</td>\n",
       "      <td>[nice, hotel, expens, park, got, good, deal, s...</td>\n",
       "      <td>[nice, hotel, expensive, parking, got, good, d...</td>\n",
       "    </tr>\n",
       "    <tr>\n",
       "      <th>1</th>\n",
       "      <td>ok nothing special charge diamond member hilto...</td>\n",
       "      <td>2</td>\n",
       "      <td>ok nothing special charge diamond member hilto...</td>\n",
       "      <td>ok nothing special charge diamond member hilto...</td>\n",
       "      <td>ok nothing special charge diamond member hilto...</td>\n",
       "      <td>[ok, nothing, special, charge, diamond, member...</td>\n",
       "      <td>[ok, noth, special, charg, diamond, member, hi...</td>\n",
       "      <td>[ok, nothing, special, charge, diamond, member...</td>\n",
       "    </tr>\n",
       "    <tr>\n",
       "      <th>2</th>\n",
       "      <td>nice rooms not 4* experience hotel monaco seat...</td>\n",
       "      <td>3</td>\n",
       "      <td>nice rooms not 4* experience hotel monaco seat...</td>\n",
       "      <td>nice rooms not 4 * experience hotel monaco sea...</td>\n",
       "      <td>nice rooms not 4 star experience hotel monaco ...</td>\n",
       "      <td>[nice, rooms, not, 4, star, experience, hotel,...</td>\n",
       "      <td>[nice, room, not, 4, star, experi, hotel, mona...</td>\n",
       "      <td>[nice, room, not, 4, star, experience, hotel, ...</td>\n",
       "    </tr>\n",
       "    <tr>\n",
       "      <th>3</th>\n",
       "      <td>unique, great stay, wonderful time hotel monac...</td>\n",
       "      <td>5</td>\n",
       "      <td>unique, great stay, wonderful time hotel monac...</td>\n",
       "      <td>unique , great stay , wonderful time hotel mon...</td>\n",
       "      <td>unique   great stay   wonderful time hotel mon...</td>\n",
       "      <td>[unique, great, stay, wonderful, time, hotel, ...</td>\n",
       "      <td>[uniqu, great, stay, wonder, time, hotel, mona...</td>\n",
       "      <td>[unique, great, stay, wonderful, time, hotel, ...</td>\n",
       "    </tr>\n",
       "    <tr>\n",
       "      <th>4</th>\n",
       "      <td>great stay great stay, went seahawk game aweso...</td>\n",
       "      <td>5</td>\n",
       "      <td>great stay great stay, went seahawk game aweso...</td>\n",
       "      <td>great stay great stay , went seahawk game awes...</td>\n",
       "      <td>great stay great stay   went seahawk game awes...</td>\n",
       "      <td>[great, stay, great, stay, went, seahawk, game...</td>\n",
       "      <td>[great, stay, great, stay, went, seahawk, game...</td>\n",
       "      <td>[great, stay, great, stay, went, seahawk, game...</td>\n",
       "    </tr>\n",
       "  </tbody>\n",
       "</table>\n",
       "</div>"
      ],
      "text/plain": [
       "                                              Review  Rating  \\\n",
       "0  nice hotel expensive parking got good deal sta...       4   \n",
       "1  ok nothing special charge diamond member hilto...       2   \n",
       "2  nice rooms not 4* experience hotel monaco seat...       3   \n",
       "3  unique, great stay, wonderful time hotel monac...       5   \n",
       "4  great stay great stay, went seahawk game aweso...       5   \n",
       "\n",
       "                                         ReviewLower  \\\n",
       "0  nice hotel expensive parking got good deal sta...   \n",
       "1  ok nothing special charge diamond member hilto...   \n",
       "2  nice rooms not 4* experience hotel monaco seat...   \n",
       "3  unique, great stay, wonderful time hotel monac...   \n",
       "4  great stay great stay, went seahawk game aweso...   \n",
       "\n",
       "                                       ReviewCleaned  \\\n",
       "0  nice hotel expensive parking got good deal sta...   \n",
       "1  ok nothing special charge diamond member hilto...   \n",
       "2  nice rooms not 4 * experience hotel monaco sea...   \n",
       "3  unique , great stay , wonderful time hotel mon...   \n",
       "4  great stay great stay , went seahawk game awes...   \n",
       "\n",
       "                                 ReviewNoPunctuation  \\\n",
       "0  nice hotel expensive parking got good deal sta...   \n",
       "1  ok nothing special charge diamond member hilto...   \n",
       "2  nice rooms not 4 star experience hotel monaco ...   \n",
       "3  unique   great stay   wonderful time hotel mon...   \n",
       "4  great stay great stay   went seahawk game awes...   \n",
       "\n",
       "                                           Tokenized  \\\n",
       "0  [nice, hotel, expensive, parking, got, good, d...   \n",
       "1  [ok, nothing, special, charge, diamond, member...   \n",
       "2  [nice, rooms, not, 4, star, experience, hotel,...   \n",
       "3  [unique, great, stay, wonderful, time, hotel, ...   \n",
       "4  [great, stay, great, stay, went, seahawk, game...   \n",
       "\n",
       "                                             Stemmed  \\\n",
       "0  [nice, hotel, expens, park, got, good, deal, s...   \n",
       "1  [ok, noth, special, charg, diamond, member, hi...   \n",
       "2  [nice, room, not, 4, star, experi, hotel, mona...   \n",
       "3  [uniqu, great, stay, wonder, time, hotel, mona...   \n",
       "4  [great, stay, great, stay, went, seahawk, game...   \n",
       "\n",
       "                                          Lemmatized  \n",
       "0  [nice, hotel, expensive, parking, got, good, d...  \n",
       "1  [ok, nothing, special, charge, diamond, member...  \n",
       "2  [nice, room, not, 4, star, experience, hotel, ...  \n",
       "3  [unique, great, stay, wonderful, time, hotel, ...  \n",
       "4  [great, stay, great, stay, went, seahawk, game...  "
      ]
     },
     "execution_count": 18,
     "metadata": {},
     "output_type": "execute_result"
    }
   ],
   "source": [
    "data.head()"
   ]
  },
  {
   "cell_type": "markdown",
   "metadata": {},
   "source": [
    "### N-grams"
   ]
  },
  {
   "cell_type": "code",
   "execution_count": 19,
   "metadata": {},
   "outputs": [],
   "source": [
    "tokens_clean = sum(data[\"Lemmatized\"], [])"
   ]
  },
  {
   "cell_type": "code",
   "execution_count": 22,
   "metadata": {},
   "outputs": [
    {
     "name": "stdout",
     "output_type": "stream",
     "text": [
      "(hotel,)        293\n",
      "(room,)         278\n",
      "(great,)        127\n",
      "(not,)          123\n",
      "(stay,)          97\n",
      "               ... \n",
      "(pregnant,)       1\n",
      "(assume,)         1\n",
      "(rumbling,)       1\n",
      "(exit,)           1\n",
      "(connected,)      1\n",
      "Name: count, Length: 2482, dtype: int64\n"
     ]
    }
   ],
   "source": [
    "unigrams = (pd.Series \\\n",
    "            (nltk.ngrams(tokens_clean, 1)) \\\n",
    "            .value_counts()) \n",
    "print(unigrams)"
   ]
  },
  {
   "cell_type": "code",
   "execution_count": 23,
   "metadata": {},
   "outputs": [
    {
     "name": "stdout",
     "output_type": "stream",
     "text": [
      "(n, t)                    81\n",
      "(great, location)         25\n",
      "(space, needle)           24\n",
      "(hotel, monaco)           16\n",
      "(pike, place)             13\n",
      "                          ..\n",
      "(walking, opted)           1\n",
      "(away, walking)            1\n",
      "(better, housekeeping)     1\n",
      "(20, min)                  1\n",
      "(food, raffle)             1\n",
      "Name: count, Length: 8446, dtype: int64\n"
     ]
    }
   ],
   "source": [
    "bigrams = (pd.Series \\\n",
    "           (nltk.ngrams(tokens_clean, 2)) \\\n",
    "           .value_counts()) \n",
    "print(bigrams)"
   ]
  },
  {
   "cell_type": "code",
   "execution_count": 24,
   "metadata": {},
   "outputs": [
    {
     "name": "stdout",
     "output_type": "stream",
     "text": [
      "(market, seattle, art, museum)            2\n",
      "(space, needle, experience, music)        2\n",
      "(really, comfortable, clean, location)    2\n",
      "(room, really, comfortable, clean)        2\n",
      "(definitely, stay, crowne, plaza)         2\n",
      "                                         ..\n",
      "(trip, 3, night, stay)                    1\n",
      "(3, night, stay, warwick)                 1\n",
      "(night, stay, warwick, changed)           1\n",
      "(stay, warwick, changed, 3)               1\n",
      "(raffle, hotel, right, street)            1\n",
      "Name: count, Length: 9752, dtype: int64\n"
     ]
    }
   ],
   "source": [
    "ngrams_4 = (pd.Series \\\n",
    "            (nltk.ngrams(tokens_clean, 4)) \\\n",
    "            .value_counts()) \n",
    "print(ngrams_4)"
   ]
  }
 ],
 "metadata": {
  "kernelspec": {
   "display_name": "Python 3",
   "language": "python",
   "name": "python3"
  },
  "language_info": {
   "codemirror_mode": {
    "name": "ipython",
    "version": 3
   },
   "file_extension": ".py",
   "mimetype": "text/x-python",
   "name": "python",
   "nbconvert_exporter": "python",
   "pygments_lexer": "ipython3",
   "version": "3.12.6"
  }
 },
 "nbformat": 4,
 "nbformat_minor": 2
}
