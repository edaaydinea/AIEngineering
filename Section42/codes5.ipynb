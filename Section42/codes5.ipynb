{
 "cells": [
  {
   "cell_type": "markdown",
   "id": "f249264a",
   "metadata": {},
   "source": [
    "# Piping Chains and the RunnablePassthrough Class"
   ]
  },
  {
   "cell_type": "code",
   "execution_count": 1,
   "id": "229e6a94",
   "metadata": {},
   "outputs": [],
   "source": [
    "from langchain_core.prompts import ChatPromptTemplate\n",
    "from langchain_ollama import ChatOllama\n",
    "from langchain_core.output_parsers import StrOutputParser\n",
    "from langchain_core.runnables import RunnablePassthrough"
   ]
  },
  {
   "cell_type": "code",
   "execution_count": 2,
   "id": "bef54a9c",
   "metadata": {},
   "outputs": [
    {
     "data": {
      "text/plain": [
       "[1, 2, 3]"
      ]
     },
     "execution_count": 2,
     "metadata": {},
     "output_type": "execute_result"
    }
   ],
   "source": [
    "RunnablePassthrough().invoke([1, 2, 3])"
   ]
  },
  {
   "cell_type": "code",
   "execution_count": 3,
   "id": "3adc8eaf",
   "metadata": {},
   "outputs": [],
   "source": [
    "chat_template_tools = ChatPromptTemplate.from_template('''\n",
    "What are the five most important tools a {job title} needs?\n",
    "Answer only by listing the tools.\n",
    "''')\n",
    "\n",
    "chat_template_strategy = ChatPromptTemplate.from_template('''\n",
    "Considering the tools provided, develop a strategy for effectively learning and mastering them:\n",
    "{tools}\n",
    "''')"
   ]
  },
  {
   "cell_type": "code",
   "execution_count": 4,
   "id": "b1789759",
   "metadata": {},
   "outputs": [
    {
     "data": {
      "text/plain": [
       "ChatPromptTemplate(input_variables=['job title'], input_types={}, partial_variables={}, messages=[HumanMessagePromptTemplate(prompt=PromptTemplate(input_variables=['job title'], input_types={}, partial_variables={}, template='\\nWhat are the five most important tools a {job title} needs?\\nAnswer only by listing the tools.\\n'), additional_kwargs={})])"
      ]
     },
     "execution_count": 4,
     "metadata": {},
     "output_type": "execute_result"
    }
   ],
   "source": [
    "chat_template_tools"
   ]
  },
  {
   "cell_type": "code",
   "execution_count": 5,
   "id": "3cda9404",
   "metadata": {},
   "outputs": [],
   "source": [
    "chat = ChatOllama(model = 'llama3.2',\n",
    "                  temperature = 0,\n",
    "                  num_predict=100)"
   ]
  },
  {
   "cell_type": "code",
   "execution_count": 6,
   "id": "bc537a26",
   "metadata": {},
   "outputs": [],
   "source": [
    "string_parser = StrOutputParser()"
   ]
  },
  {
   "cell_type": "code",
   "execution_count": 7,
   "id": "94772379",
   "metadata": {},
   "outputs": [],
   "source": [
    "chain_tools = (chat_template_tools | chat | string_parser | {'tools':RunnablePassthrough()})\n",
    "chain_strategy = chat_template_strategy | chat | string_parser"
   ]
  },
  {
   "cell_type": "code",
   "execution_count": 8,
   "id": "08b19e51",
   "metadata": {},
   "outputs": [
    {
     "name": "stdout",
     "output_type": "stream",
     "text": [
      "{'tools': '1. Python\\n2. R\\n3. SQL\\n4. Tableau/Power BI\\n5. Excel'}\n"
     ]
    }
   ],
   "source": [
    "print(chain_tools.invoke({'job title':'data scientist'}))"
   ]
  },
  {
   "cell_type": "code",
   "execution_count": 9,
   "id": "f5bdeed6",
   "metadata": {},
   "outputs": [
    {
     "name": "stdout",
     "output_type": "stream",
     "text": [
      "Mastering multiple programming languages and tools requires a strategic approach to learning and practice. Here's a comprehensive plan to help you learn and master the mentioned tools:\n",
      "\n",
      "**Phase 1: Fundamentals (Weeks 1-8)**\n",
      "\n",
      "1. **Python**: Start with basic Python syntax, data structures, and file operations. Use online resources like Codecademy, Coursera, or edX for courses.\n",
      "2. **R Programming**: Learn R basics, including data types, functions, and\n"
     ]
    }
   ],
   "source": [
    "print(chain_strategy.invoke({'tools':'''\n",
    "1. Python\n",
    "2. R Programming\n",
    "3. SQL\n",
    "4. Tableau\n",
    "5. Hadoop\n",
    "'''}))"
   ]
  },
  {
   "cell_type": "code",
   "execution_count": 10,
   "id": "25a4452f",
   "metadata": {},
   "outputs": [],
   "source": [
    "chain_combined = chain_tools | chain_strategy"
   ]
  },
  {
   "cell_type": "code",
   "execution_count": 11,
   "id": "0d24d012",
   "metadata": {},
   "outputs": [
    {
     "name": "stdout",
     "output_type": "stream",
     "text": [
      "Mastering multiple programming languages, data analysis tools, and spreadsheet software requires a strategic approach to learning and practice. Here's a comprehensive plan to help you effectively learn and master these tools:\n",
      "\n",
      "**Phase 1: Building Foundations (3-6 months)**\n",
      "\n",
      "1. **Python**: Start with basic syntax, data structures, and file operations. Learn popular libraries like Pandas, NumPy, and Matplotlib for data analysis.\n",
      "2. **R**: Focus on statistical concepts, data visualization, and data\n"
     ]
    }
   ],
   "source": [
    "print(chain_combined.invoke({'job title':'data scientist'}))"
   ]
  },
  {
   "cell_type": "code",
   "execution_count": 12,
   "id": "6236a709",
   "metadata": {},
   "outputs": [],
   "source": [
    "chain_long = (chat_template_tools | chat | string_parser | {'tools':RunnablePassthrough()} | \n",
    "              chat_template_strategy | chat | string_parser)"
   ]
  }
 ],
 "metadata": {
  "kernelspec": {
   "display_name": "Python 3",
   "language": "python",
   "name": "python3"
  },
  "language_info": {
   "codemirror_mode": {
    "name": "ipython",
    "version": 3
   },
   "file_extension": ".py",
   "mimetype": "text/x-python",
   "name": "python",
   "nbconvert_exporter": "python",
   "pygments_lexer": "ipython3",
   "version": "3.12.6"
  }
 },
 "nbformat": 4,
 "nbformat_minor": 5
}
