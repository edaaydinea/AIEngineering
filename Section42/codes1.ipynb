{
 "cells": [
  {
   "cell_type": "markdown",
   "id": "59c4b4ce",
   "metadata": {},
   "source": [
    "# Piping a Prompt, Model, and an Output Parser"
   ]
  },
  {
   "cell_type": "code",
   "execution_count": 1,
   "id": "d817fd5c",
   "metadata": {},
   "outputs": [],
   "source": [
    "from langchain_ollama import ChatOllama\n",
    "from langchain_core.prompts import ChatPromptTemplate\n",
    "from langchain_core.output_parsers import CommaSeparatedListOutputParser"
   ]
  },
  {
   "cell_type": "code",
   "execution_count": 2,
   "id": "cb4ba189",
   "metadata": {},
   "outputs": [],
   "source": [
    "list_instructions = CommaSeparatedListOutputParser().get_format_instructions()"
   ]
  },
  {
   "cell_type": "code",
   "execution_count": 3,
   "id": "8513454e",
   "metadata": {},
   "outputs": [
    {
     "data": {
      "text/plain": [
       "'Your response should be a list of comma separated values, eg: `foo, bar, baz` or `foo,bar,baz`'"
      ]
     },
     "execution_count": 3,
     "metadata": {},
     "output_type": "execute_result"
    }
   ],
   "source": [
    "list_instructions"
   ]
  },
  {
   "cell_type": "code",
   "execution_count": 4,
   "id": "f275facd",
   "metadata": {},
   "outputs": [],
   "source": [
    "chat_template = ChatPromptTemplate.from_messages([\n",
    "    ('human', \n",
    "     \"I've recently adopted a {pet}. Could you suggest three {pet} names? \\n\" + list_instructions)])"
   ]
  },
  {
   "cell_type": "code",
   "execution_count": 5,
   "id": "70c4e56f",
   "metadata": {},
   "outputs": [
    {
     "name": "stdout",
     "output_type": "stream",
     "text": [
      "I've recently adopted a {pet}. Could you suggest three {pet} names? \n",
      "Your response should be a list of comma separated values, eg: `foo, bar, baz` or `foo,bar,baz`\n"
     ]
    }
   ],
   "source": [
    "print(chat_template.messages[0].prompt.template)"
   ]
  },
  {
   "cell_type": "code",
   "execution_count": 7,
   "id": "694acaa9",
   "metadata": {},
   "outputs": [],
   "source": [
    "chat = ChatOllama(model=\"llama3.2\")"
   ]
  },
  {
   "cell_type": "code",
   "execution_count": 8,
   "id": "20d2f81b",
   "metadata": {},
   "outputs": [],
   "source": [
    "list_output_parser = CommaSeparatedListOutputParser()"
   ]
  },
  {
   "cell_type": "code",
   "execution_count": 9,
   "id": "80490589",
   "metadata": {},
   "outputs": [],
   "source": [
    "chat_template_result = chat_template.invoke({'pet':'dog'})"
   ]
  },
  {
   "cell_type": "code",
   "execution_count": 10,
   "id": "67817365",
   "metadata": {},
   "outputs": [],
   "source": [
    "chat_result = chat.invoke(chat_template_result)"
   ]
  },
  {
   "cell_type": "code",
   "execution_count": 11,
   "id": "3ddff78f",
   "metadata": {},
   "outputs": [
    {
     "data": {
      "text/plain": [
       "['Congratulations on adopting a new furry friend!',\n",
       " 'Here are three dog name suggestions for you:',\n",
       " 'Max',\n",
       " 'Luna',\n",
       " 'Cooper',\n",
       " 'I hope one of these names catches your fancy!']"
      ]
     },
     "execution_count": 11,
     "metadata": {},
     "output_type": "execute_result"
    }
   ],
   "source": [
    "list_output_parser.invoke(chat_result)"
   ]
  },
  {
   "cell_type": "code",
   "execution_count": 12,
   "id": "9cf969ef",
   "metadata": {},
   "outputs": [],
   "source": [
    "chain = chat_template | chat | list_output_parser"
   ]
  },
  {
   "cell_type": "code",
   "execution_count": 13,
   "id": "8718fc52",
   "metadata": {},
   "outputs": [
    {
     "data": {
      "text/plain": [
       "['Congratulations on the new furry family member!',\n",
       " 'Here are three dog name suggestions:',\n",
       " 'Buddy',\n",
       " 'Luna',\n",
       " 'Cooper',\n",
       " 'I hope one of these names catches your fancy!']"
      ]
     },
     "execution_count": 13,
     "metadata": {},
     "output_type": "execute_result"
    }
   ],
   "source": [
    "chain.invoke({'pet':'dog'})"
   ]
  }
 ],
 "metadata": {
  "kernelspec": {
   "display_name": "Python 3",
   "language": "python",
   "name": "python3"
  },
  "language_info": {
   "codemirror_mode": {
    "name": "ipython",
    "version": 3
   },
   "file_extension": ".py",
   "mimetype": "text/x-python",
   "name": "python",
   "nbconvert_exporter": "python",
   "pygments_lexer": "ipython3",
   "version": "3.12.6"
  }
 },
 "nbformat": 4,
 "nbformat_minor": 5
}
