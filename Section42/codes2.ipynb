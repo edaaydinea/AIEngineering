{
 "cells": [
  {
   "cell_type": "markdown",
   "id": "4160b6b8",
   "metadata": {},
   "source": [
    "# Batching"
   ]
  },
  {
   "cell_type": "code",
   "execution_count": 1,
   "id": "4d8e2ede",
   "metadata": {},
   "outputs": [],
   "source": [
    "from langchain_core.prompts import ChatPromptTemplate\n",
    "from langchain_ollama import ChatOllama"
   ]
  },
  {
   "cell_type": "code",
   "execution_count": 2,
   "id": "c7679ea5",
   "metadata": {},
   "outputs": [],
   "source": [
    "chat_template = ChatPromptTemplate.from_messages([\n",
    "    ('human', \n",
    "     \"I've recently adopted a {pet} which is a {breed}. Could you suggest several training tips?\")])"
   ]
  },
  {
   "cell_type": "code",
   "execution_count": 12,
   "id": "5e7ca601",
   "metadata": {},
   "outputs": [],
   "source": [
    "chat = ChatOllama(model = 'llama3.2',\n",
    "                  temperature = 0,\n",
    "                  num_predict=100)"
   ]
  },
  {
   "cell_type": "code",
   "execution_count": 13,
   "id": "fcd4f11e",
   "metadata": {},
   "outputs": [],
   "source": [
    "chain = chat_template | chat"
   ]
  },
  {
   "cell_type": "code",
   "execution_count": 14,
   "id": "965839a4",
   "metadata": {},
   "outputs": [
    {
     "data": {
      "text/plain": [
       "AIMessage(content='Congratulations on adopting your new furry friend! As a shepherd, your dog has a strong herding instinct and may require some special training to channel that energy into positive behaviors. Here are some training tips tailored for your shepherd:\\n\\n1. **Socialization is key**: Shepherds can be protective of their flock (family) and may become wary of strangers. Socialize your dog extensively, especially during the critical puppy socialization period (8-11 weeks). Introduce them to various environments, people,', additional_kwargs={}, response_metadata={'model': 'llama3.2', 'created_at': '2025-05-21T13:27:28.5148749Z', 'done': True, 'done_reason': 'length', 'total_duration': 2163073300, 'load_duration': 37366200, 'prompt_eval_count': 43, 'prompt_eval_duration': 15984400, 'eval_count': 100, 'eval_duration': 2109191700, 'model_name': 'llama3.2'}, id='run--81c6ec39-1b2f-4dac-bf1d-5419c72614c3-0', usage_metadata={'input_tokens': 43, 'output_tokens': 100, 'total_tokens': 143})"
      ]
     },
     "execution_count": 14,
     "metadata": {},
     "output_type": "execute_result"
    }
   ],
   "source": [
    "chain.invoke({'pet':'dog', 'breed':'shepherd'})"
   ]
  },
  {
   "cell_type": "code",
   "execution_count": 15,
   "id": "820d3960",
   "metadata": {},
   "outputs": [
    {
     "name": "stdout",
     "output_type": "stream",
     "text": [
      "CPU times: total: 125 ms\n",
      "Wall time: 2.29 s\n"
     ]
    },
    {
     "data": {
      "text/plain": [
       "[AIMessage(content='Congratulations on adopting your new furry friend! As a shepherd, your dog has a strong herding instinct and may require some special training to channel that energy into positive behaviors. Here are some training tips tailored for your shepherd:\\n\\n1. **Socialization is key**: Shepherds can be protective of their flock (family) and may become wary of strangers. Socialize your dog extensively, especially during the critical puppy socialization period (8-11 weeks). Introduce them to various environments, people,', additional_kwargs={}, response_metadata={'model': 'llama3.2', 'created_at': '2025-05-21T13:27:30.7807942Z', 'done': True, 'done_reason': 'length', 'total_duration': 2242025100, 'load_duration': 38303000, 'prompt_eval_count': 43, 'prompt_eval_duration': 20385700, 'eval_count': 100, 'eval_duration': 2181694300, 'model_name': 'llama3.2'}, id='run--44ecf1d1-b156-4d30-9965-745affe78496-0', usage_metadata={'input_tokens': 43, 'output_tokens': 100, 'total_tokens': 143}),\n",
       " AIMessage(content=\"Congratulations on adopting a Night Fury dragon! Training a Night Fury can be challenging due to their independent nature and tendency to be fiercely protective of themselves. Here are some training tips to help you establish a strong bond with your new companion:\\n\\n1. **Establish trust**: Night Furies are naturally wary of humans, so it's essential to earn their trust gradually. Start by offering food and letting them approach you on their own terms.\\n2. **Use positive reinforcement**: Reward your dragon with treats, praise,\", additional_kwargs={}, response_metadata={'model': 'llama3.2', 'created_at': '2025-05-21T13:27:30.8224127Z', 'done': True, 'done_reason': 'length', 'total_duration': 2282581300, 'load_duration': 37748100, 'prompt_eval_count': 44, 'prompt_eval_duration': 64597300, 'eval_count': 100, 'eval_duration': 2178576100, 'model_name': 'llama3.2'}, id='run--e9f68397-f1b8-4f45-8a2a-e340ec001657-0', usage_metadata={'input_tokens': 44, 'output_tokens': 100, 'total_tokens': 144})]"
      ]
     },
     "execution_count": 15,
     "metadata": {},
     "output_type": "execute_result"
    }
   ],
   "source": [
    "%%time\n",
    "chain.batch([{'pet':'dog', 'breed':'shepherd'}, \n",
    "             {'pet':'dragon', 'breed':'night fury'}])"
   ]
  },
  {
   "cell_type": "code",
   "execution_count": 16,
   "id": "7ea5f4be",
   "metadata": {},
   "outputs": [
    {
     "name": "stdout",
     "output_type": "stream",
     "text": [
      "CPU times: total: 172 ms\n",
      "Wall time: 1.81 s\n"
     ]
    },
    {
     "data": {
      "text/plain": [
       "AIMessage(content=\"Congratulations on adopting your new furry friend! As a shepherd, your dog has a strong herding instinct and may require some special training to channel their energy and instincts in a positive way. Here are some training tips for your shepherd:\\n\\n1. **Socialization is key**: Shepherds can be wary of strangers and other animals, so it's essential to socialize them extensively from an early age. Introduce your dog to various environments, people, and animals to help them become confident and calm in\", additional_kwargs={}, response_metadata={'model': 'llama3.2', 'created_at': '2025-05-21T13:27:32.639489Z', 'done': True, 'done_reason': 'length', 'total_duration': 1802227500, 'load_duration': 34182100, 'prompt_eval_count': 43, 'prompt_eval_duration': 13277700, 'eval_count': 100, 'eval_duration': 1754257300, 'model_name': 'llama3.2'}, id='run--3c811684-ed1f-4756-aa8a-f6e2562b08c0-0', usage_metadata={'input_tokens': 43, 'output_tokens': 100, 'total_tokens': 143})"
      ]
     },
     "execution_count": 16,
     "metadata": {},
     "output_type": "execute_result"
    }
   ],
   "source": [
    "%%time\n",
    "chain.invoke({'pet':'dog', 'breed':'shepherd'})"
   ]
  },
  {
   "cell_type": "code",
   "execution_count": 17,
   "id": "f213c737",
   "metadata": {},
   "outputs": [
    {
     "name": "stdout",
     "output_type": "stream",
     "text": [
      "CPU times: total: 78.1 ms\n",
      "Wall time: 1.76 s\n"
     ]
    },
    {
     "data": {
      "text/plain": [
       "AIMessage(content=\"Congratulations on adopting a Night Fury dragon! Training a Night Fury can be a challenging but rewarding experience. Here are some training tips to help you get started:\\n\\n1. **Establish Trust**: Night Furies are known for their independent nature, so it's essential to establish trust with your dragon. Spend quality time with your dragon, feeding, grooming, and interacting with it in a calm and gentle manner.\\n2. **Use Positive Reinforcement**: Reward your dragon with treats, praise, or playtime when\", additional_kwargs={}, response_metadata={'model': 'llama3.2', 'created_at': '2025-05-21T13:27:34.4137082Z', 'done': True, 'done_reason': 'length', 'total_duration': 1758880100, 'load_duration': 33686600, 'prompt_eval_count': 44, 'prompt_eval_duration': 23891800, 'eval_count': 100, 'eval_duration': 1700793800, 'model_name': 'llama3.2'}, id='run--4491db50-d94a-4330-8a18-1ecb5ed9f5c0-0', usage_metadata={'input_tokens': 44, 'output_tokens': 100, 'total_tokens': 144})"
      ]
     },
     "execution_count": 17,
     "metadata": {},
     "output_type": "execute_result"
    }
   ],
   "source": [
    "%%time\n",
    "chain.invoke({'pet':'dragon', 'breed':'night fury'})"
   ]
  }
 ],
 "metadata": {
  "kernelspec": {
   "display_name": "Python 3",
   "language": "python",
   "name": "python3"
  },
  "language_info": {
   "codemirror_mode": {
    "name": "ipython",
    "version": 3
   },
   "file_extension": ".py",
   "mimetype": "text/x-python",
   "name": "python",
   "nbconvert_exporter": "python",
   "pygments_lexer": "ipython3",
   "version": "3.12.6"
  }
 },
 "nbformat": 4,
 "nbformat_minor": 5
}
