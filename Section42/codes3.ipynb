{
 "cells": [
  {
   "cell_type": "markdown",
   "id": "4160b6b8",
   "metadata": {},
   "source": [
    "# Streaming"
   ]
  },
  {
   "cell_type": "code",
   "execution_count": 1,
   "id": "4d8e2ede",
   "metadata": {},
   "outputs": [],
   "source": [
    "from langchain_core.prompts import ChatPromptTemplate\n",
    "from langchain_ollama import ChatOllama"
   ]
  },
  {
   "cell_type": "code",
   "execution_count": 2,
   "id": "c7679ea5",
   "metadata": {},
   "outputs": [],
   "source": [
    "chat_template = ChatPromptTemplate.from_messages([\n",
    "    ('human', \n",
    "     \"I've recently adopted a {pet} which is a {breed}. Could you suggest several training tips?\")])"
   ]
  },
  {
   "cell_type": "code",
   "execution_count": 3,
   "id": "5e7ca601",
   "metadata": {},
   "outputs": [],
   "source": [
    "chat = ChatOllama(model = 'llama3.2',\n",
    "                  temperature = 0,\n",
    "                  num_predict=5)"
   ]
  },
  {
   "cell_type": "code",
   "execution_count": 4,
   "id": "fcd4f11e",
   "metadata": {},
   "outputs": [],
   "source": [
    "chain = chat_template | chat"
   ]
  },
  {
   "cell_type": "code",
   "execution_count": 5,
   "id": "965839a4",
   "metadata": {},
   "outputs": [
    {
     "data": {
      "text/plain": [
       "AIMessage(content='Congratulations on adopting your new', additional_kwargs={}, response_metadata={'model': 'llama3.2', 'created_at': '2025-05-21T13:45:58.2129554Z', 'done': True, 'done_reason': 'length', 'total_duration': 5798237500, 'load_duration': 4999001600, 'prompt_eval_count': 43, 'prompt_eval_duration': 705257800, 'eval_count': 5, 'eval_duration': 92751300, 'model_name': 'llama3.2'}, id='run--bbf3646b-66af-4e44-98a2-531c7bba9c12-0', usage_metadata={'input_tokens': 43, 'output_tokens': 5, 'total_tokens': 48})"
      ]
     },
     "execution_count": 5,
     "metadata": {},
     "output_type": "execute_result"
    }
   ],
   "source": [
    "chain.invoke({'pet':'dog', 'breed':'shepherd'})"
   ]
  },
  {
   "cell_type": "code",
   "execution_count": 6,
   "id": "820d3960",
   "metadata": {},
   "outputs": [
    {
     "name": "stdout",
     "output_type": "stream",
     "text": [
      "CPU times: total: 31.2 ms\n",
      "Wall time: 278 ms\n"
     ]
    },
    {
     "data": {
      "text/plain": [
       "[AIMessage(content='Congratulations on adopting your new', additional_kwargs={}, response_metadata={'model': 'llama3.2', 'created_at': '2025-05-21T13:45:58.5094417Z', 'done': True, 'done_reason': 'length', 'total_duration': 268139800, 'load_duration': 52043200, 'prompt_eval_count': 43, 'prompt_eval_duration': 97087400, 'eval_count': 5, 'eval_duration': 117932800, 'model_name': 'llama3.2'}, id='run--1be1bebf-fdf5-4896-b9a3-b29fe7da9efd-0', usage_metadata={'input_tokens': 43, 'output_tokens': 5, 'total_tokens': 48}),\n",
       " AIMessage(content='Congratulations on adopting a Night', additional_kwargs={}, response_metadata={'model': 'llama3.2', 'created_at': '2025-05-21T13:45:58.4662085Z', 'done': True, 'done_reason': 'length', 'total_duration': 223691500, 'load_duration': 48677700, 'prompt_eval_count': 44, 'prompt_eval_duration': 28935900, 'eval_count': 5, 'eval_duration': 144996100, 'model_name': 'llama3.2'}, id='run--d8288603-e189-4308-9621-e514591e1297-0', usage_metadata={'input_tokens': 44, 'output_tokens': 5, 'total_tokens': 49})]"
      ]
     },
     "execution_count": 6,
     "metadata": {},
     "output_type": "execute_result"
    }
   ],
   "source": [
    "%%time\n",
    "chain.batch([{'pet':'dog', 'breed':'shepherd'}, \n",
    "             {'pet':'dragon', 'breed':'night fury'}])"
   ]
  },
  {
   "cell_type": "code",
   "execution_count": 7,
   "id": "7ea5f4be",
   "metadata": {},
   "outputs": [
    {
     "name": "stdout",
     "output_type": "stream",
     "text": [
      "CPU times: total: 15.6 ms\n",
      "Wall time: 143 ms\n"
     ]
    },
    {
     "data": {
      "text/plain": [
       "AIMessage(content='Congratulations on adopting your new', additional_kwargs={}, response_metadata={'model': 'llama3.2', 'created_at': '2025-05-21T13:45:58.6651342Z', 'done': True, 'done_reason': 'length', 'total_duration': 137836300, 'load_duration': 40940200, 'prompt_eval_count': 43, 'prompt_eval_duration': 14963800, 'eval_count': 5, 'eval_duration': 81234500, 'model_name': 'llama3.2'}, id='run--74ea8567-f95b-4679-99e9-c635959e83fe-0', usage_metadata={'input_tokens': 43, 'output_tokens': 5, 'total_tokens': 48})"
      ]
     },
     "execution_count": 7,
     "metadata": {},
     "output_type": "execute_result"
    }
   ],
   "source": [
    "%%time\n",
    "chain.invoke({'pet':'dog', 'breed':'shepherd'})"
   ]
  },
  {
   "cell_type": "code",
   "execution_count": 8,
   "id": "f213c737",
   "metadata": {},
   "outputs": [
    {
     "name": "stdout",
     "output_type": "stream",
     "text": [
      "CPU times: total: 0 ns\n",
      "Wall time: 145 ms\n"
     ]
    },
    {
     "data": {
      "text/plain": [
       "AIMessage(content='Congratulations on adopting a Night', additional_kwargs={}, response_metadata={'model': 'llama3.2', 'created_at': '2025-05-21T13:45:58.8256955Z', 'done': True, 'done_reason': 'length', 'total_duration': 140915300, 'load_duration': 36178200, 'prompt_eval_count': 44, 'prompt_eval_duration': 14266400, 'eval_count': 5, 'eval_duration': 89962200, 'model_name': 'llama3.2'}, id='run--b6184f7b-8ff8-4a87-822c-cc922926fae9-0', usage_metadata={'input_tokens': 44, 'output_tokens': 5, 'total_tokens': 49})"
      ]
     },
     "execution_count": 8,
     "metadata": {},
     "output_type": "execute_result"
    }
   ],
   "source": [
    "%%time\n",
    "chain.invoke({'pet':'dragon', 'breed':'night fury'})"
   ]
  },
  {
   "cell_type": "code",
   "execution_count": 9,
   "id": "156e36b4",
   "metadata": {},
   "outputs": [],
   "source": [
    "response = chain.stream({'pet':'dragon', 'breed':'night fury'})"
   ]
  },
  {
   "cell_type": "code",
   "execution_count": 10,
   "id": "8d413b49",
   "metadata": {},
   "outputs": [
    {
     "data": {
      "text/plain": [
       "AIMessageChunk(content='Congratulations', additional_kwargs={}, response_metadata={}, id='run--ea0c155b-7ed8-4533-81b4-c229b2a8a50d')"
      ]
     },
     "execution_count": 10,
     "metadata": {},
     "output_type": "execute_result"
    }
   ],
   "source": [
    "next(response)"
   ]
  },
  {
   "cell_type": "code",
   "execution_count": 11,
   "id": "85e8184c",
   "metadata": {},
   "outputs": [
    {
     "name": "stdout",
     "output_type": "stream",
     "text": [
      " on adopting a Night"
     ]
    }
   ],
   "source": [
    "for i in response:\n",
    "    print(i.content, end = '')"
   ]
  }
 ],
 "metadata": {
  "kernelspec": {
   "display_name": "Python 3",
   "language": "python",
   "name": "python3"
  },
  "language_info": {
   "codemirror_mode": {
    "name": "ipython",
    "version": 3
   },
   "file_extension": ".py",
   "mimetype": "text/x-python",
   "name": "python",
   "nbconvert_exporter": "python",
   "pygments_lexer": "ipython3",
   "version": "3.12.6"
  }
 },
 "nbformat": 4,
 "nbformat_minor": 5
}
