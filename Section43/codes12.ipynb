{
 "cells": [
  {
   "cell_type": "markdown",
   "id": "08370560",
   "metadata": {},
   "source": [
    "# Generation: Generating a Response"
   ]
  },
  {
   "cell_type": "code",
   "execution_count": 1,
   "id": "65aff843",
   "metadata": {},
   "outputs": [],
   "source": [
    "from langchain_huggingface import HuggingFaceEmbeddings\n",
    "from langchain_chroma import Chroma\n",
    "from langchain_core.prompts import PromptTemplate\n",
    "from langchain_ollama import ChatOllama\n",
    "from langchain_core.runnables import RunnablePassthrough\n",
    "from langchain_core.runnables import RunnableParallel\n",
    "from langchain_core.output_parsers import StrOutputParser"
   ]
  },
  {
   "cell_type": "code",
   "execution_count": 2,
   "id": "370297b5",
   "metadata": {},
   "outputs": [
    {
     "name": "stdout",
     "output_type": "stream",
     "text": [
      "WARNING:tensorflow:From c:\\Users\\Eda AYDIN\\AppData\\Local\\Programs\\Python\\Python312\\Lib\\site-packages\\tf_keras\\src\\losses.py:2976: The name tf.losses.sparse_softmax_cross_entropy is deprecated. Please use tf.compat.v1.losses.sparse_softmax_cross_entropy instead.\n",
      "\n"
     ]
    }
   ],
   "source": [
    "vectorstore = Chroma(persist_directory = \"./intro-to-ds-lectures\", \n",
    "                     embedding_function = HuggingFaceEmbeddings(model='sentence-transformers/all-MiniLM-L6-v2'))"
   ]
  },
  {
   "cell_type": "code",
   "execution_count": 3,
   "id": "2516c9f9",
   "metadata": {},
   "outputs": [
    {
     "data": {
      "text/plain": [
       "42"
      ]
     },
     "execution_count": 3,
     "metadata": {},
     "output_type": "execute_result"
    }
   ],
   "source": [
    "len(vectorstore.get()['documents'])"
   ]
  },
  {
   "cell_type": "code",
   "execution_count": 4,
   "id": "7c47c172",
   "metadata": {},
   "outputs": [],
   "source": [
    "retriever = vectorstore.as_retriever(search_type = 'mmr', \n",
    "                                     search_kwargs = {'k':3, \n",
    "                                                      'lambda_mult':0.7})"
   ]
  },
  {
   "cell_type": "code",
   "execution_count": 5,
   "id": "a4cc1f0d",
   "metadata": {},
   "outputs": [],
   "source": [
    "TEMPLATE = '''\n",
    "Answer the following question:\n",
    "{question}\n",
    "\n",
    "To answer the question, use only the following context:\n",
    "{context}\n",
    "\n",
    "At the end of the response, specify the name of the lecture this context is taken from in the format:\n",
    "Resources: *Lecture Title*\n",
    "where *Lecture Title* should be substituted with the title of all resource lectures.\n",
    "'''\n",
    "\n",
    "prompt_template = PromptTemplate.from_template(TEMPLATE)"
   ]
  },
  {
   "cell_type": "code",
   "execution_count": 6,
   "id": "4d043277",
   "metadata": {},
   "outputs": [],
   "source": [
    "chat = ChatOllama(model=\"llama3.2\",\n",
    "                  num_predict=250)"
   ]
  },
  {
   "cell_type": "code",
   "execution_count": 7,
   "id": "b73a3fa1",
   "metadata": {},
   "outputs": [],
   "source": [
    "question = \"What software do data scientists use?\""
   ]
  },
  {
   "cell_type": "code",
   "execution_count": 8,
   "id": "8e98ec09",
   "metadata": {},
   "outputs": [],
   "source": [
    "chain = ({'context': retriever, \n",
    "         'question': RunnablePassthrough()} \n",
    "         | prompt_template \n",
    "         | chat \n",
    "         | StrOutputParser())"
   ]
  },
  {
   "cell_type": "code",
   "execution_count": 9,
   "id": "1d96f693",
   "metadata": {},
   "outputs": [
    {
     "name": "stderr",
     "output_type": "stream",
     "text": [
      "Update of nonexisting embedding ID: 55409552-1943-4892-949a-3b475ff9c840\n",
      "Delete of nonexisting embedding ID: 55409552-1943-4892-949a-3b475ff9c840\n"
     ]
    },
    {
     "data": {
      "text/plain": [
       "'Based on the provided context, the software used by data scientists include:\\n\\n1. R\\n2. Python\\n3. Apache Hadoop\\n4. Apache Hbase\\n5. MongoDB (referenced as \"Mongo DB\")\\n\\nThese tools are mentioned in the lecture as being widely used in the field of data science.\\n\\nResources: Programming Languages & Software Employed in Data Science - All the Tools You Need'"
      ]
     },
     "execution_count": 9,
     "metadata": {},
     "output_type": "execute_result"
    }
   ],
   "source": [
    "chain.invoke(question)"
   ]
  },
  {
   "cell_type": "code",
   "execution_count": 10,
   "id": "26d1c4ac",
   "metadata": {},
   "outputs": [
    {
     "name": "stdout",
     "output_type": "stream",
     "text": [
      "Data scientists use a variety of software tools. R and Python are the two most popular tools as they can manipulate data and are integrated within multiple data and data science software platforms. They are adaptable and can solve a wide range of business and data-related problems. Hadoop is a software framework designed to handle the complexity and computational intensity of big data by distributing computational tasks on multiple computers. Additionally, Power BI, SaS, Qlik, and Tableau are top-notch examples of software designed for business intelligence visualizations.\n",
      "\n",
      "Resources: Programming Languages & Software Employed in Data Science - All the Tools You Need\n"
     ]
    }
   ],
   "source": [
    "print('Data scientists use a variety of software tools. R and Python are the two most popular tools as they can manipulate data and are integrated within multiple data and data science software platforms. They are adaptable and can solve a wide range of business and data-related problems. Hadoop is a software framework designed to handle the complexity and computational intensity of big data by distributing computational tasks on multiple computers. Additionally, Power BI, SaS, Qlik, and Tableau are top-notch examples of software designed for business intelligence visualizations.\\n\\nResources: Programming Languages & Software Employed in Data Science - All the Tools You Need')"
   ]
  }
 ],
 "metadata": {
  "kernelspec": {
   "display_name": "Python 3",
   "language": "python",
   "name": "python3"
  },
  "language_info": {
   "codemirror_mode": {
    "name": "ipython",
    "version": 3
   },
   "file_extension": ".py",
   "mimetype": "text/x-python",
   "name": "python",
   "nbconvert_exporter": "python",
   "pygments_lexer": "ipython3",
   "version": "3.12.6"
  }
 },
 "nbformat": 4,
 "nbformat_minor": 5
}
