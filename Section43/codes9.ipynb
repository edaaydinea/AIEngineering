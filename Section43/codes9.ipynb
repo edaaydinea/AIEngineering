{
 "cells": [
  {
   "cell_type": "markdown",
   "id": "7d495eed",
   "metadata": {},
   "source": [
    "# Retrieval: Maximal Marginal Relevance Search"
   ]
  },
  {
   "cell_type": "code",
   "execution_count": 1,
   "id": "08c80a29",
   "metadata": {},
   "outputs": [],
   "source": [
    "from langchain_huggingface import HuggingFaceEmbeddings\n",
    "from langchain_chroma import Chroma\n",
    "from langchain_core.documents import Document"
   ]
  },
  {
   "cell_type": "code",
   "execution_count": 2,
   "id": "53665d9a",
   "metadata": {},
   "outputs": [
    {
     "name": "stdout",
     "output_type": "stream",
     "text": [
      "WARNING:tensorflow:From c:\\Users\\Eda AYDIN\\AppData\\Local\\Programs\\Python\\Python312\\Lib\\site-packages\\tf_keras\\src\\losses.py:2976: The name tf.losses.sparse_softmax_cross_entropy is deprecated. Please use tf.compat.v1.losses.sparse_softmax_cross_entropy instead.\n",
      "\n"
     ]
    }
   ],
   "source": [
    "embedding = HuggingFaceEmbeddings(\n",
    "    model_name=\"sentence-transformers/all-MiniLM-L6-v2\")"
   ]
  },
  {
   "cell_type": "code",
   "execution_count": 3,
   "id": "bb4cc7ce",
   "metadata": {},
   "outputs": [],
   "source": [
    "vectorstore = Chroma(persist_directory = \"./intro-to-ds-lectures\", \n",
    "                     embedding_function = embedding)\n",
    "\n",
    "# added_document = Document(page_content='Alright! So… How are the techniques used in data, business intelligence, or predictive analytics applied in real life? Certainly, with the help of computers. You can basically split the relevant tools into two categories—programming languages and software. Knowing a programming language enables you to devise programs that can execute specific operations. Moreover, you can reuse these programs whenever you need to execute the same action', \n",
    "#                         metadata={'Course Title': 'Introduction to Data and Data Science', \n",
    "#                                   'Lecture Title': 'Programming Languages & Software Employed in Data Science - All the Tools You Need'})\n",
    "\n",
    "# vectorstore.add_documents([added_document])"
   ]
  },
  {
   "cell_type": "code",
   "execution_count": 4,
   "id": "8f76a4e6",
   "metadata": {},
   "outputs": [],
   "source": [
    "question = \"What software do data scientists use?\""
   ]
  },
  {
   "cell_type": "code",
   "execution_count": 5,
   "id": "e6c01ab3",
   "metadata": {},
   "outputs": [
    {
     "name": "stderr",
     "output_type": "stream",
     "text": [
      "Update of nonexisting embedding ID: 55409552-1943-4892-949a-3b475ff9c840\n",
      "Delete of nonexisting embedding ID: 55409552-1943-4892-949a-3b475ff9c840\n"
     ]
    }
   ],
   "source": [
    "retrieved_docs = vectorstore.max_marginal_relevance_search(\n",
    "    query=question, \n",
    "    k=3, \n",
    "    lambda_mult = 1, \n",
    "    filter = {\"Lecture Title\": \"Programming Languages & Software Employed in Data Science - All the Tools You Need\"}\n",
    ")"
   ]
  },
  {
   "cell_type": "code",
   "execution_count": 6,
   "id": "b0f700d0",
   "metadata": {},
   "outputs": [
    {
     "name": "stdout",
     "output_type": "stream",
     "text": [
      "Page Content: As you can see from the infographic, R, and Python are the two most popular tools across all columns. Their biggest advantage is that they can manipulate data and are integrated within multiple data and data science software platforms. They are not just suitable for mathematical and statistical computations. In other words, R, and Python are adaptable. They can solve a wide variety of business and data-related problems from beginning to the end\n",
      "----------\n",
      "Lecture Title:Programming Languages & Software Employed in Data Science - All the Tools You Need\n",
      "\n",
      "Page Content: As you can see from the infographic, R, and Python are the two most popular tools across all columns. Their biggest advantage is that they can manipulate data and are integrated within multiple data and data science software platforms. They are not just suitable for mathematical and statistical computations. In other words, R, and Python are adaptable. They can solve a wide variety of business and data-related problems from beginning to the end\n",
      "----------\n",
      "Lecture Title:Programming Languages & Software Employed in Data Science - All the Tools You Need\n",
      "\n",
      "Page Content: Great! We hope we gave you a good idea about the level of applicability of the most frequently used programming and software tools in the field of data science. Thank you for watching!\n",
      "----------\n",
      "Lecture Title:Programming Languages & Software Employed in Data Science - All the Tools You Need\n",
      "\n"
     ]
    }
   ],
   "source": [
    "for i in retrieved_docs:\n",
    "    print(f\"Page Content: {i.page_content}\\n----------\\nLecture Title:{i.metadata['Lecture Title']}\\n\")"
   ]
  }
 ],
 "metadata": {
  "kernelspec": {
   "display_name": "Python 3",
   "language": "python",
   "name": "python3"
  },
  "language_info": {
   "codemirror_mode": {
    "name": "ipython",
    "version": 3
   },
   "file_extension": ".py",
   "mimetype": "text/x-python",
   "name": "python",
   "nbconvert_exporter": "python",
   "pygments_lexer": "ipython3",
   "version": "3.12.6"
  }
 },
 "nbformat": 4,
 "nbformat_minor": 5
}
