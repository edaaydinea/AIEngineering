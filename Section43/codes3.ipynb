{
 "cells": [
  {
   "cell_type": "markdown",
   "id": "20632ae7",
   "metadata": {},
   "source": [
    "# Indexing: Document Splitting with Character Text Splitter (Code Along)"
   ]
  },
  {
   "cell_type": "code",
   "execution_count": 1,
   "id": "b6a08b52",
   "metadata": {},
   "outputs": [],
   "source": [
    "from langchain_community.document_loaders import Docx2txtLoader\n",
    "from langchain_text_splitters.character import CharacterTextSplitter"
   ]
  },
  {
   "cell_type": "code",
   "execution_count": 2,
   "id": "4706d4f2",
   "metadata": {},
   "outputs": [],
   "source": [
    "loader = Docx2txtLoader(\"Introduction_to_Data_and_Data_Science.docx\")\n",
    "pages = loader.load()\n",
    "for i in range(len(pages)):\n",
    "    pages[i].page_content = ' '.join(pages[i].page_content.split())"
   ]
  },
  {
   "cell_type": "code",
   "execution_count": 3,
   "id": "8a502423",
   "metadata": {
    "scrolled": true
   },
   "outputs": [
    {
     "data": {
      "text/plain": [
       "8259"
      ]
     },
     "execution_count": 3,
     "metadata": {},
     "output_type": "execute_result"
    }
   ],
   "source": [
    "len(pages[0].page_content)"
   ]
  },
  {
   "cell_type": "code",
   "execution_count": 4,
   "id": "a5ba32a0",
   "metadata": {
    "scrolled": true
   },
   "outputs": [],
   "source": [
    "char_splitter = CharacterTextSplitter(separator = \".\", \n",
    "                                      chunk_size = 500, \n",
    "                                      chunk_overlap = 50)"
   ]
  },
  {
   "cell_type": "code",
   "execution_count": 5,
   "id": "912bf985",
   "metadata": {},
   "outputs": [],
   "source": [
    "pages_char_split = char_splitter.split_documents(pages)"
   ]
  },
  {
   "cell_type": "code",
   "execution_count": 6,
   "id": "ce38a797",
   "metadata": {},
   "outputs": [
    {
     "data": {
      "text/plain": [
       "21"
      ]
     },
     "execution_count": 6,
     "metadata": {},
     "output_type": "execute_result"
    }
   ],
   "source": [
    "len(pages_char_split)"
   ]
  },
  {
   "cell_type": "code",
   "execution_count": 7,
   "id": "af72b6d8",
   "metadata": {},
   "outputs": [
    {
     "data": {
      "text/plain": [
       "'Analysis vs Analytics Alright! So… Let’s discuss the not-so-obvious differences between the terms analysis and analytics. Due to the similarity of the words, some people believe they share the same meaning, and thus use them interchangeably. Technically, this isn’t correct. There is, in fact, a distinct difference between the two. And the reason for one often being used instead of the other is the lack of a transparent understanding of both'"
      ]
     },
     "execution_count": 7,
     "metadata": {},
     "output_type": "execute_result"
    }
   ],
   "source": [
    "pages_char_split[0].page_content"
   ]
  },
  {
   "cell_type": "code",
   "execution_count": 8,
   "id": "d53db8db",
   "metadata": {},
   "outputs": [
    {
     "data": {
      "text/plain": [
       "16.518"
      ]
     },
     "execution_count": 8,
     "metadata": {},
     "output_type": "execute_result"
    }
   ],
   "source": [
    "8259/500"
   ]
  },
  {
   "cell_type": "code",
   "execution_count": 9,
   "id": "58b647d8",
   "metadata": {},
   "outputs": [
    {
     "data": {
      "text/plain": [
       "259.0"
      ]
     },
     "execution_count": 9,
     "metadata": {},
     "output_type": "execute_result"
    }
   ],
   "source": [
    "0.518*500"
   ]
  },
  {
   "cell_type": "code",
   "execution_count": 10,
   "id": "5d125185",
   "metadata": {
    "scrolled": true
   },
   "outputs": [
    {
     "data": {
      "text/plain": [
       "382"
      ]
     },
     "execution_count": 10,
     "metadata": {},
     "output_type": "execute_result"
    }
   ],
   "source": [
    "len(pages_char_split[16].page_content)"
   ]
  }
 ],
 "metadata": {
  "kernelspec": {
   "display_name": "Python 3",
   "language": "python",
   "name": "python3"
  },
  "language_info": {
   "codemirror_mode": {
    "name": "ipython",
    "version": 3
   },
   "file_extension": ".py",
   "mimetype": "text/x-python",
   "name": "python",
   "nbconvert_exporter": "python",
   "pygments_lexer": "ipython3",
   "version": "3.12.6"
  }
 },
 "nbformat": 4,
 "nbformat_minor": 5
}
