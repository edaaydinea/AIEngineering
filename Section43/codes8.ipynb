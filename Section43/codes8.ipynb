{
 "cells": [
  {
   "cell_type": "markdown",
   "id": "d7c97306",
   "metadata": {},
   "source": [
    "# Retrieval: Similarity Search"
   ]
  },
  {
   "cell_type": "code",
   "execution_count": 1,
   "id": "d0642bfa",
   "metadata": {},
   "outputs": [],
   "source": [
    "from langchain_huggingface import HuggingFaceEmbeddings\n",
    "from langchain_chroma import Chroma\n",
    "from langchain_core.documents import Document"
   ]
  },
  {
   "cell_type": "code",
   "execution_count": 2,
   "id": "4517bf10",
   "metadata": {},
   "outputs": [
    {
     "name": "stdout",
     "output_type": "stream",
     "text": [
      "WARNING:tensorflow:From c:\\Users\\Eda AYDIN\\AppData\\Local\\Programs\\Python\\Python312\\Lib\\site-packages\\tf_keras\\src\\losses.py:2976: The name tf.losses.sparse_softmax_cross_entropy is deprecated. Please use tf.compat.v1.losses.sparse_softmax_cross_entropy instead.\n",
      "\n"
     ]
    }
   ],
   "source": [
    "embedding = HuggingFaceEmbeddings(\n",
    "    model_name=\"sentence-transformers/all-MiniLM-L6-v2\",\n",
    ")"
   ]
  },
  {
   "cell_type": "code",
   "execution_count": 3,
   "id": "03008679",
   "metadata": {},
   "outputs": [],
   "source": [
    "vectorstore = Chroma(persist_directory = \"./intro-to-ds-lectures\", \n",
    "                     embedding_function = embedding)"
   ]
  },
  {
   "cell_type": "code",
   "execution_count": 4,
   "id": "8a810149",
   "metadata": {},
   "outputs": [],
   "source": [
    "added_document = Document(page_content='Alright! So… How are the techniques used in data, business intelligence, or predictive analytics applied in real life? Certainly, with the help of computers. You can basically split the relevant tools into two categories—programming languages and software. Knowing a programming language enables you to devise programs that can execute specific operations. Moreover, you can reuse these programs whenever you need to execute the same action', \n",
    "                          metadata={'Course Title': 'Introduction to Data and Data Science', \n",
    "                                    'Lecture Title': 'Programming Languages & Software Employed in Data Science - All the Tools You Need'})"
   ]
  },
  {
   "cell_type": "code",
   "execution_count": 5,
   "id": "c7ec55af",
   "metadata": {},
   "outputs": [
    {
     "name": "stderr",
     "output_type": "stream",
     "text": [
      "Update of nonexisting embedding ID: 55409552-1943-4892-949a-3b475ff9c840\n",
      "Delete of nonexisting embedding ID: 55409552-1943-4892-949a-3b475ff9c840\n"
     ]
    },
    {
     "data": {
      "text/plain": [
       "['a8678ee6-c898-4e3f-86ae-a549acb6c4c0']"
      ]
     },
     "execution_count": 5,
     "metadata": {},
     "output_type": "execute_result"
    }
   ],
   "source": [
    "vectorstore.add_documents([added_document])"
   ]
  },
  {
   "cell_type": "code",
   "execution_count": 6,
   "id": "d5d53270",
   "metadata": {},
   "outputs": [],
   "source": [
    "question = \"What programming languages do data scientists use?\""
   ]
  },
  {
   "cell_type": "code",
   "execution_count": 7,
   "id": "f29bee21",
   "metadata": {},
   "outputs": [],
   "source": [
    "retrieved_docs = vectorstore.similarity_search(query = question, \n",
    "                                               k = 5)"
   ]
  },
  {
   "cell_type": "code",
   "execution_count": 8,
   "id": "7af01a2c",
   "metadata": {
    "scrolled": true
   },
   "outputs": [
    {
     "data": {
      "text/plain": [
       "[Document(id='caf758b9-0812-4f77-811c-fca8f310708e', metadata={'Course Title': 'Introduction to Data and Data Science', 'Lecture Title': 'Programming Languages & Software Employed in Data Science - All the Tools You Need'}, page_content='Thus, we need a lot of computational power, and we can expect people to use the languages similar to those in the big data column. Apart from R, Python, and MATLAB, other, faster languages are used like Java, JavaScript, C, C++, and Scala. Cool. What we said may be wonderful, but that’s not all! By using one or more programming languages, people create application software or, as they are sometimes called, software solutions, that are adjusted for specific business needs'),\n",
       " Document(id='ee2527b2-e37d-4de1-b080-b9df104bd2e2', metadata={'Course Title': 'Introduction to Data and Data Science', 'Lecture Title': 'Programming Languages & Software Employed in Data Science - All the Tools You Need'}, page_content='Thus, we need a lot of computational power, and we can expect people to use the languages similar to those in the big data column. Apart from R, Python, and MATLAB, other, faster languages are used like Java, JavaScript, C, C++, and Scala. Cool. What we said may be wonderful, but that’s not all! By using one or more programming languages, people create application software or, as they are sometimes called, software solutions, that are adjusted for specific business needs'),\n",
       " Document(id='43d87675-2810-4c90-87c7-41aa8a721815', metadata={'Course Title': 'Introduction to Data and Data Science', 'Lecture Title': 'Programming Languages & Software Employed in Data Science - All the Tools You Need'}, page_content='As you can see from the infographic, R, and Python are the two most popular tools across all columns. Their biggest advantage is that they can manipulate data and are integrated within multiple data and data science software platforms. They are not just suitable for mathematical and statistical computations. In other words, R, and Python are adaptable. They can solve a wide variety of business and data-related problems from beginning to the end'),\n",
       " Document(id='0de11e39-e04e-4af8-907d-0dc21c098c76', metadata={'Course Title': 'Introduction to Data and Data Science', 'Lecture Title': 'Programming Languages & Software Employed in Data Science - All the Tools You Need'}, page_content='As you can see from the infographic, R, and Python are the two most popular tools across all columns. Their biggest advantage is that they can manipulate data and are integrated within multiple data and data science software platforms. They are not just suitable for mathematical and statistical computations. In other words, R, and Python are adaptable. They can solve a wide variety of business and data-related problems from beginning to the end'),\n",
       " Document(id='785c052b-67bf-4200-9393-dfc7a1665780', metadata={'Course Title': 'Introduction to Data and Data Science', 'Lecture Title': 'Programming Languages & Software Employed in Data Science - All the Tools You Need'}, page_content='It is ideal for working with mathematical functions or matrix manipulations. That’s why it is present in all categories except for ‘big data’. While respectable, MATLAB usage is a paid service, and that’s one of the reasons why it is losing ground to open-source languages like R and Python. Either way, R, Python, and MATLAB, combined with SQL, cover most of the tools used when working with traditional data, BI, and conventional data science')]"
      ]
     },
     "execution_count": 8,
     "metadata": {},
     "output_type": "execute_result"
    }
   ],
   "source": [
    "retrieved_docs"
   ]
  },
  {
   "cell_type": "code",
   "execution_count": 9,
   "id": "db8e2c5c",
   "metadata": {},
   "outputs": [
    {
     "name": "stdout",
     "output_type": "stream",
     "text": [
      "Page Content: Thus, we need a lot of computational power, and we can expect people to use the languages similar to those in the big data column. Apart from R, Python, and MATLAB, other, faster languages are used like Java, JavaScript, C, C++, and Scala. Cool. What we said may be wonderful, but that’s not all! By using one or more programming languages, people create application software or, as they are sometimes called, software solutions, that are adjusted for specific business needs\n",
      "----------\n",
      "Lecture Title:Programming Languages & Software Employed in Data Science - All the Tools You Need\n",
      "\n",
      "Page Content: Thus, we need a lot of computational power, and we can expect people to use the languages similar to those in the big data column. Apart from R, Python, and MATLAB, other, faster languages are used like Java, JavaScript, C, C++, and Scala. Cool. What we said may be wonderful, but that’s not all! By using one or more programming languages, people create application software or, as they are sometimes called, software solutions, that are adjusted for specific business needs\n",
      "----------\n",
      "Lecture Title:Programming Languages & Software Employed in Data Science - All the Tools You Need\n",
      "\n",
      "Page Content: As you can see from the infographic, R, and Python are the two most popular tools across all columns. Their biggest advantage is that they can manipulate data and are integrated within multiple data and data science software platforms. They are not just suitable for mathematical and statistical computations. In other words, R, and Python are adaptable. They can solve a wide variety of business and data-related problems from beginning to the end\n",
      "----------\n",
      "Lecture Title:Programming Languages & Software Employed in Data Science - All the Tools You Need\n",
      "\n",
      "Page Content: As you can see from the infographic, R, and Python are the two most popular tools across all columns. Their biggest advantage is that they can manipulate data and are integrated within multiple data and data science software platforms. They are not just suitable for mathematical and statistical computations. In other words, R, and Python are adaptable. They can solve a wide variety of business and data-related problems from beginning to the end\n",
      "----------\n",
      "Lecture Title:Programming Languages & Software Employed in Data Science - All the Tools You Need\n",
      "\n",
      "Page Content: It is ideal for working with mathematical functions or matrix manipulations. That’s why it is present in all categories except for ‘big data’. While respectable, MATLAB usage is a paid service, and that’s one of the reasons why it is losing ground to open-source languages like R and Python. Either way, R, Python, and MATLAB, combined with SQL, cover most of the tools used when working with traditional data, BI, and conventional data science\n",
      "----------\n",
      "Lecture Title:Programming Languages & Software Employed in Data Science - All the Tools You Need\n",
      "\n"
     ]
    }
   ],
   "source": [
    "for i in retrieved_docs:\n",
    "    print(f\"Page Content: {i.page_content}\\n----------\\nLecture Title:{i.metadata['Lecture Title']}\\n\")"
   ]
  }
 ],
 "metadata": {
  "kernelspec": {
   "display_name": "Python 3",
   "language": "python",
   "name": "python3"
  },
  "language_info": {
   "codemirror_mode": {
    "name": "ipython",
    "version": 3
   },
   "file_extension": ".py",
   "mimetype": "text/x-python",
   "name": "python",
   "nbconvert_exporter": "python",
   "pygments_lexer": "ipython3",
   "version": "3.12.6"
  }
 },
 "nbformat": 4,
 "nbformat_minor": 5
}
